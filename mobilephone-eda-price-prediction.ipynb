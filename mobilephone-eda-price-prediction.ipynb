{
 "cells": [
  {
   "cell_type": "markdown",
   "id": "a4b86c1f",
   "metadata": {
    "papermill": {
     "duration": 0.014605,
     "end_time": "2024-05-19T18:15:34.014790",
     "exception": false,
     "start_time": "2024-05-19T18:15:34.000185",
     "status": "completed"
    },
    "tags": []
   },
   "source": [
    ">\r\n"
   ]
  },
  {
   "cell_type": "markdown",
   "id": "90c5a4db",
   "metadata": {
    "papermill": {
     "duration": 0.013094,
     "end_time": "2024-05-19T18:15:34.041591",
     "exception": false,
     "start_time": "2024-05-19T18:15:34.028497",
     "status": "completed"
    },
    "tags": []
   },
   "source": [
    "<div style=\"background-color: #ff0000; padding: 20px; border-radius: 10px;\">\n",
    "    <h1 style=\"text-align: left; font-size: 32px;\">  Smartphone Price Prediction </h1>\n",
    "</div>\n"
   ]
  },
  {
   "cell_type": "markdown",
   "id": "15274b94",
   "metadata": {
    "papermill": {
     "duration": 0.013408,
     "end_time": "2024-05-19T18:15:34.070918",
     "exception": false,
     "start_time": "2024-05-19T18:15:34.057510",
     "status": "completed"
    },
    "tags": []
   },
   "source": [
    "# <div style= \"font-family: Cambria; font-weight:bold; letter-spacing: 0px; color:black; font-size:120%; text-align:left;padding:3.0px; background: #cceeff; border-bottom: 8px solid #004466\" > TABLE OF CONTENTS<br><div>  \n",
    "* [LIBRARY IMPORTS](#1)\n",
    "* [LOAD DATA](#2)\n",
    "* [Statastical Summary](#3)\n",
    "* [Encoding](#4) \n",
    "* [EDA](#5)\n",
    "* [Feature Scaling](#6) \n",
    "* [Splitting data](#7) \n",
    "* [Training and evalution of model](#8) \n",
    "* [Splitting data](#7)\n",
    "* [Model comparison](#8) \n",
    "* [Conclusion](#9) \n",
    "   "
   ]
  },
  {
   "cell_type": "code",
   "execution_count": 1,
   "id": "420cf249",
   "metadata": {
    "execution": {
     "iopub.execute_input": "2024-05-19T18:15:34.100746Z",
     "iopub.status.busy": "2024-05-19T18:15:34.100334Z",
     "iopub.status.idle": "2024-05-19T18:15:35.039053Z",
     "shell.execute_reply": "2024-05-19T18:15:35.037278Z"
    },
    "papermill": {
     "duration": 0.957017,
     "end_time": "2024-05-19T18:15:35.042058",
     "exception": false,
     "start_time": "2024-05-19T18:15:34.085041",
     "status": "completed"
    },
    "tags": []
   },
   "outputs": [
    {
     "name": "stdout",
     "output_type": "stream",
     "text": [
      "/kaggle/input/ukrainian-market-mobile-phones-data/phones_data.csv\n"
     ]
    }
   ],
   "source": [
    "# This Python 3 environment comes with many helpful analytics libraries installed\n",
    "# It is defined by the kaggle/python Docker image: https://github.com/kaggle/docker-python\n",
    "# For example, here's several helpful packages to load\n",
    "\n",
    "import numpy as np # linear algebra\n",
    "import pandas as pd # data processing, CSV file I/O (e.g. pd.read_csv)\n",
    "\n",
    "# Input data files are available in the read-only \"../input/\" directory\n",
    "# For example, running this (by clicking run or pressing Shift+Enter) will list all files under the input directory\n",
    "\n",
    "import os\n",
    "for dirname, _, filenames in os.walk('/kaggle/input'):\n",
    "    for filename in filenames:\n",
    "        print(os.path.join(dirname, filename))\n",
    "\n",
    "# You can write up to 20GB to the current directory (/kaggle/working/) that gets preserved as output when you create a version using \"Save & Run All\" \n",
    "# You can also write temporary files to /kaggle/temp/, but they won't be saved outside of the current session"
   ]
  },
  {
   "cell_type": "markdown",
   "id": "518e2cc0",
   "metadata": {
    "papermill": {
     "duration": 0.013538,
     "end_time": "2024-05-19T18:15:35.070613",
     "exception": false,
     "start_time": "2024-05-19T18:15:35.057075",
     "status": "completed"
    },
    "tags": []
   },
   "source": [
    "<a id=\"1\"></a>\n",
    "<div style=\"font-family: Cambria; font-weight: bold; letter-spacing: 0px; color: #ffffff; font-size: 120%; text-align: left; padding: 3px; background-color: #0000ff; border-bottom: 10px solid #80ffff;\">\n",
    "    LIBRARY IMPORTS\n",
    "</div>\n"
   ]
  },
  {
   "cell_type": "code",
   "execution_count": 2,
   "id": "d4b92a5e",
   "metadata": {
    "execution": {
     "iopub.execute_input": "2024-05-19T18:15:35.099991Z",
     "iopub.status.busy": "2024-05-19T18:15:35.099463Z",
     "iopub.status.idle": "2024-05-19T18:15:36.994358Z",
     "shell.execute_reply": "2024-05-19T18:15:36.993072Z"
    },
    "papermill": {
     "duration": 1.912788,
     "end_time": "2024-05-19T18:15:36.997068",
     "exception": false,
     "start_time": "2024-05-19T18:15:35.084280",
     "status": "completed"
    },
    "tags": []
   },
   "outputs": [],
   "source": [
    "import pandas as pd\n",
    "import seaborn as sns\n",
    "from sklearn.model_selection import train_test_split\n",
    "from sklearn.neighbors import KNeighborsRegressor\n",
    "from sklearn.metrics import mean_squared_error, r2_score\n",
    "import matplotlib.pyplot as plt\n",
    "import warnings\n",
    "warnings.filterwarnings('ignore')"
   ]
  },
  {
   "cell_type": "markdown",
   "id": "5f3423e8",
   "metadata": {
    "papermill": {
     "duration": 0.013245,
     "end_time": "2024-05-19T18:15:37.023941",
     "exception": false,
     "start_time": "2024-05-19T18:15:37.010696",
     "status": "completed"
    },
    "tags": []
   },
   "source": [
    "<a id=\"1\"></a>\n",
    "<div style=\"font-family: Cambria; font-weight: bold; letter-spacing: 0px; color: #ffffff; font-size: 120%; text-align: left; padding: 3px; background-color: #0000ff; border-bottom: 10px solid #80ffff;\">\n",
    "    LOAD DATA\n",
    "</div>"
   ]
  },
  {
   "cell_type": "code",
   "execution_count": 3,
   "id": "e38c8802",
   "metadata": {
    "execution": {
     "iopub.execute_input": "2024-05-19T18:15:37.052560Z",
     "iopub.status.busy": "2024-05-19T18:15:37.052181Z",
     "iopub.status.idle": "2024-05-19T18:15:37.101543Z",
     "shell.execute_reply": "2024-05-19T18:15:37.100575Z"
    },
    "papermill": {
     "duration": 0.066681,
     "end_time": "2024-05-19T18:15:37.104084",
     "exception": false,
     "start_time": "2024-05-19T18:15:37.037403",
     "status": "completed"
    },
    "tags": []
   },
   "outputs": [
    {
     "data": {
      "text/html": [
       "<div>\n",
       "<style scoped>\n",
       "    .dataframe tbody tr th:only-of-type {\n",
       "        vertical-align: middle;\n",
       "    }\n",
       "\n",
       "    .dataframe tbody tr th {\n",
       "        vertical-align: top;\n",
       "    }\n",
       "\n",
       "    .dataframe thead th {\n",
       "        text-align: right;\n",
       "    }\n",
       "</style>\n",
       "<table border=\"1\" class=\"dataframe\">\n",
       "  <thead>\n",
       "    <tr style=\"text-align: right;\">\n",
       "      <th></th>\n",
       "      <th>Unnamed: 0</th>\n",
       "      <th>brand_name</th>\n",
       "      <th>model_name</th>\n",
       "      <th>os</th>\n",
       "      <th>popularity</th>\n",
       "      <th>best_price</th>\n",
       "      <th>lowest_price</th>\n",
       "      <th>highest_price</th>\n",
       "      <th>sellers_amount</th>\n",
       "      <th>screen_size</th>\n",
       "      <th>memory_size</th>\n",
       "      <th>battery_size</th>\n",
       "      <th>release_date</th>\n",
       "    </tr>\n",
       "  </thead>\n",
       "  <tbody>\n",
       "    <tr>\n",
       "      <th>0</th>\n",
       "      <td>0</td>\n",
       "      <td>ALCATEL</td>\n",
       "      <td>1 1/8GB Bluish Black (5033D-2JALUAA)</td>\n",
       "      <td>Android</td>\n",
       "      <td>422</td>\n",
       "      <td>1690.0</td>\n",
       "      <td>1529.0</td>\n",
       "      <td>1819.0</td>\n",
       "      <td>36</td>\n",
       "      <td>5.00</td>\n",
       "      <td>8.0</td>\n",
       "      <td>2000.0</td>\n",
       "      <td>10-2020</td>\n",
       "    </tr>\n",
       "    <tr>\n",
       "      <th>1</th>\n",
       "      <td>1</td>\n",
       "      <td>ALCATEL</td>\n",
       "      <td>1 5033D 1/16GB Volcano Black (5033D-2LALUAF)</td>\n",
       "      <td>Android</td>\n",
       "      <td>323</td>\n",
       "      <td>1803.0</td>\n",
       "      <td>1659.0</td>\n",
       "      <td>2489.0</td>\n",
       "      <td>36</td>\n",
       "      <td>5.00</td>\n",
       "      <td>16.0</td>\n",
       "      <td>2000.0</td>\n",
       "      <td>9-2020</td>\n",
       "    </tr>\n",
       "    <tr>\n",
       "      <th>2</th>\n",
       "      <td>2</td>\n",
       "      <td>ALCATEL</td>\n",
       "      <td>1 5033D 1/16GB Volcano Black (5033D-2LALUAF)</td>\n",
       "      <td>Android</td>\n",
       "      <td>299</td>\n",
       "      <td>1803.0</td>\n",
       "      <td>1659.0</td>\n",
       "      <td>2489.0</td>\n",
       "      <td>36</td>\n",
       "      <td>5.00</td>\n",
       "      <td>16.0</td>\n",
       "      <td>2000.0</td>\n",
       "      <td>9-2020</td>\n",
       "    </tr>\n",
       "    <tr>\n",
       "      <th>3</th>\n",
       "      <td>3</td>\n",
       "      <td>ALCATEL</td>\n",
       "      <td>1 5033D 1/16GB Volcano Black (5033D-2LALUAF)</td>\n",
       "      <td>Android</td>\n",
       "      <td>287</td>\n",
       "      <td>1803.0</td>\n",
       "      <td>1659.0</td>\n",
       "      <td>2489.0</td>\n",
       "      <td>36</td>\n",
       "      <td>5.00</td>\n",
       "      <td>16.0</td>\n",
       "      <td>2000.0</td>\n",
       "      <td>9-2020</td>\n",
       "    </tr>\n",
       "    <tr>\n",
       "      <th>4</th>\n",
       "      <td>4</td>\n",
       "      <td>Nokia</td>\n",
       "      <td>1.3 1/16GB Charcoal</td>\n",
       "      <td>Android</td>\n",
       "      <td>1047</td>\n",
       "      <td>1999.0</td>\n",
       "      <td>NaN</td>\n",
       "      <td>NaN</td>\n",
       "      <td>10</td>\n",
       "      <td>5.71</td>\n",
       "      <td>16.0</td>\n",
       "      <td>3000.0</td>\n",
       "      <td>4-2020</td>\n",
       "    </tr>\n",
       "  </tbody>\n",
       "</table>\n",
       "</div>"
      ],
      "text/plain": [
       "   Unnamed: 0 brand_name                                    model_name  \\\n",
       "0           0    ALCATEL          1 1/8GB Bluish Black (5033D-2JALUAA)   \n",
       "1           1    ALCATEL  1 5033D 1/16GB Volcano Black (5033D-2LALUAF)   \n",
       "2           2    ALCATEL  1 5033D 1/16GB Volcano Black (5033D-2LALUAF)   \n",
       "3           3    ALCATEL  1 5033D 1/16GB Volcano Black (5033D-2LALUAF)   \n",
       "4           4      Nokia                           1.3 1/16GB Charcoal   \n",
       "\n",
       "        os  popularity  best_price  lowest_price  highest_price  \\\n",
       "0  Android         422      1690.0        1529.0         1819.0   \n",
       "1  Android         323      1803.0        1659.0         2489.0   \n",
       "2  Android         299      1803.0        1659.0         2489.0   \n",
       "3  Android         287      1803.0        1659.0         2489.0   \n",
       "4  Android        1047      1999.0           NaN            NaN   \n",
       "\n",
       "   sellers_amount  screen_size  memory_size  battery_size release_date  \n",
       "0              36         5.00          8.0        2000.0      10-2020  \n",
       "1              36         5.00         16.0        2000.0       9-2020  \n",
       "2              36         5.00         16.0        2000.0       9-2020  \n",
       "3              36         5.00         16.0        2000.0       9-2020  \n",
       "4              10         5.71         16.0        3000.0       4-2020  "
      ]
     },
     "execution_count": 3,
     "metadata": {},
     "output_type": "execute_result"
    }
   ],
   "source": [
    "df = pd.read_csv('/kaggle/input/ukrainian-market-mobile-phones-data/phones_data.csv')\n",
    "df.head()"
   ]
  },
  {
   "cell_type": "code",
   "execution_count": 4,
   "id": "2616cd8f",
   "metadata": {
    "execution": {
     "iopub.execute_input": "2024-05-19T18:15:37.134832Z",
     "iopub.status.busy": "2024-05-19T18:15:37.133490Z",
     "iopub.status.idle": "2024-05-19T18:15:37.161967Z",
     "shell.execute_reply": "2024-05-19T18:15:37.160970Z"
    },
    "papermill": {
     "duration": 0.046269,
     "end_time": "2024-05-19T18:15:37.164792",
     "exception": false,
     "start_time": "2024-05-19T18:15:37.118523",
     "status": "completed"
    },
    "tags": []
   },
   "outputs": [
    {
     "name": "stdout",
     "output_type": "stream",
     "text": [
      "<class 'pandas.core.frame.DataFrame'>\n",
      "RangeIndex: 1224 entries, 0 to 1223\n",
      "Data columns (total 13 columns):\n",
      " #   Column          Non-Null Count  Dtype  \n",
      "---  ------          --------------  -----  \n",
      " 0   Unnamed: 0      1224 non-null   int64  \n",
      " 1   brand_name      1224 non-null   object \n",
      " 2   model_name      1224 non-null   object \n",
      " 3   os              1027 non-null   object \n",
      " 4   popularity      1224 non-null   int64  \n",
      " 5   best_price      1224 non-null   float64\n",
      " 6   lowest_price    964 non-null    float64\n",
      " 7   highest_price   964 non-null    float64\n",
      " 8   sellers_amount  1224 non-null   int64  \n",
      " 9   screen_size     1222 non-null   float64\n",
      " 10  memory_size     1112 non-null   float64\n",
      " 11  battery_size    1214 non-null   float64\n",
      " 12  release_date    1224 non-null   object \n",
      "dtypes: float64(6), int64(3), object(4)\n",
      "memory usage: 124.4+ KB\n"
     ]
    }
   ],
   "source": [
    "df.info()"
   ]
  },
  {
   "cell_type": "markdown",
   "id": "f6020922",
   "metadata": {
    "papermill": {
     "duration": 0.013574,
     "end_time": "2024-05-19T18:15:37.192392",
     "exception": false,
     "start_time": "2024-05-19T18:15:37.178818",
     "status": "completed"
    },
    "tags": []
   },
   "source": [
    "<a id=\"1\"></a>\n",
    "<div style=\"font-family: Cambria; font-weight: bold; letter-spacing: 0px; color: #ffffff; font-size: 120%; text-align: left; padding: 3px; background-color: #0000ff; border-bottom: 10px solid #80ffff;\">\n",
    "    Handling missing data\n",
    "</div>"
   ]
  },
  {
   "cell_type": "code",
   "execution_count": 5,
   "id": "2bfa2622",
   "metadata": {
    "execution": {
     "iopub.execute_input": "2024-05-19T18:15:37.221809Z",
     "iopub.status.busy": "2024-05-19T18:15:37.221350Z",
     "iopub.status.idle": "2024-05-19T18:15:37.230186Z",
     "shell.execute_reply": "2024-05-19T18:15:37.229110Z"
    },
    "papermill": {
     "duration": 0.026786,
     "end_time": "2024-05-19T18:15:37.232973",
     "exception": false,
     "start_time": "2024-05-19T18:15:37.206187",
     "status": "completed"
    },
    "tags": []
   },
   "outputs": [
    {
     "data": {
      "text/plain": [
       "Unnamed: 0          0\n",
       "brand_name          0\n",
       "model_name          0\n",
       "os                197\n",
       "popularity          0\n",
       "best_price          0\n",
       "lowest_price      260\n",
       "highest_price     260\n",
       "sellers_amount      0\n",
       "screen_size         2\n",
       "memory_size       112\n",
       "battery_size       10\n",
       "release_date        0\n",
       "dtype: int64"
      ]
     },
     "execution_count": 5,
     "metadata": {},
     "output_type": "execute_result"
    }
   ],
   "source": [
    "df.isnull().sum()"
   ]
  },
  {
   "cell_type": "markdown",
   "id": "06f76b9f",
   "metadata": {
    "papermill": {
     "duration": 0.014005,
     "end_time": "2024-05-19T18:15:37.261144",
     "exception": false,
     "start_time": "2024-05-19T18:15:37.247139",
     "status": "completed"
    },
    "tags": []
   },
   "source": [
    "# Drop the missing data of size"
   ]
  },
  {
   "cell_type": "code",
   "execution_count": 6,
   "id": "1c531a84",
   "metadata": {
    "execution": {
     "iopub.execute_input": "2024-05-19T18:15:37.290968Z",
     "iopub.status.busy": "2024-05-19T18:15:37.290560Z",
     "iopub.status.idle": "2024-05-19T18:15:37.299143Z",
     "shell.execute_reply": "2024-05-19T18:15:37.298050Z"
    },
    "papermill": {
     "duration": 0.026411,
     "end_time": "2024-05-19T18:15:37.301545",
     "exception": false,
     "start_time": "2024-05-19T18:15:37.275134",
     "status": "completed"
    },
    "tags": []
   },
   "outputs": [],
   "source": [
    "\n",
    "df.dropna(inplace=True)"
   ]
  },
  {
   "cell_type": "code",
   "execution_count": 7,
   "id": "105db8eb",
   "metadata": {
    "execution": {
     "iopub.execute_input": "2024-05-19T18:15:37.332026Z",
     "iopub.status.busy": "2024-05-19T18:15:37.331100Z",
     "iopub.status.idle": "2024-05-19T18:15:37.340669Z",
     "shell.execute_reply": "2024-05-19T18:15:37.339560Z"
    },
    "papermill": {
     "duration": 0.026927,
     "end_time": "2024-05-19T18:15:37.342677",
     "exception": false,
     "start_time": "2024-05-19T18:15:37.315750",
     "status": "completed"
    },
    "tags": []
   },
   "outputs": [
    {
     "data": {
      "text/plain": [
       "Unnamed: 0        0\n",
       "brand_name        0\n",
       "model_name        0\n",
       "os                0\n",
       "popularity        0\n",
       "best_price        0\n",
       "lowest_price      0\n",
       "highest_price     0\n",
       "sellers_amount    0\n",
       "screen_size       0\n",
       "memory_size       0\n",
       "battery_size      0\n",
       "release_date      0\n",
       "dtype: int64"
      ]
     },
     "execution_count": 7,
     "metadata": {},
     "output_type": "execute_result"
    }
   ],
   "source": [
    "df.isnull().sum()"
   ]
  },
  {
   "cell_type": "code",
   "execution_count": 8,
   "id": "7d3f5c11",
   "metadata": {
    "execution": {
     "iopub.execute_input": "2024-05-19T18:15:37.374239Z",
     "iopub.status.busy": "2024-05-19T18:15:37.373529Z",
     "iopub.status.idle": "2024-05-19T18:15:37.381358Z",
     "shell.execute_reply": "2024-05-19T18:15:37.380147Z"
    },
    "papermill": {
     "duration": 0.026354,
     "end_time": "2024-05-19T18:15:37.383565",
     "exception": false,
     "start_time": "2024-05-19T18:15:37.357211",
     "status": "completed"
    },
    "tags": []
   },
   "outputs": [
    {
     "data": {
      "text/plain": [
       "(780, 13)"
      ]
     },
     "execution_count": 8,
     "metadata": {},
     "output_type": "execute_result"
    }
   ],
   "source": [
    "df.shape"
   ]
  },
  {
   "cell_type": "markdown",
   "id": "ffc4444d",
   "metadata": {
    "papermill": {
     "duration": 0.014299,
     "end_time": "2024-05-19T18:15:37.412777",
     "exception": false,
     "start_time": "2024-05-19T18:15:37.398478",
     "status": "completed"
    },
    "tags": []
   },
   "source": [
    "<a id=\"1\"></a>\n",
    "<div style=\"font-family: Cambria; font-weight: bold; letter-spacing: 0px; color: #ffffff; font-size: 120%; text-align: left; padding: 3px; background-color: #0000ff; border-bottom: 10px solid #80ffff;\">\n",
    "    Statastical Summary\n",
    "</div>"
   ]
  },
  {
   "cell_type": "code",
   "execution_count": 9,
   "id": "9c6e91d8",
   "metadata": {
    "execution": {
     "iopub.execute_input": "2024-05-19T18:15:37.443320Z",
     "iopub.status.busy": "2024-05-19T18:15:37.442602Z",
     "iopub.status.idle": "2024-05-19T18:15:37.559815Z",
     "shell.execute_reply": "2024-05-19T18:15:37.558695Z"
    },
    "papermill": {
     "duration": 0.135139,
     "end_time": "2024-05-19T18:15:37.562170",
     "exception": false,
     "start_time": "2024-05-19T18:15:37.427031",
     "status": "completed"
    },
    "tags": []
   },
   "outputs": [
    {
     "data": {
      "text/html": [
       "<style type=\"text/css\">\n",
       "#T_c23c7_row0_col0, #T_c23c7_row0_col3, #T_c23c7_row1_col0, #T_c23c7_row1_col3, #T_c23c7_row2_col0, #T_c23c7_row3_col0, #T_c23c7_row4_col0, #T_c23c7_row5_col0, #T_c23c7_row5_col1, #T_c23c7_row5_col2, #T_c23c7_row5_col3, #T_c23c7_row5_col4, #T_c23c7_row5_col5, #T_c23c7_row5_col6, #T_c23c7_row5_col7, #T_c23c7_row6_col0, #T_c23c7_row6_col1, #T_c23c7_row6_col2, #T_c23c7_row6_col3, #T_c23c7_row6_col4, #T_c23c7_row6_col5, #T_c23c7_row6_col6, #T_c23c7_row6_col7, #T_c23c7_row7_col0, #T_c23c7_row7_col3, #T_c23c7_row8_col0 {\n",
       "  background-color: #440154;\n",
       "  color: #f1f1f1;\n",
       "}\n",
       "#T_c23c7_row0_col1 {\n",
       "  background-color: #481467;\n",
       "  color: #f1f1f1;\n",
       "}\n",
       "#T_c23c7_row0_col2, #T_c23c7_row1_col2 {\n",
       "  background-color: #460b5e;\n",
       "  color: #f1f1f1;\n",
       "}\n",
       "#T_c23c7_row0_col4 {\n",
       "  background-color: #482173;\n",
       "  color: #f1f1f1;\n",
       "}\n",
       "#T_c23c7_row0_col5 {\n",
       "  background-color: #482374;\n",
       "  color: #f1f1f1;\n",
       "}\n",
       "#T_c23c7_row0_col6 {\n",
       "  background-color: #481668;\n",
       "  color: #f1f1f1;\n",
       "}\n",
       "#T_c23c7_row0_col7, #T_c23c7_row1_col7 {\n",
       "  background-color: #46075a;\n",
       "  color: #f1f1f1;\n",
       "}\n",
       "#T_c23c7_row1_col1 {\n",
       "  background-color: #481769;\n",
       "  color: #f1f1f1;\n",
       "}\n",
       "#T_c23c7_row1_col4, #T_c23c7_row1_col5, #T_c23c7_row8_col2 {\n",
       "  background-color: #472a7a;\n",
       "  color: #f1f1f1;\n",
       "}\n",
       "#T_c23c7_row1_col6 {\n",
       "  background-color: #48186a;\n",
       "  color: #f1f1f1;\n",
       "}\n",
       "#T_c23c7_row2_col1 {\n",
       "  background-color: #a8db34;\n",
       "  color: #000000;\n",
       "}\n",
       "#T_c23c7_row2_col2 {\n",
       "  background-color: #89d548;\n",
       "  color: #000000;\n",
       "}\n",
       "#T_c23c7_row2_col3 {\n",
       "  background-color: #3fbc73;\n",
       "  color: #f1f1f1;\n",
       "}\n",
       "#T_c23c7_row2_col4 {\n",
       "  background-color: #d8e219;\n",
       "  color: #000000;\n",
       "}\n",
       "#T_c23c7_row2_col5 {\n",
       "  background-color: #c5e021;\n",
       "  color: #000000;\n",
       "}\n",
       "#T_c23c7_row2_col6 {\n",
       "  background-color: #a5db36;\n",
       "  color: #000000;\n",
       "}\n",
       "#T_c23c7_row2_col7 {\n",
       "  background-color: #9bd93c;\n",
       "  color: #000000;\n",
       "}\n",
       "#T_c23c7_row3_col1 {\n",
       "  background-color: #70cf57;\n",
       "  color: #000000;\n",
       "}\n",
       "#T_c23c7_row3_col2 {\n",
       "  background-color: #58c765;\n",
       "  color: #000000;\n",
       "}\n",
       "#T_c23c7_row3_col3 {\n",
       "  background-color: #22a884;\n",
       "  color: #f1f1f1;\n",
       "}\n",
       "#T_c23c7_row3_col4 {\n",
       "  background-color: #aadc32;\n",
       "  color: #000000;\n",
       "}\n",
       "#T_c23c7_row3_col5 {\n",
       "  background-color: #9dd93b;\n",
       "  color: #000000;\n",
       "}\n",
       "#T_c23c7_row3_col6 {\n",
       "  background-color: #6ccd5a;\n",
       "  color: #000000;\n",
       "}\n",
       "#T_c23c7_row3_col7, #T_c23c7_row4_col3 {\n",
       "  background-color: #46c06f;\n",
       "  color: #f1f1f1;\n",
       "}\n",
       "#T_c23c7_row4_col1, #T_c23c7_row4_col2, #T_c23c7_row4_col4, #T_c23c7_row4_col5, #T_c23c7_row4_col6, #T_c23c7_row4_col7, #T_c23c7_row8_col3 {\n",
       "  background-color: #fde725;\n",
       "  color: #000000;\n",
       "}\n",
       "#T_c23c7_row7_col1, #T_c23c7_row7_col2, #T_c23c7_row7_col5 {\n",
       "  background-color: #450457;\n",
       "  color: #f1f1f1;\n",
       "}\n",
       "#T_c23c7_row7_col4, #T_c23c7_row7_col6 {\n",
       "  background-color: #440256;\n",
       "  color: #f1f1f1;\n",
       "}\n",
       "#T_c23c7_row7_col7 {\n",
       "  background-color: #450559;\n",
       "  color: #f1f1f1;\n",
       "}\n",
       "#T_c23c7_row8_col1 {\n",
       "  background-color: #2f6c8e;\n",
       "  color: #f1f1f1;\n",
       "}\n",
       "#T_c23c7_row8_col4 {\n",
       "  background-color: #77d153;\n",
       "  color: #000000;\n",
       "}\n",
       "#T_c23c7_row8_col5 {\n",
       "  background-color: #25ac82;\n",
       "  color: #f1f1f1;\n",
       "}\n",
       "#T_c23c7_row8_col6 {\n",
       "  background-color: #33628d;\n",
       "  color: #f1f1f1;\n",
       "}\n",
       "#T_c23c7_row8_col7 {\n",
       "  background-color: #414487;\n",
       "  color: #f1f1f1;\n",
       "}\n",
       "</style>\n",
       "<table id=\"T_c23c7\">\n",
       "  <thead>\n",
       "    <tr>\n",
       "      <th class=\"blank level0\" >&nbsp;</th>\n",
       "      <th id=\"T_c23c7_level0_col0\" class=\"col_heading level0 col0\" >count</th>\n",
       "      <th id=\"T_c23c7_level0_col1\" class=\"col_heading level0 col1\" >mean</th>\n",
       "      <th id=\"T_c23c7_level0_col2\" class=\"col_heading level0 col2\" >std</th>\n",
       "      <th id=\"T_c23c7_level0_col3\" class=\"col_heading level0 col3\" >min</th>\n",
       "      <th id=\"T_c23c7_level0_col4\" class=\"col_heading level0 col4\" >25%</th>\n",
       "      <th id=\"T_c23c7_level0_col5\" class=\"col_heading level0 col5\" >50%</th>\n",
       "      <th id=\"T_c23c7_level0_col6\" class=\"col_heading level0 col6\" >75%</th>\n",
       "      <th id=\"T_c23c7_level0_col7\" class=\"col_heading level0 col7\" >max</th>\n",
       "    </tr>\n",
       "  </thead>\n",
       "  <tbody>\n",
       "    <tr>\n",
       "      <th id=\"T_c23c7_level0_row0\" class=\"row_heading level0 row0\" >Unnamed: 0</th>\n",
       "      <td id=\"T_c23c7_row0_col0\" class=\"data row0 col0\" >780.000000</td>\n",
       "      <td id=\"T_c23c7_row0_col1\" class=\"data row0 col1\" >635.810256</td>\n",
       "      <td id=\"T_c23c7_row0_col2\" class=\"data row0 col2\" >342.304633</td>\n",
       "      <td id=\"T_c23c7_row0_col3\" class=\"data row0 col3\" >0.000000</td>\n",
       "      <td id=\"T_c23c7_row0_col4\" class=\"data row0 col4\" >374.750000</td>\n",
       "      <td id=\"T_c23c7_row0_col5\" class=\"data row0 col5\" >641.500000</td>\n",
       "      <td id=\"T_c23c7_row0_col6\" class=\"data row0 col6\" >909.250000</td>\n",
       "      <td id=\"T_c23c7_row0_col7\" class=\"data row0 col7\" >1222.000000</td>\n",
       "    </tr>\n",
       "    <tr>\n",
       "      <th id=\"T_c23c7_level0_row1\" class=\"row_heading level0 row1\" >popularity</th>\n",
       "      <td id=\"T_c23c7_row1_col0\" class=\"data row1 col0\" >780.000000</td>\n",
       "      <td id=\"T_c23c7_row1_col1\" class=\"data row1 col1\" >729.238462</td>\n",
       "      <td id=\"T_c23c7_row1_col2\" class=\"data row1 col2\" >338.209052</td>\n",
       "      <td id=\"T_c23c7_row1_col3\" class=\"data row1 col3\" >2.000000</td>\n",
       "      <td id=\"T_c23c7_row1_col4\" class=\"data row1 col4\" >475.500000</td>\n",
       "      <td id=\"T_c23c7_row1_col5\" class=\"data row1 col5\" >783.500000</td>\n",
       "      <td id=\"T_c23c7_row1_col6\" class=\"data row1 col6\" >1017.250000</td>\n",
       "      <td id=\"T_c23c7_row1_col7\" class=\"data row1 col7\" >1224.000000</td>\n",
       "    </tr>\n",
       "    <tr>\n",
       "      <th id=\"T_c23c7_level0_row2\" class=\"row_heading level0 row2\" >best_price</th>\n",
       "      <td id=\"T_c23c7_row2_col0\" class=\"data row2 col0\" >780.000000</td>\n",
       "      <td id=\"T_c23c7_row2_col1\" class=\"data row2 col1\" >10203.064103</td>\n",
       "      <td id=\"T_c23c7_row2_col2\" class=\"data row2 col2\" >9612.168455</td>\n",
       "      <td id=\"T_c23c7_row2_col3\" class=\"data row2 col3\" >1036.000000</td>\n",
       "      <td id=\"T_c23c7_row2_col4\" class=\"data row2 col4\" >3759.000000</td>\n",
       "      <td id=\"T_c23c7_row2_col5\" class=\"data row2 col5\" >5931.000000</td>\n",
       "      <td id=\"T_c23c7_row2_col6\" class=\"data row2 col6\" >13904.250000</td>\n",
       "      <td id=\"T_c23c7_row2_col7\" class=\"data row2 col7\" >55338.000000</td>\n",
       "    </tr>\n",
       "    <tr>\n",
       "      <th id=\"T_c23c7_level0_row3\" class=\"row_heading level0 row3\" >lowest_price</th>\n",
       "      <td id=\"T_c23c7_row3_col0\" class=\"data row3 col0\" >780.000000</td>\n",
       "      <td id=\"T_c23c7_row3_col1\" class=\"data row3 col1\" >9214.326923</td>\n",
       "      <td id=\"T_c23c7_row3_col2\" class=\"data row3 col2\" >8652.375633</td>\n",
       "      <td id=\"T_c23c7_row3_col3\" class=\"data row3 col3\" >899.000000</td>\n",
       "      <td id=\"T_c23c7_row3_col4\" class=\"data row3 col4\" >3499.000000</td>\n",
       "      <td id=\"T_c23c7_row3_col5\" class=\"data row3 col5\" >5547.000000</td>\n",
       "      <td id=\"T_c23c7_row3_col6\" class=\"data row3 col6\" >12425.500000</td>\n",
       "      <td id=\"T_c23c7_row3_col7\" class=\"data row3 col7\" >45799.000000</td>\n",
       "    </tr>\n",
       "    <tr>\n",
       "      <th id=\"T_c23c7_level0_row4\" class=\"row_heading level0 row4\" >highest_price</th>\n",
       "      <td id=\"T_c23c7_row4_col0\" class=\"data row4 col0\" >780.000000</td>\n",
       "      <td id=\"T_c23c7_row4_col1\" class=\"data row4 col1\" >11751.229487</td>\n",
       "      <td id=\"T_c23c7_row4_col2\" class=\"data row4 col2\" >11693.361223</td>\n",
       "      <td id=\"T_c23c7_row4_col3\" class=\"data row4 col3\" >1059.000000</td>\n",
       "      <td id=\"T_c23c7_row4_col4\" class=\"data row4 col4\" >3999.000000</td>\n",
       "      <td id=\"T_c23c7_row4_col5\" class=\"data row4 col5\" >6512.500000</td>\n",
       "      <td id=\"T_c23c7_row4_col6\" class=\"data row4 col6\" >16057.750000</td>\n",
       "      <td id=\"T_c23c7_row4_col7\" class=\"data row4 col7\" >64999.000000</td>\n",
       "    </tr>\n",
       "    <tr>\n",
       "      <th id=\"T_c23c7_level0_row5\" class=\"row_heading level0 row5\" >sellers_amount</th>\n",
       "      <td id=\"T_c23c7_row5_col0\" class=\"data row5 col0\" >780.000000</td>\n",
       "      <td id=\"T_c23c7_row5_col1\" class=\"data row5 col1\" >20.226923</td>\n",
       "      <td id=\"T_c23c7_row5_col2\" class=\"data row5 col2\" >22.330371</td>\n",
       "      <td id=\"T_c23c7_row5_col3\" class=\"data row5 col3\" >2.000000</td>\n",
       "      <td id=\"T_c23c7_row5_col4\" class=\"data row5 col4\" >4.000000</td>\n",
       "      <td id=\"T_c23c7_row5_col5\" class=\"data row5 col5\" >11.000000</td>\n",
       "      <td id=\"T_c23c7_row5_col6\" class=\"data row5 col6\" >29.000000</td>\n",
       "      <td id=\"T_c23c7_row5_col7\" class=\"data row5 col7\" >125.000000</td>\n",
       "    </tr>\n",
       "    <tr>\n",
       "      <th id=\"T_c23c7_level0_row6\" class=\"row_heading level0 row6\" >screen_size</th>\n",
       "      <td id=\"T_c23c7_row6_col0\" class=\"data row6 col0\" >780.000000</td>\n",
       "      <td id=\"T_c23c7_row6_col1\" class=\"data row6 col1\" >6.060462</td>\n",
       "      <td id=\"T_c23c7_row6_col2\" class=\"data row6 col2\" >0.626583</td>\n",
       "      <td id=\"T_c23c7_row6_col3\" class=\"data row6 col3\" >2.400000</td>\n",
       "      <td id=\"T_c23c7_row6_col4\" class=\"data row6 col4\" >5.700000</td>\n",
       "      <td id=\"T_c23c7_row6_col5\" class=\"data row6 col5\" >6.215000</td>\n",
       "      <td id=\"T_c23c7_row6_col6\" class=\"data row6 col6\" >6.500000</td>\n",
       "      <td id=\"T_c23c7_row6_col7\" class=\"data row6 col7\" >8.100000</td>\n",
       "    </tr>\n",
       "    <tr>\n",
       "      <th id=\"T_c23c7_level0_row7\" class=\"row_heading level0 row7\" >memory_size</th>\n",
       "      <td id=\"T_c23c7_row7_col0\" class=\"data row7 col0\" >780.000000</td>\n",
       "      <td id=\"T_c23c7_row7_col1\" class=\"data row7 col1\" >112.287179</td>\n",
       "      <td id=\"T_c23c7_row7_col2\" class=\"data row7 col2\" >117.754426</td>\n",
       "      <td id=\"T_c23c7_row7_col3\" class=\"data row7 col3\" >4.000000</td>\n",
       "      <td id=\"T_c23c7_row7_col4\" class=\"data row7 col4\" >32.000000</td>\n",
       "      <td id=\"T_c23c7_row7_col5\" class=\"data row7 col5\" >64.000000</td>\n",
       "      <td id=\"T_c23c7_row7_col6\" class=\"data row7 col6\" >128.000000</td>\n",
       "      <td id=\"T_c23c7_row7_col7\" class=\"data row7 col7\" >1000.000000</td>\n",
       "    </tr>\n",
       "    <tr>\n",
       "      <th id=\"T_c23c7_level0_row8\" class=\"row_heading level0 row8\" >battery_size</th>\n",
       "      <td id=\"T_c23c7_row8_col0\" class=\"data row8 col0\" >780.000000</td>\n",
       "      <td id=\"T_c23c7_row8_col1\" class=\"data row8 col1\" >4121.117949</td>\n",
       "      <td id=\"T_c23c7_row8_col2\" class=\"data row8 col2\" >1406.849509</td>\n",
       "      <td id=\"T_c23c7_row8_col3\" class=\"data row8 col3\" >1500.000000</td>\n",
       "      <td id=\"T_c23c7_row8_col4\" class=\"data row8 col4\" >3174.000000</td>\n",
       "      <td id=\"T_c23c7_row8_col5\" class=\"data row8 col5\" >4000.000000</td>\n",
       "      <td id=\"T_c23c7_row8_col6\" class=\"data row8 col6\" >5000.000000</td>\n",
       "      <td id=\"T_c23c7_row8_col7\" class=\"data row8 col7\" >13000.000000</td>\n",
       "    </tr>\n",
       "  </tbody>\n",
       "</table>\n"
      ],
      "text/plain": [
       "<pandas.io.formats.style.Styler at 0x7cc6c8e7ff40>"
      ]
     },
     "execution_count": 9,
     "metadata": {},
     "output_type": "execute_result"
    }
   ],
   "source": [
    "numerical_summary = df.describe().transpose()\n",
    "palette = sns.color_palette(\"viridis\", as_cmap=True)\n",
    "numerical_summary.style.background_gradient(cmap=palette)"
   ]
  },
  {
   "cell_type": "markdown",
   "id": "4e2cdc59",
   "metadata": {
    "papermill": {
     "duration": 0.014367,
     "end_time": "2024-05-19T18:15:37.591108",
     "exception": false,
     "start_time": "2024-05-19T18:15:37.576741",
     "status": "completed"
    },
    "tags": []
   },
   "source": [
    "<a id=\"1\"></a>\n",
    "<div style=\"font-family: Cambria; font-weight: bold; letter-spacing: 0px; color: #ffffff; font-size: 120%; text-align: left; padding: 3px; background-color: #0000ff; border-bottom: 10px solid #80ffff;\">\n",
    "    Encoding\n",
    "</div>"
   ]
  },
  {
   "cell_type": "code",
   "execution_count": 10,
   "id": "ef8ff2e5",
   "metadata": {
    "execution": {
     "iopub.execute_input": "2024-05-19T18:15:37.622843Z",
     "iopub.status.busy": "2024-05-19T18:15:37.622283Z",
     "iopub.status.idle": "2024-05-19T18:15:37.637867Z",
     "shell.execute_reply": "2024-05-19T18:15:37.636663Z"
    },
    "papermill": {
     "duration": 0.034188,
     "end_time": "2024-05-19T18:15:37.639979",
     "exception": false,
     "start_time": "2024-05-19T18:15:37.605791",
     "status": "completed"
    },
    "tags": []
   },
   "outputs": [
    {
     "data": {
      "text/html": [
       "<div>\n",
       "<style scoped>\n",
       "    .dataframe tbody tr th:only-of-type {\n",
       "        vertical-align: middle;\n",
       "    }\n",
       "\n",
       "    .dataframe tbody tr th {\n",
       "        vertical-align: top;\n",
       "    }\n",
       "\n",
       "    .dataframe thead th {\n",
       "        text-align: right;\n",
       "    }\n",
       "</style>\n",
       "<table border=\"1\" class=\"dataframe\">\n",
       "  <thead>\n",
       "    <tr style=\"text-align: right;\">\n",
       "      <th></th>\n",
       "      <th>brand_name</th>\n",
       "      <th>os</th>\n",
       "    </tr>\n",
       "  </thead>\n",
       "  <tbody>\n",
       "    <tr>\n",
       "      <th>0</th>\n",
       "      <td>ALCATEL</td>\n",
       "      <td>Android</td>\n",
       "    </tr>\n",
       "    <tr>\n",
       "      <th>1</th>\n",
       "      <td>ALCATEL</td>\n",
       "      <td>Android</td>\n",
       "    </tr>\n",
       "    <tr>\n",
       "      <th>2</th>\n",
       "      <td>ALCATEL</td>\n",
       "      <td>Android</td>\n",
       "    </tr>\n",
       "    <tr>\n",
       "      <th>3</th>\n",
       "      <td>ALCATEL</td>\n",
       "      <td>Android</td>\n",
       "    </tr>\n",
       "    <tr>\n",
       "      <th>5</th>\n",
       "      <td>Honor</td>\n",
       "      <td>Android</td>\n",
       "    </tr>\n",
       "    <tr>\n",
       "      <th>...</th>\n",
       "      <td>...</td>\n",
       "      <td>...</td>\n",
       "    </tr>\n",
       "    <tr>\n",
       "      <th>1218</th>\n",
       "      <td>Apple</td>\n",
       "      <td>iOS</td>\n",
       "    </tr>\n",
       "    <tr>\n",
       "      <th>1219</th>\n",
       "      <td>Apple</td>\n",
       "      <td>iOS</td>\n",
       "    </tr>\n",
       "    <tr>\n",
       "      <th>1220</th>\n",
       "      <td>Apple</td>\n",
       "      <td>iOS</td>\n",
       "    </tr>\n",
       "    <tr>\n",
       "      <th>1221</th>\n",
       "      <td>HUAWEI</td>\n",
       "      <td>Android</td>\n",
       "    </tr>\n",
       "    <tr>\n",
       "      <th>1222</th>\n",
       "      <td>ZTE</td>\n",
       "      <td>Android</td>\n",
       "    </tr>\n",
       "  </tbody>\n",
       "</table>\n",
       "<p>780 rows × 2 columns</p>\n",
       "</div>"
      ],
      "text/plain": [
       "     brand_name       os\n",
       "0       ALCATEL  Android\n",
       "1       ALCATEL  Android\n",
       "2       ALCATEL  Android\n",
       "3       ALCATEL  Android\n",
       "5         Honor  Android\n",
       "...         ...      ...\n",
       "1218      Apple      iOS\n",
       "1219      Apple      iOS\n",
       "1220      Apple      iOS\n",
       "1221     HUAWEI  Android\n",
       "1222        ZTE  Android\n",
       "\n",
       "[780 rows x 2 columns]"
      ]
     },
     "execution_count": 10,
     "metadata": {},
     "output_type": "execute_result"
    }
   ],
   "source": [
    "drop_col=['release_date','model_name','Unnamed: 0']\n",
    "df.drop(drop_col,inplace=True,axis=1)\n",
    "object_columns = df.select_dtypes(include=['object']).columns\n",
    "df[object_columns]"
   ]
  },
  {
   "cell_type": "code",
   "execution_count": 11,
   "id": "642dc6ad",
   "metadata": {
    "execution": {
     "iopub.execute_input": "2024-05-19T18:15:37.671984Z",
     "iopub.status.busy": "2024-05-19T18:15:37.671320Z",
     "iopub.status.idle": "2024-05-19T18:15:37.682639Z",
     "shell.execute_reply": "2024-05-19T18:15:37.681503Z"
    },
    "papermill": {
     "duration": 0.029986,
     "end_time": "2024-05-19T18:15:37.684810",
     "exception": false,
     "start_time": "2024-05-19T18:15:37.654824",
     "status": "completed"
    },
    "tags": []
   },
   "outputs": [
    {
     "data": {
      "text/html": [
       "<div>\n",
       "<style scoped>\n",
       "    .dataframe tbody tr th:only-of-type {\n",
       "        vertical-align: middle;\n",
       "    }\n",
       "\n",
       "    .dataframe tbody tr th {\n",
       "        vertical-align: top;\n",
       "    }\n",
       "\n",
       "    .dataframe thead th {\n",
       "        text-align: right;\n",
       "    }\n",
       "</style>\n",
       "<table border=\"1\" class=\"dataframe\">\n",
       "  <thead>\n",
       "    <tr style=\"text-align: right;\">\n",
       "      <th></th>\n",
       "      <th>brand_name</th>\n",
       "      <th>os</th>\n",
       "    </tr>\n",
       "  </thead>\n",
       "  <tbody>\n",
       "    <tr>\n",
       "      <th>0</th>\n",
       "      <td>ALCATEL</td>\n",
       "      <td>Android</td>\n",
       "    </tr>\n",
       "    <tr>\n",
       "      <th>1</th>\n",
       "      <td>ALCATEL</td>\n",
       "      <td>Android</td>\n",
       "    </tr>\n",
       "    <tr>\n",
       "      <th>2</th>\n",
       "      <td>ALCATEL</td>\n",
       "      <td>Android</td>\n",
       "    </tr>\n",
       "    <tr>\n",
       "      <th>3</th>\n",
       "      <td>ALCATEL</td>\n",
       "      <td>Android</td>\n",
       "    </tr>\n",
       "    <tr>\n",
       "      <th>5</th>\n",
       "      <td>Honor</td>\n",
       "      <td>Android</td>\n",
       "    </tr>\n",
       "    <tr>\n",
       "      <th>...</th>\n",
       "      <td>...</td>\n",
       "      <td>...</td>\n",
       "    </tr>\n",
       "    <tr>\n",
       "      <th>1218</th>\n",
       "      <td>Apple</td>\n",
       "      <td>iOS</td>\n",
       "    </tr>\n",
       "    <tr>\n",
       "      <th>1219</th>\n",
       "      <td>Apple</td>\n",
       "      <td>iOS</td>\n",
       "    </tr>\n",
       "    <tr>\n",
       "      <th>1220</th>\n",
       "      <td>Apple</td>\n",
       "      <td>iOS</td>\n",
       "    </tr>\n",
       "    <tr>\n",
       "      <th>1221</th>\n",
       "      <td>HUAWEI</td>\n",
       "      <td>Android</td>\n",
       "    </tr>\n",
       "    <tr>\n",
       "      <th>1222</th>\n",
       "      <td>ZTE</td>\n",
       "      <td>Android</td>\n",
       "    </tr>\n",
       "  </tbody>\n",
       "</table>\n",
       "<p>780 rows × 2 columns</p>\n",
       "</div>"
      ],
      "text/plain": [
       "     brand_name       os\n",
       "0       ALCATEL  Android\n",
       "1       ALCATEL  Android\n",
       "2       ALCATEL  Android\n",
       "3       ALCATEL  Android\n",
       "5         Honor  Android\n",
       "...         ...      ...\n",
       "1218      Apple      iOS\n",
       "1219      Apple      iOS\n",
       "1220      Apple      iOS\n",
       "1221     HUAWEI  Android\n",
       "1222        ZTE  Android\n",
       "\n",
       "[780 rows x 2 columns]"
      ]
     },
     "execution_count": 11,
     "metadata": {},
     "output_type": "execute_result"
    }
   ],
   "source": [
    "df[object_columns]"
   ]
  },
  {
   "cell_type": "code",
   "execution_count": 12,
   "id": "02cb7e50",
   "metadata": {
    "execution": {
     "iopub.execute_input": "2024-05-19T18:15:37.774475Z",
     "iopub.status.busy": "2024-05-19T18:15:37.773874Z",
     "iopub.status.idle": "2024-05-19T18:15:37.780582Z",
     "shell.execute_reply": "2024-05-19T18:15:37.779565Z"
    },
    "papermill": {
     "duration": 0.083164,
     "end_time": "2024-05-19T18:15:37.783015",
     "exception": false,
     "start_time": "2024-05-19T18:15:37.699851",
     "status": "completed"
    },
    "tags": []
   },
   "outputs": [
    {
     "name": "stdout",
     "output_type": "stream",
     "text": [
      "Unique values in 'brand_name':\n",
      "['ALCATEL' 'Honor' 'Meizu' 'Nokia' 'OnePlus' 'realme' 'AGM' 'OPPO'\n",
      " 'Blackview' 'Lenovo' 'UMIDIGI' 'Sharp' 'Ulefone' 'DOOGEE' 'Xiaomi' 'ZTE'\n",
      " 'Oukitel' 'Cubot' 'Tecno' 'Coolpad' 'Archos' '2E' 'Motorola' 'LG'\n",
      " 'Samsung' 'BlackBerry' 'HUAWEI' 'Vernee' 'Google' 'ASUS' 'Bluboo' 'CAT'\n",
      " 'Philips' 'Vodafone' 'Microsoft' 'Elephone' 'HTC' 'vivo' 'Sigma mobile'\n",
      " 'Sony' 'LEAGOO' 'Apple']\n",
      "\n",
      "Unique values in 'os':\n",
      "['Android' 'iOS' 'OxygenOS' 'EMUI' 'KAIOS']\n",
      "\n"
     ]
    }
   ],
   "source": [
    "for column in object_columns:\n",
    "    unique_values = df[column].unique()\n",
    "    print(f\"Unique values in '{column}':\")\n",
    "    print(unique_values)\n",
    "    print()"
   ]
  },
  {
   "cell_type": "markdown",
   "id": "88148797",
   "metadata": {
    "papermill": {
     "duration": 0.015271,
     "end_time": "2024-05-19T18:15:37.813708",
     "exception": false,
     "start_time": "2024-05-19T18:15:37.798437",
     "status": "completed"
    },
    "tags": []
   },
   "source": [
    "# One-Hot encoding"
   ]
  },
  {
   "cell_type": "code",
   "execution_count": 13,
   "id": "96319ef2",
   "metadata": {
    "execution": {
     "iopub.execute_input": "2024-05-19T18:15:37.846265Z",
     "iopub.status.busy": "2024-05-19T18:15:37.845904Z",
     "iopub.status.idle": "2024-05-19T18:15:37.855297Z",
     "shell.execute_reply": "2024-05-19T18:15:37.854025Z"
    },
    "papermill": {
     "duration": 0.029045,
     "end_time": "2024-05-19T18:15:37.858002",
     "exception": false,
     "start_time": "2024-05-19T18:15:37.828957",
     "status": "completed"
    },
    "tags": []
   },
   "outputs": [],
   "source": [
    "df1 = pd.get_dummies(df, columns=object_columns)"
   ]
  },
  {
   "cell_type": "code",
   "execution_count": 14,
   "id": "ed09ee56",
   "metadata": {
    "execution": {
     "iopub.execute_input": "2024-05-19T18:15:37.891277Z",
     "iopub.status.busy": "2024-05-19T18:15:37.890912Z",
     "iopub.status.idle": "2024-05-19T18:15:37.922062Z",
     "shell.execute_reply": "2024-05-19T18:15:37.920846Z"
    },
    "papermill": {
     "duration": 0.050195,
     "end_time": "2024-05-19T18:15:37.924194",
     "exception": false,
     "start_time": "2024-05-19T18:15:37.873999",
     "status": "completed"
    },
    "tags": []
   },
   "outputs": [
    {
     "data": {
      "text/html": [
       "<div>\n",
       "<style scoped>\n",
       "    .dataframe tbody tr th:only-of-type {\n",
       "        vertical-align: middle;\n",
       "    }\n",
       "\n",
       "    .dataframe tbody tr th {\n",
       "        vertical-align: top;\n",
       "    }\n",
       "\n",
       "    .dataframe thead th {\n",
       "        text-align: right;\n",
       "    }\n",
       "</style>\n",
       "<table border=\"1\" class=\"dataframe\">\n",
       "  <thead>\n",
       "    <tr style=\"text-align: right;\">\n",
       "      <th></th>\n",
       "      <th>popularity</th>\n",
       "      <th>best_price</th>\n",
       "      <th>lowest_price</th>\n",
       "      <th>highest_price</th>\n",
       "      <th>sellers_amount</th>\n",
       "      <th>screen_size</th>\n",
       "      <th>memory_size</th>\n",
       "      <th>battery_size</th>\n",
       "      <th>brand_name_2E</th>\n",
       "      <th>brand_name_AGM</th>\n",
       "      <th>...</th>\n",
       "      <th>brand_name_Vodafone</th>\n",
       "      <th>brand_name_Xiaomi</th>\n",
       "      <th>brand_name_ZTE</th>\n",
       "      <th>brand_name_realme</th>\n",
       "      <th>brand_name_vivo</th>\n",
       "      <th>os_Android</th>\n",
       "      <th>os_EMUI</th>\n",
       "      <th>os_KAIOS</th>\n",
       "      <th>os_OxygenOS</th>\n",
       "      <th>os_iOS</th>\n",
       "    </tr>\n",
       "  </thead>\n",
       "  <tbody>\n",
       "    <tr>\n",
       "      <th>0</th>\n",
       "      <td>422</td>\n",
       "      <td>1690.0</td>\n",
       "      <td>1529.0</td>\n",
       "      <td>1819.0</td>\n",
       "      <td>36</td>\n",
       "      <td>5.00</td>\n",
       "      <td>8.0</td>\n",
       "      <td>2000.0</td>\n",
       "      <td>False</td>\n",
       "      <td>False</td>\n",
       "      <td>...</td>\n",
       "      <td>False</td>\n",
       "      <td>False</td>\n",
       "      <td>False</td>\n",
       "      <td>False</td>\n",
       "      <td>False</td>\n",
       "      <td>True</td>\n",
       "      <td>False</td>\n",
       "      <td>False</td>\n",
       "      <td>False</td>\n",
       "      <td>False</td>\n",
       "    </tr>\n",
       "    <tr>\n",
       "      <th>1</th>\n",
       "      <td>323</td>\n",
       "      <td>1803.0</td>\n",
       "      <td>1659.0</td>\n",
       "      <td>2489.0</td>\n",
       "      <td>36</td>\n",
       "      <td>5.00</td>\n",
       "      <td>16.0</td>\n",
       "      <td>2000.0</td>\n",
       "      <td>False</td>\n",
       "      <td>False</td>\n",
       "      <td>...</td>\n",
       "      <td>False</td>\n",
       "      <td>False</td>\n",
       "      <td>False</td>\n",
       "      <td>False</td>\n",
       "      <td>False</td>\n",
       "      <td>True</td>\n",
       "      <td>False</td>\n",
       "      <td>False</td>\n",
       "      <td>False</td>\n",
       "      <td>False</td>\n",
       "    </tr>\n",
       "    <tr>\n",
       "      <th>2</th>\n",
       "      <td>299</td>\n",
       "      <td>1803.0</td>\n",
       "      <td>1659.0</td>\n",
       "      <td>2489.0</td>\n",
       "      <td>36</td>\n",
       "      <td>5.00</td>\n",
       "      <td>16.0</td>\n",
       "      <td>2000.0</td>\n",
       "      <td>False</td>\n",
       "      <td>False</td>\n",
       "      <td>...</td>\n",
       "      <td>False</td>\n",
       "      <td>False</td>\n",
       "      <td>False</td>\n",
       "      <td>False</td>\n",
       "      <td>False</td>\n",
       "      <td>True</td>\n",
       "      <td>False</td>\n",
       "      <td>False</td>\n",
       "      <td>False</td>\n",
       "      <td>False</td>\n",
       "    </tr>\n",
       "    <tr>\n",
       "      <th>3</th>\n",
       "      <td>287</td>\n",
       "      <td>1803.0</td>\n",
       "      <td>1659.0</td>\n",
       "      <td>2489.0</td>\n",
       "      <td>36</td>\n",
       "      <td>5.00</td>\n",
       "      <td>16.0</td>\n",
       "      <td>2000.0</td>\n",
       "      <td>False</td>\n",
       "      <td>False</td>\n",
       "      <td>...</td>\n",
       "      <td>False</td>\n",
       "      <td>False</td>\n",
       "      <td>False</td>\n",
       "      <td>False</td>\n",
       "      <td>False</td>\n",
       "      <td>True</td>\n",
       "      <td>False</td>\n",
       "      <td>False</td>\n",
       "      <td>False</td>\n",
       "      <td>False</td>\n",
       "    </tr>\n",
       "    <tr>\n",
       "      <th>5</th>\n",
       "      <td>71</td>\n",
       "      <td>10865.0</td>\n",
       "      <td>10631.0</td>\n",
       "      <td>11099.0</td>\n",
       "      <td>2</td>\n",
       "      <td>5.80</td>\n",
       "      <td>64.0</td>\n",
       "      <td>3400.0</td>\n",
       "      <td>False</td>\n",
       "      <td>False</td>\n",
       "      <td>...</td>\n",
       "      <td>False</td>\n",
       "      <td>False</td>\n",
       "      <td>False</td>\n",
       "      <td>False</td>\n",
       "      <td>False</td>\n",
       "      <td>True</td>\n",
       "      <td>False</td>\n",
       "      <td>False</td>\n",
       "      <td>False</td>\n",
       "      <td>False</td>\n",
       "    </tr>\n",
       "    <tr>\n",
       "      <th>...</th>\n",
       "      <td>...</td>\n",
       "      <td>...</td>\n",
       "      <td>...</td>\n",
       "      <td>...</td>\n",
       "      <td>...</td>\n",
       "      <td>...</td>\n",
       "      <td>...</td>\n",
       "      <td>...</td>\n",
       "      <td>...</td>\n",
       "      <td>...</td>\n",
       "      <td>...</td>\n",
       "      <td>...</td>\n",
       "      <td>...</td>\n",
       "      <td>...</td>\n",
       "      <td>...</td>\n",
       "      <td>...</td>\n",
       "      <td>...</td>\n",
       "      <td>...</td>\n",
       "      <td>...</td>\n",
       "      <td>...</td>\n",
       "      <td>...</td>\n",
       "    </tr>\n",
       "    <tr>\n",
       "      <th>1218</th>\n",
       "      <td>842</td>\n",
       "      <td>27190.0</td>\n",
       "      <td>21150.0</td>\n",
       "      <td>30200.0</td>\n",
       "      <td>47</td>\n",
       "      <td>6.50</td>\n",
       "      <td>512.0</td>\n",
       "      <td>3174.0</td>\n",
       "      <td>False</td>\n",
       "      <td>False</td>\n",
       "      <td>...</td>\n",
       "      <td>False</td>\n",
       "      <td>False</td>\n",
       "      <td>False</td>\n",
       "      <td>False</td>\n",
       "      <td>False</td>\n",
       "      <td>False</td>\n",
       "      <td>False</td>\n",
       "      <td>False</td>\n",
       "      <td>False</td>\n",
       "      <td>True</td>\n",
       "    </tr>\n",
       "    <tr>\n",
       "      <th>1219</th>\n",
       "      <td>1101</td>\n",
       "      <td>22685.0</td>\n",
       "      <td>16018.0</td>\n",
       "      <td>27900.0</td>\n",
       "      <td>61</td>\n",
       "      <td>6.50</td>\n",
       "      <td>64.0</td>\n",
       "      <td>3174.0</td>\n",
       "      <td>False</td>\n",
       "      <td>False</td>\n",
       "      <td>...</td>\n",
       "      <td>False</td>\n",
       "      <td>False</td>\n",
       "      <td>False</td>\n",
       "      <td>False</td>\n",
       "      <td>False</td>\n",
       "      <td>False</td>\n",
       "      <td>False</td>\n",
       "      <td>False</td>\n",
       "      <td>False</td>\n",
       "      <td>True</td>\n",
       "    </tr>\n",
       "    <tr>\n",
       "      <th>1220</th>\n",
       "      <td>530</td>\n",
       "      <td>24600.0</td>\n",
       "      <td>21939.0</td>\n",
       "      <td>33720.0</td>\n",
       "      <td>28</td>\n",
       "      <td>6.50</td>\n",
       "      <td>64.0</td>\n",
       "      <td>3174.0</td>\n",
       "      <td>False</td>\n",
       "      <td>False</td>\n",
       "      <td>...</td>\n",
       "      <td>False</td>\n",
       "      <td>False</td>\n",
       "      <td>False</td>\n",
       "      <td>False</td>\n",
       "      <td>False</td>\n",
       "      <td>False</td>\n",
       "      <td>False</td>\n",
       "      <td>False</td>\n",
       "      <td>False</td>\n",
       "      <td>True</td>\n",
       "    </tr>\n",
       "    <tr>\n",
       "      <th>1221</th>\n",
       "      <td>1174</td>\n",
       "      <td>8804.0</td>\n",
       "      <td>7999.0</td>\n",
       "      <td>9999.0</td>\n",
       "      <td>18</td>\n",
       "      <td>6.26</td>\n",
       "      <td>128.0</td>\n",
       "      <td>3750.0</td>\n",
       "      <td>False</td>\n",
       "      <td>False</td>\n",
       "      <td>...</td>\n",
       "      <td>False</td>\n",
       "      <td>False</td>\n",
       "      <td>False</td>\n",
       "      <td>False</td>\n",
       "      <td>False</td>\n",
       "      <td>True</td>\n",
       "      <td>False</td>\n",
       "      <td>False</td>\n",
       "      <td>False</td>\n",
       "      <td>False</td>\n",
       "    </tr>\n",
       "    <tr>\n",
       "      <th>1222</th>\n",
       "      <td>752</td>\n",
       "      <td>18755.0</td>\n",
       "      <td>18500.0</td>\n",
       "      <td>19010.0</td>\n",
       "      <td>2</td>\n",
       "      <td>6.65</td>\n",
       "      <td>128.0</td>\n",
       "      <td>4500.0</td>\n",
       "      <td>False</td>\n",
       "      <td>False</td>\n",
       "      <td>...</td>\n",
       "      <td>False</td>\n",
       "      <td>False</td>\n",
       "      <td>True</td>\n",
       "      <td>False</td>\n",
       "      <td>False</td>\n",
       "      <td>True</td>\n",
       "      <td>False</td>\n",
       "      <td>False</td>\n",
       "      <td>False</td>\n",
       "      <td>False</td>\n",
       "    </tr>\n",
       "  </tbody>\n",
       "</table>\n",
       "<p>780 rows × 55 columns</p>\n",
       "</div>"
      ],
      "text/plain": [
       "      popularity  best_price  lowest_price  highest_price  sellers_amount  \\\n",
       "0            422      1690.0        1529.0         1819.0              36   \n",
       "1            323      1803.0        1659.0         2489.0              36   \n",
       "2            299      1803.0        1659.0         2489.0              36   \n",
       "3            287      1803.0        1659.0         2489.0              36   \n",
       "5             71     10865.0       10631.0        11099.0               2   \n",
       "...          ...         ...           ...            ...             ...   \n",
       "1218         842     27190.0       21150.0        30200.0              47   \n",
       "1219        1101     22685.0       16018.0        27900.0              61   \n",
       "1220         530     24600.0       21939.0        33720.0              28   \n",
       "1221        1174      8804.0        7999.0         9999.0              18   \n",
       "1222         752     18755.0       18500.0        19010.0               2   \n",
       "\n",
       "      screen_size  memory_size  battery_size  brand_name_2E  brand_name_AGM  \\\n",
       "0            5.00          8.0        2000.0          False           False   \n",
       "1            5.00         16.0        2000.0          False           False   \n",
       "2            5.00         16.0        2000.0          False           False   \n",
       "3            5.00         16.0        2000.0          False           False   \n",
       "5            5.80         64.0        3400.0          False           False   \n",
       "...           ...          ...           ...            ...             ...   \n",
       "1218         6.50        512.0        3174.0          False           False   \n",
       "1219         6.50         64.0        3174.0          False           False   \n",
       "1220         6.50         64.0        3174.0          False           False   \n",
       "1221         6.26        128.0        3750.0          False           False   \n",
       "1222         6.65        128.0        4500.0          False           False   \n",
       "\n",
       "      ...  brand_name_Vodafone  brand_name_Xiaomi  brand_name_ZTE  \\\n",
       "0     ...                False              False           False   \n",
       "1     ...                False              False           False   \n",
       "2     ...                False              False           False   \n",
       "3     ...                False              False           False   \n",
       "5     ...                False              False           False   \n",
       "...   ...                  ...                ...             ...   \n",
       "1218  ...                False              False           False   \n",
       "1219  ...                False              False           False   \n",
       "1220  ...                False              False           False   \n",
       "1221  ...                False              False           False   \n",
       "1222  ...                False              False            True   \n",
       "\n",
       "      brand_name_realme  brand_name_vivo  os_Android  os_EMUI  os_KAIOS  \\\n",
       "0                 False            False        True    False     False   \n",
       "1                 False            False        True    False     False   \n",
       "2                 False            False        True    False     False   \n",
       "3                 False            False        True    False     False   \n",
       "5                 False            False        True    False     False   \n",
       "...                 ...              ...         ...      ...       ...   \n",
       "1218              False            False       False    False     False   \n",
       "1219              False            False       False    False     False   \n",
       "1220              False            False       False    False     False   \n",
       "1221              False            False        True    False     False   \n",
       "1222              False            False        True    False     False   \n",
       "\n",
       "      os_OxygenOS  os_iOS  \n",
       "0           False   False  \n",
       "1           False   False  \n",
       "2           False   False  \n",
       "3           False   False  \n",
       "5           False   False  \n",
       "...           ...     ...  \n",
       "1218        False    True  \n",
       "1219        False    True  \n",
       "1220        False    True  \n",
       "1221        False   False  \n",
       "1222        False   False  \n",
       "\n",
       "[780 rows x 55 columns]"
      ]
     },
     "execution_count": 14,
     "metadata": {},
     "output_type": "execute_result"
    }
   ],
   "source": [
    "df1"
   ]
  },
  {
   "cell_type": "code",
   "execution_count": 15,
   "id": "7080a4a7",
   "metadata": {
    "execution": {
     "iopub.execute_input": "2024-05-19T18:15:37.958362Z",
     "iopub.status.busy": "2024-05-19T18:15:37.957698Z",
     "iopub.status.idle": "2024-05-19T18:15:37.964232Z",
     "shell.execute_reply": "2024-05-19T18:15:37.963152Z"
    },
    "papermill": {
     "duration": 0.02565,
     "end_time": "2024-05-19T18:15:37.966213",
     "exception": false,
     "start_time": "2024-05-19T18:15:37.940563",
     "status": "completed"
    },
    "tags": []
   },
   "outputs": [
    {
     "data": {
      "text/plain": [
       "(780, 55)"
      ]
     },
     "execution_count": 15,
     "metadata": {},
     "output_type": "execute_result"
    }
   ],
   "source": [
    "df1.shape"
   ]
  },
  {
   "cell_type": "markdown",
   "id": "e93ac64d",
   "metadata": {
    "papermill": {
     "duration": 0.015697,
     "end_time": "2024-05-19T18:15:37.997912",
     "exception": false,
     "start_time": "2024-05-19T18:15:37.982215",
     "status": "completed"
    },
    "tags": []
   },
   "source": [
    "<a id=\"1\"></a>\n",
    "<div style=\"font-family: Cambria; font-weight: bold; letter-spacing: 0px; color: #ffffff; font-size: 120%; text-align: left; padding: 3px; background-color: #0000ff; border-bottom: 10px solid #80ffff;\">\n",
    "    EDA\n",
    "</div>"
   ]
  },
  {
   "cell_type": "code",
   "execution_count": 16,
   "id": "b08e12d1",
   "metadata": {
    "execution": {
     "iopub.execute_input": "2024-05-19T18:15:38.031867Z",
     "iopub.status.busy": "2024-05-19T18:15:38.031201Z",
     "iopub.status.idle": "2024-05-19T18:15:39.235806Z",
     "shell.execute_reply": "2024-05-19T18:15:39.234756Z"
    },
    "papermill": {
     "duration": 1.224922,
     "end_time": "2024-05-19T18:15:39.238774",
     "exception": false,
     "start_time": "2024-05-19T18:15:38.013852",
     "status": "completed"
    },
    "tags": []
   },
   "outputs": [
    {
     "data": {
      "text/plain": [
       "<Axes: >"
      ]
     },
     "execution_count": 16,
     "metadata": {},
     "output_type": "execute_result"
    },
    {
     "data": {
      "image/png": "[encoded data removed]",
      "text/plain": [
       "<Figure size 640x480 with 1 Axes>"
      ]
     },
     "metadata": {},
     "output_type": "display_data"
    }
   ],
   "source": [
    "sns.boxplot(df1)"
   ]
  },
  {
   "cell_type": "code",
   "execution_count": 17,
   "id": "9604e32b",
   "metadata": {
    "execution": {
     "iopub.execute_input": "2024-05-19T18:15:39.277188Z",
     "iopub.status.busy": "2024-05-19T18:15:39.276830Z",
     "iopub.status.idle": "2024-05-19T18:15:45.377621Z",
     "shell.execute_reply": "2024-05-19T18:15:45.376511Z"
    },
    "papermill": {
     "duration": 6.124205,
     "end_time": "2024-05-19T18:15:45.380300",
     "exception": false,
     "start_time": "2024-05-19T18:15:39.256095",
     "status": "completed"
    },
    "tags": []
   },
   "outputs": [
    {
     "data": {
      "image/png": "[encoded data removed]",
      "text/plain": [
       "<Figure size 1800x400 with 3 Axes>"
      ]
     },
     "metadata": {},
     "output_type": "display_data"
    },
    {
     "data": {
      "image/png": "[encoded data removed]",
      "text/plain": [
       "<Figure size 1800x400 with 3 Axes>"
      ]
     },
     "metadata": {},
     "output_type": "display_data"
    },
    {
     "data": {
      "image/png": "[encoded data removed]",
      "text/plain": [
       "<Figure size 1800x400 with 3 Axes>"
      ]
     },
     "metadata": {},
     "output_type": "display_data"
    },
    {
     "data": {
      "image/png": "[encoded data removed]",
      "text/plain": [
       "<Figure size 1800x400 with 3 Axes>"
      ]
     },
     "metadata": {},
     "output_type": "display_data"
    },
    {
     "data": {
      "image/png": "[encoded data removed]",
      "text/plain": [
       "<Figure size 1800x400 with 3 Axes>"
      ]
     },
     "metadata": {},
     "output_type": "display_data"
    },
    {
     "data": {
      "image/png": "[encoded data removed]",
      "text/plain": [
       "<Figure size 1800x400 with 3 Axes>"
      ]
     },
     "metadata": {},
     "output_type": "display_data"
    },
    {
     "data": {
      "image/png": "[encoded data removed]",
      "text/plain": [
       "<Figure size 1800x400 with 3 Axes>"
      ]
     },
     "metadata": {},
     "output_type": "display_data"
    },
    {
     "data": {
      "image/png": "[encoded data removed]",
      "text/plain": [
       "<Figure size 1800x400 with 3 Axes>"
      ]
     },
     "metadata": {},
     "output_type": "display_data"
    }
   ],
   "source": [
    "import matplotlib.pyplot as plt\n",
    "import numpy as np\n",
    "non_boolean_numerical_features = [\"popularity\",'best_price','lowest_price','highest_price','sellers_amount','screen_size','memory_size','battery_size']\n",
    "\n",
    "# Get all boolean columns\n",
    "boolean_columns = df.select_dtypes(include=['bool']).columns.tolist()\n",
    "\n",
    "# Filter out non-boolean numerical features\n",
    "boolean_features_except_numerical = [col for col in boolean_columns if col not in non_boolean_numerical_features]\n",
    "# Visualize the distributions and box plots for numerical features, including log-transformed versions for skewed data\n",
    "for column in non_boolean_numerical_features:\n",
    "    fig, (ax1, ax2, ax3) = plt.subplots(1, 3, figsize=(18, 4))\n",
    "\n",
    "    # Histogram for the distribution\n",
    "    sns.histplot(df1[column], kde=False, color='skyblue', ax=ax1)\n",
    "    ax1.set_title(f'Distribution of {column}')\n",
    "    ax1.set_ylabel('Frequency')\n",
    "\n",
    "    # Boxplot for the variable\n",
    "    sns.boxplot(x=df1[column], color='lightgreen', ax=ax2)\n",
    "    ax2.set_title(f'Boxplot of {column}')\n",
    "\n",
    "    # Log transformation and plot if the data is skewed\n",
    "    if df1[column].skew() > 1:\n",
    "        df1[column+'_log'] = np.log1p(df1[column])\n",
    "        sns.histplot(df1[column+'_log'], kde=False, color='orange', ax=ax3)\n",
    "        ax3.set_title(f'Log-transformed Distribution of {column}')\n",
    "    else:\n",
    "        ax3.set_title(f'Log-transformed plot not necessary for {column}')\n",
    "        ax3.axis('off')\n",
    "\n",
    "    plt.tight_layout()\n",
    "    plt.show()\n"
   ]
  },
  {
   "cell_type": "markdown",
   "id": "474773dd",
   "metadata": {
    "papermill": {
     "duration": 0.021793,
     "end_time": "2024-05-19T18:15:45.424137",
     "exception": false,
     "start_time": "2024-05-19T18:15:45.402344",
     "status": "completed"
    },
    "tags": []
   },
   "source": [
    "<div style=\"background-color: #ff0000; padding: 20px; border-radius: 10px;\">\n",
    "    <h1 style=\"text-align: left; font-size: 15px;\"> we can not consider these outlier for above feature. </h1>\n",
    "</div>"
   ]
  },
  {
   "cell_type": "markdown",
   "id": "0fd1449d",
   "metadata": {
    "papermill": {
     "duration": 0.022362,
     "end_time": "2024-05-19T18:15:45.468982",
     "exception": false,
     "start_time": "2024-05-19T18:15:45.446620",
     "status": "completed"
    },
    "tags": []
   },
   "source": [
    "<a id=\"1\"></a>\n",
    "<div style=\"font-family: Cambria; font-weight: bold; letter-spacing: 0px; color: #ffffff; font-size: 120%; text-align: left; padding: 3px; background-color: #0000ff; border-bottom: 10px solid #80ffff;\">\n",
    "    Feature Scaling\n",
    "</div>"
   ]
  },
  {
   "cell_type": "code",
   "execution_count": 18,
   "id": "3f72014d",
   "metadata": {
    "execution": {
     "iopub.execute_input": "2024-05-19T18:15:45.516546Z",
     "iopub.status.busy": "2024-05-19T18:15:45.516137Z",
     "iopub.status.idle": "2024-05-19T18:15:45.530341Z",
     "shell.execute_reply": "2024-05-19T18:15:45.529011Z"
    },
    "papermill": {
     "duration": 0.041401,
     "end_time": "2024-05-19T18:15:45.532925",
     "exception": false,
     "start_time": "2024-05-19T18:15:45.491524",
     "status": "completed"
    },
    "tags": []
   },
   "outputs": [],
   "source": [
    "from sklearn.preprocessing import MinMaxScaler\n",
    "non_boolean_numerical_features = [\"popularity\",'best_price','lowest_price','highest_price','sellers_amount','screen_size','memory_size','battery_size']\n",
    "scaler = MinMaxScaler()\n",
    "df1[non_boolean_numerical_features] = scaler.fit_transform(df1[non_boolean_numerical_features])\n"
   ]
  },
  {
   "cell_type": "code",
   "execution_count": 19,
   "id": "d3516b86",
   "metadata": {
    "execution": {
     "iopub.execute_input": "2024-05-19T18:15:45.579170Z",
     "iopub.status.busy": "2024-05-19T18:15:45.578800Z",
     "iopub.status.idle": "2024-05-19T18:15:45.608910Z",
     "shell.execute_reply": "2024-05-19T18:15:45.607806Z"
    },
    "papermill": {
     "duration": 0.056776,
     "end_time": "2024-05-19T18:15:45.611807",
     "exception": false,
     "start_time": "2024-05-19T18:15:45.555031",
     "status": "completed"
    },
    "tags": []
   },
   "outputs": [
    {
     "data": {
      "text/html": [
       "<div>\n",
       "<style scoped>\n",
       "    .dataframe tbody tr th:only-of-type {\n",
       "        vertical-align: middle;\n",
       "    }\n",
       "\n",
       "    .dataframe tbody tr th {\n",
       "        vertical-align: top;\n",
       "    }\n",
       "\n",
       "    .dataframe thead th {\n",
       "        text-align: right;\n",
       "    }\n",
       "</style>\n",
       "<table border=\"1\" class=\"dataframe\">\n",
       "  <thead>\n",
       "    <tr style=\"text-align: right;\">\n",
       "      <th></th>\n",
       "      <th>popularity</th>\n",
       "      <th>best_price</th>\n",
       "      <th>lowest_price</th>\n",
       "      <th>highest_price</th>\n",
       "      <th>sellers_amount</th>\n",
       "      <th>screen_size</th>\n",
       "      <th>memory_size</th>\n",
       "      <th>battery_size</th>\n",
       "      <th>brand_name_2E</th>\n",
       "      <th>brand_name_AGM</th>\n",
       "      <th>...</th>\n",
       "      <th>os_EMUI</th>\n",
       "      <th>os_KAIOS</th>\n",
       "      <th>os_OxygenOS</th>\n",
       "      <th>os_iOS</th>\n",
       "      <th>best_price_log</th>\n",
       "      <th>lowest_price_log</th>\n",
       "      <th>highest_price_log</th>\n",
       "      <th>sellers_amount_log</th>\n",
       "      <th>memory_size_log</th>\n",
       "      <th>battery_size_log</th>\n",
       "    </tr>\n",
       "  </thead>\n",
       "  <tbody>\n",
       "    <tr>\n",
       "      <th>0</th>\n",
       "      <td>0.343699</td>\n",
       "      <td>0.012044</td>\n",
       "      <td>0.014031</td>\n",
       "      <td>0.011886</td>\n",
       "      <td>0.276423</td>\n",
       "      <td>0.456140</td>\n",
       "      <td>0.004016</td>\n",
       "      <td>0.043478</td>\n",
       "      <td>False</td>\n",
       "      <td>False</td>\n",
       "      <td>...</td>\n",
       "      <td>False</td>\n",
       "      <td>False</td>\n",
       "      <td>False</td>\n",
       "      <td>False</td>\n",
       "      <td>7.433075</td>\n",
       "      <td>7.333023</td>\n",
       "      <td>7.506592</td>\n",
       "      <td>3.610918</td>\n",
       "      <td>2.197225</td>\n",
       "      <td>7.601402</td>\n",
       "    </tr>\n",
       "    <tr>\n",
       "      <th>1</th>\n",
       "      <td>0.262684</td>\n",
       "      <td>0.014125</td>\n",
       "      <td>0.016927</td>\n",
       "      <td>0.022365</td>\n",
       "      <td>0.276423</td>\n",
       "      <td>0.456140</td>\n",
       "      <td>0.012048</td>\n",
       "      <td>0.043478</td>\n",
       "      <td>False</td>\n",
       "      <td>False</td>\n",
       "      <td>...</td>\n",
       "      <td>False</td>\n",
       "      <td>False</td>\n",
       "      <td>False</td>\n",
       "      <td>False</td>\n",
       "      <td>7.497762</td>\n",
       "      <td>7.414573</td>\n",
       "      <td>7.820038</td>\n",
       "      <td>3.610918</td>\n",
       "      <td>2.833213</td>\n",
       "      <td>7.601402</td>\n",
       "    </tr>\n",
       "    <tr>\n",
       "      <th>2</th>\n",
       "      <td>0.243044</td>\n",
       "      <td>0.014125</td>\n",
       "      <td>0.016927</td>\n",
       "      <td>0.022365</td>\n",
       "      <td>0.276423</td>\n",
       "      <td>0.456140</td>\n",
       "      <td>0.012048</td>\n",
       "      <td>0.043478</td>\n",
       "      <td>False</td>\n",
       "      <td>False</td>\n",
       "      <td>...</td>\n",
       "      <td>False</td>\n",
       "      <td>False</td>\n",
       "      <td>False</td>\n",
       "      <td>False</td>\n",
       "      <td>7.497762</td>\n",
       "      <td>7.414573</td>\n",
       "      <td>7.820038</td>\n",
       "      <td>3.610918</td>\n",
       "      <td>2.833213</td>\n",
       "      <td>7.601402</td>\n",
       "    </tr>\n",
       "    <tr>\n",
       "      <th>3</th>\n",
       "      <td>0.233224</td>\n",
       "      <td>0.014125</td>\n",
       "      <td>0.016927</td>\n",
       "      <td>0.022365</td>\n",
       "      <td>0.276423</td>\n",
       "      <td>0.456140</td>\n",
       "      <td>0.012048</td>\n",
       "      <td>0.043478</td>\n",
       "      <td>False</td>\n",
       "      <td>False</td>\n",
       "      <td>...</td>\n",
       "      <td>False</td>\n",
       "      <td>False</td>\n",
       "      <td>False</td>\n",
       "      <td>False</td>\n",
       "      <td>7.497762</td>\n",
       "      <td>7.414573</td>\n",
       "      <td>7.820038</td>\n",
       "      <td>3.610918</td>\n",
       "      <td>2.833213</td>\n",
       "      <td>7.601402</td>\n",
       "    </tr>\n",
       "    <tr>\n",
       "      <th>5</th>\n",
       "      <td>0.056465</td>\n",
       "      <td>0.181006</td>\n",
       "      <td>0.216748</td>\n",
       "      <td>0.157022</td>\n",
       "      <td>0.000000</td>\n",
       "      <td>0.596491</td>\n",
       "      <td>0.060241</td>\n",
       "      <td>0.165217</td>\n",
       "      <td>False</td>\n",
       "      <td>False</td>\n",
       "      <td>...</td>\n",
       "      <td>False</td>\n",
       "      <td>False</td>\n",
       "      <td>False</td>\n",
       "      <td>False</td>\n",
       "      <td>9.293394</td>\n",
       "      <td>9.271624</td>\n",
       "      <td>9.314700</td>\n",
       "      <td>1.098612</td>\n",
       "      <td>4.174387</td>\n",
       "      <td>8.131825</td>\n",
       "    </tr>\n",
       "    <tr>\n",
       "      <th>...</th>\n",
       "      <td>...</td>\n",
       "      <td>...</td>\n",
       "      <td>...</td>\n",
       "      <td>...</td>\n",
       "      <td>...</td>\n",
       "      <td>...</td>\n",
       "      <td>...</td>\n",
       "      <td>...</td>\n",
       "      <td>...</td>\n",
       "      <td>...</td>\n",
       "      <td>...</td>\n",
       "      <td>...</td>\n",
       "      <td>...</td>\n",
       "      <td>...</td>\n",
       "      <td>...</td>\n",
       "      <td>...</td>\n",
       "      <td>...</td>\n",
       "      <td>...</td>\n",
       "      <td>...</td>\n",
       "      <td>...</td>\n",
       "      <td>...</td>\n",
       "    </tr>\n",
       "    <tr>\n",
       "      <th>1218</th>\n",
       "      <td>0.687398</td>\n",
       "      <td>0.481640</td>\n",
       "      <td>0.451024</td>\n",
       "      <td>0.455755</td>\n",
       "      <td>0.365854</td>\n",
       "      <td>0.719298</td>\n",
       "      <td>0.510040</td>\n",
       "      <td>0.145565</td>\n",
       "      <td>False</td>\n",
       "      <td>False</td>\n",
       "      <td>...</td>\n",
       "      <td>False</td>\n",
       "      <td>False</td>\n",
       "      <td>False</td>\n",
       "      <td>True</td>\n",
       "      <td>10.210641</td>\n",
       "      <td>9.959442</td>\n",
       "      <td>10.315630</td>\n",
       "      <td>3.871201</td>\n",
       "      <td>6.240276</td>\n",
       "      <td>8.063063</td>\n",
       "    </tr>\n",
       "    <tr>\n",
       "      <th>1219</th>\n",
       "      <td>0.899345</td>\n",
       "      <td>0.398678</td>\n",
       "      <td>0.336726</td>\n",
       "      <td>0.419784</td>\n",
       "      <td>0.479675</td>\n",
       "      <td>0.719298</td>\n",
       "      <td>0.060241</td>\n",
       "      <td>0.145565</td>\n",
       "      <td>False</td>\n",
       "      <td>False</td>\n",
       "      <td>...</td>\n",
       "      <td>False</td>\n",
       "      <td>False</td>\n",
       "      <td>False</td>\n",
       "      <td>True</td>\n",
       "      <td>10.029503</td>\n",
       "      <td>9.681531</td>\n",
       "      <td>10.236418</td>\n",
       "      <td>4.127134</td>\n",
       "      <td>4.174387</td>\n",
       "      <td>8.063063</td>\n",
       "    </tr>\n",
       "    <tr>\n",
       "      <th>1220</th>\n",
       "      <td>0.432079</td>\n",
       "      <td>0.433944</td>\n",
       "      <td>0.468597</td>\n",
       "      <td>0.510807</td>\n",
       "      <td>0.211382</td>\n",
       "      <td>0.719298</td>\n",
       "      <td>0.060241</td>\n",
       "      <td>0.145565</td>\n",
       "      <td>False</td>\n",
       "      <td>False</td>\n",
       "      <td>...</td>\n",
       "      <td>False</td>\n",
       "      <td>False</td>\n",
       "      <td>False</td>\n",
       "      <td>True</td>\n",
       "      <td>10.110542</td>\n",
       "      <td>9.996067</td>\n",
       "      <td>10.425876</td>\n",
       "      <td>3.367296</td>\n",
       "      <td>4.174387</td>\n",
       "      <td>8.063063</td>\n",
       "    </tr>\n",
       "    <tr>\n",
       "      <th>1221</th>\n",
       "      <td>0.959083</td>\n",
       "      <td>0.143052</td>\n",
       "      <td>0.158129</td>\n",
       "      <td>0.139819</td>\n",
       "      <td>0.130081</td>\n",
       "      <td>0.677193</td>\n",
       "      <td>0.124498</td>\n",
       "      <td>0.195652</td>\n",
       "      <td>False</td>\n",
       "      <td>False</td>\n",
       "      <td>...</td>\n",
       "      <td>False</td>\n",
       "      <td>False</td>\n",
       "      <td>False</td>\n",
       "      <td>False</td>\n",
       "      <td>9.083075</td>\n",
       "      <td>8.987197</td>\n",
       "      <td>9.210340</td>\n",
       "      <td>2.944439</td>\n",
       "      <td>4.859812</td>\n",
       "      <td>8.229778</td>\n",
       "    </tr>\n",
       "    <tr>\n",
       "      <th>1222</th>\n",
       "      <td>0.613748</td>\n",
       "      <td>0.326305</td>\n",
       "      <td>0.392004</td>\n",
       "      <td>0.280748</td>\n",
       "      <td>0.000000</td>\n",
       "      <td>0.745614</td>\n",
       "      <td>0.124498</td>\n",
       "      <td>0.260870</td>\n",
       "      <td>False</td>\n",
       "      <td>False</td>\n",
       "      <td>...</td>\n",
       "      <td>False</td>\n",
       "      <td>False</td>\n",
       "      <td>False</td>\n",
       "      <td>False</td>\n",
       "      <td>9.839269</td>\n",
       "      <td>9.825580</td>\n",
       "      <td>9.852773</td>\n",
       "      <td>1.098612</td>\n",
       "      <td>4.859812</td>\n",
       "      <td>8.412055</td>\n",
       "    </tr>\n",
       "  </tbody>\n",
       "</table>\n",
       "<p>780 rows × 61 columns</p>\n",
       "</div>"
      ],
      "text/plain": [
       "      popularity  best_price  lowest_price  highest_price  sellers_amount  \\\n",
       "0       0.343699    0.012044      0.014031       0.011886        0.276423   \n",
       "1       0.262684    0.014125      0.016927       0.022365        0.276423   \n",
       "2       0.243044    0.014125      0.016927       0.022365        0.276423   \n",
       "3       0.233224    0.014125      0.016927       0.022365        0.276423   \n",
       "5       0.056465    0.181006      0.216748       0.157022        0.000000   \n",
       "...          ...         ...           ...            ...             ...   \n",
       "1218    0.687398    0.481640      0.451024       0.455755        0.365854   \n",
       "1219    0.899345    0.398678      0.336726       0.419784        0.479675   \n",
       "1220    0.432079    0.433944      0.468597       0.510807        0.211382   \n",
       "1221    0.959083    0.143052      0.158129       0.139819        0.130081   \n",
       "1222    0.613748    0.326305      0.392004       0.280748        0.000000   \n",
       "\n",
       "      screen_size  memory_size  battery_size  brand_name_2E  brand_name_AGM  \\\n",
       "0        0.456140     0.004016      0.043478          False           False   \n",
       "1        0.456140     0.012048      0.043478          False           False   \n",
       "2        0.456140     0.012048      0.043478          False           False   \n",
       "3        0.456140     0.012048      0.043478          False           False   \n",
       "5        0.596491     0.060241      0.165217          False           False   \n",
       "...           ...          ...           ...            ...             ...   \n",
       "1218     0.719298     0.510040      0.145565          False           False   \n",
       "1219     0.719298     0.060241      0.145565          False           False   \n",
       "1220     0.719298     0.060241      0.145565          False           False   \n",
       "1221     0.677193     0.124498      0.195652          False           False   \n",
       "1222     0.745614     0.124498      0.260870          False           False   \n",
       "\n",
       "      ...  os_EMUI  os_KAIOS  os_OxygenOS  os_iOS  best_price_log  \\\n",
       "0     ...    False     False        False   False        7.433075   \n",
       "1     ...    False     False        False   False        7.497762   \n",
       "2     ...    False     False        False   False        7.497762   \n",
       "3     ...    False     False        False   False        7.497762   \n",
       "5     ...    False     False        False   False        9.293394   \n",
       "...   ...      ...       ...          ...     ...             ...   \n",
       "1218  ...    False     False        False    True       10.210641   \n",
       "1219  ...    False     False        False    True       10.029503   \n",
       "1220  ...    False     False        False    True       10.110542   \n",
       "1221  ...    False     False        False   False        9.083075   \n",
       "1222  ...    False     False        False   False        9.839269   \n",
       "\n",
       "      lowest_price_log  highest_price_log  sellers_amount_log  \\\n",
       "0             7.333023           7.506592            3.610918   \n",
       "1             7.414573           7.820038            3.610918   \n",
       "2             7.414573           7.820038            3.610918   \n",
       "3             7.414573           7.820038            3.610918   \n",
       "5             9.271624           9.314700            1.098612   \n",
       "...                ...                ...                 ...   \n",
       "1218          9.959442          10.315630            3.871201   \n",
       "1219          9.681531          10.236418            4.127134   \n",
       "1220          9.996067          10.425876            3.367296   \n",
       "1221          8.987197           9.210340            2.944439   \n",
       "1222          9.825580           9.852773            1.098612   \n",
       "\n",
       "      memory_size_log  battery_size_log  \n",
       "0            2.197225          7.601402  \n",
       "1            2.833213          7.601402  \n",
       "2            2.833213          7.601402  \n",
       "3            2.833213          7.601402  \n",
       "5            4.174387          8.131825  \n",
       "...               ...               ...  \n",
       "1218         6.240276          8.063063  \n",
       "1219         4.174387          8.063063  \n",
       "1220         4.174387          8.063063  \n",
       "1221         4.859812          8.229778  \n",
       "1222         4.859812          8.412055  \n",
       "\n",
       "[780 rows x 61 columns]"
      ]
     },
     "execution_count": 19,
     "metadata": {},
     "output_type": "execute_result"
    }
   ],
   "source": [
    "df1"
   ]
  },
  {
   "cell_type": "markdown",
   "id": "a17d0375",
   "metadata": {
    "papermill": {
     "duration": 0.022234,
     "end_time": "2024-05-19T18:15:45.656348",
     "exception": false,
     "start_time": "2024-05-19T18:15:45.634114",
     "status": "completed"
    },
    "tags": []
   },
   "source": [
    "For regression tasks where the target variable is continuous, it's generally not necessary to scale the target variable. Algorithms like Linear Regression, Decision Trees, Random Forest, and Gradient Boosting Machines can handle continuous target variables without requiring scaling.\n",
    "\n",
    "if you're using algorithms that are sensitive to the scale of the target variable, such as Support Vector Machines (SVM) with a regression (SVR) or NuSVR kernel, you might consider scaling the target variable"
   ]
  },
  {
   "cell_type": "code",
   "execution_count": null,
   "id": "0b33cf53",
   "metadata": {
    "papermill": {
     "duration": 0.022094,
     "end_time": "2024-05-19T18:15:45.700973",
     "exception": false,
     "start_time": "2024-05-19T18:15:45.678879",
     "status": "completed"
    },
    "tags": []
   },
   "outputs": [],
   "source": []
  },
  {
   "cell_type": "code",
   "execution_count": 20,
   "id": "a39724d8",
   "metadata": {
    "execution": {
     "iopub.execute_input": "2024-05-19T18:15:45.747351Z",
     "iopub.status.busy": "2024-05-19T18:15:45.746980Z",
     "iopub.status.idle": "2024-05-19T18:15:45.758495Z",
     "shell.execute_reply": "2024-05-19T18:15:45.756861Z"
    },
    "papermill": {
     "duration": 0.037918,
     "end_time": "2024-05-19T18:15:45.761170",
     "exception": false,
     "start_time": "2024-05-19T18:15:45.723252",
     "status": "completed"
    },
    "tags": []
   },
   "outputs": [
    {
     "data": {
      "text/plain": [
       "0       0.012044\n",
       "1       0.014125\n",
       "2       0.014125\n",
       "3       0.014125\n",
       "5       0.181006\n",
       "          ...   \n",
       "1218    0.481640\n",
       "1219    0.398678\n",
       "1220    0.433944\n",
       "1221    0.143052\n",
       "1222    0.326305\n",
       "Name: best_price, Length: 780, dtype: float64"
      ]
     },
     "execution_count": 20,
     "metadata": {},
     "output_type": "execute_result"
    }
   ],
   "source": [
    "y_scaled = df1['best_price']\n",
    "y_scaled"
   ]
  },
  {
   "cell_type": "code",
   "execution_count": 21,
   "id": "e6801bfc",
   "metadata": {
    "execution": {
     "iopub.execute_input": "2024-05-19T18:15:45.810070Z",
     "iopub.status.busy": "2024-05-19T18:15:45.809628Z",
     "iopub.status.idle": "2024-05-19T18:15:45.840130Z",
     "shell.execute_reply": "2024-05-19T18:15:45.838987Z"
    },
    "papermill": {
     "duration": 0.058418,
     "end_time": "2024-05-19T18:15:45.842626",
     "exception": false,
     "start_time": "2024-05-19T18:15:45.784208",
     "status": "completed"
    },
    "tags": []
   },
   "outputs": [
    {
     "data": {
      "text/html": [
       "<div>\n",
       "<style scoped>\n",
       "    .dataframe tbody tr th:only-of-type {\n",
       "        vertical-align: middle;\n",
       "    }\n",
       "\n",
       "    .dataframe tbody tr th {\n",
       "        vertical-align: top;\n",
       "    }\n",
       "\n",
       "    .dataframe thead th {\n",
       "        text-align: right;\n",
       "    }\n",
       "</style>\n",
       "<table border=\"1\" class=\"dataframe\">\n",
       "  <thead>\n",
       "    <tr style=\"text-align: right;\">\n",
       "      <th></th>\n",
       "      <th>popularity</th>\n",
       "      <th>best_price</th>\n",
       "      <th>lowest_price</th>\n",
       "      <th>highest_price</th>\n",
       "      <th>sellers_amount</th>\n",
       "      <th>screen_size</th>\n",
       "      <th>memory_size</th>\n",
       "      <th>battery_size</th>\n",
       "      <th>brand_name_2E</th>\n",
       "      <th>brand_name_AGM</th>\n",
       "      <th>...</th>\n",
       "      <th>os_EMUI</th>\n",
       "      <th>os_KAIOS</th>\n",
       "      <th>os_OxygenOS</th>\n",
       "      <th>os_iOS</th>\n",
       "      <th>best_price_log</th>\n",
       "      <th>lowest_price_log</th>\n",
       "      <th>highest_price_log</th>\n",
       "      <th>sellers_amount_log</th>\n",
       "      <th>memory_size_log</th>\n",
       "      <th>battery_size_log</th>\n",
       "    </tr>\n",
       "  </thead>\n",
       "  <tbody>\n",
       "    <tr>\n",
       "      <th>0</th>\n",
       "      <td>0.343699</td>\n",
       "      <td>0.012044</td>\n",
       "      <td>0.014031</td>\n",
       "      <td>0.011886</td>\n",
       "      <td>0.276423</td>\n",
       "      <td>0.456140</td>\n",
       "      <td>0.004016</td>\n",
       "      <td>0.043478</td>\n",
       "      <td>False</td>\n",
       "      <td>False</td>\n",
       "      <td>...</td>\n",
       "      <td>False</td>\n",
       "      <td>False</td>\n",
       "      <td>False</td>\n",
       "      <td>False</td>\n",
       "      <td>7.433075</td>\n",
       "      <td>7.333023</td>\n",
       "      <td>7.506592</td>\n",
       "      <td>3.610918</td>\n",
       "      <td>2.197225</td>\n",
       "      <td>7.601402</td>\n",
       "    </tr>\n",
       "    <tr>\n",
       "      <th>1</th>\n",
       "      <td>0.262684</td>\n",
       "      <td>0.014125</td>\n",
       "      <td>0.016927</td>\n",
       "      <td>0.022365</td>\n",
       "      <td>0.276423</td>\n",
       "      <td>0.456140</td>\n",
       "      <td>0.012048</td>\n",
       "      <td>0.043478</td>\n",
       "      <td>False</td>\n",
       "      <td>False</td>\n",
       "      <td>...</td>\n",
       "      <td>False</td>\n",
       "      <td>False</td>\n",
       "      <td>False</td>\n",
       "      <td>False</td>\n",
       "      <td>7.497762</td>\n",
       "      <td>7.414573</td>\n",
       "      <td>7.820038</td>\n",
       "      <td>3.610918</td>\n",
       "      <td>2.833213</td>\n",
       "      <td>7.601402</td>\n",
       "    </tr>\n",
       "    <tr>\n",
       "      <th>2</th>\n",
       "      <td>0.243044</td>\n",
       "      <td>0.014125</td>\n",
       "      <td>0.016927</td>\n",
       "      <td>0.022365</td>\n",
       "      <td>0.276423</td>\n",
       "      <td>0.456140</td>\n",
       "      <td>0.012048</td>\n",
       "      <td>0.043478</td>\n",
       "      <td>False</td>\n",
       "      <td>False</td>\n",
       "      <td>...</td>\n",
       "      <td>False</td>\n",
       "      <td>False</td>\n",
       "      <td>False</td>\n",
       "      <td>False</td>\n",
       "      <td>7.497762</td>\n",
       "      <td>7.414573</td>\n",
       "      <td>7.820038</td>\n",
       "      <td>3.610918</td>\n",
       "      <td>2.833213</td>\n",
       "      <td>7.601402</td>\n",
       "    </tr>\n",
       "    <tr>\n",
       "      <th>3</th>\n",
       "      <td>0.233224</td>\n",
       "      <td>0.014125</td>\n",
       "      <td>0.016927</td>\n",
       "      <td>0.022365</td>\n",
       "      <td>0.276423</td>\n",
       "      <td>0.456140</td>\n",
       "      <td>0.012048</td>\n",
       "      <td>0.043478</td>\n",
       "      <td>False</td>\n",
       "      <td>False</td>\n",
       "      <td>...</td>\n",
       "      <td>False</td>\n",
       "      <td>False</td>\n",
       "      <td>False</td>\n",
       "      <td>False</td>\n",
       "      <td>7.497762</td>\n",
       "      <td>7.414573</td>\n",
       "      <td>7.820038</td>\n",
       "      <td>3.610918</td>\n",
       "      <td>2.833213</td>\n",
       "      <td>7.601402</td>\n",
       "    </tr>\n",
       "    <tr>\n",
       "      <th>5</th>\n",
       "      <td>0.056465</td>\n",
       "      <td>0.181006</td>\n",
       "      <td>0.216748</td>\n",
       "      <td>0.157022</td>\n",
       "      <td>0.000000</td>\n",
       "      <td>0.596491</td>\n",
       "      <td>0.060241</td>\n",
       "      <td>0.165217</td>\n",
       "      <td>False</td>\n",
       "      <td>False</td>\n",
       "      <td>...</td>\n",
       "      <td>False</td>\n",
       "      <td>False</td>\n",
       "      <td>False</td>\n",
       "      <td>False</td>\n",
       "      <td>9.293394</td>\n",
       "      <td>9.271624</td>\n",
       "      <td>9.314700</td>\n",
       "      <td>1.098612</td>\n",
       "      <td>4.174387</td>\n",
       "      <td>8.131825</td>\n",
       "    </tr>\n",
       "    <tr>\n",
       "      <th>...</th>\n",
       "      <td>...</td>\n",
       "      <td>...</td>\n",
       "      <td>...</td>\n",
       "      <td>...</td>\n",
       "      <td>...</td>\n",
       "      <td>...</td>\n",
       "      <td>...</td>\n",
       "      <td>...</td>\n",
       "      <td>...</td>\n",
       "      <td>...</td>\n",
       "      <td>...</td>\n",
       "      <td>...</td>\n",
       "      <td>...</td>\n",
       "      <td>...</td>\n",
       "      <td>...</td>\n",
       "      <td>...</td>\n",
       "      <td>...</td>\n",
       "      <td>...</td>\n",
       "      <td>...</td>\n",
       "      <td>...</td>\n",
       "      <td>...</td>\n",
       "    </tr>\n",
       "    <tr>\n",
       "      <th>1218</th>\n",
       "      <td>0.687398</td>\n",
       "      <td>0.481640</td>\n",
       "      <td>0.451024</td>\n",
       "      <td>0.455755</td>\n",
       "      <td>0.365854</td>\n",
       "      <td>0.719298</td>\n",
       "      <td>0.510040</td>\n",
       "      <td>0.145565</td>\n",
       "      <td>False</td>\n",
       "      <td>False</td>\n",
       "      <td>...</td>\n",
       "      <td>False</td>\n",
       "      <td>False</td>\n",
       "      <td>False</td>\n",
       "      <td>True</td>\n",
       "      <td>10.210641</td>\n",
       "      <td>9.959442</td>\n",
       "      <td>10.315630</td>\n",
       "      <td>3.871201</td>\n",
       "      <td>6.240276</td>\n",
       "      <td>8.063063</td>\n",
       "    </tr>\n",
       "    <tr>\n",
       "      <th>1219</th>\n",
       "      <td>0.899345</td>\n",
       "      <td>0.398678</td>\n",
       "      <td>0.336726</td>\n",
       "      <td>0.419784</td>\n",
       "      <td>0.479675</td>\n",
       "      <td>0.719298</td>\n",
       "      <td>0.060241</td>\n",
       "      <td>0.145565</td>\n",
       "      <td>False</td>\n",
       "      <td>False</td>\n",
       "      <td>...</td>\n",
       "      <td>False</td>\n",
       "      <td>False</td>\n",
       "      <td>False</td>\n",
       "      <td>True</td>\n",
       "      <td>10.029503</td>\n",
       "      <td>9.681531</td>\n",
       "      <td>10.236418</td>\n",
       "      <td>4.127134</td>\n",
       "      <td>4.174387</td>\n",
       "      <td>8.063063</td>\n",
       "    </tr>\n",
       "    <tr>\n",
       "      <th>1220</th>\n",
       "      <td>0.432079</td>\n",
       "      <td>0.433944</td>\n",
       "      <td>0.468597</td>\n",
       "      <td>0.510807</td>\n",
       "      <td>0.211382</td>\n",
       "      <td>0.719298</td>\n",
       "      <td>0.060241</td>\n",
       "      <td>0.145565</td>\n",
       "      <td>False</td>\n",
       "      <td>False</td>\n",
       "      <td>...</td>\n",
       "      <td>False</td>\n",
       "      <td>False</td>\n",
       "      <td>False</td>\n",
       "      <td>True</td>\n",
       "      <td>10.110542</td>\n",
       "      <td>9.996067</td>\n",
       "      <td>10.425876</td>\n",
       "      <td>3.367296</td>\n",
       "      <td>4.174387</td>\n",
       "      <td>8.063063</td>\n",
       "    </tr>\n",
       "    <tr>\n",
       "      <th>1221</th>\n",
       "      <td>0.959083</td>\n",
       "      <td>0.143052</td>\n",
       "      <td>0.158129</td>\n",
       "      <td>0.139819</td>\n",
       "      <td>0.130081</td>\n",
       "      <td>0.677193</td>\n",
       "      <td>0.124498</td>\n",
       "      <td>0.195652</td>\n",
       "      <td>False</td>\n",
       "      <td>False</td>\n",
       "      <td>...</td>\n",
       "      <td>False</td>\n",
       "      <td>False</td>\n",
       "      <td>False</td>\n",
       "      <td>False</td>\n",
       "      <td>9.083075</td>\n",
       "      <td>8.987197</td>\n",
       "      <td>9.210340</td>\n",
       "      <td>2.944439</td>\n",
       "      <td>4.859812</td>\n",
       "      <td>8.229778</td>\n",
       "    </tr>\n",
       "    <tr>\n",
       "      <th>1222</th>\n",
       "      <td>0.613748</td>\n",
       "      <td>0.326305</td>\n",
       "      <td>0.392004</td>\n",
       "      <td>0.280748</td>\n",
       "      <td>0.000000</td>\n",
       "      <td>0.745614</td>\n",
       "      <td>0.124498</td>\n",
       "      <td>0.260870</td>\n",
       "      <td>False</td>\n",
       "      <td>False</td>\n",
       "      <td>...</td>\n",
       "      <td>False</td>\n",
       "      <td>False</td>\n",
       "      <td>False</td>\n",
       "      <td>False</td>\n",
       "      <td>9.839269</td>\n",
       "      <td>9.825580</td>\n",
       "      <td>9.852773</td>\n",
       "      <td>1.098612</td>\n",
       "      <td>4.859812</td>\n",
       "      <td>8.412055</td>\n",
       "    </tr>\n",
       "  </tbody>\n",
       "</table>\n",
       "<p>780 rows × 61 columns</p>\n",
       "</div>"
      ],
      "text/plain": [
       "      popularity  best_price  lowest_price  highest_price  sellers_amount  \\\n",
       "0       0.343699    0.012044      0.014031       0.011886        0.276423   \n",
       "1       0.262684    0.014125      0.016927       0.022365        0.276423   \n",
       "2       0.243044    0.014125      0.016927       0.022365        0.276423   \n",
       "3       0.233224    0.014125      0.016927       0.022365        0.276423   \n",
       "5       0.056465    0.181006      0.216748       0.157022        0.000000   \n",
       "...          ...         ...           ...            ...             ...   \n",
       "1218    0.687398    0.481640      0.451024       0.455755        0.365854   \n",
       "1219    0.899345    0.398678      0.336726       0.419784        0.479675   \n",
       "1220    0.432079    0.433944      0.468597       0.510807        0.211382   \n",
       "1221    0.959083    0.143052      0.158129       0.139819        0.130081   \n",
       "1222    0.613748    0.326305      0.392004       0.280748        0.000000   \n",
       "\n",
       "      screen_size  memory_size  battery_size  brand_name_2E  brand_name_AGM  \\\n",
       "0        0.456140     0.004016      0.043478          False           False   \n",
       "1        0.456140     0.012048      0.043478          False           False   \n",
       "2        0.456140     0.012048      0.043478          False           False   \n",
       "3        0.456140     0.012048      0.043478          False           False   \n",
       "5        0.596491     0.060241      0.165217          False           False   \n",
       "...           ...          ...           ...            ...             ...   \n",
       "1218     0.719298     0.510040      0.145565          False           False   \n",
       "1219     0.719298     0.060241      0.145565          False           False   \n",
       "1220     0.719298     0.060241      0.145565          False           False   \n",
       "1221     0.677193     0.124498      0.195652          False           False   \n",
       "1222     0.745614     0.124498      0.260870          False           False   \n",
       "\n",
       "      ...  os_EMUI  os_KAIOS  os_OxygenOS  os_iOS  best_price_log  \\\n",
       "0     ...    False     False        False   False        7.433075   \n",
       "1     ...    False     False        False   False        7.497762   \n",
       "2     ...    False     False        False   False        7.497762   \n",
       "3     ...    False     False        False   False        7.497762   \n",
       "5     ...    False     False        False   False        9.293394   \n",
       "...   ...      ...       ...          ...     ...             ...   \n",
       "1218  ...    False     False        False    True       10.210641   \n",
       "1219  ...    False     False        False    True       10.029503   \n",
       "1220  ...    False     False        False    True       10.110542   \n",
       "1221  ...    False     False        False   False        9.083075   \n",
       "1222  ...    False     False        False   False        9.839269   \n",
       "\n",
       "      lowest_price_log  highest_price_log  sellers_amount_log  \\\n",
       "0             7.333023           7.506592            3.610918   \n",
       "1             7.414573           7.820038            3.610918   \n",
       "2             7.414573           7.820038            3.610918   \n",
       "3             7.414573           7.820038            3.610918   \n",
       "5             9.271624           9.314700            1.098612   \n",
       "...                ...                ...                 ...   \n",
       "1218          9.959442          10.315630            3.871201   \n",
       "1219          9.681531          10.236418            4.127134   \n",
       "1220          9.996067          10.425876            3.367296   \n",
       "1221          8.987197           9.210340            2.944439   \n",
       "1222          9.825580           9.852773            1.098612   \n",
       "\n",
       "      memory_size_log  battery_size_log  \n",
       "0            2.197225          7.601402  \n",
       "1            2.833213          7.601402  \n",
       "2            2.833213          7.601402  \n",
       "3            2.833213          7.601402  \n",
       "5            4.174387          8.131825  \n",
       "...               ...               ...  \n",
       "1218         6.240276          8.063063  \n",
       "1219         4.174387          8.063063  \n",
       "1220         4.174387          8.063063  \n",
       "1221         4.859812          8.229778  \n",
       "1222         4.859812          8.412055  \n",
       "\n",
       "[780 rows x 61 columns]"
      ]
     },
     "execution_count": 21,
     "metadata": {},
     "output_type": "execute_result"
    }
   ],
   "source": [
    "df1"
   ]
  },
  {
   "cell_type": "code",
   "execution_count": 22,
   "id": "13113f8e",
   "metadata": {
    "execution": {
     "iopub.execute_input": "2024-05-19T18:15:45.890155Z",
     "iopub.status.busy": "2024-05-19T18:15:45.889774Z",
     "iopub.status.idle": "2024-05-19T18:15:45.922828Z",
     "shell.execute_reply": "2024-05-19T18:15:45.921474Z"
    },
    "papermill": {
     "duration": 0.060072,
     "end_time": "2024-05-19T18:15:45.925431",
     "exception": false,
     "start_time": "2024-05-19T18:15:45.865359",
     "status": "completed"
    },
    "tags": []
   },
   "outputs": [
    {
     "data": {
      "text/html": [
       "<div>\n",
       "<style scoped>\n",
       "    .dataframe tbody tr th:only-of-type {\n",
       "        vertical-align: middle;\n",
       "    }\n",
       "\n",
       "    .dataframe tbody tr th {\n",
       "        vertical-align: top;\n",
       "    }\n",
       "\n",
       "    .dataframe thead th {\n",
       "        text-align: right;\n",
       "    }\n",
       "</style>\n",
       "<table border=\"1\" class=\"dataframe\">\n",
       "  <thead>\n",
       "    <tr style=\"text-align: right;\">\n",
       "      <th></th>\n",
       "      <th>popularity</th>\n",
       "      <th>sellers_amount</th>\n",
       "      <th>screen_size</th>\n",
       "      <th>memory_size</th>\n",
       "      <th>battery_size</th>\n",
       "      <th>brand_name_2E</th>\n",
       "      <th>brand_name_AGM</th>\n",
       "      <th>brand_name_ALCATEL</th>\n",
       "      <th>brand_name_ASUS</th>\n",
       "      <th>brand_name_Apple</th>\n",
       "      <th>...</th>\n",
       "      <th>os_EMUI</th>\n",
       "      <th>os_KAIOS</th>\n",
       "      <th>os_OxygenOS</th>\n",
       "      <th>os_iOS</th>\n",
       "      <th>best_price_log</th>\n",
       "      <th>lowest_price_log</th>\n",
       "      <th>highest_price_log</th>\n",
       "      <th>sellers_amount_log</th>\n",
       "      <th>memory_size_log</th>\n",
       "      <th>battery_size_log</th>\n",
       "    </tr>\n",
       "  </thead>\n",
       "  <tbody>\n",
       "    <tr>\n",
       "      <th>0</th>\n",
       "      <td>0.343699</td>\n",
       "      <td>0.276423</td>\n",
       "      <td>0.456140</td>\n",
       "      <td>0.004016</td>\n",
       "      <td>0.043478</td>\n",
       "      <td>False</td>\n",
       "      <td>False</td>\n",
       "      <td>True</td>\n",
       "      <td>False</td>\n",
       "      <td>False</td>\n",
       "      <td>...</td>\n",
       "      <td>False</td>\n",
       "      <td>False</td>\n",
       "      <td>False</td>\n",
       "      <td>False</td>\n",
       "      <td>7.433075</td>\n",
       "      <td>7.333023</td>\n",
       "      <td>7.506592</td>\n",
       "      <td>3.610918</td>\n",
       "      <td>2.197225</td>\n",
       "      <td>7.601402</td>\n",
       "    </tr>\n",
       "    <tr>\n",
       "      <th>1</th>\n",
       "      <td>0.262684</td>\n",
       "      <td>0.276423</td>\n",
       "      <td>0.456140</td>\n",
       "      <td>0.012048</td>\n",
       "      <td>0.043478</td>\n",
       "      <td>False</td>\n",
       "      <td>False</td>\n",
       "      <td>True</td>\n",
       "      <td>False</td>\n",
       "      <td>False</td>\n",
       "      <td>...</td>\n",
       "      <td>False</td>\n",
       "      <td>False</td>\n",
       "      <td>False</td>\n",
       "      <td>False</td>\n",
       "      <td>7.497762</td>\n",
       "      <td>7.414573</td>\n",
       "      <td>7.820038</td>\n",
       "      <td>3.610918</td>\n",
       "      <td>2.833213</td>\n",
       "      <td>7.601402</td>\n",
       "    </tr>\n",
       "    <tr>\n",
       "      <th>2</th>\n",
       "      <td>0.243044</td>\n",
       "      <td>0.276423</td>\n",
       "      <td>0.456140</td>\n",
       "      <td>0.012048</td>\n",
       "      <td>0.043478</td>\n",
       "      <td>False</td>\n",
       "      <td>False</td>\n",
       "      <td>True</td>\n",
       "      <td>False</td>\n",
       "      <td>False</td>\n",
       "      <td>...</td>\n",
       "      <td>False</td>\n",
       "      <td>False</td>\n",
       "      <td>False</td>\n",
       "      <td>False</td>\n",
       "      <td>7.497762</td>\n",
       "      <td>7.414573</td>\n",
       "      <td>7.820038</td>\n",
       "      <td>3.610918</td>\n",
       "      <td>2.833213</td>\n",
       "      <td>7.601402</td>\n",
       "    </tr>\n",
       "    <tr>\n",
       "      <th>3</th>\n",
       "      <td>0.233224</td>\n",
       "      <td>0.276423</td>\n",
       "      <td>0.456140</td>\n",
       "      <td>0.012048</td>\n",
       "      <td>0.043478</td>\n",
       "      <td>False</td>\n",
       "      <td>False</td>\n",
       "      <td>True</td>\n",
       "      <td>False</td>\n",
       "      <td>False</td>\n",
       "      <td>...</td>\n",
       "      <td>False</td>\n",
       "      <td>False</td>\n",
       "      <td>False</td>\n",
       "      <td>False</td>\n",
       "      <td>7.497762</td>\n",
       "      <td>7.414573</td>\n",
       "      <td>7.820038</td>\n",
       "      <td>3.610918</td>\n",
       "      <td>2.833213</td>\n",
       "      <td>7.601402</td>\n",
       "    </tr>\n",
       "    <tr>\n",
       "      <th>5</th>\n",
       "      <td>0.056465</td>\n",
       "      <td>0.000000</td>\n",
       "      <td>0.596491</td>\n",
       "      <td>0.060241</td>\n",
       "      <td>0.165217</td>\n",
       "      <td>False</td>\n",
       "      <td>False</td>\n",
       "      <td>False</td>\n",
       "      <td>False</td>\n",
       "      <td>False</td>\n",
       "      <td>...</td>\n",
       "      <td>False</td>\n",
       "      <td>False</td>\n",
       "      <td>False</td>\n",
       "      <td>False</td>\n",
       "      <td>9.293394</td>\n",
       "      <td>9.271624</td>\n",
       "      <td>9.314700</td>\n",
       "      <td>1.098612</td>\n",
       "      <td>4.174387</td>\n",
       "      <td>8.131825</td>\n",
       "    </tr>\n",
       "    <tr>\n",
       "      <th>...</th>\n",
       "      <td>...</td>\n",
       "      <td>...</td>\n",
       "      <td>...</td>\n",
       "      <td>...</td>\n",
       "      <td>...</td>\n",
       "      <td>...</td>\n",
       "      <td>...</td>\n",
       "      <td>...</td>\n",
       "      <td>...</td>\n",
       "      <td>...</td>\n",
       "      <td>...</td>\n",
       "      <td>...</td>\n",
       "      <td>...</td>\n",
       "      <td>...</td>\n",
       "      <td>...</td>\n",
       "      <td>...</td>\n",
       "      <td>...</td>\n",
       "      <td>...</td>\n",
       "      <td>...</td>\n",
       "      <td>...</td>\n",
       "      <td>...</td>\n",
       "    </tr>\n",
       "    <tr>\n",
       "      <th>1218</th>\n",
       "      <td>0.687398</td>\n",
       "      <td>0.365854</td>\n",
       "      <td>0.719298</td>\n",
       "      <td>0.510040</td>\n",
       "      <td>0.145565</td>\n",
       "      <td>False</td>\n",
       "      <td>False</td>\n",
       "      <td>False</td>\n",
       "      <td>False</td>\n",
       "      <td>True</td>\n",
       "      <td>...</td>\n",
       "      <td>False</td>\n",
       "      <td>False</td>\n",
       "      <td>False</td>\n",
       "      <td>True</td>\n",
       "      <td>10.210641</td>\n",
       "      <td>9.959442</td>\n",
       "      <td>10.315630</td>\n",
       "      <td>3.871201</td>\n",
       "      <td>6.240276</td>\n",
       "      <td>8.063063</td>\n",
       "    </tr>\n",
       "    <tr>\n",
       "      <th>1219</th>\n",
       "      <td>0.899345</td>\n",
       "      <td>0.479675</td>\n",
       "      <td>0.719298</td>\n",
       "      <td>0.060241</td>\n",
       "      <td>0.145565</td>\n",
       "      <td>False</td>\n",
       "      <td>False</td>\n",
       "      <td>False</td>\n",
       "      <td>False</td>\n",
       "      <td>True</td>\n",
       "      <td>...</td>\n",
       "      <td>False</td>\n",
       "      <td>False</td>\n",
       "      <td>False</td>\n",
       "      <td>True</td>\n",
       "      <td>10.029503</td>\n",
       "      <td>9.681531</td>\n",
       "      <td>10.236418</td>\n",
       "      <td>4.127134</td>\n",
       "      <td>4.174387</td>\n",
       "      <td>8.063063</td>\n",
       "    </tr>\n",
       "    <tr>\n",
       "      <th>1220</th>\n",
       "      <td>0.432079</td>\n",
       "      <td>0.211382</td>\n",
       "      <td>0.719298</td>\n",
       "      <td>0.060241</td>\n",
       "      <td>0.145565</td>\n",
       "      <td>False</td>\n",
       "      <td>False</td>\n",
       "      <td>False</td>\n",
       "      <td>False</td>\n",
       "      <td>True</td>\n",
       "      <td>...</td>\n",
       "      <td>False</td>\n",
       "      <td>False</td>\n",
       "      <td>False</td>\n",
       "      <td>True</td>\n",
       "      <td>10.110542</td>\n",
       "      <td>9.996067</td>\n",
       "      <td>10.425876</td>\n",
       "      <td>3.367296</td>\n",
       "      <td>4.174387</td>\n",
       "      <td>8.063063</td>\n",
       "    </tr>\n",
       "    <tr>\n",
       "      <th>1221</th>\n",
       "      <td>0.959083</td>\n",
       "      <td>0.130081</td>\n",
       "      <td>0.677193</td>\n",
       "      <td>0.124498</td>\n",
       "      <td>0.195652</td>\n",
       "      <td>False</td>\n",
       "      <td>False</td>\n",
       "      <td>False</td>\n",
       "      <td>False</td>\n",
       "      <td>False</td>\n",
       "      <td>...</td>\n",
       "      <td>False</td>\n",
       "      <td>False</td>\n",
       "      <td>False</td>\n",
       "      <td>False</td>\n",
       "      <td>9.083075</td>\n",
       "      <td>8.987197</td>\n",
       "      <td>9.210340</td>\n",
       "      <td>2.944439</td>\n",
       "      <td>4.859812</td>\n",
       "      <td>8.229778</td>\n",
       "    </tr>\n",
       "    <tr>\n",
       "      <th>1222</th>\n",
       "      <td>0.613748</td>\n",
       "      <td>0.000000</td>\n",
       "      <td>0.745614</td>\n",
       "      <td>0.124498</td>\n",
       "      <td>0.260870</td>\n",
       "      <td>False</td>\n",
       "      <td>False</td>\n",
       "      <td>False</td>\n",
       "      <td>False</td>\n",
       "      <td>False</td>\n",
       "      <td>...</td>\n",
       "      <td>False</td>\n",
       "      <td>False</td>\n",
       "      <td>False</td>\n",
       "      <td>False</td>\n",
       "      <td>9.839269</td>\n",
       "      <td>9.825580</td>\n",
       "      <td>9.852773</td>\n",
       "      <td>1.098612</td>\n",
       "      <td>4.859812</td>\n",
       "      <td>8.412055</td>\n",
       "    </tr>\n",
       "  </tbody>\n",
       "</table>\n",
       "<p>780 rows × 58 columns</p>\n",
       "</div>"
      ],
      "text/plain": [
       "      popularity  sellers_amount  screen_size  memory_size  battery_size  \\\n",
       "0       0.343699        0.276423     0.456140     0.004016      0.043478   \n",
       "1       0.262684        0.276423     0.456140     0.012048      0.043478   \n",
       "2       0.243044        0.276423     0.456140     0.012048      0.043478   \n",
       "3       0.233224        0.276423     0.456140     0.012048      0.043478   \n",
       "5       0.056465        0.000000     0.596491     0.060241      0.165217   \n",
       "...          ...             ...          ...          ...           ...   \n",
       "1218    0.687398        0.365854     0.719298     0.510040      0.145565   \n",
       "1219    0.899345        0.479675     0.719298     0.060241      0.145565   \n",
       "1220    0.432079        0.211382     0.719298     0.060241      0.145565   \n",
       "1221    0.959083        0.130081     0.677193     0.124498      0.195652   \n",
       "1222    0.613748        0.000000     0.745614     0.124498      0.260870   \n",
       "\n",
       "      brand_name_2E  brand_name_AGM  brand_name_ALCATEL  brand_name_ASUS  \\\n",
       "0             False           False                True            False   \n",
       "1             False           False                True            False   \n",
       "2             False           False                True            False   \n",
       "3             False           False                True            False   \n",
       "5             False           False               False            False   \n",
       "...             ...             ...                 ...              ...   \n",
       "1218          False           False               False            False   \n",
       "1219          False           False               False            False   \n",
       "1220          False           False               False            False   \n",
       "1221          False           False               False            False   \n",
       "1222          False           False               False            False   \n",
       "\n",
       "      brand_name_Apple  ...  os_EMUI  os_KAIOS  os_OxygenOS  os_iOS  \\\n",
       "0                False  ...    False     False        False   False   \n",
       "1                False  ...    False     False        False   False   \n",
       "2                False  ...    False     False        False   False   \n",
       "3                False  ...    False     False        False   False   \n",
       "5                False  ...    False     False        False   False   \n",
       "...                ...  ...      ...       ...          ...     ...   \n",
       "1218              True  ...    False     False        False    True   \n",
       "1219              True  ...    False     False        False    True   \n",
       "1220              True  ...    False     False        False    True   \n",
       "1221             False  ...    False     False        False   False   \n",
       "1222             False  ...    False     False        False   False   \n",
       "\n",
       "      best_price_log  lowest_price_log  highest_price_log  sellers_amount_log  \\\n",
       "0           7.433075          7.333023           7.506592            3.610918   \n",
       "1           7.497762          7.414573           7.820038            3.610918   \n",
       "2           7.497762          7.414573           7.820038            3.610918   \n",
       "3           7.497762          7.414573           7.820038            3.610918   \n",
       "5           9.293394          9.271624           9.314700            1.098612   \n",
       "...              ...               ...                ...                 ...   \n",
       "1218       10.210641          9.959442          10.315630            3.871201   \n",
       "1219       10.029503          9.681531          10.236418            4.127134   \n",
       "1220       10.110542          9.996067          10.425876            3.367296   \n",
       "1221        9.083075          8.987197           9.210340            2.944439   \n",
       "1222        9.839269          9.825580           9.852773            1.098612   \n",
       "\n",
       "      memory_size_log  battery_size_log  \n",
       "0            2.197225          7.601402  \n",
       "1            2.833213          7.601402  \n",
       "2            2.833213          7.601402  \n",
       "3            2.833213          7.601402  \n",
       "5            4.174387          8.131825  \n",
       "...               ...               ...  \n",
       "1218         6.240276          8.063063  \n",
       "1219         4.174387          8.063063  \n",
       "1220         4.174387          8.063063  \n",
       "1221         4.859812          8.229778  \n",
       "1222         4.859812          8.412055  \n",
       "\n",
       "[780 rows x 58 columns]"
      ]
     },
     "execution_count": 22,
     "metadata": {},
     "output_type": "execute_result"
    }
   ],
   "source": [
    "x = df1.drop(['best_price','highest_price','lowest_price'],axis=1)\n",
    "x"
   ]
  },
  {
   "cell_type": "markdown",
   "id": "e3788a8c",
   "metadata": {
    "papermill": {
     "duration": 0.023227,
     "end_time": "2024-05-19T18:15:45.972295",
     "exception": false,
     "start_time": "2024-05-19T18:15:45.949068",
     "status": "completed"
    },
    "tags": []
   },
   "source": [
    "<a id=\"1\"></a>\n",
    "<div style=\"font-family: Cambria; font-weight: bold; letter-spacing: 0px; color: #ffffff; font-size: 120%; text-align: left; padding: 3px; background-color: #0000ff; border-bottom: 10px solid #80ffff;\">\n",
    "    Splitting data\n",
    "</div>"
   ]
  },
  {
   "cell_type": "code",
   "execution_count": 23,
   "id": "2485edff",
   "metadata": {
    "execution": {
     "iopub.execute_input": "2024-05-19T18:15:46.022103Z",
     "iopub.status.busy": "2024-05-19T18:15:46.021721Z",
     "iopub.status.idle": "2024-05-19T18:15:46.031629Z",
     "shell.execute_reply": "2024-05-19T18:15:46.030493Z"
    },
    "papermill": {
     "duration": 0.037823,
     "end_time": "2024-05-19T18:15:46.033765",
     "exception": false,
     "start_time": "2024-05-19T18:15:45.995942",
     "status": "completed"
    },
    "tags": []
   },
   "outputs": [],
   "source": [
    "from sklearn.model_selection import train_test_split\n",
    "\n",
    "X_train, X_test, y_train, y_test = train_test_split(x, y_scaled, test_size=0.2, random_state=42)"
   ]
  },
  {
   "cell_type": "code",
   "execution_count": 24,
   "id": "9a2d4d12",
   "metadata": {
    "execution": {
     "iopub.execute_input": "2024-05-19T18:15:46.084718Z",
     "iopub.status.busy": "2024-05-19T18:15:46.084310Z",
     "iopub.status.idle": "2024-05-19T18:15:46.113095Z",
     "shell.execute_reply": "2024-05-19T18:15:46.111969Z"
    },
    "papermill": {
     "duration": 0.057323,
     "end_time": "2024-05-19T18:15:46.115616",
     "exception": false,
     "start_time": "2024-05-19T18:15:46.058293",
     "status": "completed"
    },
    "tags": []
   },
   "outputs": [
    {
     "data": {
      "text/html": [
       "<div>\n",
       "<style scoped>\n",
       "    .dataframe tbody tr th:only-of-type {\n",
       "        vertical-align: middle;\n",
       "    }\n",
       "\n",
       "    .dataframe tbody tr th {\n",
       "        vertical-align: top;\n",
       "    }\n",
       "\n",
       "    .dataframe thead th {\n",
       "        text-align: right;\n",
       "    }\n",
       "</style>\n",
       "<table border=\"1\" class=\"dataframe\">\n",
       "  <thead>\n",
       "    <tr style=\"text-align: right;\">\n",
       "      <th></th>\n",
       "      <th>popularity</th>\n",
       "      <th>sellers_amount</th>\n",
       "      <th>screen_size</th>\n",
       "      <th>memory_size</th>\n",
       "      <th>battery_size</th>\n",
       "      <th>brand_name_2E</th>\n",
       "      <th>brand_name_AGM</th>\n",
       "      <th>brand_name_ALCATEL</th>\n",
       "      <th>brand_name_ASUS</th>\n",
       "      <th>brand_name_Apple</th>\n",
       "      <th>...</th>\n",
       "      <th>os_EMUI</th>\n",
       "      <th>os_KAIOS</th>\n",
       "      <th>os_OxygenOS</th>\n",
       "      <th>os_iOS</th>\n",
       "      <th>best_price_log</th>\n",
       "      <th>lowest_price_log</th>\n",
       "      <th>highest_price_log</th>\n",
       "      <th>sellers_amount_log</th>\n",
       "      <th>memory_size_log</th>\n",
       "      <th>battery_size_log</th>\n",
       "    </tr>\n",
       "  </thead>\n",
       "  <tbody>\n",
       "    <tr>\n",
       "      <th>1127</th>\n",
       "      <td>0.577741</td>\n",
       "      <td>0.154472</td>\n",
       "      <td>0.596491</td>\n",
       "      <td>0.253012</td>\n",
       "      <td>0.146957</td>\n",
       "      <td>False</td>\n",
       "      <td>False</td>\n",
       "      <td>False</td>\n",
       "      <td>False</td>\n",
       "      <td>True</td>\n",
       "      <td>...</td>\n",
       "      <td>False</td>\n",
       "      <td>False</td>\n",
       "      <td>False</td>\n",
       "      <td>True</td>\n",
       "      <td>10.419480</td>\n",
       "      <td>10.348173</td>\n",
       "      <td>10.545447</td>\n",
       "      <td>3.091042</td>\n",
       "      <td>5.549076</td>\n",
       "      <td>8.068090</td>\n",
       "    </tr>\n",
       "    <tr>\n",
       "      <th>1011</th>\n",
       "      <td>0.736498</td>\n",
       "      <td>0.040650</td>\n",
       "      <td>0.708772</td>\n",
       "      <td>0.253012</td>\n",
       "      <td>0.234783</td>\n",
       "      <td>False</td>\n",
       "      <td>False</td>\n",
       "      <td>False</td>\n",
       "      <td>False</td>\n",
       "      <td>False</td>\n",
       "      <td>...</td>\n",
       "      <td>False</td>\n",
       "      <td>False</td>\n",
       "      <td>False</td>\n",
       "      <td>False</td>\n",
       "      <td>9.601436</td>\n",
       "      <td>9.577134</td>\n",
       "      <td>9.631679</td>\n",
       "      <td>2.079442</td>\n",
       "      <td>5.549076</td>\n",
       "      <td>8.343078</td>\n",
       "    </tr>\n",
       "    <tr>\n",
       "      <th>248</th>\n",
       "      <td>0.270049</td>\n",
       "      <td>0.097561</td>\n",
       "      <td>0.684211</td>\n",
       "      <td>0.124498</td>\n",
       "      <td>0.441739</td>\n",
       "      <td>False</td>\n",
       "      <td>False</td>\n",
       "      <td>False</td>\n",
       "      <td>False</td>\n",
       "      <td>False</td>\n",
       "      <td>...</td>\n",
       "      <td>False</td>\n",
       "      <td>False</td>\n",
       "      <td>False</td>\n",
       "      <td>False</td>\n",
       "      <td>9.216819</td>\n",
       "      <td>9.186150</td>\n",
       "      <td>9.259131</td>\n",
       "      <td>2.708050</td>\n",
       "      <td>4.859812</td>\n",
       "      <td>8.791942</td>\n",
       "    </tr>\n",
       "    <tr>\n",
       "      <th>571</th>\n",
       "      <td>0.188216</td>\n",
       "      <td>0.040650</td>\n",
       "      <td>0.719298</td>\n",
       "      <td>0.028112</td>\n",
       "      <td>0.217391</td>\n",
       "      <td>False</td>\n",
       "      <td>False</td>\n",
       "      <td>False</td>\n",
       "      <td>False</td>\n",
       "      <td>False</td>\n",
       "      <td>...</td>\n",
       "      <td>False</td>\n",
       "      <td>False</td>\n",
       "      <td>False</td>\n",
       "      <td>False</td>\n",
       "      <td>8.105609</td>\n",
       "      <td>8.039157</td>\n",
       "      <td>8.160518</td>\n",
       "      <td>2.079442</td>\n",
       "      <td>3.496508</td>\n",
       "      <td>8.294300</td>\n",
       "    </tr>\n",
       "    <tr>\n",
       "      <th>124</th>\n",
       "      <td>0.945172</td>\n",
       "      <td>0.268293</td>\n",
       "      <td>0.728070</td>\n",
       "      <td>0.124498</td>\n",
       "      <td>0.260870</td>\n",
       "      <td>False</td>\n",
       "      <td>False</td>\n",
       "      <td>False</td>\n",
       "      <td>False</td>\n",
       "      <td>False</td>\n",
       "      <td>...</td>\n",
       "      <td>False</td>\n",
       "      <td>False</td>\n",
       "      <td>False</td>\n",
       "      <td>False</td>\n",
       "      <td>9.731869</td>\n",
       "      <td>9.698920</td>\n",
       "      <td>9.798183</td>\n",
       "      <td>3.583519</td>\n",
       "      <td>4.859812</td>\n",
       "      <td>8.412055</td>\n",
       "    </tr>\n",
       "    <tr>\n",
       "      <th>...</th>\n",
       "      <td>...</td>\n",
       "      <td>...</td>\n",
       "      <td>...</td>\n",
       "      <td>...</td>\n",
       "      <td>...</td>\n",
       "      <td>...</td>\n",
       "      <td>...</td>\n",
       "      <td>...</td>\n",
       "      <td>...</td>\n",
       "      <td>...</td>\n",
       "      <td>...</td>\n",
       "      <td>...</td>\n",
       "      <td>...</td>\n",
       "      <td>...</td>\n",
       "      <td>...</td>\n",
       "      <td>...</td>\n",
       "      <td>...</td>\n",
       "      <td>...</td>\n",
       "      <td>...</td>\n",
       "      <td>...</td>\n",
       "      <td>...</td>\n",
       "    </tr>\n",
       "    <tr>\n",
       "      <th>162</th>\n",
       "      <td>0.893617</td>\n",
       "      <td>0.512195</td>\n",
       "      <td>0.719298</td>\n",
       "      <td>0.060241</td>\n",
       "      <td>0.304348</td>\n",
       "      <td>False</td>\n",
       "      <td>False</td>\n",
       "      <td>False</td>\n",
       "      <td>False</td>\n",
       "      <td>False</td>\n",
       "      <td>...</td>\n",
       "      <td>False</td>\n",
       "      <td>False</td>\n",
       "      <td>False</td>\n",
       "      <td>False</td>\n",
       "      <td>8.603187</td>\n",
       "      <td>8.488382</td>\n",
       "      <td>8.704834</td>\n",
       "      <td>4.189655</td>\n",
       "      <td>4.174387</td>\n",
       "      <td>8.517393</td>\n",
       "    </tr>\n",
       "    <tr>\n",
       "      <th>220</th>\n",
       "      <td>0.709493</td>\n",
       "      <td>0.089431</td>\n",
       "      <td>0.578947</td>\n",
       "      <td>0.060241</td>\n",
       "      <td>0.354783</td>\n",
       "      <td>False</td>\n",
       "      <td>False</td>\n",
       "      <td>False</td>\n",
       "      <td>False</td>\n",
       "      <td>False</td>\n",
       "      <td>...</td>\n",
       "      <td>False</td>\n",
       "      <td>False</td>\n",
       "      <td>False</td>\n",
       "      <td>False</td>\n",
       "      <td>8.153350</td>\n",
       "      <td>8.111928</td>\n",
       "      <td>8.221479</td>\n",
       "      <td>2.639057</td>\n",
       "      <td>4.174387</td>\n",
       "      <td>8.627123</td>\n",
       "    </tr>\n",
       "    <tr>\n",
       "      <th>461</th>\n",
       "      <td>0.132570</td>\n",
       "      <td>0.008130</td>\n",
       "      <td>0.701754</td>\n",
       "      <td>0.510040</td>\n",
       "      <td>0.217391</td>\n",
       "      <td>False</td>\n",
       "      <td>False</td>\n",
       "      <td>False</td>\n",
       "      <td>False</td>\n",
       "      <td>False</td>\n",
       "      <td>...</td>\n",
       "      <td>False</td>\n",
       "      <td>False</td>\n",
       "      <td>False</td>\n",
       "      <td>False</td>\n",
       "      <td>9.949846</td>\n",
       "      <td>9.926716</td>\n",
       "      <td>9.992963</td>\n",
       "      <td>1.386294</td>\n",
       "      <td>6.240276</td>\n",
       "      <td>8.294300</td>\n",
       "    </tr>\n",
       "    <tr>\n",
       "      <th>717</th>\n",
       "      <td>0.648118</td>\n",
       "      <td>0.186992</td>\n",
       "      <td>0.543860</td>\n",
       "      <td>0.012048</td>\n",
       "      <td>0.078261</td>\n",
       "      <td>False</td>\n",
       "      <td>False</td>\n",
       "      <td>False</td>\n",
       "      <td>False</td>\n",
       "      <td>False</td>\n",
       "      <td>...</td>\n",
       "      <td>False</td>\n",
       "      <td>False</td>\n",
       "      <td>False</td>\n",
       "      <td>False</td>\n",
       "      <td>7.397562</td>\n",
       "      <td>7.299797</td>\n",
       "      <td>7.438384</td>\n",
       "      <td>3.258097</td>\n",
       "      <td>2.833213</td>\n",
       "      <td>7.783641</td>\n",
       "    </tr>\n",
       "    <tr>\n",
       "      <th>205</th>\n",
       "      <td>0.815057</td>\n",
       "      <td>0.268293</td>\n",
       "      <td>0.456140</td>\n",
       "      <td>0.028112</td>\n",
       "      <td>0.217391</td>\n",
       "      <td>False</td>\n",
       "      <td>False</td>\n",
       "      <td>False</td>\n",
       "      <td>False</td>\n",
       "      <td>False</td>\n",
       "      <td>...</td>\n",
       "      <td>False</td>\n",
       "      <td>False</td>\n",
       "      <td>False</td>\n",
       "      <td>False</td>\n",
       "      <td>8.174985</td>\n",
       "      <td>7.926964</td>\n",
       "      <td>8.294050</td>\n",
       "      <td>3.583519</td>\n",
       "      <td>3.496508</td>\n",
       "      <td>8.294300</td>\n",
       "    </tr>\n",
       "  </tbody>\n",
       "</table>\n",
       "<p>624 rows × 58 columns</p>\n",
       "</div>"
      ],
      "text/plain": [
       "      popularity  sellers_amount  screen_size  memory_size  battery_size  \\\n",
       "1127    0.577741        0.154472     0.596491     0.253012      0.146957   \n",
       "1011    0.736498        0.040650     0.708772     0.253012      0.234783   \n",
       "248     0.270049        0.097561     0.684211     0.124498      0.441739   \n",
       "571     0.188216        0.040650     0.719298     0.028112      0.217391   \n",
       "124     0.945172        0.268293     0.728070     0.124498      0.260870   \n",
       "...          ...             ...          ...          ...           ...   \n",
       "162     0.893617        0.512195     0.719298     0.060241      0.304348   \n",
       "220     0.709493        0.089431     0.578947     0.060241      0.354783   \n",
       "461     0.132570        0.008130     0.701754     0.510040      0.217391   \n",
       "717     0.648118        0.186992     0.543860     0.012048      0.078261   \n",
       "205     0.815057        0.268293     0.456140     0.028112      0.217391   \n",
       "\n",
       "      brand_name_2E  brand_name_AGM  brand_name_ALCATEL  brand_name_ASUS  \\\n",
       "1127          False           False               False            False   \n",
       "1011          False           False               False            False   \n",
       "248           False           False               False            False   \n",
       "571           False           False               False            False   \n",
       "124           False           False               False            False   \n",
       "...             ...             ...                 ...              ...   \n",
       "162           False           False               False            False   \n",
       "220           False           False               False            False   \n",
       "461           False           False               False            False   \n",
       "717           False           False               False            False   \n",
       "205           False           False               False            False   \n",
       "\n",
       "      brand_name_Apple  ...  os_EMUI  os_KAIOS  os_OxygenOS  os_iOS  \\\n",
       "1127              True  ...    False     False        False    True   \n",
       "1011             False  ...    False     False        False   False   \n",
       "248              False  ...    False     False        False   False   \n",
       "571              False  ...    False     False        False   False   \n",
       "124              False  ...    False     False        False   False   \n",
       "...                ...  ...      ...       ...          ...     ...   \n",
       "162              False  ...    False     False        False   False   \n",
       "220              False  ...    False     False        False   False   \n",
       "461              False  ...    False     False        False   False   \n",
       "717              False  ...    False     False        False   False   \n",
       "205              False  ...    False     False        False   False   \n",
       "\n",
       "      best_price_log  lowest_price_log  highest_price_log  sellers_amount_log  \\\n",
       "1127       10.419480         10.348173          10.545447            3.091042   \n",
       "1011        9.601436          9.577134           9.631679            2.079442   \n",
       "248         9.216819          9.186150           9.259131            2.708050   \n",
       "571         8.105609          8.039157           8.160518            2.079442   \n",
       "124         9.731869          9.698920           9.798183            3.583519   \n",
       "...              ...               ...                ...                 ...   \n",
       "162         8.603187          8.488382           8.704834            4.189655   \n",
       "220         8.153350          8.111928           8.221479            2.639057   \n",
       "461         9.949846          9.926716           9.992963            1.386294   \n",
       "717         7.397562          7.299797           7.438384            3.258097   \n",
       "205         8.174985          7.926964           8.294050            3.583519   \n",
       "\n",
       "      memory_size_log  battery_size_log  \n",
       "1127         5.549076          8.068090  \n",
       "1011         5.549076          8.343078  \n",
       "248          4.859812          8.791942  \n",
       "571          3.496508          8.294300  \n",
       "124          4.859812          8.412055  \n",
       "...               ...               ...  \n",
       "162          4.174387          8.517393  \n",
       "220          4.174387          8.627123  \n",
       "461          6.240276          8.294300  \n",
       "717          2.833213          7.783641  \n",
       "205          3.496508          8.294300  \n",
       "\n",
       "[624 rows x 58 columns]"
      ]
     },
     "execution_count": 24,
     "metadata": {},
     "output_type": "execute_result"
    }
   ],
   "source": [
    "X_train"
   ]
  },
  {
   "cell_type": "code",
   "execution_count": 25,
   "id": "c311b5cf",
   "metadata": {
    "execution": {
     "iopub.execute_input": "2024-05-19T18:15:46.165546Z",
     "iopub.status.busy": "2024-05-19T18:15:46.165144Z",
     "iopub.status.idle": "2024-05-19T18:15:46.173792Z",
     "shell.execute_reply": "2024-05-19T18:15:46.172682Z"
    },
    "papermill": {
     "duration": 0.036283,
     "end_time": "2024-05-19T18:15:46.175963",
     "exception": false,
     "start_time": "2024-05-19T18:15:46.139680",
     "status": "completed"
    },
    "tags": []
   },
   "outputs": [
    {
     "data": {
      "text/plain": [
       "1127    0.597934\n",
       "1011    0.253195\n",
       "248     0.166255\n",
       "571     0.041914\n",
       "124     0.291131\n",
       "          ...   \n",
       "162     0.081249\n",
       "220     0.044897\n",
       "461     0.366690\n",
       "717     0.010957\n",
       "205     0.046297\n",
       "Name: best_price, Length: 624, dtype: float64"
      ]
     },
     "execution_count": 25,
     "metadata": {},
     "output_type": "execute_result"
    }
   ],
   "source": [
    "y_train"
   ]
  },
  {
   "cell_type": "markdown",
   "id": "95ed7e24",
   "metadata": {
    "papermill": {
     "duration": 0.023724,
     "end_time": "2024-05-19T18:15:46.224572",
     "exception": false,
     "start_time": "2024-05-19T18:15:46.200848",
     "status": "completed"
    },
    "tags": []
   },
   "source": [
    "<a id=\"1\"></a>\n",
    "<div style=\"font-family: Cambria; font-weight: bold; letter-spacing: 0px; color: #ffffff; font-size: 120%; text-align: left; padding: 3px; background-color: #0000ff; border-bottom: 10px solid #80ffff;\">\n",
    "    Training and evalution of model\n",
    "</div>"
   ]
  },
  {
   "cell_type": "markdown",
   "id": "d2df2e5b",
   "metadata": {
    "papermill": {
     "duration": 0.024641,
     "end_time": "2024-05-19T18:15:46.273331",
     "exception": false,
     "start_time": "2024-05-19T18:15:46.248690",
     "status": "completed"
    },
    "tags": []
   },
   "source": [
    "<div style=\"background-color: #ff0000; padding: 20px; border-radius: 10px;\">\n",
    "    <h1 style=\"text-align: left; font-size: 25px;\"> LinearRegression </h1>\n",
    "</div>\n"
   ]
  },
  {
   "cell_type": "code",
   "execution_count": 26,
   "id": "b0c1cf21",
   "metadata": {
    "execution": {
     "iopub.execute_input": "2024-05-19T18:15:46.324096Z",
     "iopub.status.busy": "2024-05-19T18:15:46.323119Z",
     "iopub.status.idle": "2024-05-19T18:15:46.361876Z",
     "shell.execute_reply": "2024-05-19T18:15:46.360693Z"
    },
    "papermill": {
     "duration": 0.066969,
     "end_time": "2024-05-19T18:15:46.364806",
     "exception": false,
     "start_time": "2024-05-19T18:15:46.297837",
     "status": "completed"
    },
    "tags": []
   },
   "outputs": [
    {
     "data": {
      "text/html": [
       "<style>#sk-container-id-1 {color: black;background-color: white;}#sk-container-id-1 pre{padding: 0;}#sk-container-id-1 div.sk-toggleable {background-color: white;}#sk-container-id-1 label.sk-toggleable__label {cursor: pointer;display: block;width: 100%;margin-bottom: 0;padding: 0.3em;box-sizing: border-box;text-align: center;}#sk-container-id-1 label.sk-toggleable__label-arrow:before {content: \"▸\";float: left;margin-right: 0.25em;color: #696969;}#sk-container-id-1 label.sk-toggleable__label-arrow:hover:before {color: black;}#sk-container-id-1 div.sk-estimator:hover label.sk-toggleable__label-arrow:before {color: black;}#sk-container-id-1 div.sk-toggleable__content {max-height: 0;max-width: 0;overflow: hidden;text-align: left;background-color: #f0f8ff;}#sk-container-id-1 div.sk-toggleable__content pre {margin: 0.2em;color: black;border-radius: 0.25em;background-color: #f0f8ff;}#sk-container-id-1 input.sk-toggleable__control:checked~div.sk-toggleable__content {max-height: 200px;max-width: 100%;overflow: auto;}#sk-container-id-1 input.sk-toggleable__control:checked~label.sk-toggleable__label-arrow:before {content: \"▾\";}#sk-container-id-1 div.sk-estimator input.sk-toggleable__control:checked~label.sk-toggleable__label {background-color: #d4ebff;}#sk-container-id-1 div.sk-label input.sk-toggleable__control:checked~label.sk-toggleable__label {background-color: #d4ebff;}#sk-container-id-1 input.sk-hidden--visually {border: 0;clip: rect(1px 1px 1px 1px);clip: rect(1px, 1px, 1px, 1px);height: 1px;margin: -1px;overflow: hidden;padding: 0;position: absolute;width: 1px;}#sk-container-id-1 div.sk-estimator {font-family: monospace;background-color: #f0f8ff;border: 1px dotted black;border-radius: 0.25em;box-sizing: border-box;margin-bottom: 0.5em;}#sk-container-id-1 div.sk-estimator:hover {background-color: #d4ebff;}#sk-container-id-1 div.sk-parallel-item::after {content: \"\";width: 100%;border-bottom: 1px solid gray;flex-grow: 1;}#sk-container-id-1 div.sk-label:hover label.sk-toggleable__label {background-color: #d4ebff;}#sk-container-id-1 div.sk-serial::before {content: \"\";position: absolute;border-left: 1px solid gray;box-sizing: border-box;top: 0;bottom: 0;left: 50%;z-index: 0;}#sk-container-id-1 div.sk-serial {display: flex;flex-direction: column;align-items: center;background-color: white;padding-right: 0.2em;padding-left: 0.2em;position: relative;}#sk-container-id-1 div.sk-item {position: relative;z-index: 1;}#sk-container-id-1 div.sk-parallel {display: flex;align-items: stretch;justify-content: center;background-color: white;position: relative;}#sk-container-id-1 div.sk-item::before, #sk-container-id-1 div.sk-parallel-item::before {content: \"\";position: absolute;border-left: 1px solid gray;box-sizing: border-box;top: 0;bottom: 0;left: 50%;z-index: -1;}#sk-container-id-1 div.sk-parallel-item {display: flex;flex-direction: column;z-index: 1;position: relative;background-color: white;}#sk-container-id-1 div.sk-parallel-item:first-child::after {align-self: flex-end;width: 50%;}#sk-container-id-1 div.sk-parallel-item:last-child::after {align-self: flex-start;width: 50%;}#sk-container-id-1 div.sk-parallel-item:only-child::after {width: 0;}#sk-container-id-1 div.sk-dashed-wrapped {border: 1px dashed gray;margin: 0 0.4em 0.5em 0.4em;box-sizing: border-box;padding-bottom: 0.4em;background-color: white;}#sk-container-id-1 div.sk-label label {font-family: monospace;font-weight: bold;display: inline-block;line-height: 1.2em;}#sk-container-id-1 div.sk-label-container {text-align: center;}#sk-container-id-1 div.sk-container {/* jupyter's `normalize.less` sets `[hidden] { display: none; }` but bootstrap.min.css set `[hidden] { display: none !important; }` so we also need the `!important` here to be able to override the default hidden behavior on the sphinx rendered scikit-learn.org. See: https://github.com/scikit-learn/scikit-learn/issues/21755 */display: inline-block !important;position: relative;}#sk-container-id-1 div.sk-text-repr-fallback {display: none;}</style><div id=\"sk-container-id-1\" class=\"sk-top-container\"><div class=\"sk-text-repr-fallback\"><pre>LinearRegression()</pre><b>In a Jupyter environment, please rerun this cell to show the HTML representation or trust the notebook. <br />On GitHub, the HTML representation is unable to render, please try loading this page with nbviewer.org.</b></div><div class=\"sk-container\" hidden><div class=\"sk-item\"><div class=\"sk-estimator sk-toggleable\"><input class=\"sk-toggleable__control sk-hidden--visually\" id=\"sk-estimator-id-1\" type=\"checkbox\" checked><label for=\"sk-estimator-id-1\" class=\"sk-toggleable__label sk-toggleable__label-arrow\">LinearRegression</label><div class=\"sk-toggleable__content\"><pre>LinearRegression()</pre></div></div></div></div></div>"
      ],
      "text/plain": [
       "LinearRegression()"
      ]
     },
     "execution_count": 26,
     "metadata": {},
     "output_type": "execute_result"
    }
   ],
   "source": [
    "from sklearn.linear_model import LinearRegression\n",
    "\n",
    "linear_reg = LinearRegression()\n",
    "linear_reg.fit(X_train, y_train)\n",
    "\n"
   ]
  },
  {
   "cell_type": "code",
   "execution_count": 27,
   "id": "53b6c371",
   "metadata": {
    "execution": {
     "iopub.execute_input": "2024-05-19T18:15:46.452723Z",
     "iopub.status.busy": "2024-05-19T18:15:46.452146Z",
     "iopub.status.idle": "2024-05-19T18:15:46.476870Z",
     "shell.execute_reply": "2024-05-19T18:15:46.475179Z"
    },
    "papermill": {
     "duration": 0.073237,
     "end_time": "2024-05-19T18:15:46.480626",
     "exception": false,
     "start_time": "2024-05-19T18:15:46.407389",
     "status": "completed"
    },
    "tags": []
   },
   "outputs": [],
   "source": [
    "y_pred_train = linear_reg.predict(X_train)\n",
    "y_pred_test = linear_reg.predict(X_test)\n",
    "\n"
   ]
  },
  {
   "cell_type": "code",
   "execution_count": 28,
   "id": "6a77dc87",
   "metadata": {
    "execution": {
     "iopub.execute_input": "2024-05-19T18:15:46.574719Z",
     "iopub.status.busy": "2024-05-19T18:15:46.573047Z",
     "iopub.status.idle": "2024-05-19T18:15:46.584898Z",
     "shell.execute_reply": "2024-05-19T18:15:46.584054Z"
    },
    "papermill": {
     "duration": 0.060082,
     "end_time": "2024-05-19T18:15:46.586955",
     "exception": false,
     "start_time": "2024-05-19T18:15:46.526873",
     "status": "completed"
    },
    "tags": []
   },
   "outputs": [
    {
     "name": "stdout",
     "output_type": "stream",
     "text": [
      "Training MSE: 0.0037429416039881968\n",
      "Testing MSE: 9.825571463526461e+22\n",
      "Training R2 Score: 0.8849896977223636\n",
      "Testing R2 Score: -3.771669170404454e+24\n"
     ]
    }
   ],
   "source": [
    "# Evaluate the model\n",
    "train_mse = mean_squared_error(y_train, y_pred_train)\n",
    "test_mse = mean_squared_error(y_test, y_pred_test)\n",
    "train_r2 = r2_score(y_train, y_pred_train)\n",
    "test_r2 = r2_score(y_test, y_pred_test)\n",
    "\n",
    "print(f\"Training MSE: {train_mse}\")\n",
    "print(f\"Testing MSE: {test_mse}\")\n",
    "print(f\"Training R2 Score: {train_r2}\")\n",
    "print(f\"Testing R2 Score: {test_r2}\")"
   ]
  },
  {
   "cell_type": "markdown",
   "id": "9acb2500",
   "metadata": {
    "papermill": {
     "duration": 0.024663,
     "end_time": "2024-05-19T18:15:46.636709",
     "exception": false,
     "start_time": "2024-05-19T18:15:46.612046",
     "status": "completed"
    },
    "tags": []
   },
   "source": [
    "<div style=\"background-color: #ff0000; padding: 20px; border-radius: 10px;\">\n",
    "    <h1 style=\"text-align: left; font-size: 25px;\"> KNN </h1>\n",
    "</div>"
   ]
  },
  {
   "cell_type": "code",
   "execution_count": 29,
   "id": "47a4c297",
   "metadata": {
    "execution": {
     "iopub.execute_input": "2024-05-19T18:15:46.689939Z",
     "iopub.status.busy": "2024-05-19T18:15:46.689086Z",
     "iopub.status.idle": "2024-05-19T18:15:47.101401Z",
     "shell.execute_reply": "2024-05-19T18:15:47.100308Z"
    },
    "papermill": {
     "duration": 0.441439,
     "end_time": "2024-05-19T18:15:47.103831",
     "exception": false,
     "start_time": "2024-05-19T18:15:46.662392",
     "status": "completed"
    },
    "tags": []
   },
   "outputs": [
    {
     "data": {
      "image/png": "[encoded data removed]",
      "text/plain": [
       "<Figure size 1000x600 with 1 Axes>"
      ]
     },
     "metadata": {},
     "output_type": "display_data"
    }
   ],
   "source": [
    "mse_values = []\n",
    "r2_values = []\n",
    "max_neighbors = 10  \n",
    "for k in range(1, max_neighbors + 1):\n",
    "    knn = KNeighborsRegressor(n_neighbors=k)\n",
    "    knn.fit(X_train, y_train)\n",
    "    y_pred = knn.predict(X_test)\n",
    "    mse = mean_squared_error(y_test, y_pred)\n",
    "    r2 = r2_score(y_test, y_pred)\n",
    "    mse_values.append(mse)\n",
    "    r2_values.append(r2)\n",
    "\n",
    "# Plotting the elbow curve\n",
    "plt.figure(figsize=(10, 6))\n",
    "plt.plot(range(1, max_neighbors + 1), mse_values, marker='o')\n",
    "plt.xlabel('Number of Neighbors (k)')\n",
    "plt.ylabel('Mean Squared Error (MSE)')\n",
    "plt.title('Elbow Method for Optimal k')\n",
    "plt.grid(True)\n",
    "plt.show()\n",
    "\n"
   ]
  },
  {
   "cell_type": "code",
   "execution_count": 30,
   "id": "7f3c9b4d",
   "metadata": {
    "execution": {
     "iopub.execute_input": "2024-05-19T18:15:47.160534Z",
     "iopub.status.busy": "2024-05-19T18:15:47.160000Z",
     "iopub.status.idle": "2024-05-19T18:15:47.165473Z",
     "shell.execute_reply": "2024-05-19T18:15:47.164492Z"
    },
    "papermill": {
     "duration": 0.036752,
     "end_time": "2024-05-19T18:15:47.167728",
     "exception": false,
     "start_time": "2024-05-19T18:15:47.130976",
     "status": "completed"
    },
    "tags": []
   },
   "outputs": [
    {
     "name": "stdout",
     "output_type": "stream",
     "text": [
      "Optimal number of neighbors (k): 10\n"
     ]
    }
   ],
   "source": [
    "# Choose the optimal k based on the elbow curve (lowest MSE)\n",
    "optimal_k = mse_values.index(min(mse_values)) + 1\n",
    "print(f\"Optimal number of neighbors (k): {optimal_k}\")\n",
    "\n"
   ]
  },
  {
   "cell_type": "code",
   "execution_count": 31,
   "id": "8239b728",
   "metadata": {
    "execution": {
     "iopub.execute_input": "2024-05-19T18:15:47.224259Z",
     "iopub.status.busy": "2024-05-19T18:15:47.223840Z",
     "iopub.status.idle": "2024-05-19T18:15:47.235159Z",
     "shell.execute_reply": "2024-05-19T18:15:47.233998Z"
    },
    "papermill": {
     "duration": 0.042597,
     "end_time": "2024-05-19T18:15:47.237569",
     "exception": false,
     "start_time": "2024-05-19T18:15:47.194972",
     "status": "completed"
    },
    "tags": []
   },
   "outputs": [
    {
     "data": {
      "text/html": [
       "<style>#sk-container-id-2 {color: black;background-color: white;}#sk-container-id-2 pre{padding: 0;}#sk-container-id-2 div.sk-toggleable {background-color: white;}#sk-container-id-2 label.sk-toggleable__label {cursor: pointer;display: block;width: 100%;margin-bottom: 0;padding: 0.3em;box-sizing: border-box;text-align: center;}#sk-container-id-2 label.sk-toggleable__label-arrow:before {content: \"▸\";float: left;margin-right: 0.25em;color: #696969;}#sk-container-id-2 label.sk-toggleable__label-arrow:hover:before {color: black;}#sk-container-id-2 div.sk-estimator:hover label.sk-toggleable__label-arrow:before {color: black;}#sk-container-id-2 div.sk-toggleable__content {max-height: 0;max-width: 0;overflow: hidden;text-align: left;background-color: #f0f8ff;}#sk-container-id-2 div.sk-toggleable__content pre {margin: 0.2em;color: black;border-radius: 0.25em;background-color: #f0f8ff;}#sk-container-id-2 input.sk-toggleable__control:checked~div.sk-toggleable__content {max-height: 200px;max-width: 100%;overflow: auto;}#sk-container-id-2 input.sk-toggleable__control:checked~label.sk-toggleable__label-arrow:before {content: \"▾\";}#sk-container-id-2 div.sk-estimator input.sk-toggleable__control:checked~label.sk-toggleable__label {background-color: #d4ebff;}#sk-container-id-2 div.sk-label input.sk-toggleable__control:checked~label.sk-toggleable__label {background-color: #d4ebff;}#sk-container-id-2 input.sk-hidden--visually {border: 0;clip: rect(1px 1px 1px 1px);clip: rect(1px, 1px, 1px, 1px);height: 1px;margin: -1px;overflow: hidden;padding: 0;position: absolute;width: 1px;}#sk-container-id-2 div.sk-estimator {font-family: monospace;background-color: #f0f8ff;border: 1px dotted black;border-radius: 0.25em;box-sizing: border-box;margin-bottom: 0.5em;}#sk-container-id-2 div.sk-estimator:hover {background-color: #d4ebff;}#sk-container-id-2 div.sk-parallel-item::after {content: \"\";width: 100%;border-bottom: 1px solid gray;flex-grow: 1;}#sk-container-id-2 div.sk-label:hover label.sk-toggleable__label {background-color: #d4ebff;}#sk-container-id-2 div.sk-serial::before {content: \"\";position: absolute;border-left: 1px solid gray;box-sizing: border-box;top: 0;bottom: 0;left: 50%;z-index: 0;}#sk-container-id-2 div.sk-serial {display: flex;flex-direction: column;align-items: center;background-color: white;padding-right: 0.2em;padding-left: 0.2em;position: relative;}#sk-container-id-2 div.sk-item {position: relative;z-index: 1;}#sk-container-id-2 div.sk-parallel {display: flex;align-items: stretch;justify-content: center;background-color: white;position: relative;}#sk-container-id-2 div.sk-item::before, #sk-container-id-2 div.sk-parallel-item::before {content: \"\";position: absolute;border-left: 1px solid gray;box-sizing: border-box;top: 0;bottom: 0;left: 50%;z-index: -1;}#sk-container-id-2 div.sk-parallel-item {display: flex;flex-direction: column;z-index: 1;position: relative;background-color: white;}#sk-container-id-2 div.sk-parallel-item:first-child::after {align-self: flex-end;width: 50%;}#sk-container-id-2 div.sk-parallel-item:last-child::after {align-self: flex-start;width: 50%;}#sk-container-id-2 div.sk-parallel-item:only-child::after {width: 0;}#sk-container-id-2 div.sk-dashed-wrapped {border: 1px dashed gray;margin: 0 0.4em 0.5em 0.4em;box-sizing: border-box;padding-bottom: 0.4em;background-color: white;}#sk-container-id-2 div.sk-label label {font-family: monospace;font-weight: bold;display: inline-block;line-height: 1.2em;}#sk-container-id-2 div.sk-label-container {text-align: center;}#sk-container-id-2 div.sk-container {/* jupyter's `normalize.less` sets `[hidden] { display: none; }` but bootstrap.min.css set `[hidden] { display: none !important; }` so we also need the `!important` here to be able to override the default hidden behavior on the sphinx rendered scikit-learn.org. See: https://github.com/scikit-learn/scikit-learn/issues/21755 */display: inline-block !important;position: relative;}#sk-container-id-2 div.sk-text-repr-fallback {display: none;}</style><div id=\"sk-container-id-2\" class=\"sk-top-container\"><div class=\"sk-text-repr-fallback\"><pre>KNeighborsRegressor(n_neighbors=10)</pre><b>In a Jupyter environment, please rerun this cell to show the HTML representation or trust the notebook. <br />On GitHub, the HTML representation is unable to render, please try loading this page with nbviewer.org.</b></div><div class=\"sk-container\" hidden><div class=\"sk-item\"><div class=\"sk-estimator sk-toggleable\"><input class=\"sk-toggleable__control sk-hidden--visually\" id=\"sk-estimator-id-2\" type=\"checkbox\" checked><label for=\"sk-estimator-id-2\" class=\"sk-toggleable__label sk-toggleable__label-arrow\">KNeighborsRegressor</label><div class=\"sk-toggleable__content\"><pre>KNeighborsRegressor(n_neighbors=10)</pre></div></div></div></div></div>"
      ],
      "text/plain": [
       "KNeighborsRegressor(n_neighbors=10)"
      ]
     },
     "execution_count": 31,
     "metadata": {},
     "output_type": "execute_result"
    }
   ],
   "source": [
    "# Train the KNN model with the optimal k\n",
    "knn = KNeighborsRegressor(n_neighbors=optimal_k)\n",
    "knn.fit(X_train, y_train)\n",
    "\n"
   ]
  },
  {
   "cell_type": "code",
   "execution_count": 32,
   "id": "04b65d44",
   "metadata": {
    "execution": {
     "iopub.execute_input": "2024-05-19T18:15:47.293669Z",
     "iopub.status.busy": "2024-05-19T18:15:47.293176Z",
     "iopub.status.idle": "2024-05-19T18:15:47.310734Z",
     "shell.execute_reply": "2024-05-19T18:15:47.309727Z"
    },
    "papermill": {
     "duration": 0.049154,
     "end_time": "2024-05-19T18:15:47.313277",
     "exception": false,
     "start_time": "2024-05-19T18:15:47.264123",
     "status": "completed"
    },
    "tags": []
   },
   "outputs": [],
   "source": [
    "# Evaluate the model\n",
    "y_pred_train = knn.predict(X_train)\n",
    "y_pred_test = knn.predict(X_test)\n",
    "\n"
   ]
  },
  {
   "cell_type": "code",
   "execution_count": 33,
   "id": "98d23a35",
   "metadata": {
    "execution": {
     "iopub.execute_input": "2024-05-19T18:15:47.366862Z",
     "iopub.status.busy": "2024-05-19T18:15:47.366212Z",
     "iopub.status.idle": "2024-05-19T18:15:47.375705Z",
     "shell.execute_reply": "2024-05-19T18:15:47.374109Z"
    },
    "papermill": {
     "duration": 0.038946,
     "end_time": "2024-05-19T18:15:47.377922",
     "exception": false,
     "start_time": "2024-05-19T18:15:47.338976",
     "status": "completed"
    },
    "tags": []
   },
   "outputs": [
    {
     "name": "stdout",
     "output_type": "stream",
     "text": [
      "Training MSE: 0.001323503481298416\n",
      "Testing MSE: 0.0008735053460623848\n",
      "Training R2 Score: 0.9593323776979463\n",
      "Testing R2 Score: 0.9664693987911362\n"
     ]
    }
   ],
   "source": [
    "train_mse = mean_squared_error(y_train, y_pred_train)\n",
    "test_mse = mean_squared_error(y_test, y_pred_test)\n",
    "train_r2 = r2_score(y_train, y_pred_train)\n",
    "test_r2 = r2_score(y_test, y_pred_test)\n",
    "\n",
    "print(f\"Training MSE: {train_mse}\")\n",
    "print(f\"Testing MSE: {test_mse}\")\n",
    "print(f\"Training R2 Score: {train_r2}\")\n",
    "print(f\"Testing R2 Score: {test_r2}\")"
   ]
  },
  {
   "cell_type": "markdown",
   "id": "bd03f86c",
   "metadata": {
    "papermill": {
     "duration": 0.02554,
     "end_time": "2024-05-19T18:15:47.429687",
     "exception": false,
     "start_time": "2024-05-19T18:15:47.404147",
     "status": "completed"
    },
    "tags": []
   },
   "source": [
    "<div style=\"background-color: #ff0000; padding: 20px; border-radius: 10px;\">\n",
    "    <h1 style=\"text-align: left; font-size: 25px;\"> DecisionTreeRegressor </h1>\n",
    "</div>"
   ]
  },
  {
   "cell_type": "code",
   "execution_count": 34,
   "id": "d2253932",
   "metadata": {
    "execution": {
     "iopub.execute_input": "2024-05-19T18:15:47.484712Z",
     "iopub.status.busy": "2024-05-19T18:15:47.483662Z",
     "iopub.status.idle": "2024-05-19T18:15:50.259090Z",
     "shell.execute_reply": "2024-05-19T18:15:50.257718Z"
    },
    "papermill": {
     "duration": 2.805948,
     "end_time": "2024-05-19T18:15:50.261662",
     "exception": false,
     "start_time": "2024-05-19T18:15:47.455714",
     "status": "completed"
    },
    "tags": []
   },
   "outputs": [
    {
     "name": "stdout",
     "output_type": "stream",
     "text": [
      "Fitting 5 folds for each of 36 candidates, totalling 180 fits\n"
     ]
    },
    {
     "data": {
      "text/html": [
       "<style>#sk-container-id-3 {color: black;background-color: white;}#sk-container-id-3 pre{padding: 0;}#sk-container-id-3 div.sk-toggleable {background-color: white;}#sk-container-id-3 label.sk-toggleable__label {cursor: pointer;display: block;width: 100%;margin-bottom: 0;padding: 0.3em;box-sizing: border-box;text-align: center;}#sk-container-id-3 label.sk-toggleable__label-arrow:before {content: \"▸\";float: left;margin-right: 0.25em;color: #696969;}#sk-container-id-3 label.sk-toggleable__label-arrow:hover:before {color: black;}#sk-container-id-3 div.sk-estimator:hover label.sk-toggleable__label-arrow:before {color: black;}#sk-container-id-3 div.sk-toggleable__content {max-height: 0;max-width: 0;overflow: hidden;text-align: left;background-color: #f0f8ff;}#sk-container-id-3 div.sk-toggleable__content pre {margin: 0.2em;color: black;border-radius: 0.25em;background-color: #f0f8ff;}#sk-container-id-3 input.sk-toggleable__control:checked~div.sk-toggleable__content {max-height: 200px;max-width: 100%;overflow: auto;}#sk-container-id-3 input.sk-toggleable__control:checked~label.sk-toggleable__label-arrow:before {content: \"▾\";}#sk-container-id-3 div.sk-estimator input.sk-toggleable__control:checked~label.sk-toggleable__label {background-color: #d4ebff;}#sk-container-id-3 div.sk-label input.sk-toggleable__control:checked~label.sk-toggleable__label {background-color: #d4ebff;}#sk-container-id-3 input.sk-hidden--visually {border: 0;clip: rect(1px 1px 1px 1px);clip: rect(1px, 1px, 1px, 1px);height: 1px;margin: -1px;overflow: hidden;padding: 0;position: absolute;width: 1px;}#sk-container-id-3 div.sk-estimator {font-family: monospace;background-color: #f0f8ff;border: 1px dotted black;border-radius: 0.25em;box-sizing: border-box;margin-bottom: 0.5em;}#sk-container-id-3 div.sk-estimator:hover {background-color: #d4ebff;}#sk-container-id-3 div.sk-parallel-item::after {content: \"\";width: 100%;border-bottom: 1px solid gray;flex-grow: 1;}#sk-container-id-3 div.sk-label:hover label.sk-toggleable__label {background-color: #d4ebff;}#sk-container-id-3 div.sk-serial::before {content: \"\";position: absolute;border-left: 1px solid gray;box-sizing: border-box;top: 0;bottom: 0;left: 50%;z-index: 0;}#sk-container-id-3 div.sk-serial {display: flex;flex-direction: column;align-items: center;background-color: white;padding-right: 0.2em;padding-left: 0.2em;position: relative;}#sk-container-id-3 div.sk-item {position: relative;z-index: 1;}#sk-container-id-3 div.sk-parallel {display: flex;align-items: stretch;justify-content: center;background-color: white;position: relative;}#sk-container-id-3 div.sk-item::before, #sk-container-id-3 div.sk-parallel-item::before {content: \"\";position: absolute;border-left: 1px solid gray;box-sizing: border-box;top: 0;bottom: 0;left: 50%;z-index: -1;}#sk-container-id-3 div.sk-parallel-item {display: flex;flex-direction: column;z-index: 1;position: relative;background-color: white;}#sk-container-id-3 div.sk-parallel-item:first-child::after {align-self: flex-end;width: 50%;}#sk-container-id-3 div.sk-parallel-item:last-child::after {align-self: flex-start;width: 50%;}#sk-container-id-3 div.sk-parallel-item:only-child::after {width: 0;}#sk-container-id-3 div.sk-dashed-wrapped {border: 1px dashed gray;margin: 0 0.4em 0.5em 0.4em;box-sizing: border-box;padding-bottom: 0.4em;background-color: white;}#sk-container-id-3 div.sk-label label {font-family: monospace;font-weight: bold;display: inline-block;line-height: 1.2em;}#sk-container-id-3 div.sk-label-container {text-align: center;}#sk-container-id-3 div.sk-container {/* jupyter's `normalize.less` sets `[hidden] { display: none; }` but bootstrap.min.css set `[hidden] { display: none !important; }` so we also need the `!important` here to be able to override the default hidden behavior on the sphinx rendered scikit-learn.org. See: https://github.com/scikit-learn/scikit-learn/issues/21755 */display: inline-block !important;position: relative;}#sk-container-id-3 div.sk-text-repr-fallback {display: none;}</style><div id=\"sk-container-id-3\" class=\"sk-top-container\"><div class=\"sk-text-repr-fallback\"><pre>GridSearchCV(cv=5, estimator=DecisionTreeRegressor(random_state=42), n_jobs=-1,\n",
       "             param_grid={&#x27;max_depth&#x27;: [3, 5, 7, 9],\n",
       "                         &#x27;min_samples_leaf&#x27;: [1, 2, 4],\n",
       "                         &#x27;min_samples_split&#x27;: [2, 5, 10]},\n",
       "             scoring=&#x27;neg_mean_squared_error&#x27;, verbose=1)</pre><b>In a Jupyter environment, please rerun this cell to show the HTML representation or trust the notebook. <br />On GitHub, the HTML representation is unable to render, please try loading this page with nbviewer.org.</b></div><div class=\"sk-container\" hidden><div class=\"sk-item sk-dashed-wrapped\"><div class=\"sk-label-container\"><div class=\"sk-label sk-toggleable\"><input class=\"sk-toggleable__control sk-hidden--visually\" id=\"sk-estimator-id-3\" type=\"checkbox\" ><label for=\"sk-estimator-id-3\" class=\"sk-toggleable__label sk-toggleable__label-arrow\">GridSearchCV</label><div class=\"sk-toggleable__content\"><pre>GridSearchCV(cv=5, estimator=DecisionTreeRegressor(random_state=42), n_jobs=-1,\n",
       "             param_grid={&#x27;max_depth&#x27;: [3, 5, 7, 9],\n",
       "                         &#x27;min_samples_leaf&#x27;: [1, 2, 4],\n",
       "                         &#x27;min_samples_split&#x27;: [2, 5, 10]},\n",
       "             scoring=&#x27;neg_mean_squared_error&#x27;, verbose=1)</pre></div></div></div><div class=\"sk-parallel\"><div class=\"sk-parallel-item\"><div class=\"sk-item\"><div class=\"sk-label-container\"><div class=\"sk-label sk-toggleable\"><input class=\"sk-toggleable__control sk-hidden--visually\" id=\"sk-estimator-id-4\" type=\"checkbox\" ><label for=\"sk-estimator-id-4\" class=\"sk-toggleable__label sk-toggleable__label-arrow\">estimator: DecisionTreeRegressor</label><div class=\"sk-toggleable__content\"><pre>DecisionTreeRegressor(random_state=42)</pre></div></div></div><div class=\"sk-serial\"><div class=\"sk-item\"><div class=\"sk-estimator sk-toggleable\"><input class=\"sk-toggleable__control sk-hidden--visually\" id=\"sk-estimator-id-5\" type=\"checkbox\" ><label for=\"sk-estimator-id-5\" class=\"sk-toggleable__label sk-toggleable__label-arrow\">DecisionTreeRegressor</label><div class=\"sk-toggleable__content\"><pre>DecisionTreeRegressor(random_state=42)</pre></div></div></div></div></div></div></div></div></div></div>"
      ],
      "text/plain": [
       "GridSearchCV(cv=5, estimator=DecisionTreeRegressor(random_state=42), n_jobs=-1,\n",
       "             param_grid={'max_depth': [3, 5, 7, 9],\n",
       "                         'min_samples_leaf': [1, 2, 4],\n",
       "                         'min_samples_split': [2, 5, 10]},\n",
       "             scoring='neg_mean_squared_error', verbose=1)"
      ]
     },
     "execution_count": 34,
     "metadata": {},
     "output_type": "execute_result"
    }
   ],
   "source": [
    "from sklearn.model_selection import train_test_split, GridSearchCV\n",
    "from sklearn.tree import DecisionTreeRegressor, export_graphviz\n",
    "\n",
    "# Define the hyperparameters grid\n",
    "param_grid = {\n",
    "    'max_depth': [3, 5, 7, 9],\n",
    "    'min_samples_split': [2, 5, 10],\n",
    "    'min_samples_leaf': [1, 2, 4]\n",
    "}\n",
    "\n",
    "# Initialize the Decision Tree model\n",
    "dt_regressor = DecisionTreeRegressor(random_state=42)\n",
    "\n",
    "# Initialize GridSearchCV with cross-validation\n",
    "grid_search = GridSearchCV(estimator=dt_regressor, param_grid=param_grid, cv=5, scoring='neg_mean_squared_error', verbose=1, n_jobs=-1)\n",
    "\n",
    "# Fit the model with hyperparameter tuning\n",
    "grid_search.fit(X_train, y_train)\n",
    "\n"
   ]
  },
  {
   "cell_type": "code",
   "execution_count": 35,
   "id": "27e2335d",
   "metadata": {
    "execution": {
     "iopub.execute_input": "2024-05-19T18:15:50.317212Z",
     "iopub.status.busy": "2024-05-19T18:15:50.316335Z",
     "iopub.status.idle": "2024-05-19T18:15:50.334590Z",
     "shell.execute_reply": "2024-05-19T18:15:50.333343Z"
    },
    "papermill": {
     "duration": 0.048659,
     "end_time": "2024-05-19T18:15:50.336747",
     "exception": false,
     "start_time": "2024-05-19T18:15:50.288088",
     "status": "completed"
    },
    "tags": []
   },
   "outputs": [
    {
     "name": "stdout",
     "output_type": "stream",
     "text": [
      "Best Hyperparameters: {'max_depth': 7, 'min_samples_leaf': 1, 'min_samples_split': 2}\n"
     ]
    },
    {
     "data": {
      "text/html": [
       "<style>#sk-container-id-4 {color: black;background-color: white;}#sk-container-id-4 pre{padding: 0;}#sk-container-id-4 div.sk-toggleable {background-color: white;}#sk-container-id-4 label.sk-toggleable__label {cursor: pointer;display: block;width: 100%;margin-bottom: 0;padding: 0.3em;box-sizing: border-box;text-align: center;}#sk-container-id-4 label.sk-toggleable__label-arrow:before {content: \"▸\";float: left;margin-right: 0.25em;color: #696969;}#sk-container-id-4 label.sk-toggleable__label-arrow:hover:before {color: black;}#sk-container-id-4 div.sk-estimator:hover label.sk-toggleable__label-arrow:before {color: black;}#sk-container-id-4 div.sk-toggleable__content {max-height: 0;max-width: 0;overflow: hidden;text-align: left;background-color: #f0f8ff;}#sk-container-id-4 div.sk-toggleable__content pre {margin: 0.2em;color: black;border-radius: 0.25em;background-color: #f0f8ff;}#sk-container-id-4 input.sk-toggleable__control:checked~div.sk-toggleable__content {max-height: 200px;max-width: 100%;overflow: auto;}#sk-container-id-4 input.sk-toggleable__control:checked~label.sk-toggleable__label-arrow:before {content: \"▾\";}#sk-container-id-4 div.sk-estimator input.sk-toggleable__control:checked~label.sk-toggleable__label {background-color: #d4ebff;}#sk-container-id-4 div.sk-label input.sk-toggleable__control:checked~label.sk-toggleable__label {background-color: #d4ebff;}#sk-container-id-4 input.sk-hidden--visually {border: 0;clip: rect(1px 1px 1px 1px);clip: rect(1px, 1px, 1px, 1px);height: 1px;margin: -1px;overflow: hidden;padding: 0;position: absolute;width: 1px;}#sk-container-id-4 div.sk-estimator {font-family: monospace;background-color: #f0f8ff;border: 1px dotted black;border-radius: 0.25em;box-sizing: border-box;margin-bottom: 0.5em;}#sk-container-id-4 div.sk-estimator:hover {background-color: #d4ebff;}#sk-container-id-4 div.sk-parallel-item::after {content: \"\";width: 100%;border-bottom: 1px solid gray;flex-grow: 1;}#sk-container-id-4 div.sk-label:hover label.sk-toggleable__label {background-color: #d4ebff;}#sk-container-id-4 div.sk-serial::before {content: \"\";position: absolute;border-left: 1px solid gray;box-sizing: border-box;top: 0;bottom: 0;left: 50%;z-index: 0;}#sk-container-id-4 div.sk-serial {display: flex;flex-direction: column;align-items: center;background-color: white;padding-right: 0.2em;padding-left: 0.2em;position: relative;}#sk-container-id-4 div.sk-item {position: relative;z-index: 1;}#sk-container-id-4 div.sk-parallel {display: flex;align-items: stretch;justify-content: center;background-color: white;position: relative;}#sk-container-id-4 div.sk-item::before, #sk-container-id-4 div.sk-parallel-item::before {content: \"\";position: absolute;border-left: 1px solid gray;box-sizing: border-box;top: 0;bottom: 0;left: 50%;z-index: -1;}#sk-container-id-4 div.sk-parallel-item {display: flex;flex-direction: column;z-index: 1;position: relative;background-color: white;}#sk-container-id-4 div.sk-parallel-item:first-child::after {align-self: flex-end;width: 50%;}#sk-container-id-4 div.sk-parallel-item:last-child::after {align-self: flex-start;width: 50%;}#sk-container-id-4 div.sk-parallel-item:only-child::after {width: 0;}#sk-container-id-4 div.sk-dashed-wrapped {border: 1px dashed gray;margin: 0 0.4em 0.5em 0.4em;box-sizing: border-box;padding-bottom: 0.4em;background-color: white;}#sk-container-id-4 div.sk-label label {font-family: monospace;font-weight: bold;display: inline-block;line-height: 1.2em;}#sk-container-id-4 div.sk-label-container {text-align: center;}#sk-container-id-4 div.sk-container {/* jupyter's `normalize.less` sets `[hidden] { display: none; }` but bootstrap.min.css set `[hidden] { display: none !important; }` so we also need the `!important` here to be able to override the default hidden behavior on the sphinx rendered scikit-learn.org. See: https://github.com/scikit-learn/scikit-learn/issues/21755 */display: inline-block !important;position: relative;}#sk-container-id-4 div.sk-text-repr-fallback {display: none;}</style><div id=\"sk-container-id-4\" class=\"sk-top-container\"><div class=\"sk-text-repr-fallback\"><pre>DecisionTreeRegressor(max_depth=7)</pre><b>In a Jupyter environment, please rerun this cell to show the HTML representation or trust the notebook. <br />On GitHub, the HTML representation is unable to render, please try loading this page with nbviewer.org.</b></div><div class=\"sk-container\" hidden><div class=\"sk-item\"><div class=\"sk-estimator sk-toggleable\"><input class=\"sk-toggleable__control sk-hidden--visually\" id=\"sk-estimator-id-6\" type=\"checkbox\" checked><label for=\"sk-estimator-id-6\" class=\"sk-toggleable__label sk-toggleable__label-arrow\">DecisionTreeRegressor</label><div class=\"sk-toggleable__content\"><pre>DecisionTreeRegressor(max_depth=7)</pre></div></div></div></div></div>"
      ],
      "text/plain": [
       "DecisionTreeRegressor(max_depth=7)"
      ]
     },
     "execution_count": 35,
     "metadata": {},
     "output_type": "execute_result"
    }
   ],
   "source": [
    "# Get the best hyperparameters\n",
    "best_params = grid_search.best_params_\n",
    "print(\"Best Hyperparameters:\", best_params)\n",
    "\n",
    "# Train the Decision Tree model with the best hyperparameters\n",
    "best_dt_regressor = DecisionTreeRegressor(**best_params)\n",
    "best_dt_regressor.fit(X_train, y_train)\n",
    "\n",
    "\n"
   ]
  },
  {
   "cell_type": "code",
   "execution_count": 36,
   "id": "a5517b46",
   "metadata": {
    "execution": {
     "iopub.execute_input": "2024-05-19T18:15:50.396069Z",
     "iopub.status.busy": "2024-05-19T18:15:50.394750Z",
     "iopub.status.idle": "2024-05-19T18:15:50.406273Z",
     "shell.execute_reply": "2024-05-19T18:15:50.405129Z"
    },
    "papermill": {
     "duration": 0.046126,
     "end_time": "2024-05-19T18:15:50.409315",
     "exception": false,
     "start_time": "2024-05-19T18:15:50.363189",
     "status": "completed"
    },
    "tags": []
   },
   "outputs": [],
   "source": [
    "# Make predictions\n",
    "y_pred_train = best_dt_regressor.predict(X_train)\n",
    "y_pred_test = best_dt_regressor.predict(X_test)\n",
    "\n"
   ]
  },
  {
   "cell_type": "code",
   "execution_count": 37,
   "id": "0711c9e7",
   "metadata": {
    "execution": {
     "iopub.execute_input": "2024-05-19T18:15:50.471145Z",
     "iopub.status.busy": "2024-05-19T18:15:50.470062Z",
     "iopub.status.idle": "2024-05-19T18:15:50.480868Z",
     "shell.execute_reply": "2024-05-19T18:15:50.479955Z"
    },
    "papermill": {
     "duration": 0.045899,
     "end_time": "2024-05-19T18:15:50.483428",
     "exception": false,
     "start_time": "2024-05-19T18:15:50.437529",
     "status": "completed"
    },
    "tags": []
   },
   "outputs": [
    {
     "name": "stdout",
     "output_type": "stream",
     "text": [
      "Training MSE: 1.4115207649566552e-06\n",
      "Testing MSE: 6.777329735945267e-06\n",
      "Training R2 Score: 0.9999566278486216\n",
      "Testing R2 Score: 0.9997398436750715\n"
     ]
    }
   ],
   "source": [
    "# Evaluate the model\n",
    "train_mse = mean_squared_error(y_train, y_pred_train)\n",
    "test_mse = mean_squared_error(y_test, y_pred_test)\n",
    "train_r2 = r2_score(y_train, y_pred_train)\n",
    "test_r2 = r2_score(y_test, y_pred_test)\n",
    "\n",
    "print(f\"Training MSE: {train_mse}\")\n",
    "print(f\"Testing MSE: {test_mse}\")\n",
    "print(f\"Training R2 Score: {train_r2}\")\n",
    "print(f\"Testing R2 Score: {test_r2}\")\n",
    "\n"
   ]
  },
  {
   "cell_type": "markdown",
   "id": "edbe5f50",
   "metadata": {
    "papermill": {
     "duration": 0.026216,
     "end_time": "2024-05-19T18:15:50.536819",
     "exception": false,
     "start_time": "2024-05-19T18:15:50.510603",
     "status": "completed"
    },
    "tags": []
   },
   "source": [
    "<div style=\"background-color: #ff0000; padding: 20px; border-radius: 10px;\">\n",
    "    <h1 style=\"text-align: left; font-size: 25px;\"> RandomForestRegressor </h1>\n",
    "</div>"
   ]
  },
  {
   "cell_type": "code",
   "execution_count": 38,
   "id": "bc5276d4",
   "metadata": {
    "execution": {
     "iopub.execute_input": "2024-05-19T18:15:50.591923Z",
     "iopub.status.busy": "2024-05-19T18:15:50.591244Z",
     "iopub.status.idle": "2024-05-19T18:17:38.123868Z",
     "shell.execute_reply": "2024-05-19T18:17:38.122443Z"
    },
    "papermill": {
     "duration": 107.586301,
     "end_time": "2024-05-19T18:17:38.149558",
     "exception": false,
     "start_time": "2024-05-19T18:15:50.563257",
     "status": "completed"
    },
    "tags": []
   },
   "outputs": [
    {
     "name": "stdout",
     "output_type": "stream",
     "text": [
      "Fitting 5 folds for each of 81 candidates, totalling 405 fits\n"
     ]
    },
    {
     "data": {
      "text/html": [
       "<style>#sk-container-id-5 {color: black;background-color: white;}#sk-container-id-5 pre{padding: 0;}#sk-container-id-5 div.sk-toggleable {background-color: white;}#sk-container-id-5 label.sk-toggleable__label {cursor: pointer;display: block;width: 100%;margin-bottom: 0;padding: 0.3em;box-sizing: border-box;text-align: center;}#sk-container-id-5 label.sk-toggleable__label-arrow:before {content: \"▸\";float: left;margin-right: 0.25em;color: #696969;}#sk-container-id-5 label.sk-toggleable__label-arrow:hover:before {color: black;}#sk-container-id-5 div.sk-estimator:hover label.sk-toggleable__label-arrow:before {color: black;}#sk-container-id-5 div.sk-toggleable__content {max-height: 0;max-width: 0;overflow: hidden;text-align: left;background-color: #f0f8ff;}#sk-container-id-5 div.sk-toggleable__content pre {margin: 0.2em;color: black;border-radius: 0.25em;background-color: #f0f8ff;}#sk-container-id-5 input.sk-toggleable__control:checked~div.sk-toggleable__content {max-height: 200px;max-width: 100%;overflow: auto;}#sk-container-id-5 input.sk-toggleable__control:checked~label.sk-toggleable__label-arrow:before {content: \"▾\";}#sk-container-id-5 div.sk-estimator input.sk-toggleable__control:checked~label.sk-toggleable__label {background-color: #d4ebff;}#sk-container-id-5 div.sk-label input.sk-toggleable__control:checked~label.sk-toggleable__label {background-color: #d4ebff;}#sk-container-id-5 input.sk-hidden--visually {border: 0;clip: rect(1px 1px 1px 1px);clip: rect(1px, 1px, 1px, 1px);height: 1px;margin: -1px;overflow: hidden;padding: 0;position: absolute;width: 1px;}#sk-container-id-5 div.sk-estimator {font-family: monospace;background-color: #f0f8ff;border: 1px dotted black;border-radius: 0.25em;box-sizing: border-box;margin-bottom: 0.5em;}#sk-container-id-5 div.sk-estimator:hover {background-color: #d4ebff;}#sk-container-id-5 div.sk-parallel-item::after {content: \"\";width: 100%;border-bottom: 1px solid gray;flex-grow: 1;}#sk-container-id-5 div.sk-label:hover label.sk-toggleable__label {background-color: #d4ebff;}#sk-container-id-5 div.sk-serial::before {content: \"\";position: absolute;border-left: 1px solid gray;box-sizing: border-box;top: 0;bottom: 0;left: 50%;z-index: 0;}#sk-container-id-5 div.sk-serial {display: flex;flex-direction: column;align-items: center;background-color: white;padding-right: 0.2em;padding-left: 0.2em;position: relative;}#sk-container-id-5 div.sk-item {position: relative;z-index: 1;}#sk-container-id-5 div.sk-parallel {display: flex;align-items: stretch;justify-content: center;background-color: white;position: relative;}#sk-container-id-5 div.sk-item::before, #sk-container-id-5 div.sk-parallel-item::before {content: \"\";position: absolute;border-left: 1px solid gray;box-sizing: border-box;top: 0;bottom: 0;left: 50%;z-index: -1;}#sk-container-id-5 div.sk-parallel-item {display: flex;flex-direction: column;z-index: 1;position: relative;background-color: white;}#sk-container-id-5 div.sk-parallel-item:first-child::after {align-self: flex-end;width: 50%;}#sk-container-id-5 div.sk-parallel-item:last-child::after {align-self: flex-start;width: 50%;}#sk-container-id-5 div.sk-parallel-item:only-child::after {width: 0;}#sk-container-id-5 div.sk-dashed-wrapped {border: 1px dashed gray;margin: 0 0.4em 0.5em 0.4em;box-sizing: border-box;padding-bottom: 0.4em;background-color: white;}#sk-container-id-5 div.sk-label label {font-family: monospace;font-weight: bold;display: inline-block;line-height: 1.2em;}#sk-container-id-5 div.sk-label-container {text-align: center;}#sk-container-id-5 div.sk-container {/* jupyter's `normalize.less` sets `[hidden] { display: none; }` but bootstrap.min.css set `[hidden] { display: none !important; }` so we also need the `!important` here to be able to override the default hidden behavior on the sphinx rendered scikit-learn.org. See: https://github.com/scikit-learn/scikit-learn/issues/21755 */display: inline-block !important;position: relative;}#sk-container-id-5 div.sk-text-repr-fallback {display: none;}</style><div id=\"sk-container-id-5\" class=\"sk-top-container\"><div class=\"sk-text-repr-fallback\"><pre>GridSearchCV(cv=5, estimator=RandomForestRegressor(random_state=42), n_jobs=-1,\n",
       "             param_grid={&#x27;max_depth&#x27;: [None, 5, 10],\n",
       "                         &#x27;min_samples_leaf&#x27;: [1, 2, 4],\n",
       "                         &#x27;min_samples_split&#x27;: [2, 5, 10],\n",
       "                         &#x27;n_estimators&#x27;: [100, 200, 300]},\n",
       "             scoring=&#x27;neg_mean_squared_error&#x27;, verbose=1)</pre><b>In a Jupyter environment, please rerun this cell to show the HTML representation or trust the notebook. <br />On GitHub, the HTML representation is unable to render, please try loading this page with nbviewer.org.</b></div><div class=\"sk-container\" hidden><div class=\"sk-item sk-dashed-wrapped\"><div class=\"sk-label-container\"><div class=\"sk-label sk-toggleable\"><input class=\"sk-toggleable__control sk-hidden--visually\" id=\"sk-estimator-id-7\" type=\"checkbox\" ><label for=\"sk-estimator-id-7\" class=\"sk-toggleable__label sk-toggleable__label-arrow\">GridSearchCV</label><div class=\"sk-toggleable__content\"><pre>GridSearchCV(cv=5, estimator=RandomForestRegressor(random_state=42), n_jobs=-1,\n",
       "             param_grid={&#x27;max_depth&#x27;: [None, 5, 10],\n",
       "                         &#x27;min_samples_leaf&#x27;: [1, 2, 4],\n",
       "                         &#x27;min_samples_split&#x27;: [2, 5, 10],\n",
       "                         &#x27;n_estimators&#x27;: [100, 200, 300]},\n",
       "             scoring=&#x27;neg_mean_squared_error&#x27;, verbose=1)</pre></div></div></div><div class=\"sk-parallel\"><div class=\"sk-parallel-item\"><div class=\"sk-item\"><div class=\"sk-label-container\"><div class=\"sk-label sk-toggleable\"><input class=\"sk-toggleable__control sk-hidden--visually\" id=\"sk-estimator-id-8\" type=\"checkbox\" ><label for=\"sk-estimator-id-8\" class=\"sk-toggleable__label sk-toggleable__label-arrow\">estimator: RandomForestRegressor</label><div class=\"sk-toggleable__content\"><pre>RandomForestRegressor(random_state=42)</pre></div></div></div><div class=\"sk-serial\"><div class=\"sk-item\"><div class=\"sk-estimator sk-toggleable\"><input class=\"sk-toggleable__control sk-hidden--visually\" id=\"sk-estimator-id-9\" type=\"checkbox\" ><label for=\"sk-estimator-id-9\" class=\"sk-toggleable__label sk-toggleable__label-arrow\">RandomForestRegressor</label><div class=\"sk-toggleable__content\"><pre>RandomForestRegressor(random_state=42)</pre></div></div></div></div></div></div></div></div></div></div>"
      ],
      "text/plain": [
       "GridSearchCV(cv=5, estimator=RandomForestRegressor(random_state=42), n_jobs=-1,\n",
       "             param_grid={'max_depth': [None, 5, 10],\n",
       "                         'min_samples_leaf': [1, 2, 4],\n",
       "                         'min_samples_split': [2, 5, 10],\n",
       "                         'n_estimators': [100, 200, 300]},\n",
       "             scoring='neg_mean_squared_error', verbose=1)"
      ]
     },
     "execution_count": 38,
     "metadata": {},
     "output_type": "execute_result"
    }
   ],
   "source": [
    "\n",
    "from sklearn.ensemble import RandomForestRegressor\n",
    "param_grid = {\n",
    "    'n_estimators': [100, 200, 300],\n",
    "    'max_depth': [None, 5, 10],\n",
    "    'min_samples_split': [2, 5, 10],\n",
    "    'min_samples_leaf': [1, 2, 4]\n",
    "}\n",
    "\n",
    "# Initialize the Random Forest model\n",
    "rf_regressor = RandomForestRegressor(random_state=42)\n",
    "\n",
    "# Initialize GridSearchCV with cross-validation\n",
    "grid_search = GridSearchCV(estimator=rf_regressor, param_grid=param_grid, cv=5, scoring='neg_mean_squared_error', verbose=1, n_jobs=-1)\n",
    "\n",
    "# Fit the model with hyperparameter tuning\n",
    "grid_search.fit(X_train, y_train)\n",
    "\n",
    "\n"
   ]
  },
  {
   "cell_type": "code",
   "execution_count": 39,
   "id": "a40e3a16",
   "metadata": {
    "execution": {
     "iopub.execute_input": "2024-05-19T18:17:38.204538Z",
     "iopub.status.busy": "2024-05-19T18:17:38.204182Z",
     "iopub.status.idle": "2024-05-19T18:17:38.752559Z",
     "shell.execute_reply": "2024-05-19T18:17:38.751087Z"
    },
    "papermill": {
     "duration": 0.578783,
     "end_time": "2024-05-19T18:17:38.754889",
     "exception": false,
     "start_time": "2024-05-19T18:17:38.176106",
     "status": "completed"
    },
    "tags": []
   },
   "outputs": [
    {
     "name": "stdout",
     "output_type": "stream",
     "text": [
      "Best Hyperparameters: {'max_depth': None, 'min_samples_leaf': 1, 'min_samples_split': 2, 'n_estimators': 100}\n"
     ]
    },
    {
     "data": {
      "text/html": [
       "<style>#sk-container-id-6 {color: black;background-color: white;}#sk-container-id-6 pre{padding: 0;}#sk-container-id-6 div.sk-toggleable {background-color: white;}#sk-container-id-6 label.sk-toggleable__label {cursor: pointer;display: block;width: 100%;margin-bottom: 0;padding: 0.3em;box-sizing: border-box;text-align: center;}#sk-container-id-6 label.sk-toggleable__label-arrow:before {content: \"▸\";float: left;margin-right: 0.25em;color: #696969;}#sk-container-id-6 label.sk-toggleable__label-arrow:hover:before {color: black;}#sk-container-id-6 div.sk-estimator:hover label.sk-toggleable__label-arrow:before {color: black;}#sk-container-id-6 div.sk-toggleable__content {max-height: 0;max-width: 0;overflow: hidden;text-align: left;background-color: #f0f8ff;}#sk-container-id-6 div.sk-toggleable__content pre {margin: 0.2em;color: black;border-radius: 0.25em;background-color: #f0f8ff;}#sk-container-id-6 input.sk-toggleable__control:checked~div.sk-toggleable__content {max-height: 200px;max-width: 100%;overflow: auto;}#sk-container-id-6 input.sk-toggleable__control:checked~label.sk-toggleable__label-arrow:before {content: \"▾\";}#sk-container-id-6 div.sk-estimator input.sk-toggleable__control:checked~label.sk-toggleable__label {background-color: #d4ebff;}#sk-container-id-6 div.sk-label input.sk-toggleable__control:checked~label.sk-toggleable__label {background-color: #d4ebff;}#sk-container-id-6 input.sk-hidden--visually {border: 0;clip: rect(1px 1px 1px 1px);clip: rect(1px, 1px, 1px, 1px);height: 1px;margin: -1px;overflow: hidden;padding: 0;position: absolute;width: 1px;}#sk-container-id-6 div.sk-estimator {font-family: monospace;background-color: #f0f8ff;border: 1px dotted black;border-radius: 0.25em;box-sizing: border-box;margin-bottom: 0.5em;}#sk-container-id-6 div.sk-estimator:hover {background-color: #d4ebff;}#sk-container-id-6 div.sk-parallel-item::after {content: \"\";width: 100%;border-bottom: 1px solid gray;flex-grow: 1;}#sk-container-id-6 div.sk-label:hover label.sk-toggleable__label {background-color: #d4ebff;}#sk-container-id-6 div.sk-serial::before {content: \"\";position: absolute;border-left: 1px solid gray;box-sizing: border-box;top: 0;bottom: 0;left: 50%;z-index: 0;}#sk-container-id-6 div.sk-serial {display: flex;flex-direction: column;align-items: center;background-color: white;padding-right: 0.2em;padding-left: 0.2em;position: relative;}#sk-container-id-6 div.sk-item {position: relative;z-index: 1;}#sk-container-id-6 div.sk-parallel {display: flex;align-items: stretch;justify-content: center;background-color: white;position: relative;}#sk-container-id-6 div.sk-item::before, #sk-container-id-6 div.sk-parallel-item::before {content: \"\";position: absolute;border-left: 1px solid gray;box-sizing: border-box;top: 0;bottom: 0;left: 50%;z-index: -1;}#sk-container-id-6 div.sk-parallel-item {display: flex;flex-direction: column;z-index: 1;position: relative;background-color: white;}#sk-container-id-6 div.sk-parallel-item:first-child::after {align-self: flex-end;width: 50%;}#sk-container-id-6 div.sk-parallel-item:last-child::after {align-self: flex-start;width: 50%;}#sk-container-id-6 div.sk-parallel-item:only-child::after {width: 0;}#sk-container-id-6 div.sk-dashed-wrapped {border: 1px dashed gray;margin: 0 0.4em 0.5em 0.4em;box-sizing: border-box;padding-bottom: 0.4em;background-color: white;}#sk-container-id-6 div.sk-label label {font-family: monospace;font-weight: bold;display: inline-block;line-height: 1.2em;}#sk-container-id-6 div.sk-label-container {text-align: center;}#sk-container-id-6 div.sk-container {/* jupyter's `normalize.less` sets `[hidden] { display: none; }` but bootstrap.min.css set `[hidden] { display: none !important; }` so we also need the `!important` here to be able to override the default hidden behavior on the sphinx rendered scikit-learn.org. See: https://github.com/scikit-learn/scikit-learn/issues/21755 */display: inline-block !important;position: relative;}#sk-container-id-6 div.sk-text-repr-fallback {display: none;}</style><div id=\"sk-container-id-6\" class=\"sk-top-container\"><div class=\"sk-text-repr-fallback\"><pre>RandomForestRegressor()</pre><b>In a Jupyter environment, please rerun this cell to show the HTML representation or trust the notebook. <br />On GitHub, the HTML representation is unable to render, please try loading this page with nbviewer.org.</b></div><div class=\"sk-container\" hidden><div class=\"sk-item\"><div class=\"sk-estimator sk-toggleable\"><input class=\"sk-toggleable__control sk-hidden--visually\" id=\"sk-estimator-id-10\" type=\"checkbox\" checked><label for=\"sk-estimator-id-10\" class=\"sk-toggleable__label sk-toggleable__label-arrow\">RandomForestRegressor</label><div class=\"sk-toggleable__content\"><pre>RandomForestRegressor()</pre></div></div></div></div></div>"
      ],
      "text/plain": [
       "RandomForestRegressor()"
      ]
     },
     "execution_count": 39,
     "metadata": {},
     "output_type": "execute_result"
    }
   ],
   "source": [
    "# Get the best hyperparameters\n",
    "best_params = grid_search.best_params_\n",
    "print(\"Best Hyperparameters:\", best_params)\n",
    "\n",
    "# Train the Random Forest model with the best hyperparameters\n",
    "best_rf_regressor = RandomForestRegressor(**best_params)\n",
    "best_rf_regressor.fit(X_train, y_train)\n",
    "\n"
   ]
  },
  {
   "cell_type": "code",
   "execution_count": 40,
   "id": "a8bf9eb1",
   "metadata": {
    "execution": {
     "iopub.execute_input": "2024-05-19T18:17:38.811506Z",
     "iopub.status.busy": "2024-05-19T18:17:38.811099Z",
     "iopub.status.idle": "2024-05-19T18:17:38.845852Z",
     "shell.execute_reply": "2024-05-19T18:17:38.844723Z"
    },
    "papermill": {
     "duration": 0.065618,
     "end_time": "2024-05-19T18:17:38.848131",
     "exception": false,
     "start_time": "2024-05-19T18:17:38.782513",
     "status": "completed"
    },
    "tags": []
   },
   "outputs": [
    {
     "name": "stdout",
     "output_type": "stream",
     "text": [
      "Training MSE: 4.6168042202205784e-06\n",
      "Testing MSE: 2.905230663647575e-06\n",
      "Training R2 Score: 0.9998581383026766\n",
      "Testing R2 Score: 0.9998884790674245\n"
     ]
    }
   ],
   "source": [
    "# Make predictions\n",
    "y_pred_train = best_rf_regressor.predict(X_train)\n",
    "y_pred_test = best_rf_regressor.predict(X_test)\n",
    "\n",
    "# Evaluate the model\n",
    "train_mse = mean_squared_error(y_train, y_pred_train)\n",
    "test_mse = mean_squared_error(y_test, y_pred_test)\n",
    "train_r2 = r2_score(y_train, y_pred_train)\n",
    "test_r2 = r2_score(y_test, y_pred_test)\n",
    "\n",
    "print(f\"Training MSE: {train_mse}\")\n",
    "print(f\"Testing MSE: {test_mse}\")\n",
    "print(f\"Training R2 Score: {train_r2}\")\n",
    "print(f\"Testing R2 Score: {test_r2}\")"
   ]
  },
  {
   "cell_type": "markdown",
   "id": "798e96ad",
   "metadata": {
    "papermill": {
     "duration": 0.026426,
     "end_time": "2024-05-19T18:17:38.901487",
     "exception": false,
     "start_time": "2024-05-19T18:17:38.875061",
     "status": "completed"
    },
    "tags": []
   },
   "source": [
    "<div style=\"background-color: #ff0000; padding: 20px; border-radius: 10px;\">\n",
    "    <h1 style=\"text-align: left; font-size: 25px;\"> XGBRegressor </h1>\n",
    "</div>"
   ]
  },
  {
   "cell_type": "code",
   "execution_count": 41,
   "id": "95b962fa",
   "metadata": {
    "execution": {
     "iopub.execute_input": "2024-05-19T18:17:38.956754Z",
     "iopub.status.busy": "2024-05-19T18:17:38.956388Z",
     "iopub.status.idle": "2024-05-19T18:17:53.480925Z",
     "shell.execute_reply": "2024-05-19T18:17:53.479407Z"
    },
    "papermill": {
     "duration": 14.555301,
     "end_time": "2024-05-19T18:17:53.483443",
     "exception": false,
     "start_time": "2024-05-19T18:17:38.928142",
     "status": "completed"
    },
    "tags": []
   },
   "outputs": [
    {
     "name": "stdout",
     "output_type": "stream",
     "text": [
      "Fitting 5 folds for each of 27 candidates, totalling 135 fits\n"
     ]
    },
    {
     "data": {
      "text/html": [
       "<style>#sk-container-id-7 {color: black;background-color: white;}#sk-container-id-7 pre{padding: 0;}#sk-container-id-7 div.sk-toggleable {background-color: white;}#sk-container-id-7 label.sk-toggleable__label {cursor: pointer;display: block;width: 100%;margin-bottom: 0;padding: 0.3em;box-sizing: border-box;text-align: center;}#sk-container-id-7 label.sk-toggleable__label-arrow:before {content: \"▸\";float: left;margin-right: 0.25em;color: #696969;}#sk-container-id-7 label.sk-toggleable__label-arrow:hover:before {color: black;}#sk-container-id-7 div.sk-estimator:hover label.sk-toggleable__label-arrow:before {color: black;}#sk-container-id-7 div.sk-toggleable__content {max-height: 0;max-width: 0;overflow: hidden;text-align: left;background-color: #f0f8ff;}#sk-container-id-7 div.sk-toggleable__content pre {margin: 0.2em;color: black;border-radius: 0.25em;background-color: #f0f8ff;}#sk-container-id-7 input.sk-toggleable__control:checked~div.sk-toggleable__content {max-height: 200px;max-width: 100%;overflow: auto;}#sk-container-id-7 input.sk-toggleable__control:checked~label.sk-toggleable__label-arrow:before {content: \"▾\";}#sk-container-id-7 div.sk-estimator input.sk-toggleable__control:checked~label.sk-toggleable__label {background-color: #d4ebff;}#sk-container-id-7 div.sk-label input.sk-toggleable__control:checked~label.sk-toggleable__label {background-color: #d4ebff;}#sk-container-id-7 input.sk-hidden--visually {border: 0;clip: rect(1px 1px 1px 1px);clip: rect(1px, 1px, 1px, 1px);height: 1px;margin: -1px;overflow: hidden;padding: 0;position: absolute;width: 1px;}#sk-container-id-7 div.sk-estimator {font-family: monospace;background-color: #f0f8ff;border: 1px dotted black;border-radius: 0.25em;box-sizing: border-box;margin-bottom: 0.5em;}#sk-container-id-7 div.sk-estimator:hover {background-color: #d4ebff;}#sk-container-id-7 div.sk-parallel-item::after {content: \"\";width: 100%;border-bottom: 1px solid gray;flex-grow: 1;}#sk-container-id-7 div.sk-label:hover label.sk-toggleable__label {background-color: #d4ebff;}#sk-container-id-7 div.sk-serial::before {content: \"\";position: absolute;border-left: 1px solid gray;box-sizing: border-box;top: 0;bottom: 0;left: 50%;z-index: 0;}#sk-container-id-7 div.sk-serial {display: flex;flex-direction: column;align-items: center;background-color: white;padding-right: 0.2em;padding-left: 0.2em;position: relative;}#sk-container-id-7 div.sk-item {position: relative;z-index: 1;}#sk-container-id-7 div.sk-parallel {display: flex;align-items: stretch;justify-content: center;background-color: white;position: relative;}#sk-container-id-7 div.sk-item::before, #sk-container-id-7 div.sk-parallel-item::before {content: \"\";position: absolute;border-left: 1px solid gray;box-sizing: border-box;top: 0;bottom: 0;left: 50%;z-index: -1;}#sk-container-id-7 div.sk-parallel-item {display: flex;flex-direction: column;z-index: 1;position: relative;background-color: white;}#sk-container-id-7 div.sk-parallel-item:first-child::after {align-self: flex-end;width: 50%;}#sk-container-id-7 div.sk-parallel-item:last-child::after {align-self: flex-start;width: 50%;}#sk-container-id-7 div.sk-parallel-item:only-child::after {width: 0;}#sk-container-id-7 div.sk-dashed-wrapped {border: 1px dashed gray;margin: 0 0.4em 0.5em 0.4em;box-sizing: border-box;padding-bottom: 0.4em;background-color: white;}#sk-container-id-7 div.sk-label label {font-family: monospace;font-weight: bold;display: inline-block;line-height: 1.2em;}#sk-container-id-7 div.sk-label-container {text-align: center;}#sk-container-id-7 div.sk-container {/* jupyter's `normalize.less` sets `[hidden] { display: none; }` but bootstrap.min.css set `[hidden] { display: none !important; }` so we also need the `!important` here to be able to override the default hidden behavior on the sphinx rendered scikit-learn.org. See: https://github.com/scikit-learn/scikit-learn/issues/21755 */display: inline-block !important;position: relative;}#sk-container-id-7 div.sk-text-repr-fallback {display: none;}</style><div id=\"sk-container-id-7\" class=\"sk-top-container\"><div class=\"sk-text-repr-fallback\"><pre>GridSearchCV(cv=5,\n",
       "             estimator=XGBRegressor(base_score=None, booster=None,\n",
       "                                    callbacks=None, colsample_bylevel=None,\n",
       "                                    colsample_bynode=None,\n",
       "                                    colsample_bytree=None, device=None,\n",
       "                                    early_stopping_rounds=None,\n",
       "                                    enable_categorical=False, eval_metric=None,\n",
       "                                    feature_types=None, gamma=None,\n",
       "                                    grow_policy=None, importance_type=None,\n",
       "                                    interaction_constraints=None,\n",
       "                                    learning_rate=None, m...\n",
       "                                    max_cat_to_onehot=None, max_delta_step=None,\n",
       "                                    max_depth=None, max_leaves=None,\n",
       "                                    min_child_weight=None, missing=nan,\n",
       "                                    monotone_constraints=None,\n",
       "                                    multi_strategy=None, n_estimators=None,\n",
       "                                    n_jobs=None, num_parallel_tree=None,\n",
       "                                    random_state=42, ...),\n",
       "             n_jobs=-1,\n",
       "             param_grid={&#x27;learning_rate&#x27;: [0.1, 0.01, 0.001],\n",
       "                         &#x27;max_depth&#x27;: [3, 5, 7],\n",
       "                         &#x27;n_estimators&#x27;: [100, 200, 300]},\n",
       "             scoring=&#x27;neg_mean_squared_error&#x27;, verbose=1)</pre><b>In a Jupyter environment, please rerun this cell to show the HTML representation or trust the notebook. <br />On GitHub, the HTML representation is unable to render, please try loading this page with nbviewer.org.</b></div><div class=\"sk-container\" hidden><div class=\"sk-item sk-dashed-wrapped\"><div class=\"sk-label-container\"><div class=\"sk-label sk-toggleable\"><input class=\"sk-toggleable__control sk-hidden--visually\" id=\"sk-estimator-id-11\" type=\"checkbox\" ><label for=\"sk-estimator-id-11\" class=\"sk-toggleable__label sk-toggleable__label-arrow\">GridSearchCV</label><div class=\"sk-toggleable__content\"><pre>GridSearchCV(cv=5,\n",
       "             estimator=XGBRegressor(base_score=None, booster=None,\n",
       "                                    callbacks=None, colsample_bylevel=None,\n",
       "                                    colsample_bynode=None,\n",
       "                                    colsample_bytree=None, device=None,\n",
       "                                    early_stopping_rounds=None,\n",
       "                                    enable_categorical=False, eval_metric=None,\n",
       "                                    feature_types=None, gamma=None,\n",
       "                                    grow_policy=None, importance_type=None,\n",
       "                                    interaction_constraints=None,\n",
       "                                    learning_rate=None, m...\n",
       "                                    max_cat_to_onehot=None, max_delta_step=None,\n",
       "                                    max_depth=None, max_leaves=None,\n",
       "                                    min_child_weight=None, missing=nan,\n",
       "                                    monotone_constraints=None,\n",
       "                                    multi_strategy=None, n_estimators=None,\n",
       "                                    n_jobs=None, num_parallel_tree=None,\n",
       "                                    random_state=42, ...),\n",
       "             n_jobs=-1,\n",
       "             param_grid={&#x27;learning_rate&#x27;: [0.1, 0.01, 0.001],\n",
       "                         &#x27;max_depth&#x27;: [3, 5, 7],\n",
       "                         &#x27;n_estimators&#x27;: [100, 200, 300]},\n",
       "             scoring=&#x27;neg_mean_squared_error&#x27;, verbose=1)</pre></div></div></div><div class=\"sk-parallel\"><div class=\"sk-parallel-item\"><div class=\"sk-item\"><div class=\"sk-label-container\"><div class=\"sk-label sk-toggleable\"><input class=\"sk-toggleable__control sk-hidden--visually\" id=\"sk-estimator-id-12\" type=\"checkbox\" ><label for=\"sk-estimator-id-12\" class=\"sk-toggleable__label sk-toggleable__label-arrow\">estimator: XGBRegressor</label><div class=\"sk-toggleable__content\"><pre>XGBRegressor(base_score=None, booster=None, callbacks=None,\n",
       "             colsample_bylevel=None, colsample_bynode=None,\n",
       "             colsample_bytree=None, device=None, early_stopping_rounds=None,\n",
       "             enable_categorical=False, eval_metric=None, feature_types=None,\n",
       "             gamma=None, grow_policy=None, importance_type=None,\n",
       "             interaction_constraints=None, learning_rate=None, max_bin=None,\n",
       "             max_cat_threshold=None, max_cat_to_onehot=None,\n",
       "             max_delta_step=None, max_depth=None, max_leaves=None,\n",
       "             min_child_weight=None, missing=nan, monotone_constraints=None,\n",
       "             multi_strategy=None, n_estimators=None, n_jobs=None,\n",
       "             num_parallel_tree=None, random_state=42, ...)</pre></div></div></div><div class=\"sk-serial\"><div class=\"sk-item\"><div class=\"sk-estimator sk-toggleable\"><input class=\"sk-toggleable__control sk-hidden--visually\" id=\"sk-estimator-id-13\" type=\"checkbox\" ><label for=\"sk-estimator-id-13\" class=\"sk-toggleable__label sk-toggleable__label-arrow\">XGBRegressor</label><div class=\"sk-toggleable__content\"><pre>XGBRegressor(base_score=None, booster=None, callbacks=None,\n",
       "             colsample_bylevel=None, colsample_bynode=None,\n",
       "             colsample_bytree=None, device=None, early_stopping_rounds=None,\n",
       "             enable_categorical=False, eval_metric=None, feature_types=None,\n",
       "             gamma=None, grow_policy=None, importance_type=None,\n",
       "             interaction_constraints=None, learning_rate=None, max_bin=None,\n",
       "             max_cat_threshold=None, max_cat_to_onehot=None,\n",
       "             max_delta_step=None, max_depth=None, max_leaves=None,\n",
       "             min_child_weight=None, missing=nan, monotone_constraints=None,\n",
       "             multi_strategy=None, n_estimators=None, n_jobs=None,\n",
       "             num_parallel_tree=None, random_state=42, ...)</pre></div></div></div></div></div></div></div></div></div></div>"
      ],
      "text/plain": [
       "GridSearchCV(cv=5,\n",
       "             estimator=XGBRegressor(base_score=None, booster=None,\n",
       "                                    callbacks=None, colsample_bylevel=None,\n",
       "                                    colsample_bynode=None,\n",
       "                                    colsample_bytree=None, device=None,\n",
       "                                    early_stopping_rounds=None,\n",
       "                                    enable_categorical=False, eval_metric=None,\n",
       "                                    feature_types=None, gamma=None,\n",
       "                                    grow_policy=None, importance_type=None,\n",
       "                                    interaction_constraints=None,\n",
       "                                    learning_rate=None, m...\n",
       "                                    max_cat_to_onehot=None, max_delta_step=None,\n",
       "                                    max_depth=None, max_leaves=None,\n",
       "                                    min_child_weight=None, missing=nan,\n",
       "                                    monotone_constraints=None,\n",
       "                                    multi_strategy=None, n_estimators=None,\n",
       "                                    n_jobs=None, num_parallel_tree=None,\n",
       "                                    random_state=42, ...),\n",
       "             n_jobs=-1,\n",
       "             param_grid={'learning_rate': [0.1, 0.01, 0.001],\n",
       "                         'max_depth': [3, 5, 7],\n",
       "                         'n_estimators': [100, 200, 300]},\n",
       "             scoring='neg_mean_squared_error', verbose=1)"
      ]
     },
     "execution_count": 41,
     "metadata": {},
     "output_type": "execute_result"
    }
   ],
   "source": [
    "\n",
    "from xgboost import XGBRegressor\n",
    "\n",
    "# Define the hyperparameters grid\n",
    "param_grid = {\n",
    "    'n_estimators': [100, 200, 300],\n",
    "    'max_depth': [3, 5, 7],\n",
    "    'learning_rate': [0.1, 0.01, 0.001]\n",
    "}\n",
    "\n",
    "# Initialize the XGBoost model\n",
    "xgb_regressor = XGBRegressor(random_state=42)\n",
    "\n",
    "# Initialize GridSearchCV with cross-validation\n",
    "grid_search = GridSearchCV(estimator=xgb_regressor, param_grid=param_grid, cv=5, scoring='neg_mean_squared_error', verbose=1, n_jobs=-1)\n",
    "\n",
    "# Fit the model with hyperparameter tuning\n",
    "grid_search.fit(X_train, y_train)\n",
    "\n"
   ]
  },
  {
   "cell_type": "code",
   "execution_count": 42,
   "id": "80169fb7",
   "metadata": {
    "execution": {
     "iopub.execute_input": "2024-05-19T18:17:53.542491Z",
     "iopub.status.busy": "2024-05-19T18:17:53.542078Z",
     "iopub.status.idle": "2024-05-19T18:17:53.763935Z",
     "shell.execute_reply": "2024-05-19T18:17:53.762788Z"
    },
    "papermill": {
     "duration": 0.254358,
     "end_time": "2024-05-19T18:17:53.766593",
     "exception": false,
     "start_time": "2024-05-19T18:17:53.512235",
     "status": "completed"
    },
    "tags": []
   },
   "outputs": [
    {
     "name": "stdout",
     "output_type": "stream",
     "text": [
      "Best Hyperparameters: {'learning_rate': 0.1, 'max_depth': 3, 'n_estimators': 300}\n"
     ]
    },
    {
     "data": {
      "text/html": [
       "<style>#sk-container-id-8 {color: black;background-color: white;}#sk-container-id-8 pre{padding: 0;}#sk-container-id-8 div.sk-toggleable {background-color: white;}#sk-container-id-8 label.sk-toggleable__label {cursor: pointer;display: block;width: 100%;margin-bottom: 0;padding: 0.3em;box-sizing: border-box;text-align: center;}#sk-container-id-8 label.sk-toggleable__label-arrow:before {content: \"▸\";float: left;margin-right: 0.25em;color: #696969;}#sk-container-id-8 label.sk-toggleable__label-arrow:hover:before {color: black;}#sk-container-id-8 div.sk-estimator:hover label.sk-toggleable__label-arrow:before {color: black;}#sk-container-id-8 div.sk-toggleable__content {max-height: 0;max-width: 0;overflow: hidden;text-align: left;background-color: #f0f8ff;}#sk-container-id-8 div.sk-toggleable__content pre {margin: 0.2em;color: black;border-radius: 0.25em;background-color: #f0f8ff;}#sk-container-id-8 input.sk-toggleable__control:checked~div.sk-toggleable__content {max-height: 200px;max-width: 100%;overflow: auto;}#sk-container-id-8 input.sk-toggleable__control:checked~label.sk-toggleable__label-arrow:before {content: \"▾\";}#sk-container-id-8 div.sk-estimator input.sk-toggleable__control:checked~label.sk-toggleable__label {background-color: #d4ebff;}#sk-container-id-8 div.sk-label input.sk-toggleable__control:checked~label.sk-toggleable__label {background-color: #d4ebff;}#sk-container-id-8 input.sk-hidden--visually {border: 0;clip: rect(1px 1px 1px 1px);clip: rect(1px, 1px, 1px, 1px);height: 1px;margin: -1px;overflow: hidden;padding: 0;position: absolute;width: 1px;}#sk-container-id-8 div.sk-estimator {font-family: monospace;background-color: #f0f8ff;border: 1px dotted black;border-radius: 0.25em;box-sizing: border-box;margin-bottom: 0.5em;}#sk-container-id-8 div.sk-estimator:hover {background-color: #d4ebff;}#sk-container-id-8 div.sk-parallel-item::after {content: \"\";width: 100%;border-bottom: 1px solid gray;flex-grow: 1;}#sk-container-id-8 div.sk-label:hover label.sk-toggleable__label {background-color: #d4ebff;}#sk-container-id-8 div.sk-serial::before {content: \"\";position: absolute;border-left: 1px solid gray;box-sizing: border-box;top: 0;bottom: 0;left: 50%;z-index: 0;}#sk-container-id-8 div.sk-serial {display: flex;flex-direction: column;align-items: center;background-color: white;padding-right: 0.2em;padding-left: 0.2em;position: relative;}#sk-container-id-8 div.sk-item {position: relative;z-index: 1;}#sk-container-id-8 div.sk-parallel {display: flex;align-items: stretch;justify-content: center;background-color: white;position: relative;}#sk-container-id-8 div.sk-item::before, #sk-container-id-8 div.sk-parallel-item::before {content: \"\";position: absolute;border-left: 1px solid gray;box-sizing: border-box;top: 0;bottom: 0;left: 50%;z-index: -1;}#sk-container-id-8 div.sk-parallel-item {display: flex;flex-direction: column;z-index: 1;position: relative;background-color: white;}#sk-container-id-8 div.sk-parallel-item:first-child::after {align-self: flex-end;width: 50%;}#sk-container-id-8 div.sk-parallel-item:last-child::after {align-self: flex-start;width: 50%;}#sk-container-id-8 div.sk-parallel-item:only-child::after {width: 0;}#sk-container-id-8 div.sk-dashed-wrapped {border: 1px dashed gray;margin: 0 0.4em 0.5em 0.4em;box-sizing: border-box;padding-bottom: 0.4em;background-color: white;}#sk-container-id-8 div.sk-label label {font-family: monospace;font-weight: bold;display: inline-block;line-height: 1.2em;}#sk-container-id-8 div.sk-label-container {text-align: center;}#sk-container-id-8 div.sk-container {/* jupyter's `normalize.less` sets `[hidden] { display: none; }` but bootstrap.min.css set `[hidden] { display: none !important; }` so we also need the `!important` here to be able to override the default hidden behavior on the sphinx rendered scikit-learn.org. See: https://github.com/scikit-learn/scikit-learn/issues/21755 */display: inline-block !important;position: relative;}#sk-container-id-8 div.sk-text-repr-fallback {display: none;}</style><div id=\"sk-container-id-8\" class=\"sk-top-container\"><div class=\"sk-text-repr-fallback\"><pre>XGBRegressor(base_score=None, booster=None, callbacks=None,\n",
       "             colsample_bylevel=None, colsample_bynode=None,\n",
       "             colsample_bytree=None, device=None, early_stopping_rounds=None,\n",
       "             enable_categorical=False, eval_metric=None, feature_types=None,\n",
       "             gamma=None, grow_policy=None, importance_type=None,\n",
       "             interaction_constraints=None, learning_rate=0.1, max_bin=None,\n",
       "             max_cat_threshold=None, max_cat_to_onehot=None,\n",
       "             max_delta_step=None, max_depth=3, max_leaves=None,\n",
       "             min_child_weight=None, missing=nan, monotone_constraints=None,\n",
       "             multi_strategy=None, n_estimators=300, n_jobs=None,\n",
       "             num_parallel_tree=None, random_state=42, ...)</pre><b>In a Jupyter environment, please rerun this cell to show the HTML representation or trust the notebook. <br />On GitHub, the HTML representation is unable to render, please try loading this page with nbviewer.org.</b></div><div class=\"sk-container\" hidden><div class=\"sk-item\"><div class=\"sk-estimator sk-toggleable\"><input class=\"sk-toggleable__control sk-hidden--visually\" id=\"sk-estimator-id-14\" type=\"checkbox\" checked><label for=\"sk-estimator-id-14\" class=\"sk-toggleable__label sk-toggleable__label-arrow\">XGBRegressor</label><div class=\"sk-toggleable__content\"><pre>XGBRegressor(base_score=None, booster=None, callbacks=None,\n",
       "             colsample_bylevel=None, colsample_bynode=None,\n",
       "             colsample_bytree=None, device=None, early_stopping_rounds=None,\n",
       "             enable_categorical=False, eval_metric=None, feature_types=None,\n",
       "             gamma=None, grow_policy=None, importance_type=None,\n",
       "             interaction_constraints=None, learning_rate=0.1, max_bin=None,\n",
       "             max_cat_threshold=None, max_cat_to_onehot=None,\n",
       "             max_delta_step=None, max_depth=3, max_leaves=None,\n",
       "             min_child_weight=None, missing=nan, monotone_constraints=None,\n",
       "             multi_strategy=None, n_estimators=300, n_jobs=None,\n",
       "             num_parallel_tree=None, random_state=42, ...)</pre></div></div></div></div></div>"
      ],
      "text/plain": [
       "XGBRegressor(base_score=None, booster=None, callbacks=None,\n",
       "             colsample_bylevel=None, colsample_bynode=None,\n",
       "             colsample_bytree=None, device=None, early_stopping_rounds=None,\n",
       "             enable_categorical=False, eval_metric=None, feature_types=None,\n",
       "             gamma=None, grow_policy=None, importance_type=None,\n",
       "             interaction_constraints=None, learning_rate=0.1, max_bin=None,\n",
       "             max_cat_threshold=None, max_cat_to_onehot=None,\n",
       "             max_delta_step=None, max_depth=3, max_leaves=None,\n",
       "             min_child_weight=None, missing=nan, monotone_constraints=None,\n",
       "             multi_strategy=None, n_estimators=300, n_jobs=None,\n",
       "             num_parallel_tree=None, random_state=42, ...)"
      ]
     },
     "execution_count": 42,
     "metadata": {},
     "output_type": "execute_result"
    }
   ],
   "source": [
    "# Get the best hyperparameters\n",
    "best_params = grid_search.best_params_\n",
    "print(\"Best Hyperparameters:\", best_params)\n",
    "\n",
    "# Train the XGBoost model with the best hyperparameters\n",
    "best_xgb_regressor = XGBRegressor(**best_params, random_state=42)\n",
    "best_xgb_regressor.fit(X_train, y_train)\n",
    "\n"
   ]
  },
  {
   "cell_type": "code",
   "execution_count": 43,
   "id": "a5095c45",
   "metadata": {
    "execution": {
     "iopub.execute_input": "2024-05-19T18:17:53.826145Z",
     "iopub.status.busy": "2024-05-19T18:17:53.825775Z",
     "iopub.status.idle": "2024-05-19T18:17:53.860096Z",
     "shell.execute_reply": "2024-05-19T18:17:53.858873Z"
    },
    "papermill": {
     "duration": 0.066703,
     "end_time": "2024-05-19T18:17:53.862793",
     "exception": false,
     "start_time": "2024-05-19T18:17:53.796090",
     "status": "completed"
    },
    "tags": []
   },
   "outputs": [
    {
     "name": "stdout",
     "output_type": "stream",
     "text": [
      "Training MSE: 9.924940925518985e-07\n",
      "Testing MSE: 9.816905598453796e-06\n",
      "Training R2 Score: 0.9999695033859274\n",
      "Testing R2 Score: 0.9996231657330884\n"
     ]
    }
   ],
   "source": [
    "# Make predictions\n",
    "y_pred_train = best_xgb_regressor.predict(X_train)\n",
    "y_pred_test = best_xgb_regressor.predict(X_test)\n",
    "\n",
    "# Evaluate the model\n",
    "train_mse = mean_squared_error(y_train, y_pred_train)\n",
    "test_mse = mean_squared_error(y_test, y_pred_test)\n",
    "train_r2 = r2_score(y_train, y_pred_train)\n",
    "test_r2 = r2_score(y_test, y_pred_test)\n",
    "\n",
    "print(f\"Training MSE: {train_mse}\")\n",
    "print(f\"Testing MSE: {test_mse}\")\n",
    "print(f\"Training R2 Score: {train_r2}\")\n",
    "print(f\"Testing R2 Score: {test_r2}\")\n"
   ]
  },
  {
   "cell_type": "markdown",
   "id": "e953f589",
   "metadata": {
    "papermill": {
     "duration": 0.028107,
     "end_time": "2024-05-19T18:17:53.919115",
     "exception": false,
     "start_time": "2024-05-19T18:17:53.891008",
     "status": "completed"
    },
    "tags": []
   },
   "source": [
    "<a id=\"1\"></a>\n",
    "<div style=\"font-family: Cambria; font-weight: bold; letter-spacing: 0px; color: #ffffff; font-size: 120%; text-align: left; padding: 3px; background-color: #0000ff; border-bottom: 10px solid #80ffff;\">\n",
    "    Model comparison\n",
    "</div>"
   ]
  },
  {
   "cell_type": "code",
   "execution_count": 44,
   "id": "32878207",
   "metadata": {
    "execution": {
     "iopub.execute_input": "2024-05-19T18:17:53.978345Z",
     "iopub.status.busy": "2024-05-19T18:17:53.977926Z",
     "iopub.status.idle": "2024-05-19T18:17:54.806107Z",
     "shell.execute_reply": "2024-05-19T18:17:54.804845Z"
    },
    "papermill": {
     "duration": 0.860295,
     "end_time": "2024-05-19T18:17:54.808420",
     "exception": false,
     "start_time": "2024-05-19T18:17:53.948125",
     "status": "completed"
    },
    "tags": []
   },
   "outputs": [
    {
     "data": {
      "text/html": [
       "<div>\n",
       "<style scoped>\n",
       "    .dataframe tbody tr th:only-of-type {\n",
       "        vertical-align: middle;\n",
       "    }\n",
       "\n",
       "    .dataframe tbody tr th {\n",
       "        vertical-align: top;\n",
       "    }\n",
       "\n",
       "    .dataframe thead th {\n",
       "        text-align: right;\n",
       "    }\n",
       "</style>\n",
       "<table border=\"1\" class=\"dataframe\">\n",
       "  <thead>\n",
       "    <tr style=\"text-align: right;\">\n",
       "      <th></th>\n",
       "      <th>Model</th>\n",
       "      <th>Training MSE</th>\n",
       "      <th>Testing MSE</th>\n",
       "      <th>Training R2 Score</th>\n",
       "      <th>Testing R2 Score</th>\n",
       "    </tr>\n",
       "  </thead>\n",
       "  <tbody>\n",
       "    <tr>\n",
       "      <th>0</th>\n",
       "      <td>Linear Regression</td>\n",
       "      <td>3.742942e-03</td>\n",
       "      <td>9.825571e+22</td>\n",
       "      <td>0.884990</td>\n",
       "      <td>-3.771669e+24</td>\n",
       "    </tr>\n",
       "    <tr>\n",
       "      <th>1</th>\n",
       "      <td>Decision Tree</td>\n",
       "      <td>1.481485e-35</td>\n",
       "      <td>1.029009e-05</td>\n",
       "      <td>1.000000</td>\n",
       "      <td>9.996050e-01</td>\n",
       "    </tr>\n",
       "    <tr>\n",
       "      <th>2</th>\n",
       "      <td>Random Forest</td>\n",
       "      <td>5.187704e-06</td>\n",
       "      <td>2.243741e-06</td>\n",
       "      <td>0.999841</td>\n",
       "      <td>9.999139e-01</td>\n",
       "    </tr>\n",
       "    <tr>\n",
       "      <th>3</th>\n",
       "      <td>XGBoost</td>\n",
       "      <td>6.430831e-07</td>\n",
       "      <td>1.887755e-05</td>\n",
       "      <td>0.999980</td>\n",
       "      <td>9.992754e-01</td>\n",
       "    </tr>\n",
       "  </tbody>\n",
       "</table>\n",
       "</div>"
      ],
      "text/plain": [
       "               Model  Training MSE   Testing MSE  Training R2 Score  \\\n",
       "0  Linear Regression  3.742942e-03  9.825571e+22           0.884990   \n",
       "1      Decision Tree  1.481485e-35  1.029009e-05           1.000000   \n",
       "2      Random Forest  5.187704e-06  2.243741e-06           0.999841   \n",
       "3            XGBoost  6.430831e-07  1.887755e-05           0.999980   \n",
       "\n",
       "   Testing R2 Score  \n",
       "0     -3.771669e+24  \n",
       "1      9.996050e-01  \n",
       "2      9.999139e-01  \n",
       "3      9.992754e-01  "
      ]
     },
     "execution_count": 44,
     "metadata": {},
     "output_type": "execute_result"
    }
   ],
   "source": [
    "\n",
    "models = {\n",
    "    'Linear Regression': LinearRegression(),\n",
    "    'Decision Tree': DecisionTreeRegressor(random_state=42),\n",
    "    'Random Forest': RandomForestRegressor(random_state=42),\n",
    "    'XGBoost': XGBRegressor(random_state=42)\n",
    "}\n",
    "results = []\n",
    "for name, model in models.items():\n",
    "    model.fit(X_train, y_train)\n",
    "    y_pred_train = model.predict(X_train)\n",
    "    y_pred_test = model.predict(X_test)\n",
    "    train_mse = mean_squared_error(y_train, y_pred_train)\n",
    "    test_mse = mean_squared_error(y_test, y_pred_test)\n",
    "    train_r2 = r2_score(y_train, y_pred_train)\n",
    "    test_r2 = r2_score(y_test, y_pred_test)\n",
    "    results.append({'Model': name,\n",
    "                    'Training MSE': train_mse,\n",
    "                    'Testing MSE': test_mse,\n",
    "                    'Training R2 Score': train_r2,\n",
    "                    'Testing R2 Score': test_r2})\n",
    "results_df = pd.DataFrame(results)\n",
    "results_df\n"
   ]
  },
  {
   "cell_type": "markdown",
   "id": "f44768b5",
   "metadata": {
    "papermill": {
     "duration": 0.028802,
     "end_time": "2024-05-19T18:17:54.866000",
     "exception": false,
     "start_time": "2024-05-19T18:17:54.837198",
     "status": "completed"
    },
    "tags": []
   },
   "source": [
    "<a id=\"1\"></a>\n",
    "<div style=\"font-family: Cambria; font-weight: bold; letter-spacing: 0px; color: #ffffff; font-size: 120%; text-align: left; padding: 3px; background-color: #0000ff; border-bottom: 10px solid #80ffff;\">\n",
    "    Conclusion\n",
    "</div>"
   ]
  },
  {
   "cell_type": "markdown",
   "id": "1e30ce2a",
   "metadata": {
    "papermill": {
     "duration": 0.028031,
     "end_time": "2024-05-19T18:17:54.922296",
     "exception": false,
     "start_time": "2024-05-19T18:17:54.894265",
     "status": "completed"
    },
    "tags": []
   },
   "source": [
    "<div style=\"background-color: #66bbf1; padding: 20px; border-radius: 10px;\">\n",
    "    <h1 style=\"text-align: left; font-size: 22px;\">Best Performing Models: Decision Tree, Random Forest, and XGBoost all show excellent performance metrics, with XGBoost having the lowest MSE and MAE.\n",
    "        \n",
    "        \n",
    "Poor Performing Model: Linear Regression exhibits significantly worse performance compared to the other models, as indicated by its unusually large MAE and negative accuracy, making it unsuitable for this dataset.\n",
    "        \n",
    "Based on the provided metrics, XGBoost and Random Forest are recommended for achieving high accuracy and reliable predictions, while caution should be taken with Decision Tree to ensure it does not overfit. Linear Regression should be avoided for this dataset due to its poor performance..</h1>\n",
    "</div>"
   ]
  },
  {
   "cell_type": "markdown",
   "id": "3f1e3f9f",
   "metadata": {
    "papermill": {
     "duration": 0.027788,
     "end_time": "2024-05-19T18:17:54.978550",
     "exception": false,
     "start_time": "2024-05-19T18:17:54.950762",
     "status": "completed"
    },
    "tags": []
   },
   "source": [
    "<div style=\"background-color: #ff0000; padding: 20px; border-radius: 10px;\">\n",
    "    <h1 style=\"text-align: left; font-size: 32px;\">  IF you like this Notebook checkout below Dataset which has better features(columns) , good amount of data and also my work on it </h1>\n",
    "</div>\n"
   ]
  },
  {
   "cell_type": "markdown",
   "id": "e7312428",
   "metadata": {
    "papermill": {
     "duration": 0.028164,
     "end_time": "2024-05-19T18:17:55.034873",
     "exception": false,
     "start_time": "2024-05-19T18:17:55.006709",
     "status": "completed"
    },
    "tags": []
   },
   "source": [
    "### Dataset link: https://www.kaggle.com/datasets/pruthvikmachhi/mobile-dataset-cleaned/data\n",
    "\n",
    "### Notebook link 1: https://www.kaggle.com/code/pruthvikmachhi/smartphone-price-prediction\n",
    "\n",
    "### Notebook link 2: https://www.kaggle.com/code/pruthvikmachhi/mobile-price-prediction-using-ml-dt-lr-rf-xgb"
   ]
  },
  {
   "cell_type": "markdown",
   "id": "99e13be1",
   "metadata": {
    "papermill": {
     "duration": 0.027737,
     "end_time": "2024-05-19T18:17:55.090712",
     "exception": false,
     "start_time": "2024-05-19T18:17:55.062975",
     "status": "completed"
    },
    "tags": []
   },
   "source": [
    "<div style=\"background-color: #66bbf1; padding: 20px; border-radius: 10px;\">\n",
    "    <h1 style=\"text-align: left; font-size: 22px;\">if you like my notebook give upvote , it will encourage me.\n",
    "        thanks for exploring my notebook.</h1>\n",
    "</div>"
   ]
  }
 ],
 "metadata": {
  "kaggle": {
   "accelerator": "none",
   "dataSources": [
    {
     "datasetId": 1137520,
     "sourceId": 1911781,
     "sourceType": "datasetVersion"
    }
   ],
   "dockerImageVersionId": 30698,
   "isGpuEnabled": false,
   "isInternetEnabled": true,
   "language": "python",
   "sourceType": "notebook"
  },
  "kernelspec": {
   "display_name": "Python 3",
   "language": "python",
   "name": "python3"
  },
  "language_info": {
   "codemirror_mode": {
    "name": "ipython",
    "version": 3
   },
   "file_extension": ".py",
   "mimetype": "text/x-python",
   "name": "python",
   "nbconvert_exporter": "python",
   "pygments_lexer": "ipython3",
   "version": "3.10.13"
  },
  "papermill": {
   "default_parameters": {},
   "duration": 146.634804,
   "end_time": "2024-05-19T18:17:57.742308",
   "environment_variables": {},
   "exception": null,
   "input_path": "__notebook__.ipynb",
   "output_path": "__notebook__.ipynb",
   "parameters": {},
   "start_time": "2024-05-19T18:15:31.107504",
   "version": "2.5.0"
  }
 },
 "nbformat": 4,
 "nbformat_minor": 5
}
