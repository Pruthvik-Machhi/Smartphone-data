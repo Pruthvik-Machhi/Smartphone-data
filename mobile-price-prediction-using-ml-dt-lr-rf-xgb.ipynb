{
 "cells": [
  {
   "cell_type": "markdown",
   "id": "563ad828",
   "metadata": {
    "papermill": {
     "duration": 0.019989,
     "end_time": "2024-05-19T18:11:48.152069",
     "exception": false,
     "start_time": "2024-05-19T18:11:48.132080",
     "status": "completed"
    },
    "tags": []
   },
   "source": [
    ">\r\n"
   ]
  },
  {
   "cell_type": "markdown",
   "id": "597b0b4c",
   "metadata": {
    "papermill": {
     "duration": 0.017503,
     "end_time": "2024-05-19T18:11:48.187741",
     "exception": false,
     "start_time": "2024-05-19T18:11:48.170238",
     "status": "completed"
    },
    "tags": []
   },
   "source": [
    "<div style=\"background-color: #ff0000; padding: 20px; border-radius: 10px;\">\n",
    "    <h1 style=\"text-align: left; font-size: 32px;\">  Smartphone Price Prediction </h1>\n",
    "</div>\n"
   ]
  },
  {
   "cell_type": "markdown",
   "id": "00f4bae5",
   "metadata": {
    "papermill": {
     "duration": 0.017863,
     "end_time": "2024-05-19T18:11:48.225305",
     "exception": false,
     "start_time": "2024-05-19T18:11:48.207442",
     "status": "completed"
    },
    "tags": []
   },
   "source": [
    "# <div style= \"font-family: Cambria; font-weight:bold; letter-spacing: 0px; color:black; font-size:120%; text-align:left;padding:3.0px; background: #cceeff; border-bottom: 8px solid #004466\" > TABLE OF CONTENTS<br><div>  \n",
    "* [LIBRARY IMPORTS](#1)\n",
    "* [LOAD DATA](#2)\n",
    "* [Statastical Summary](#3)\n",
    "* [Encoding](#4) \n",
    "* [EDA](#5)\n",
    "* [Feature Scaling](#6) \n",
    "* [Splitting data](#7) \n",
    "* [Training and evalution of model](#8) \n",
    "* [Splitting data](#7)\n",
    "* [Model comparison](#8) \n",
    "* [Conclusion](#9) \n",
    "   "
   ]
  },
  {
   "cell_type": "code",
   "execution_count": 1,
   "id": "90f2a03b",
   "metadata": {
    "execution": {
     "iopub.execute_input": "2024-05-19T18:11:48.263573Z",
     "iopub.status.busy": "2024-05-19T18:11:48.262792Z",
     "iopub.status.idle": "2024-05-19T18:11:49.049357Z",
     "shell.execute_reply": "2024-05-19T18:11:49.048334Z"
    },
    "papermill": {
     "duration": 0.808161,
     "end_time": "2024-05-19T18:11:49.051540",
     "exception": false,
     "start_time": "2024-05-19T18:11:48.243379",
     "status": "completed"
    },
    "tags": []
   },
   "outputs": [
    {
     "name": "stdout",
     "output_type": "stream",
     "text": [
      "/kaggle/input/mobile-phone-price/Mobile phone price.csv\n"
     ]
    }
   ],
   "source": [
    "# This Python 3 environment comes with many helpful analytics libraries installed\n",
    "# It is defined by the kaggle/python Docker image: https://github.com/kaggle/docker-python\n",
    "# For example, here's several helpful packages to load\n",
    "\n",
    "import numpy as np # linear algebra\n",
    "import pandas as pd # data processing, CSV file I/O (e.g. pd.read_csv)\n",
    "\n",
    "# Input data files are available in the read-only \"../input/\" directory\n",
    "# For example, running this (by clicking run or pressing Shift+Enter) will list all files under the input directory\n",
    "\n",
    "import os\n",
    "for dirname, _, filenames in os.walk('/kaggle/input'):\n",
    "    for filename in filenames:\n",
    "        print(os.path.join(dirname, filename))\n",
    "\n",
    "# You can write up to 20GB to the current directory (/kaggle/working/) that gets preserved as output when you create a version using \"Save & Run All\" \n",
    "# You can also write temporary files to /kaggle/temp/, but they won't be saved outside of the current session"
   ]
  },
  {
   "cell_type": "markdown",
   "id": "d9ca4fdb",
   "metadata": {
    "papermill": {
     "duration": 0.01746,
     "end_time": "2024-05-19T18:11:49.086813",
     "exception": false,
     "start_time": "2024-05-19T18:11:49.069353",
     "status": "completed"
    },
    "tags": []
   },
   "source": [
    "<a id=\"1\"></a>\n",
    "<div style=\"font-family: Cambria; font-weight: bold; letter-spacing: 0px; color: #ffffff; font-size: 120%; text-align: left; padding: 3px; background-color: #0000ff; border-bottom: 10px solid #80ffff;\">\n",
    "    LIBRARY IMPORTS\n",
    "</div>\n"
   ]
  },
  {
   "cell_type": "code",
   "execution_count": 2,
   "id": "6e1300be",
   "metadata": {
    "execution": {
     "iopub.execute_input": "2024-05-19T18:11:49.123767Z",
     "iopub.status.busy": "2024-05-19T18:11:49.123089Z",
     "iopub.status.idle": "2024-05-19T18:11:50.628821Z",
     "shell.execute_reply": "2024-05-19T18:11:50.627822Z"
    },
    "papermill": {
     "duration": 1.526796,
     "end_time": "2024-05-19T18:11:50.631204",
     "exception": false,
     "start_time": "2024-05-19T18:11:49.104408",
     "status": "completed"
    },
    "tags": []
   },
   "outputs": [],
   "source": [
    "import pandas as pd\n",
    "import seaborn as sns\n",
    "from sklearn.model_selection import train_test_split\n",
    "from sklearn.neighbors import KNeighborsRegressor\n",
    "from sklearn.metrics import mean_squared_error, r2_score\n",
    "import matplotlib.pyplot as plt\n",
    "import warnings\n",
    "warnings.filterwarnings('ignore')"
   ]
  },
  {
   "cell_type": "markdown",
   "id": "4f68ca32",
   "metadata": {
    "papermill": {
     "duration": 0.017322,
     "end_time": "2024-05-19T18:11:50.666404",
     "exception": false,
     "start_time": "2024-05-19T18:11:50.649082",
     "status": "completed"
    },
    "tags": []
   },
   "source": [
    "<a id=\"1\"></a>\n",
    "<div style=\"font-family: Cambria; font-weight: bold; letter-spacing: 0px; color: #ffffff; font-size: 120%; text-align: left; padding: 3px; background-color: #0000ff; border-bottom: 10px solid #80ffff;\">\n",
    "    LOAD DATA\n",
    "</div>"
   ]
  },
  {
   "cell_type": "code",
   "execution_count": 3,
   "id": "4b6d45a9",
   "metadata": {
    "execution": {
     "iopub.execute_input": "2024-05-19T18:11:50.702430Z",
     "iopub.status.busy": "2024-05-19T18:11:50.702030Z",
     "iopub.status.idle": "2024-05-19T18:11:50.734208Z",
     "shell.execute_reply": "2024-05-19T18:11:50.733539Z"
    },
    "papermill": {
     "duration": 0.052211,
     "end_time": "2024-05-19T18:11:50.735934",
     "exception": false,
     "start_time": "2024-05-19T18:11:50.683723",
     "status": "completed"
    },
    "tags": []
   },
   "outputs": [
    {
     "data": {
      "text/html": [
       "<div>\n",
       "<style scoped>\n",
       "    .dataframe tbody tr th:only-of-type {\n",
       "        vertical-align: middle;\n",
       "    }\n",
       "\n",
       "    .dataframe tbody tr th {\n",
       "        vertical-align: top;\n",
       "    }\n",
       "\n",
       "    .dataframe thead th {\n",
       "        text-align: right;\n",
       "    }\n",
       "</style>\n",
       "<table border=\"1\" class=\"dataframe\">\n",
       "  <thead>\n",
       "    <tr style=\"text-align: right;\">\n",
       "      <th></th>\n",
       "      <th>Brand</th>\n",
       "      <th>Model</th>\n",
       "      <th>Storage</th>\n",
       "      <th>RAM</th>\n",
       "      <th>Screen Size (inches)</th>\n",
       "      <th>Camera (MP)</th>\n",
       "      <th>Battery Capacity (mAh)</th>\n",
       "      <th>Price ($)</th>\n",
       "    </tr>\n",
       "  </thead>\n",
       "  <tbody>\n",
       "    <tr>\n",
       "      <th>0</th>\n",
       "      <td>Apple</td>\n",
       "      <td>iPhone 13 Pro</td>\n",
       "      <td>128 GB</td>\n",
       "      <td>6 GB</td>\n",
       "      <td>6.1</td>\n",
       "      <td>12 + 12 + 12</td>\n",
       "      <td>3095</td>\n",
       "      <td>999</td>\n",
       "    </tr>\n",
       "    <tr>\n",
       "      <th>1</th>\n",
       "      <td>Samsung</td>\n",
       "      <td>Galaxy S21 Ultra</td>\n",
       "      <td>256 GB</td>\n",
       "      <td>12 GB</td>\n",
       "      <td>6.8</td>\n",
       "      <td>108 + 10 + 10 + 12</td>\n",
       "      <td>5000</td>\n",
       "      <td>1199</td>\n",
       "    </tr>\n",
       "    <tr>\n",
       "      <th>2</th>\n",
       "      <td>OnePlus</td>\n",
       "      <td>9 Pro</td>\n",
       "      <td>128 GB</td>\n",
       "      <td>8 GB</td>\n",
       "      <td>6.7</td>\n",
       "      <td>48 + 50 + 8 + 2</td>\n",
       "      <td>4500</td>\n",
       "      <td>899</td>\n",
       "    </tr>\n",
       "    <tr>\n",
       "      <th>3</th>\n",
       "      <td>Xiaomi</td>\n",
       "      <td>Redmi Note 10 Pro</td>\n",
       "      <td>128 GB</td>\n",
       "      <td>6 GB</td>\n",
       "      <td>6.67</td>\n",
       "      <td>64 + 8 + 5 + 2</td>\n",
       "      <td>5020</td>\n",
       "      <td>279</td>\n",
       "    </tr>\n",
       "    <tr>\n",
       "      <th>4</th>\n",
       "      <td>Google</td>\n",
       "      <td>Pixel 6</td>\n",
       "      <td>128 GB</td>\n",
       "      <td>8 GB</td>\n",
       "      <td>6.4</td>\n",
       "      <td>50 + 12.2</td>\n",
       "      <td>4614</td>\n",
       "      <td>799</td>\n",
       "    </tr>\n",
       "  </tbody>\n",
       "</table>\n",
       "</div>"
      ],
      "text/plain": [
       "     Brand              Model Storage    RAM  Screen Size (inches)  \\\n",
       "0    Apple      iPhone 13 Pro   128 GB   6 GB                  6.1   \n",
       "1  Samsung   Galaxy S21 Ultra   256 GB  12 GB                  6.8   \n",
       "2  OnePlus              9 Pro   128 GB   8 GB                  6.7   \n",
       "3   Xiaomi  Redmi Note 10 Pro   128 GB   6 GB                 6.67   \n",
       "4   Google            Pixel 6   128 GB   8 GB                  6.4   \n",
       "\n",
       "          Camera (MP)  Battery Capacity (mAh) Price ($)  \n",
       "0        12 + 12 + 12                    3095       999  \n",
       "1  108 + 10 + 10 + 12                    5000      1199  \n",
       "2     48 + 50 + 8 + 2                    4500       899  \n",
       "3      64 + 8 + 5 + 2                    5020       279  \n",
       "4           50 + 12.2                    4614       799  "
      ]
     },
     "execution_count": 3,
     "metadata": {},
     "output_type": "execute_result"
    }
   ],
   "source": [
    "df = pd.read_csv('/kaggle/input/mobile-phone-price/Mobile phone price.csv')\n",
    "df.head()"
   ]
  },
  {
   "cell_type": "code",
   "execution_count": 4,
   "id": "cc18b35b",
   "metadata": {
    "execution": {
     "iopub.execute_input": "2024-05-19T18:11:50.772874Z",
     "iopub.status.busy": "2024-05-19T18:11:50.772272Z",
     "iopub.status.idle": "2024-05-19T18:11:50.794669Z",
     "shell.execute_reply": "2024-05-19T18:11:50.793709Z"
    },
    "papermill": {
     "duration": 0.042893,
     "end_time": "2024-05-19T18:11:50.796506",
     "exception": false,
     "start_time": "2024-05-19T18:11:50.753613",
     "status": "completed"
    },
    "tags": []
   },
   "outputs": [
    {
     "name": "stdout",
     "output_type": "stream",
     "text": [
      "<class 'pandas.core.frame.DataFrame'>\n",
      "RangeIndex: 407 entries, 0 to 406\n",
      "Data columns (total 8 columns):\n",
      " #   Column                  Non-Null Count  Dtype \n",
      "---  ------                  --------------  ----- \n",
      " 0   Brand                   407 non-null    object\n",
      " 1   Model                   407 non-null    object\n",
      " 2   Storage                 407 non-null    object\n",
      " 3   RAM                     407 non-null    object\n",
      " 4   Screen Size (inches)    407 non-null    object\n",
      " 5   Camera (MP)             407 non-null    object\n",
      " 6   Battery Capacity (mAh)  407 non-null    int64 \n",
      " 7   Price ($)               407 non-null    object\n",
      "dtypes: int64(1), object(7)\n",
      "memory usage: 25.6+ KB\n"
     ]
    }
   ],
   "source": [
    "df.info()"
   ]
  },
  {
   "cell_type": "markdown",
   "id": "933ea952",
   "metadata": {
    "papermill": {
     "duration": 0.01753,
     "end_time": "2024-05-19T18:11:50.831871",
     "exception": false,
     "start_time": "2024-05-19T18:11:50.814341",
     "status": "completed"
    },
    "tags": []
   },
   "source": [
    "<a id=\"1\"></a>\n",
    "<div style=\"font-family: Cambria; font-weight: bold; letter-spacing: 0px; color: #ffffff; font-size: 120%; text-align: left; padding: 3px; background-color: #0000ff; border-bottom: 10px solid #80ffff;\">\n",
    "    Handling missing data\n",
    "</div>"
   ]
  },
  {
   "cell_type": "code",
   "execution_count": 5,
   "id": "504e6d89",
   "metadata": {
    "execution": {
     "iopub.execute_input": "2024-05-19T18:11:50.869543Z",
     "iopub.status.busy": "2024-05-19T18:11:50.868924Z",
     "iopub.status.idle": "2024-05-19T18:11:50.876929Z",
     "shell.execute_reply": "2024-05-19T18:11:50.876022Z"
    },
    "papermill": {
     "duration": 0.028999,
     "end_time": "2024-05-19T18:11:50.878825",
     "exception": false,
     "start_time": "2024-05-19T18:11:50.849826",
     "status": "completed"
    },
    "tags": []
   },
   "outputs": [
    {
     "data": {
      "text/plain": [
       "Brand                     0\n",
       "Model                     0\n",
       "Storage                   0\n",
       "RAM                       0\n",
       "Screen Size (inches)      0\n",
       "Camera (MP)               0\n",
       "Battery Capacity (mAh)    0\n",
       "Price ($)                 0\n",
       "dtype: int64"
      ]
     },
     "execution_count": 5,
     "metadata": {},
     "output_type": "execute_result"
    }
   ],
   "source": [
    "df.isnull().sum()"
   ]
  },
  {
   "cell_type": "code",
   "execution_count": 6,
   "id": "25c9c5c0",
   "metadata": {
    "execution": {
     "iopub.execute_input": "2024-05-19T18:11:50.916376Z",
     "iopub.status.busy": "2024-05-19T18:11:50.915786Z",
     "iopub.status.idle": "2024-05-19T18:11:50.921538Z",
     "shell.execute_reply": "2024-05-19T18:11:50.920640Z"
    },
    "papermill": {
     "duration": 0.026874,
     "end_time": "2024-05-19T18:11:50.923611",
     "exception": false,
     "start_time": "2024-05-19T18:11:50.896737",
     "status": "completed"
    },
    "tags": []
   },
   "outputs": [
    {
     "data": {
      "text/plain": [
       "(407, 8)"
      ]
     },
     "execution_count": 6,
     "metadata": {},
     "output_type": "execute_result"
    }
   ],
   "source": [
    "df.shape"
   ]
  },
  {
   "cell_type": "markdown",
   "id": "41d155ed",
   "metadata": {
    "papermill": {
     "duration": 0.017755,
     "end_time": "2024-05-19T18:11:50.959396",
     "exception": false,
     "start_time": "2024-05-19T18:11:50.941641",
     "status": "completed"
    },
    "tags": []
   },
   "source": [
    "<a id=\"1\"></a>\n",
    "<div style=\"font-family: Cambria; font-weight: bold; letter-spacing: 0px; color: #ffffff; font-size: 120%; text-align: left; padding: 3px; background-color: #0000ff; border-bottom: 10px solid #80ffff;\">\n",
    "    Statastical Summary\n",
    "</div>"
   ]
  },
  {
   "cell_type": "code",
   "execution_count": 7,
   "id": "011b5025",
   "metadata": {
    "execution": {
     "iopub.execute_input": "2024-05-19T18:11:50.997922Z",
     "iopub.status.busy": "2024-05-19T18:11:50.997239Z",
     "iopub.status.idle": "2024-05-19T18:11:51.094765Z",
     "shell.execute_reply": "2024-05-19T18:11:51.093744Z"
    },
    "papermill": {
     "duration": 0.119696,
     "end_time": "2024-05-19T18:11:51.097106",
     "exception": false,
     "start_time": "2024-05-19T18:11:50.977410",
     "status": "completed"
    },
    "tags": []
   },
   "outputs": [
    {
     "data": {
      "text/html": [
       "<style type=\"text/css\">\n",
       "#T_c93db_row0_col0, #T_c93db_row0_col1, #T_c93db_row0_col2, #T_c93db_row0_col3, #T_c93db_row0_col4, #T_c93db_row0_col5, #T_c93db_row0_col6, #T_c93db_row0_col7 {\n",
       "  background-color: #440154;\n",
       "  color: #f1f1f1;\n",
       "}\n",
       "</style>\n",
       "<table id=\"T_c93db\">\n",
       "  <thead>\n",
       "    <tr>\n",
       "      <th class=\"blank level0\" >&nbsp;</th>\n",
       "      <th id=\"T_c93db_level0_col0\" class=\"col_heading level0 col0\" >count</th>\n",
       "      <th id=\"T_c93db_level0_col1\" class=\"col_heading level0 col1\" >mean</th>\n",
       "      <th id=\"T_c93db_level0_col2\" class=\"col_heading level0 col2\" >std</th>\n",
       "      <th id=\"T_c93db_level0_col3\" class=\"col_heading level0 col3\" >min</th>\n",
       "      <th id=\"T_c93db_level0_col4\" class=\"col_heading level0 col4\" >25%</th>\n",
       "      <th id=\"T_c93db_level0_col5\" class=\"col_heading level0 col5\" >50%</th>\n",
       "      <th id=\"T_c93db_level0_col6\" class=\"col_heading level0 col6\" >75%</th>\n",
       "      <th id=\"T_c93db_level0_col7\" class=\"col_heading level0 col7\" >max</th>\n",
       "    </tr>\n",
       "  </thead>\n",
       "  <tbody>\n",
       "    <tr>\n",
       "      <th id=\"T_c93db_level0_row0\" class=\"row_heading level0 row0\" >Battery Capacity (mAh)</th>\n",
       "      <td id=\"T_c93db_row0_col0\" class=\"data row0 col0\" >407.000000</td>\n",
       "      <td id=\"T_c93db_row0_col1\" class=\"data row0 col1\" >4676.476658</td>\n",
       "      <td id=\"T_c93db_row0_col2\" class=\"data row0 col2\" >797.193713</td>\n",
       "      <td id=\"T_c93db_row0_col3\" class=\"data row0 col3\" >1821.000000</td>\n",
       "      <td id=\"T_c93db_row0_col4\" class=\"data row0 col4\" >4300.000000</td>\n",
       "      <td id=\"T_c93db_row0_col5\" class=\"data row0 col5\" >5000.000000</td>\n",
       "      <td id=\"T_c93db_row0_col6\" class=\"data row0 col6\" >5000.000000</td>\n",
       "      <td id=\"T_c93db_row0_col7\" class=\"data row0 col7\" >7000.000000</td>\n",
       "    </tr>\n",
       "  </tbody>\n",
       "</table>\n"
      ],
      "text/plain": [
       "<pandas.io.formats.style.Styler at 0x7f94c35adcc0>"
      ]
     },
     "execution_count": 7,
     "metadata": {},
     "output_type": "execute_result"
    }
   ],
   "source": [
    "numerical_summary = df.describe().transpose()\n",
    "palette = sns.color_palette(\"viridis\", as_cmap=True)\n",
    "numerical_summary.style.background_gradient(cmap=palette)"
   ]
  },
  {
   "cell_type": "markdown",
   "id": "00a07eb6",
   "metadata": {
    "papermill": {
     "duration": 0.018034,
     "end_time": "2024-05-19T18:11:51.133731",
     "exception": false,
     "start_time": "2024-05-19T18:11:51.115697",
     "status": "completed"
    },
    "tags": []
   },
   "source": [
    "<a id=\"1\"></a>\n",
    "<div style=\"font-family: Cambria; font-weight: bold; letter-spacing: 0px; color: #ffffff; font-size: 120%; text-align: left; padding: 3px; background-color: #0000ff; border-bottom: 10px solid #80ffff;\">\n",
    "    Encoding\n",
    "</div>"
   ]
  },
  {
   "cell_type": "code",
   "execution_count": 8,
   "id": "71b120cb",
   "metadata": {
    "execution": {
     "iopub.execute_input": "2024-05-19T18:11:51.173149Z",
     "iopub.status.busy": "2024-05-19T18:11:51.172088Z",
     "iopub.status.idle": "2024-05-19T18:11:51.188316Z",
     "shell.execute_reply": "2024-05-19T18:11:51.187436Z"
    },
    "papermill": {
     "duration": 0.03822,
     "end_time": "2024-05-19T18:11:51.190199",
     "exception": false,
     "start_time": "2024-05-19T18:11:51.151979",
     "status": "completed"
    },
    "tags": []
   },
   "outputs": [
    {
     "data": {
      "text/html": [
       "<div>\n",
       "<style scoped>\n",
       "    .dataframe tbody tr th:only-of-type {\n",
       "        vertical-align: middle;\n",
       "    }\n",
       "\n",
       "    .dataframe tbody tr th {\n",
       "        vertical-align: top;\n",
       "    }\n",
       "\n",
       "    .dataframe thead th {\n",
       "        text-align: right;\n",
       "    }\n",
       "</style>\n",
       "<table border=\"1\" class=\"dataframe\">\n",
       "  <thead>\n",
       "    <tr style=\"text-align: right;\">\n",
       "      <th></th>\n",
       "      <th>Brand</th>\n",
       "      <th>Storage</th>\n",
       "      <th>RAM</th>\n",
       "      <th>Price ($)</th>\n",
       "    </tr>\n",
       "  </thead>\n",
       "  <tbody>\n",
       "    <tr>\n",
       "      <th>0</th>\n",
       "      <td>Apple</td>\n",
       "      <td>128 GB</td>\n",
       "      <td>6 GB</td>\n",
       "      <td>999</td>\n",
       "    </tr>\n",
       "    <tr>\n",
       "      <th>1</th>\n",
       "      <td>Samsung</td>\n",
       "      <td>256 GB</td>\n",
       "      <td>12 GB</td>\n",
       "      <td>1199</td>\n",
       "    </tr>\n",
       "    <tr>\n",
       "      <th>2</th>\n",
       "      <td>OnePlus</td>\n",
       "      <td>128 GB</td>\n",
       "      <td>8 GB</td>\n",
       "      <td>899</td>\n",
       "    </tr>\n",
       "    <tr>\n",
       "      <th>3</th>\n",
       "      <td>Xiaomi</td>\n",
       "      <td>128 GB</td>\n",
       "      <td>6 GB</td>\n",
       "      <td>279</td>\n",
       "    </tr>\n",
       "    <tr>\n",
       "      <th>4</th>\n",
       "      <td>Google</td>\n",
       "      <td>128 GB</td>\n",
       "      <td>8 GB</td>\n",
       "      <td>799</td>\n",
       "    </tr>\n",
       "    <tr>\n",
       "      <th>...</th>\n",
       "      <td>...</td>\n",
       "      <td>...</td>\n",
       "      <td>...</td>\n",
       "      <td>...</td>\n",
       "    </tr>\n",
       "    <tr>\n",
       "      <th>402</th>\n",
       "      <td>Samsung</td>\n",
       "      <td>128</td>\n",
       "      <td>8</td>\n",
       "      <td>1049</td>\n",
       "    </tr>\n",
       "    <tr>\n",
       "      <th>403</th>\n",
       "      <td>Xiaomi</td>\n",
       "      <td>128</td>\n",
       "      <td>6</td>\n",
       "      <td>349</td>\n",
       "    </tr>\n",
       "    <tr>\n",
       "      <th>404</th>\n",
       "      <td>Apple</td>\n",
       "      <td>128</td>\n",
       "      <td>6</td>\n",
       "      <td>1099</td>\n",
       "    </tr>\n",
       "    <tr>\n",
       "      <th>405</th>\n",
       "      <td>Oppo</td>\n",
       "      <td>128</td>\n",
       "      <td>8</td>\n",
       "      <td>429</td>\n",
       "    </tr>\n",
       "    <tr>\n",
       "      <th>406</th>\n",
       "      <td>Samsung</td>\n",
       "      <td>128</td>\n",
       "      <td>6</td>\n",
       "      <td>649</td>\n",
       "    </tr>\n",
       "  </tbody>\n",
       "</table>\n",
       "<p>407 rows × 4 columns</p>\n",
       "</div>"
      ],
      "text/plain": [
       "       Brand Storage    RAM  Price ($)\n",
       "0      Apple   128 GB   6 GB       999\n",
       "1    Samsung   256 GB  12 GB      1199\n",
       "2    OnePlus   128 GB   8 GB       899\n",
       "3     Xiaomi   128 GB   6 GB       279\n",
       "4     Google   128 GB   8 GB       799\n",
       "..       ...      ...    ...       ...\n",
       "402  Samsung      128      8      1049\n",
       "403   Xiaomi      128      6       349\n",
       "404    Apple      128      6      1099\n",
       "405     Oppo      128      8       429\n",
       "406  Samsung      128      6       649\n",
       "\n",
       "[407 rows x 4 columns]"
      ]
     },
     "execution_count": 8,
     "metadata": {},
     "output_type": "execute_result"
    }
   ],
   "source": [
    "drop_col=['Model','Camera (MP)','Screen Size (inches)']\n",
    "df.drop(drop_col,inplace=True,axis=1)\n",
    "object_columns = df.select_dtypes(include=['object']).columns\n",
    "df[object_columns]"
   ]
  },
  {
   "cell_type": "code",
   "execution_count": 9,
   "id": "cad42f8d",
   "metadata": {
    "execution": {
     "iopub.execute_input": "2024-05-19T18:11:51.229295Z",
     "iopub.status.busy": "2024-05-19T18:11:51.228706Z",
     "iopub.status.idle": "2024-05-19T18:11:51.239844Z",
     "shell.execute_reply": "2024-05-19T18:11:51.238973Z"
    },
    "papermill": {
     "duration": 0.032835,
     "end_time": "2024-05-19T18:11:51.241712",
     "exception": false,
     "start_time": "2024-05-19T18:11:51.208877",
     "status": "completed"
    },
    "tags": []
   },
   "outputs": [
    {
     "data": {
      "text/html": [
       "<div>\n",
       "<style scoped>\n",
       "    .dataframe tbody tr th:only-of-type {\n",
       "        vertical-align: middle;\n",
       "    }\n",
       "\n",
       "    .dataframe tbody tr th {\n",
       "        vertical-align: top;\n",
       "    }\n",
       "\n",
       "    .dataframe thead th {\n",
       "        text-align: right;\n",
       "    }\n",
       "</style>\n",
       "<table border=\"1\" class=\"dataframe\">\n",
       "  <thead>\n",
       "    <tr style=\"text-align: right;\">\n",
       "      <th></th>\n",
       "      <th>Brand</th>\n",
       "      <th>Storage</th>\n",
       "      <th>RAM</th>\n",
       "      <th>Price ($)</th>\n",
       "    </tr>\n",
       "  </thead>\n",
       "  <tbody>\n",
       "    <tr>\n",
       "      <th>0</th>\n",
       "      <td>Apple</td>\n",
       "      <td>128 GB</td>\n",
       "      <td>6 GB</td>\n",
       "      <td>999</td>\n",
       "    </tr>\n",
       "    <tr>\n",
       "      <th>1</th>\n",
       "      <td>Samsung</td>\n",
       "      <td>256 GB</td>\n",
       "      <td>12 GB</td>\n",
       "      <td>1199</td>\n",
       "    </tr>\n",
       "    <tr>\n",
       "      <th>2</th>\n",
       "      <td>OnePlus</td>\n",
       "      <td>128 GB</td>\n",
       "      <td>8 GB</td>\n",
       "      <td>899</td>\n",
       "    </tr>\n",
       "    <tr>\n",
       "      <th>3</th>\n",
       "      <td>Xiaomi</td>\n",
       "      <td>128 GB</td>\n",
       "      <td>6 GB</td>\n",
       "      <td>279</td>\n",
       "    </tr>\n",
       "    <tr>\n",
       "      <th>4</th>\n",
       "      <td>Google</td>\n",
       "      <td>128 GB</td>\n",
       "      <td>8 GB</td>\n",
       "      <td>799</td>\n",
       "    </tr>\n",
       "    <tr>\n",
       "      <th>...</th>\n",
       "      <td>...</td>\n",
       "      <td>...</td>\n",
       "      <td>...</td>\n",
       "      <td>...</td>\n",
       "    </tr>\n",
       "    <tr>\n",
       "      <th>402</th>\n",
       "      <td>Samsung</td>\n",
       "      <td>128</td>\n",
       "      <td>8</td>\n",
       "      <td>1049</td>\n",
       "    </tr>\n",
       "    <tr>\n",
       "      <th>403</th>\n",
       "      <td>Xiaomi</td>\n",
       "      <td>128</td>\n",
       "      <td>6</td>\n",
       "      <td>349</td>\n",
       "    </tr>\n",
       "    <tr>\n",
       "      <th>404</th>\n",
       "      <td>Apple</td>\n",
       "      <td>128</td>\n",
       "      <td>6</td>\n",
       "      <td>1099</td>\n",
       "    </tr>\n",
       "    <tr>\n",
       "      <th>405</th>\n",
       "      <td>Oppo</td>\n",
       "      <td>128</td>\n",
       "      <td>8</td>\n",
       "      <td>429</td>\n",
       "    </tr>\n",
       "    <tr>\n",
       "      <th>406</th>\n",
       "      <td>Samsung</td>\n",
       "      <td>128</td>\n",
       "      <td>6</td>\n",
       "      <td>649</td>\n",
       "    </tr>\n",
       "  </tbody>\n",
       "</table>\n",
       "<p>407 rows × 4 columns</p>\n",
       "</div>"
      ],
      "text/plain": [
       "       Brand Storage    RAM  Price ($)\n",
       "0      Apple   128 GB   6 GB       999\n",
       "1    Samsung   256 GB  12 GB      1199\n",
       "2    OnePlus   128 GB   8 GB       899\n",
       "3     Xiaomi   128 GB   6 GB       279\n",
       "4     Google   128 GB   8 GB       799\n",
       "..       ...      ...    ...       ...\n",
       "402  Samsung      128      8      1049\n",
       "403   Xiaomi      128      6       349\n",
       "404    Apple      128      6      1099\n",
       "405     Oppo      128      8       429\n",
       "406  Samsung      128      6       649\n",
       "\n",
       "[407 rows x 4 columns]"
      ]
     },
     "execution_count": 9,
     "metadata": {},
     "output_type": "execute_result"
    }
   ],
   "source": [
    "df[object_columns]"
   ]
  },
  {
   "cell_type": "code",
   "execution_count": 10,
   "id": "9988048d",
   "metadata": {
    "execution": {
     "iopub.execute_input": "2024-05-19T18:11:51.280561Z",
     "iopub.status.busy": "2024-05-19T18:11:51.280224Z",
     "iopub.status.idle": "2024-05-19T18:11:51.287123Z",
     "shell.execute_reply": "2024-05-19T18:11:51.286275Z"
    },
    "papermill": {
     "duration": 0.028602,
     "end_time": "2024-05-19T18:11:51.289012",
     "exception": false,
     "start_time": "2024-05-19T18:11:51.260410",
     "status": "completed"
    },
    "tags": []
   },
   "outputs": [
    {
     "data": {
      "text/plain": [
       "array(['999', '1199', '899', '279', '799', '249', '699', '329', '449',\n",
       "       '199', '299', '379', '179', '729', '599', '139', '189', '399',\n",
       "       '259', '159', '229', '499', '129', '529', '369', '1099', '169',\n",
       "       '99', '459', '239', '1299', '429', '659', '269', '359', '$799 ',\n",
       "       '$399 ', '$699 ', '$329 ', '$999 ', '$549 ', '$1,299 ', '$899 ',\n",
       "       '$449 ', '$319 ', '$269 ', '$349 ', '$279 ', '$249 ', '$299 ',\n",
       "       '$969 ', '$1,199 ', '$149 ', '$139 ', '$99 ', '$199 ', '$169 ',\n",
       "       '$499 ', '$179 ', '$219 ', '$229 ', '$239 ', '$109 ', '$189 ',\n",
       "       '$389 ', '$309 ', '$369 ', '$129 ', '$849 ', '$469 ', '$209 ',\n",
       "       '$119 ', '$339 ', '$429 ', '$159 ', '$379 ', '$289 ', '130', '749',\n",
       "       '149', '969', '649', '349', '419', '1399', '1999', '119', '319',\n",
       "       '1049'], dtype=object)"
      ]
     },
     "execution_count": 10,
     "metadata": {},
     "output_type": "execute_result"
    }
   ],
   "source": [
    "df['Price ($)'].unique()"
   ]
  },
  {
   "cell_type": "code",
   "execution_count": 11,
   "id": "a6a1a76d",
   "metadata": {
    "execution": {
     "iopub.execute_input": "2024-05-19T18:11:51.328150Z",
     "iopub.status.busy": "2024-05-19T18:11:51.327821Z",
     "iopub.status.idle": "2024-05-19T18:11:51.338126Z",
     "shell.execute_reply": "2024-05-19T18:11:51.337482Z"
    },
    "papermill": {
     "duration": 0.031999,
     "end_time": "2024-05-19T18:11:51.339905",
     "exception": false,
     "start_time": "2024-05-19T18:11:51.307906",
     "status": "completed"
    },
    "tags": []
   },
   "outputs": [
    {
     "data": {
      "text/plain": [
       "array([ 999, 1199,  899,  279,  799,  249,  699,  329,  449,  199,  299,\n",
       "        379,  179,  729,  599,  139,  189,  399,  259,  159,  229,  499,\n",
       "        129,  529,  369, 1099,  169,   99,  459,  239, 1299,  429,  659,\n",
       "        269,  359,  549,  319,  349,  969,  149,  219,  109,  389,  309,\n",
       "        849,  469,  209,  119,  339,  289,  130,  749,  649,  419, 1399,\n",
       "       1999, 1049])"
      ]
     },
     "execution_count": 11,
     "metadata": {},
     "output_type": "execute_result"
    }
   ],
   "source": [
    "df['Price ($)'] = df['Price ($)'].str.replace('$', '').str.replace(',', '').str.strip()\n",
    "df['Price ($)'] = pd.to_numeric(df['Price ($)'])\n",
    "df['Price ($)'].unique()"
   ]
  },
  {
   "cell_type": "code",
   "execution_count": 12,
   "id": "8d5cff0d",
   "metadata": {
    "execution": {
     "iopub.execute_input": "2024-05-19T18:11:51.379896Z",
     "iopub.status.busy": "2024-05-19T18:11:51.379328Z",
     "iopub.status.idle": "2024-05-19T18:11:51.385361Z",
     "shell.execute_reply": "2024-05-19T18:11:51.384649Z"
    },
    "papermill": {
     "duration": 0.028284,
     "end_time": "2024-05-19T18:11:51.387349",
     "exception": false,
     "start_time": "2024-05-19T18:11:51.359065",
     "status": "completed"
    },
    "tags": []
   },
   "outputs": [
    {
     "name": "stdout",
     "output_type": "stream",
     "text": [
      "Unique values in 'Brand':\n",
      "['Apple' 'Samsung' 'OnePlus' 'Xiaomi' 'Google' 'Oppo' 'Vivo' 'Realme'\n",
      " 'Motorola' 'Nokia' 'Sony' 'LG' 'Asus' 'Blackberry' 'CAT' 'Huawei']\n",
      "\n",
      "Unique values in 'Storage ':\n",
      "['128 GB' '256 GB' '64 GB' '32 GB' '128GB' '256GB' '64GB' '32GB' '256'\n",
      " '64' '128' '512' '32']\n",
      "\n",
      "Unique values in 'RAM ':\n",
      "['6 GB' '12 GB' '8 GB' '4 GB' '3 GB' '2 GB' '4GB' '8GB' '6GB' '12GB' '3GB'\n",
      " '2GB' '5GB' '12' '3' '6' '8' '4' '16' '2']\n",
      "\n",
      "Unique values in 'Price ($)':\n",
      "[ 999 1199  899  279  799  249  699  329  449  199  299  379  179  729\n",
      "  599  139  189  399  259  159  229  499  129  529  369 1099  169   99\n",
      "  459  239 1299  429  659  269  359  549  319  349  969  149  219  109\n",
      "  389  309  849  469  209  119  339  289  130  749  649  419 1399 1999\n",
      " 1049]\n",
      "\n"
     ]
    }
   ],
   "source": [
    "for column in object_columns:\n",
    "    unique_values = df[column].unique()\n",
    "    print(f\"Unique values in '{column}':\")\n",
    "    print(unique_values)\n",
    "    print()"
   ]
  },
  {
   "cell_type": "code",
   "execution_count": 13,
   "id": "9e41f005",
   "metadata": {
    "execution": {
     "iopub.execute_input": "2024-05-19T18:11:51.472517Z",
     "iopub.status.busy": "2024-05-19T18:11:51.472145Z",
     "iopub.status.idle": "2024-05-19T18:11:51.482418Z",
     "shell.execute_reply": "2024-05-19T18:11:51.481355Z"
    },
    "papermill": {
     "duration": 0.078058,
     "end_time": "2024-05-19T18:11:51.484758",
     "exception": false,
     "start_time": "2024-05-19T18:11:51.406700",
     "status": "completed"
    },
    "tags": []
   },
   "outputs": [
    {
     "name": "stdout",
     "output_type": "stream",
     "text": [
      "[128 256  64  32 512]\n",
      "[ 6 12  8  4  3  2  5 16]\n"
     ]
    }
   ],
   "source": [
    "# Remove 'GB' and convert to integers for 'Storage ' column\n",
    "df['Storage '] = df['Storage '].str.replace('GB', '').str.strip()\n",
    "df['Storage '] = pd.to_numeric(df['Storage '])\n",
    "\n",
    "# Remove 'GB' and convert to integers for 'RAM ' column\n",
    "df['RAM '] = df['RAM '].str.replace('GB', '').str.strip()\n",
    "df['RAM '] = pd.to_numeric(df['RAM '])\n",
    "\n",
    "# Check the result\n",
    "print(df['Storage '].unique())\n",
    "print(df['RAM '].unique())"
   ]
  },
  {
   "cell_type": "code",
   "execution_count": 14,
   "id": "a3f2cde5",
   "metadata": {
    "execution": {
     "iopub.execute_input": "2024-05-19T18:11:51.526274Z",
     "iopub.status.busy": "2024-05-19T18:11:51.525910Z",
     "iopub.status.idle": "2024-05-19T18:11:51.537389Z",
     "shell.execute_reply": "2024-05-19T18:11:51.536532Z"
    },
    "papermill": {
     "duration": 0.03408,
     "end_time": "2024-05-19T18:11:51.539208",
     "exception": false,
     "start_time": "2024-05-19T18:11:51.505128",
     "status": "completed"
    },
    "tags": []
   },
   "outputs": [
    {
     "data": {
      "text/html": [
       "<div>\n",
       "<style scoped>\n",
       "    .dataframe tbody tr th:only-of-type {\n",
       "        vertical-align: middle;\n",
       "    }\n",
       "\n",
       "    .dataframe tbody tr th {\n",
       "        vertical-align: top;\n",
       "    }\n",
       "\n",
       "    .dataframe thead th {\n",
       "        text-align: right;\n",
       "    }\n",
       "</style>\n",
       "<table border=\"1\" class=\"dataframe\">\n",
       "  <thead>\n",
       "    <tr style=\"text-align: right;\">\n",
       "      <th></th>\n",
       "      <th>Brand</th>\n",
       "    </tr>\n",
       "  </thead>\n",
       "  <tbody>\n",
       "    <tr>\n",
       "      <th>0</th>\n",
       "      <td>Apple</td>\n",
       "    </tr>\n",
       "    <tr>\n",
       "      <th>1</th>\n",
       "      <td>Samsung</td>\n",
       "    </tr>\n",
       "    <tr>\n",
       "      <th>2</th>\n",
       "      <td>OnePlus</td>\n",
       "    </tr>\n",
       "    <tr>\n",
       "      <th>3</th>\n",
       "      <td>Xiaomi</td>\n",
       "    </tr>\n",
       "    <tr>\n",
       "      <th>4</th>\n",
       "      <td>Google</td>\n",
       "    </tr>\n",
       "    <tr>\n",
       "      <th>...</th>\n",
       "      <td>...</td>\n",
       "    </tr>\n",
       "    <tr>\n",
       "      <th>402</th>\n",
       "      <td>Samsung</td>\n",
       "    </tr>\n",
       "    <tr>\n",
       "      <th>403</th>\n",
       "      <td>Xiaomi</td>\n",
       "    </tr>\n",
       "    <tr>\n",
       "      <th>404</th>\n",
       "      <td>Apple</td>\n",
       "    </tr>\n",
       "    <tr>\n",
       "      <th>405</th>\n",
       "      <td>Oppo</td>\n",
       "    </tr>\n",
       "    <tr>\n",
       "      <th>406</th>\n",
       "      <td>Samsung</td>\n",
       "    </tr>\n",
       "  </tbody>\n",
       "</table>\n",
       "<p>407 rows × 1 columns</p>\n",
       "</div>"
      ],
      "text/plain": [
       "       Brand\n",
       "0      Apple\n",
       "1    Samsung\n",
       "2    OnePlus\n",
       "3     Xiaomi\n",
       "4     Google\n",
       "..       ...\n",
       "402  Samsung\n",
       "403   Xiaomi\n",
       "404    Apple\n",
       "405     Oppo\n",
       "406  Samsung\n",
       "\n",
       "[407 rows x 1 columns]"
      ]
     },
     "execution_count": 14,
     "metadata": {},
     "output_type": "execute_result"
    }
   ],
   "source": [
    "object_columns = df.select_dtypes(include=['object']).columns\n",
    "df[object_columns]"
   ]
  },
  {
   "cell_type": "markdown",
   "id": "6d675925",
   "metadata": {
    "papermill": {
     "duration": 0.019701,
     "end_time": "2024-05-19T18:11:51.578937",
     "exception": false,
     "start_time": "2024-05-19T18:11:51.559236",
     "status": "completed"
    },
    "tags": []
   },
   "source": [
    "# One-Hot encoding"
   ]
  },
  {
   "cell_type": "code",
   "execution_count": 15,
   "id": "c9a93a52",
   "metadata": {
    "execution": {
     "iopub.execute_input": "2024-05-19T18:11:51.619696Z",
     "iopub.status.busy": "2024-05-19T18:11:51.619326Z",
     "iopub.status.idle": "2024-05-19T18:11:51.626282Z",
     "shell.execute_reply": "2024-05-19T18:11:51.625589Z"
    },
    "papermill": {
     "duration": 0.029547,
     "end_time": "2024-05-19T18:11:51.628104",
     "exception": false,
     "start_time": "2024-05-19T18:11:51.598557",
     "status": "completed"
    },
    "tags": []
   },
   "outputs": [],
   "source": [
    "df1 = pd.get_dummies(df, columns=object_columns)"
   ]
  },
  {
   "cell_type": "code",
   "execution_count": 16,
   "id": "330f2e67",
   "metadata": {
    "execution": {
     "iopub.execute_input": "2024-05-19T18:11:51.668812Z",
     "iopub.status.busy": "2024-05-19T18:11:51.668204Z",
     "iopub.status.idle": "2024-05-19T18:11:51.690365Z",
     "shell.execute_reply": "2024-05-19T18:11:51.689618Z"
    },
    "papermill": {
     "duration": 0.044456,
     "end_time": "2024-05-19T18:11:51.692162",
     "exception": false,
     "start_time": "2024-05-19T18:11:51.647706",
     "status": "completed"
    },
    "tags": []
   },
   "outputs": [
    {
     "data": {
      "text/html": [
       "<div>\n",
       "<style scoped>\n",
       "    .dataframe tbody tr th:only-of-type {\n",
       "        vertical-align: middle;\n",
       "    }\n",
       "\n",
       "    .dataframe tbody tr th {\n",
       "        vertical-align: top;\n",
       "    }\n",
       "\n",
       "    .dataframe thead th {\n",
       "        text-align: right;\n",
       "    }\n",
       "</style>\n",
       "<table border=\"1\" class=\"dataframe\">\n",
       "  <thead>\n",
       "    <tr style=\"text-align: right;\">\n",
       "      <th></th>\n",
       "      <th>Storage</th>\n",
       "      <th>RAM</th>\n",
       "      <th>Battery Capacity (mAh)</th>\n",
       "      <th>Price ($)</th>\n",
       "      <th>Brand_Apple</th>\n",
       "      <th>Brand_Asus</th>\n",
       "      <th>Brand_Blackberry</th>\n",
       "      <th>Brand_CAT</th>\n",
       "      <th>Brand_Google</th>\n",
       "      <th>Brand_Huawei</th>\n",
       "      <th>Brand_LG</th>\n",
       "      <th>Brand_Motorola</th>\n",
       "      <th>Brand_Nokia</th>\n",
       "      <th>Brand_OnePlus</th>\n",
       "      <th>Brand_Oppo</th>\n",
       "      <th>Brand_Realme</th>\n",
       "      <th>Brand_Samsung</th>\n",
       "      <th>Brand_Sony</th>\n",
       "      <th>Brand_Vivo</th>\n",
       "      <th>Brand_Xiaomi</th>\n",
       "    </tr>\n",
       "  </thead>\n",
       "  <tbody>\n",
       "    <tr>\n",
       "      <th>0</th>\n",
       "      <td>128</td>\n",
       "      <td>6</td>\n",
       "      <td>3095</td>\n",
       "      <td>999</td>\n",
       "      <td>True</td>\n",
       "      <td>False</td>\n",
       "      <td>False</td>\n",
       "      <td>False</td>\n",
       "      <td>False</td>\n",
       "      <td>False</td>\n",
       "      <td>False</td>\n",
       "      <td>False</td>\n",
       "      <td>False</td>\n",
       "      <td>False</td>\n",
       "      <td>False</td>\n",
       "      <td>False</td>\n",
       "      <td>False</td>\n",
       "      <td>False</td>\n",
       "      <td>False</td>\n",
       "      <td>False</td>\n",
       "    </tr>\n",
       "    <tr>\n",
       "      <th>1</th>\n",
       "      <td>256</td>\n",
       "      <td>12</td>\n",
       "      <td>5000</td>\n",
       "      <td>1199</td>\n",
       "      <td>False</td>\n",
       "      <td>False</td>\n",
       "      <td>False</td>\n",
       "      <td>False</td>\n",
       "      <td>False</td>\n",
       "      <td>False</td>\n",
       "      <td>False</td>\n",
       "      <td>False</td>\n",
       "      <td>False</td>\n",
       "      <td>False</td>\n",
       "      <td>False</td>\n",
       "      <td>False</td>\n",
       "      <td>True</td>\n",
       "      <td>False</td>\n",
       "      <td>False</td>\n",
       "      <td>False</td>\n",
       "    </tr>\n",
       "    <tr>\n",
       "      <th>2</th>\n",
       "      <td>128</td>\n",
       "      <td>8</td>\n",
       "      <td>4500</td>\n",
       "      <td>899</td>\n",
       "      <td>False</td>\n",
       "      <td>False</td>\n",
       "      <td>False</td>\n",
       "      <td>False</td>\n",
       "      <td>False</td>\n",
       "      <td>False</td>\n",
       "      <td>False</td>\n",
       "      <td>False</td>\n",
       "      <td>False</td>\n",
       "      <td>True</td>\n",
       "      <td>False</td>\n",
       "      <td>False</td>\n",
       "      <td>False</td>\n",
       "      <td>False</td>\n",
       "      <td>False</td>\n",
       "      <td>False</td>\n",
       "    </tr>\n",
       "    <tr>\n",
       "      <th>3</th>\n",
       "      <td>128</td>\n",
       "      <td>6</td>\n",
       "      <td>5020</td>\n",
       "      <td>279</td>\n",
       "      <td>False</td>\n",
       "      <td>False</td>\n",
       "      <td>False</td>\n",
       "      <td>False</td>\n",
       "      <td>False</td>\n",
       "      <td>False</td>\n",
       "      <td>False</td>\n",
       "      <td>False</td>\n",
       "      <td>False</td>\n",
       "      <td>False</td>\n",
       "      <td>False</td>\n",
       "      <td>False</td>\n",
       "      <td>False</td>\n",
       "      <td>False</td>\n",
       "      <td>False</td>\n",
       "      <td>True</td>\n",
       "    </tr>\n",
       "    <tr>\n",
       "      <th>4</th>\n",
       "      <td>128</td>\n",
       "      <td>8</td>\n",
       "      <td>4614</td>\n",
       "      <td>799</td>\n",
       "      <td>False</td>\n",
       "      <td>False</td>\n",
       "      <td>False</td>\n",
       "      <td>False</td>\n",
       "      <td>True</td>\n",
       "      <td>False</td>\n",
       "      <td>False</td>\n",
       "      <td>False</td>\n",
       "      <td>False</td>\n",
       "      <td>False</td>\n",
       "      <td>False</td>\n",
       "      <td>False</td>\n",
       "      <td>False</td>\n",
       "      <td>False</td>\n",
       "      <td>False</td>\n",
       "      <td>False</td>\n",
       "    </tr>\n",
       "    <tr>\n",
       "      <th>...</th>\n",
       "      <td>...</td>\n",
       "      <td>...</td>\n",
       "      <td>...</td>\n",
       "      <td>...</td>\n",
       "      <td>...</td>\n",
       "      <td>...</td>\n",
       "      <td>...</td>\n",
       "      <td>...</td>\n",
       "      <td>...</td>\n",
       "      <td>...</td>\n",
       "      <td>...</td>\n",
       "      <td>...</td>\n",
       "      <td>...</td>\n",
       "      <td>...</td>\n",
       "      <td>...</td>\n",
       "      <td>...</td>\n",
       "      <td>...</td>\n",
       "      <td>...</td>\n",
       "      <td>...</td>\n",
       "      <td>...</td>\n",
       "    </tr>\n",
       "    <tr>\n",
       "      <th>402</th>\n",
       "      <td>128</td>\n",
       "      <td>8</td>\n",
       "      <td>4300</td>\n",
       "      <td>1049</td>\n",
       "      <td>False</td>\n",
       "      <td>False</td>\n",
       "      <td>False</td>\n",
       "      <td>False</td>\n",
       "      <td>False</td>\n",
       "      <td>False</td>\n",
       "      <td>False</td>\n",
       "      <td>False</td>\n",
       "      <td>False</td>\n",
       "      <td>False</td>\n",
       "      <td>False</td>\n",
       "      <td>False</td>\n",
       "      <td>True</td>\n",
       "      <td>False</td>\n",
       "      <td>False</td>\n",
       "      <td>False</td>\n",
       "    </tr>\n",
       "    <tr>\n",
       "      <th>403</th>\n",
       "      <td>128</td>\n",
       "      <td>6</td>\n",
       "      <td>4160</td>\n",
       "      <td>349</td>\n",
       "      <td>False</td>\n",
       "      <td>False</td>\n",
       "      <td>False</td>\n",
       "      <td>False</td>\n",
       "      <td>False</td>\n",
       "      <td>False</td>\n",
       "      <td>False</td>\n",
       "      <td>False</td>\n",
       "      <td>False</td>\n",
       "      <td>False</td>\n",
       "      <td>False</td>\n",
       "      <td>False</td>\n",
       "      <td>False</td>\n",
       "      <td>False</td>\n",
       "      <td>False</td>\n",
       "      <td>True</td>\n",
       "    </tr>\n",
       "    <tr>\n",
       "      <th>404</th>\n",
       "      <td>128</td>\n",
       "      <td>6</td>\n",
       "      <td>3687</td>\n",
       "      <td>1099</td>\n",
       "      <td>True</td>\n",
       "      <td>False</td>\n",
       "      <td>False</td>\n",
       "      <td>False</td>\n",
       "      <td>False</td>\n",
       "      <td>False</td>\n",
       "      <td>False</td>\n",
       "      <td>False</td>\n",
       "      <td>False</td>\n",
       "      <td>False</td>\n",
       "      <td>False</td>\n",
       "      <td>False</td>\n",
       "      <td>False</td>\n",
       "      <td>False</td>\n",
       "      <td>False</td>\n",
       "      <td>False</td>\n",
       "    </tr>\n",
       "    <tr>\n",
       "      <th>405</th>\n",
       "      <td>128</td>\n",
       "      <td>8</td>\n",
       "      <td>4025</td>\n",
       "      <td>429</td>\n",
       "      <td>False</td>\n",
       "      <td>False</td>\n",
       "      <td>False</td>\n",
       "      <td>False</td>\n",
       "      <td>False</td>\n",
       "      <td>False</td>\n",
       "      <td>False</td>\n",
       "      <td>False</td>\n",
       "      <td>False</td>\n",
       "      <td>False</td>\n",
       "      <td>True</td>\n",
       "      <td>False</td>\n",
       "      <td>False</td>\n",
       "      <td>False</td>\n",
       "      <td>False</td>\n",
       "      <td>False</td>\n",
       "    </tr>\n",
       "    <tr>\n",
       "      <th>406</th>\n",
       "      <td>128</td>\n",
       "      <td>6</td>\n",
       "      <td>4500</td>\n",
       "      <td>649</td>\n",
       "      <td>False</td>\n",
       "      <td>False</td>\n",
       "      <td>False</td>\n",
       "      <td>False</td>\n",
       "      <td>False</td>\n",
       "      <td>False</td>\n",
       "      <td>False</td>\n",
       "      <td>False</td>\n",
       "      <td>False</td>\n",
       "      <td>False</td>\n",
       "      <td>False</td>\n",
       "      <td>False</td>\n",
       "      <td>True</td>\n",
       "      <td>False</td>\n",
       "      <td>False</td>\n",
       "      <td>False</td>\n",
       "    </tr>\n",
       "  </tbody>\n",
       "</table>\n",
       "<p>407 rows × 20 columns</p>\n",
       "</div>"
      ],
      "text/plain": [
       "     Storage   RAM   Battery Capacity (mAh)  Price ($)  Brand_Apple  \\\n",
       "0         128     6                    3095        999         True   \n",
       "1         256    12                    5000       1199        False   \n",
       "2         128     8                    4500        899        False   \n",
       "3         128     6                    5020        279        False   \n",
       "4         128     8                    4614        799        False   \n",
       "..        ...   ...                     ...        ...          ...   \n",
       "402       128     8                    4300       1049        False   \n",
       "403       128     6                    4160        349        False   \n",
       "404       128     6                    3687       1099         True   \n",
       "405       128     8                    4025        429        False   \n",
       "406       128     6                    4500        649        False   \n",
       "\n",
       "     Brand_Asus  Brand_Blackberry  Brand_CAT  Brand_Google  Brand_Huawei  \\\n",
       "0         False             False      False         False         False   \n",
       "1         False             False      False         False         False   \n",
       "2         False             False      False         False         False   \n",
       "3         False             False      False         False         False   \n",
       "4         False             False      False          True         False   \n",
       "..          ...               ...        ...           ...           ...   \n",
       "402       False             False      False         False         False   \n",
       "403       False             False      False         False         False   \n",
       "404       False             False      False         False         False   \n",
       "405       False             False      False         False         False   \n",
       "406       False             False      False         False         False   \n",
       "\n",
       "     Brand_LG  Brand_Motorola  Brand_Nokia  Brand_OnePlus  Brand_Oppo  \\\n",
       "0       False           False        False          False       False   \n",
       "1       False           False        False          False       False   \n",
       "2       False           False        False           True       False   \n",
       "3       False           False        False          False       False   \n",
       "4       False           False        False          False       False   \n",
       "..        ...             ...          ...            ...         ...   \n",
       "402     False           False        False          False       False   \n",
       "403     False           False        False          False       False   \n",
       "404     False           False        False          False       False   \n",
       "405     False           False        False          False        True   \n",
       "406     False           False        False          False       False   \n",
       "\n",
       "     Brand_Realme  Brand_Samsung  Brand_Sony  Brand_Vivo  Brand_Xiaomi  \n",
       "0           False          False       False       False         False  \n",
       "1           False           True       False       False         False  \n",
       "2           False          False       False       False         False  \n",
       "3           False          False       False       False          True  \n",
       "4           False          False       False       False         False  \n",
       "..            ...            ...         ...         ...           ...  \n",
       "402         False           True       False       False         False  \n",
       "403         False          False       False       False          True  \n",
       "404         False          False       False       False         False  \n",
       "405         False          False       False       False         False  \n",
       "406         False           True       False       False         False  \n",
       "\n",
       "[407 rows x 20 columns]"
      ]
     },
     "execution_count": 16,
     "metadata": {},
     "output_type": "execute_result"
    }
   ],
   "source": [
    "df1"
   ]
  },
  {
   "cell_type": "code",
   "execution_count": 17,
   "id": "2da41f2f",
   "metadata": {
    "execution": {
     "iopub.execute_input": "2024-05-19T18:11:51.733940Z",
     "iopub.status.busy": "2024-05-19T18:11:51.733394Z",
     "iopub.status.idle": "2024-05-19T18:11:51.753362Z",
     "shell.execute_reply": "2024-05-19T18:11:51.752680Z"
    },
    "papermill": {
     "duration": 0.043096,
     "end_time": "2024-05-19T18:11:51.755248",
     "exception": false,
     "start_time": "2024-05-19T18:11:51.712152",
     "status": "completed"
    },
    "tags": []
   },
   "outputs": [
    {
     "data": {
      "text/html": [
       "<div>\n",
       "<style scoped>\n",
       "    .dataframe tbody tr th:only-of-type {\n",
       "        vertical-align: middle;\n",
       "    }\n",
       "\n",
       "    .dataframe tbody tr th {\n",
       "        vertical-align: top;\n",
       "    }\n",
       "\n",
       "    .dataframe thead th {\n",
       "        text-align: right;\n",
       "    }\n",
       "</style>\n",
       "<table border=\"1\" class=\"dataframe\">\n",
       "  <thead>\n",
       "    <tr style=\"text-align: right;\">\n",
       "      <th></th>\n",
       "      <th>Storage</th>\n",
       "      <th>RAM</th>\n",
       "      <th>Battery Capacity (mAh)</th>\n",
       "      <th>Price ($)</th>\n",
       "      <th>Brand_Apple</th>\n",
       "      <th>Brand_Asus</th>\n",
       "      <th>Brand_Blackberry</th>\n",
       "      <th>Brand_CAT</th>\n",
       "      <th>Brand_Google</th>\n",
       "      <th>Brand_Huawei</th>\n",
       "      <th>Brand_LG</th>\n",
       "      <th>Brand_Motorola</th>\n",
       "      <th>Brand_Nokia</th>\n",
       "      <th>Brand_OnePlus</th>\n",
       "      <th>Brand_Oppo</th>\n",
       "      <th>Brand_Realme</th>\n",
       "      <th>Brand_Samsung</th>\n",
       "      <th>Brand_Sony</th>\n",
       "      <th>Brand_Vivo</th>\n",
       "      <th>Brand_Xiaomi</th>\n",
       "    </tr>\n",
       "  </thead>\n",
       "  <tbody>\n",
       "    <tr>\n",
       "      <th>0</th>\n",
       "      <td>128</td>\n",
       "      <td>6</td>\n",
       "      <td>3095</td>\n",
       "      <td>999</td>\n",
       "      <td>True</td>\n",
       "      <td>False</td>\n",
       "      <td>False</td>\n",
       "      <td>False</td>\n",
       "      <td>False</td>\n",
       "      <td>False</td>\n",
       "      <td>False</td>\n",
       "      <td>False</td>\n",
       "      <td>False</td>\n",
       "      <td>False</td>\n",
       "      <td>False</td>\n",
       "      <td>False</td>\n",
       "      <td>False</td>\n",
       "      <td>False</td>\n",
       "      <td>False</td>\n",
       "      <td>False</td>\n",
       "    </tr>\n",
       "    <tr>\n",
       "      <th>1</th>\n",
       "      <td>256</td>\n",
       "      <td>12</td>\n",
       "      <td>5000</td>\n",
       "      <td>1199</td>\n",
       "      <td>False</td>\n",
       "      <td>False</td>\n",
       "      <td>False</td>\n",
       "      <td>False</td>\n",
       "      <td>False</td>\n",
       "      <td>False</td>\n",
       "      <td>False</td>\n",
       "      <td>False</td>\n",
       "      <td>False</td>\n",
       "      <td>False</td>\n",
       "      <td>False</td>\n",
       "      <td>False</td>\n",
       "      <td>True</td>\n",
       "      <td>False</td>\n",
       "      <td>False</td>\n",
       "      <td>False</td>\n",
       "    </tr>\n",
       "    <tr>\n",
       "      <th>2</th>\n",
       "      <td>128</td>\n",
       "      <td>8</td>\n",
       "      <td>4500</td>\n",
       "      <td>899</td>\n",
       "      <td>False</td>\n",
       "      <td>False</td>\n",
       "      <td>False</td>\n",
       "      <td>False</td>\n",
       "      <td>False</td>\n",
       "      <td>False</td>\n",
       "      <td>False</td>\n",
       "      <td>False</td>\n",
       "      <td>False</td>\n",
       "      <td>True</td>\n",
       "      <td>False</td>\n",
       "      <td>False</td>\n",
       "      <td>False</td>\n",
       "      <td>False</td>\n",
       "      <td>False</td>\n",
       "      <td>False</td>\n",
       "    </tr>\n",
       "    <tr>\n",
       "      <th>3</th>\n",
       "      <td>128</td>\n",
       "      <td>6</td>\n",
       "      <td>5020</td>\n",
       "      <td>279</td>\n",
       "      <td>False</td>\n",
       "      <td>False</td>\n",
       "      <td>False</td>\n",
       "      <td>False</td>\n",
       "      <td>False</td>\n",
       "      <td>False</td>\n",
       "      <td>False</td>\n",
       "      <td>False</td>\n",
       "      <td>False</td>\n",
       "      <td>False</td>\n",
       "      <td>False</td>\n",
       "      <td>False</td>\n",
       "      <td>False</td>\n",
       "      <td>False</td>\n",
       "      <td>False</td>\n",
       "      <td>True</td>\n",
       "    </tr>\n",
       "    <tr>\n",
       "      <th>4</th>\n",
       "      <td>128</td>\n",
       "      <td>8</td>\n",
       "      <td>4614</td>\n",
       "      <td>799</td>\n",
       "      <td>False</td>\n",
       "      <td>False</td>\n",
       "      <td>False</td>\n",
       "      <td>False</td>\n",
       "      <td>True</td>\n",
       "      <td>False</td>\n",
       "      <td>False</td>\n",
       "      <td>False</td>\n",
       "      <td>False</td>\n",
       "      <td>False</td>\n",
       "      <td>False</td>\n",
       "      <td>False</td>\n",
       "      <td>False</td>\n",
       "      <td>False</td>\n",
       "      <td>False</td>\n",
       "      <td>False</td>\n",
       "    </tr>\n",
       "    <tr>\n",
       "      <th>...</th>\n",
       "      <td>...</td>\n",
       "      <td>...</td>\n",
       "      <td>...</td>\n",
       "      <td>...</td>\n",
       "      <td>...</td>\n",
       "      <td>...</td>\n",
       "      <td>...</td>\n",
       "      <td>...</td>\n",
       "      <td>...</td>\n",
       "      <td>...</td>\n",
       "      <td>...</td>\n",
       "      <td>...</td>\n",
       "      <td>...</td>\n",
       "      <td>...</td>\n",
       "      <td>...</td>\n",
       "      <td>...</td>\n",
       "      <td>...</td>\n",
       "      <td>...</td>\n",
       "      <td>...</td>\n",
       "      <td>...</td>\n",
       "    </tr>\n",
       "    <tr>\n",
       "      <th>402</th>\n",
       "      <td>128</td>\n",
       "      <td>8</td>\n",
       "      <td>4300</td>\n",
       "      <td>1049</td>\n",
       "      <td>False</td>\n",
       "      <td>False</td>\n",
       "      <td>False</td>\n",
       "      <td>False</td>\n",
       "      <td>False</td>\n",
       "      <td>False</td>\n",
       "      <td>False</td>\n",
       "      <td>False</td>\n",
       "      <td>False</td>\n",
       "      <td>False</td>\n",
       "      <td>False</td>\n",
       "      <td>False</td>\n",
       "      <td>True</td>\n",
       "      <td>False</td>\n",
       "      <td>False</td>\n",
       "      <td>False</td>\n",
       "    </tr>\n",
       "    <tr>\n",
       "      <th>403</th>\n",
       "      <td>128</td>\n",
       "      <td>6</td>\n",
       "      <td>4160</td>\n",
       "      <td>349</td>\n",
       "      <td>False</td>\n",
       "      <td>False</td>\n",
       "      <td>False</td>\n",
       "      <td>False</td>\n",
       "      <td>False</td>\n",
       "      <td>False</td>\n",
       "      <td>False</td>\n",
       "      <td>False</td>\n",
       "      <td>False</td>\n",
       "      <td>False</td>\n",
       "      <td>False</td>\n",
       "      <td>False</td>\n",
       "      <td>False</td>\n",
       "      <td>False</td>\n",
       "      <td>False</td>\n",
       "      <td>True</td>\n",
       "    </tr>\n",
       "    <tr>\n",
       "      <th>404</th>\n",
       "      <td>128</td>\n",
       "      <td>6</td>\n",
       "      <td>3687</td>\n",
       "      <td>1099</td>\n",
       "      <td>True</td>\n",
       "      <td>False</td>\n",
       "      <td>False</td>\n",
       "      <td>False</td>\n",
       "      <td>False</td>\n",
       "      <td>False</td>\n",
       "      <td>False</td>\n",
       "      <td>False</td>\n",
       "      <td>False</td>\n",
       "      <td>False</td>\n",
       "      <td>False</td>\n",
       "      <td>False</td>\n",
       "      <td>False</td>\n",
       "      <td>False</td>\n",
       "      <td>False</td>\n",
       "      <td>False</td>\n",
       "    </tr>\n",
       "    <tr>\n",
       "      <th>405</th>\n",
       "      <td>128</td>\n",
       "      <td>8</td>\n",
       "      <td>4025</td>\n",
       "      <td>429</td>\n",
       "      <td>False</td>\n",
       "      <td>False</td>\n",
       "      <td>False</td>\n",
       "      <td>False</td>\n",
       "      <td>False</td>\n",
       "      <td>False</td>\n",
       "      <td>False</td>\n",
       "      <td>False</td>\n",
       "      <td>False</td>\n",
       "      <td>False</td>\n",
       "      <td>True</td>\n",
       "      <td>False</td>\n",
       "      <td>False</td>\n",
       "      <td>False</td>\n",
       "      <td>False</td>\n",
       "      <td>False</td>\n",
       "    </tr>\n",
       "    <tr>\n",
       "      <th>406</th>\n",
       "      <td>128</td>\n",
       "      <td>6</td>\n",
       "      <td>4500</td>\n",
       "      <td>649</td>\n",
       "      <td>False</td>\n",
       "      <td>False</td>\n",
       "      <td>False</td>\n",
       "      <td>False</td>\n",
       "      <td>False</td>\n",
       "      <td>False</td>\n",
       "      <td>False</td>\n",
       "      <td>False</td>\n",
       "      <td>False</td>\n",
       "      <td>False</td>\n",
       "      <td>False</td>\n",
       "      <td>False</td>\n",
       "      <td>True</td>\n",
       "      <td>False</td>\n",
       "      <td>False</td>\n",
       "      <td>False</td>\n",
       "    </tr>\n",
       "  </tbody>\n",
       "</table>\n",
       "<p>407 rows × 20 columns</p>\n",
       "</div>"
      ],
      "text/plain": [
       "     Storage   RAM   Battery Capacity (mAh)  Price ($)  Brand_Apple  \\\n",
       "0         128     6                    3095        999         True   \n",
       "1         256    12                    5000       1199        False   \n",
       "2         128     8                    4500        899        False   \n",
       "3         128     6                    5020        279        False   \n",
       "4         128     8                    4614        799        False   \n",
       "..        ...   ...                     ...        ...          ...   \n",
       "402       128     8                    4300       1049        False   \n",
       "403       128     6                    4160        349        False   \n",
       "404       128     6                    3687       1099         True   \n",
       "405       128     8                    4025        429        False   \n",
       "406       128     6                    4500        649        False   \n",
       "\n",
       "     Brand_Asus  Brand_Blackberry  Brand_CAT  Brand_Google  Brand_Huawei  \\\n",
       "0         False             False      False         False         False   \n",
       "1         False             False      False         False         False   \n",
       "2         False             False      False         False         False   \n",
       "3         False             False      False         False         False   \n",
       "4         False             False      False          True         False   \n",
       "..          ...               ...        ...           ...           ...   \n",
       "402       False             False      False         False         False   \n",
       "403       False             False      False         False         False   \n",
       "404       False             False      False         False         False   \n",
       "405       False             False      False         False         False   \n",
       "406       False             False      False         False         False   \n",
       "\n",
       "     Brand_LG  Brand_Motorola  Brand_Nokia  Brand_OnePlus  Brand_Oppo  \\\n",
       "0       False           False        False          False       False   \n",
       "1       False           False        False          False       False   \n",
       "2       False           False        False           True       False   \n",
       "3       False           False        False          False       False   \n",
       "4       False           False        False          False       False   \n",
       "..        ...             ...          ...            ...         ...   \n",
       "402     False           False        False          False       False   \n",
       "403     False           False        False          False       False   \n",
       "404     False           False        False          False       False   \n",
       "405     False           False        False          False        True   \n",
       "406     False           False        False          False       False   \n",
       "\n",
       "     Brand_Realme  Brand_Samsung  Brand_Sony  Brand_Vivo  Brand_Xiaomi  \n",
       "0           False          False       False       False         False  \n",
       "1           False           True       False       False         False  \n",
       "2           False          False       False       False         False  \n",
       "3           False          False       False       False          True  \n",
       "4           False          False       False       False         False  \n",
       "..            ...            ...         ...         ...           ...  \n",
       "402         False           True       False       False         False  \n",
       "403         False          False       False       False          True  \n",
       "404         False          False       False       False         False  \n",
       "405         False          False       False       False         False  \n",
       "406         False           True       False       False         False  \n",
       "\n",
       "[407 rows x 20 columns]"
      ]
     },
     "execution_count": 17,
     "metadata": {},
     "output_type": "execute_result"
    }
   ],
   "source": [
    "df1"
   ]
  },
  {
   "cell_type": "code",
   "execution_count": 18,
   "id": "86c064d4",
   "metadata": {
    "execution": {
     "iopub.execute_input": "2024-05-19T18:11:51.798084Z",
     "iopub.status.busy": "2024-05-19T18:11:51.797544Z",
     "iopub.status.idle": "2024-05-19T18:11:51.807555Z",
     "shell.execute_reply": "2024-05-19T18:11:51.806435Z"
    },
    "papermill": {
     "duration": 0.033587,
     "end_time": "2024-05-19T18:11:51.809377",
     "exception": false,
     "start_time": "2024-05-19T18:11:51.775790",
     "status": "completed"
    },
    "tags": []
   },
   "outputs": [
    {
     "name": "stdout",
     "output_type": "stream",
     "text": [
      "<class 'pandas.core.frame.DataFrame'>\n",
      "RangeIndex: 407 entries, 0 to 406\n",
      "Data columns (total 20 columns):\n",
      " #   Column                  Non-Null Count  Dtype\n",
      "---  ------                  --------------  -----\n",
      " 0   Storage                 407 non-null    int64\n",
      " 1   RAM                     407 non-null    int64\n",
      " 2   Battery Capacity (mAh)  407 non-null    int64\n",
      " 3   Price ($)               407 non-null    int64\n",
      " 4   Brand_Apple             407 non-null    bool \n",
      " 5   Brand_Asus              407 non-null    bool \n",
      " 6   Brand_Blackberry        407 non-null    bool \n",
      " 7   Brand_CAT               407 non-null    bool \n",
      " 8   Brand_Google            407 non-null    bool \n",
      " 9   Brand_Huawei            407 non-null    bool \n",
      " 10  Brand_LG                407 non-null    bool \n",
      " 11  Brand_Motorola          407 non-null    bool \n",
      " 12  Brand_Nokia             407 non-null    bool \n",
      " 13  Brand_OnePlus           407 non-null    bool \n",
      " 14  Brand_Oppo              407 non-null    bool \n",
      " 15  Brand_Realme            407 non-null    bool \n",
      " 16  Brand_Samsung           407 non-null    bool \n",
      " 17  Brand_Sony              407 non-null    bool \n",
      " 18  Brand_Vivo              407 non-null    bool \n",
      " 19  Brand_Xiaomi            407 non-null    bool \n",
      "dtypes: bool(16), int64(4)\n",
      "memory usage: 19.2 KB\n"
     ]
    }
   ],
   "source": [
    "df1.info()"
   ]
  },
  {
   "cell_type": "code",
   "execution_count": 19,
   "id": "127a60f5",
   "metadata": {
    "execution": {
     "iopub.execute_input": "2024-05-19T18:11:51.853250Z",
     "iopub.status.busy": "2024-05-19T18:11:51.852542Z",
     "iopub.status.idle": "2024-05-19T18:11:51.858662Z",
     "shell.execute_reply": "2024-05-19T18:11:51.858014Z"
    },
    "papermill": {
     "duration": 0.029771,
     "end_time": "2024-05-19T18:11:51.860343",
     "exception": false,
     "start_time": "2024-05-19T18:11:51.830572",
     "status": "completed"
    },
    "tags": []
   },
   "outputs": [
    {
     "data": {
      "text/plain": [
       "(407, 20)"
      ]
     },
     "execution_count": 19,
     "metadata": {},
     "output_type": "execute_result"
    }
   ],
   "source": [
    "df1.shape"
   ]
  },
  {
   "cell_type": "markdown",
   "id": "4d9b95ec",
   "metadata": {
    "papermill": {
     "duration": 0.020587,
     "end_time": "2024-05-19T18:11:51.901910",
     "exception": false,
     "start_time": "2024-05-19T18:11:51.881323",
     "status": "completed"
    },
    "tags": []
   },
   "source": [
    "<a id=\"1\"></a>\n",
    "<div style=\"font-family: Cambria; font-weight: bold; letter-spacing: 0px; color: #ffffff; font-size: 120%; text-align: left; padding: 3px; background-color: #0000ff; border-bottom: 10px solid #80ffff;\">\n",
    "    EDA\n",
    "</div>"
   ]
  },
  {
   "cell_type": "code",
   "execution_count": 20,
   "id": "d1d0f859",
   "metadata": {
    "execution": {
     "iopub.execute_input": "2024-05-19T18:11:51.945555Z",
     "iopub.status.busy": "2024-05-19T18:11:51.945167Z",
     "iopub.status.idle": "2024-05-19T18:11:52.496505Z",
     "shell.execute_reply": "2024-05-19T18:11:52.495467Z"
    },
    "papermill": {
     "duration": 0.575905,
     "end_time": "2024-05-19T18:11:52.498890",
     "exception": false,
     "start_time": "2024-05-19T18:11:51.922985",
     "status": "completed"
    },
    "tags": []
   },
   "outputs": [
    {
     "data": {
      "text/plain": [
       "<Axes: >"
      ]
     },
     "execution_count": 20,
     "metadata": {},
     "output_type": "execute_result"
    },
    {
     "data": {
      "image/png": "[encoded data removed]",
      "text/plain": [
       "<Figure size 640x480 with 1 Axes>"
      ]
     },
     "metadata": {},
     "output_type": "display_data"
    }
   ],
   "source": [
    "sns.boxplot(df1)"
   ]
  },
  {
   "cell_type": "code",
   "execution_count": 21,
   "id": "043dcae2",
   "metadata": {
    "execution": {
     "iopub.execute_input": "2024-05-19T18:11:52.544878Z",
     "iopub.status.busy": "2024-05-19T18:11:52.544516Z",
     "iopub.status.idle": "2024-05-19T18:11:55.249432Z",
     "shell.execute_reply": "2024-05-19T18:11:55.248511Z"
    },
    "papermill": {
     "duration": 2.730422,
     "end_time": "2024-05-19T18:11:55.251616",
     "exception": false,
     "start_time": "2024-05-19T18:11:52.521194",
     "status": "completed"
    },
    "tags": []
   },
   "outputs": [
    {
     "data": {
      "image/png": "[encoded data removed]",
      "text/plain": [
       "<Figure size 1800x400 with 3 Axes>"
      ]
     },
     "metadata": {},
     "output_type": "display_data"
    },
    {
     "data": {
      "image/png": "[encoded data removed]",
      "text/plain": [
       "<Figure size 1800x400 with 3 Axes>"
      ]
     },
     "metadata": {},
     "output_type": "display_data"
    },
    {
     "data": {
      "image/png": "[encoded data removed]",
      "text/plain": [
       "<Figure size 1800x400 with 3 Axes>"
      ]
     },
     "metadata": {},
     "output_type": "display_data"
    },
    {
     "data": {
      "image/png": "[encoded data removed]",
      "text/plain": [
       "<Figure size 1800x400 with 3 Axes>"
      ]
     },
     "metadata": {},
     "output_type": "display_data"
    }
   ],
   "source": [
    "non_boolean_numerical_features = ['Storage ', 'RAM ', 'Battery Capacity (mAh)', 'Price ($)']\n",
    "\n",
    "# Get all boolean columns\n",
    "boolean_columns = df1.select_dtypes(include=['bool']).columns.tolist()\n",
    "\n",
    "# Filter out non-boolean numerical features\n",
    "boolean_features_except_numerical = [col for col in boolean_columns if col not in non_boolean_numerical_features]\n",
    "\n",
    "# Visualize the distributions and box plots for numerical features, including log-transformed versions for skewed data\n",
    "for column in non_boolean_numerical_features:\n",
    "    fig, (ax1, ax2, ax3) = plt.subplots(1, 3, figsize=(18, 4))\n",
    "\n",
    "    # Histogram for the distribution\n",
    "    sns.histplot(df1[column], kde=False, color='skyblue', ax=ax1)\n",
    "    ax1.set_title(f'Distribution of {column}')\n",
    "    ax1.set_ylabel('Frequency')\n",
    "\n",
    "    # Boxplot for the variable\n",
    "    sns.boxplot(x=df1[column], color='lightgreen', ax=ax2)\n",
    "    ax2.set_title(f'Boxplot of {column}')\n",
    "\n",
    "    # Log transformation and plot if the data is skewed\n",
    "    if df1[column].skew() > 1:\n",
    "        df1[column+'_log'] = np.log1p(df1[column])\n",
    "        sns.histplot(df1[column+'_log'], kde=False, color='orange', ax=ax3)\n",
    "        ax3.set_title(f'Log-transformed Distribution of {column}')\n",
    "    else:\n",
    "        ax3.set_title(f'Log-transformed plot not necessary for {column}')\n",
    "        ax3.axis('off')\n",
    "\n",
    "    plt.tight_layout()\n",
    "    plt.show()"
   ]
  },
  {
   "cell_type": "markdown",
   "id": "472599f3",
   "metadata": {
    "papermill": {
     "duration": 0.023602,
     "end_time": "2024-05-19T18:11:55.300153",
     "exception": false,
     "start_time": "2024-05-19T18:11:55.276551",
     "status": "completed"
    },
    "tags": []
   },
   "source": [
    "<div style=\"background-color: #ff0000; padding: 20px; border-radius: 10px;\">\n",
    "    <h1 style=\"text-align: left; font-size: 15px;\"> we can not consider these outlier for above feature. </h1>\n",
    "</div>"
   ]
  },
  {
   "cell_type": "markdown",
   "id": "d1a599db",
   "metadata": {
    "papermill": {
     "duration": 0.023651,
     "end_time": "2024-05-19T18:11:55.348640",
     "exception": false,
     "start_time": "2024-05-19T18:11:55.324989",
     "status": "completed"
    },
    "tags": []
   },
   "source": [
    "<a id=\"1\"></a>\n",
    "<div style=\"font-family: Cambria; font-weight: bold; letter-spacing: 0px; color: #ffffff; font-size: 120%; text-align: left; padding: 3px; background-color: #0000ff; border-bottom: 10px solid #80ffff;\">\n",
    "    Feature Scaling\n",
    "</div>"
   ]
  },
  {
   "cell_type": "code",
   "execution_count": 22,
   "id": "887e3811",
   "metadata": {
    "execution": {
     "iopub.execute_input": "2024-05-19T18:11:55.398794Z",
     "iopub.status.busy": "2024-05-19T18:11:55.398254Z",
     "iopub.status.idle": "2024-05-19T18:11:55.406434Z",
     "shell.execute_reply": "2024-05-19T18:11:55.405735Z"
    },
    "papermill": {
     "duration": 0.035409,
     "end_time": "2024-05-19T18:11:55.408213",
     "exception": false,
     "start_time": "2024-05-19T18:11:55.372804",
     "status": "completed"
    },
    "tags": []
   },
   "outputs": [],
   "source": [
    "from sklearn.preprocessing import MinMaxScaler\n",
    "non_boolean_numerical_features = ['Storage ', 'RAM ', 'Battery Capacity (mAh)', 'Price ($)']\n",
    "scaler = MinMaxScaler()\n",
    "df1[non_boolean_numerical_features] = scaler.fit_transform(df1[non_boolean_numerical_features])\n"
   ]
  },
  {
   "cell_type": "code",
   "execution_count": 23,
   "id": "bb538a4a",
   "metadata": {
    "execution": {
     "iopub.execute_input": "2024-05-19T18:11:55.459410Z",
     "iopub.status.busy": "2024-05-19T18:11:55.458890Z",
     "iopub.status.idle": "2024-05-19T18:11:55.485703Z",
     "shell.execute_reply": "2024-05-19T18:11:55.484715Z"
    },
    "papermill": {
     "duration": 0.055814,
     "end_time": "2024-05-19T18:11:55.487764",
     "exception": false,
     "start_time": "2024-05-19T18:11:55.431950",
     "status": "completed"
    },
    "tags": []
   },
   "outputs": [
    {
     "data": {
      "text/html": [
       "<div>\n",
       "<style scoped>\n",
       "    .dataframe tbody tr th:only-of-type {\n",
       "        vertical-align: middle;\n",
       "    }\n",
       "\n",
       "    .dataframe tbody tr th {\n",
       "        vertical-align: top;\n",
       "    }\n",
       "\n",
       "    .dataframe thead th {\n",
       "        text-align: right;\n",
       "    }\n",
       "</style>\n",
       "<table border=\"1\" class=\"dataframe\">\n",
       "  <thead>\n",
       "    <tr style=\"text-align: right;\">\n",
       "      <th></th>\n",
       "      <th>Storage</th>\n",
       "      <th>RAM</th>\n",
       "      <th>Battery Capacity (mAh)</th>\n",
       "      <th>Price ($)</th>\n",
       "      <th>Brand_Apple</th>\n",
       "      <th>Brand_Asus</th>\n",
       "      <th>Brand_Blackberry</th>\n",
       "      <th>Brand_CAT</th>\n",
       "      <th>Brand_Google</th>\n",
       "      <th>Brand_Huawei</th>\n",
       "      <th>...</th>\n",
       "      <th>Brand_Nokia</th>\n",
       "      <th>Brand_OnePlus</th>\n",
       "      <th>Brand_Oppo</th>\n",
       "      <th>Brand_Realme</th>\n",
       "      <th>Brand_Samsung</th>\n",
       "      <th>Brand_Sony</th>\n",
       "      <th>Brand_Vivo</th>\n",
       "      <th>Brand_Xiaomi</th>\n",
       "      <th>Storage _log</th>\n",
       "      <th>Price ($)_log</th>\n",
       "    </tr>\n",
       "  </thead>\n",
       "  <tbody>\n",
       "    <tr>\n",
       "      <th>0</th>\n",
       "      <td>0.200000</td>\n",
       "      <td>0.285714</td>\n",
       "      <td>0.245993</td>\n",
       "      <td>0.473684</td>\n",
       "      <td>True</td>\n",
       "      <td>False</td>\n",
       "      <td>False</td>\n",
       "      <td>False</td>\n",
       "      <td>False</td>\n",
       "      <td>False</td>\n",
       "      <td>...</td>\n",
       "      <td>False</td>\n",
       "      <td>False</td>\n",
       "      <td>False</td>\n",
       "      <td>False</td>\n",
       "      <td>False</td>\n",
       "      <td>False</td>\n",
       "      <td>False</td>\n",
       "      <td>False</td>\n",
       "      <td>4.859812</td>\n",
       "      <td>6.907755</td>\n",
       "    </tr>\n",
       "    <tr>\n",
       "      <th>1</th>\n",
       "      <td>0.466667</td>\n",
       "      <td>0.714286</td>\n",
       "      <td>0.613825</td>\n",
       "      <td>0.578947</td>\n",
       "      <td>False</td>\n",
       "      <td>False</td>\n",
       "      <td>False</td>\n",
       "      <td>False</td>\n",
       "      <td>False</td>\n",
       "      <td>False</td>\n",
       "      <td>...</td>\n",
       "      <td>False</td>\n",
       "      <td>False</td>\n",
       "      <td>False</td>\n",
       "      <td>False</td>\n",
       "      <td>True</td>\n",
       "      <td>False</td>\n",
       "      <td>False</td>\n",
       "      <td>False</td>\n",
       "      <td>5.549076</td>\n",
       "      <td>7.090077</td>\n",
       "    </tr>\n",
       "    <tr>\n",
       "      <th>2</th>\n",
       "      <td>0.200000</td>\n",
       "      <td>0.428571</td>\n",
       "      <td>0.517281</td>\n",
       "      <td>0.421053</td>\n",
       "      <td>False</td>\n",
       "      <td>False</td>\n",
       "      <td>False</td>\n",
       "      <td>False</td>\n",
       "      <td>False</td>\n",
       "      <td>False</td>\n",
       "      <td>...</td>\n",
       "      <td>False</td>\n",
       "      <td>True</td>\n",
       "      <td>False</td>\n",
       "      <td>False</td>\n",
       "      <td>False</td>\n",
       "      <td>False</td>\n",
       "      <td>False</td>\n",
       "      <td>False</td>\n",
       "      <td>4.859812</td>\n",
       "      <td>6.802395</td>\n",
       "    </tr>\n",
       "    <tr>\n",
       "      <th>3</th>\n",
       "      <td>0.200000</td>\n",
       "      <td>0.285714</td>\n",
       "      <td>0.617687</td>\n",
       "      <td>0.094737</td>\n",
       "      <td>False</td>\n",
       "      <td>False</td>\n",
       "      <td>False</td>\n",
       "      <td>False</td>\n",
       "      <td>False</td>\n",
       "      <td>False</td>\n",
       "      <td>...</td>\n",
       "      <td>False</td>\n",
       "      <td>False</td>\n",
       "      <td>False</td>\n",
       "      <td>False</td>\n",
       "      <td>False</td>\n",
       "      <td>False</td>\n",
       "      <td>False</td>\n",
       "      <td>True</td>\n",
       "      <td>4.859812</td>\n",
       "      <td>5.634790</td>\n",
       "    </tr>\n",
       "    <tr>\n",
       "      <th>4</th>\n",
       "      <td>0.200000</td>\n",
       "      <td>0.428571</td>\n",
       "      <td>0.539293</td>\n",
       "      <td>0.368421</td>\n",
       "      <td>False</td>\n",
       "      <td>False</td>\n",
       "      <td>False</td>\n",
       "      <td>False</td>\n",
       "      <td>True</td>\n",
       "      <td>False</td>\n",
       "      <td>...</td>\n",
       "      <td>False</td>\n",
       "      <td>False</td>\n",
       "      <td>False</td>\n",
       "      <td>False</td>\n",
       "      <td>False</td>\n",
       "      <td>False</td>\n",
       "      <td>False</td>\n",
       "      <td>False</td>\n",
       "      <td>4.859812</td>\n",
       "      <td>6.684612</td>\n",
       "    </tr>\n",
       "    <tr>\n",
       "      <th>...</th>\n",
       "      <td>...</td>\n",
       "      <td>...</td>\n",
       "      <td>...</td>\n",
       "      <td>...</td>\n",
       "      <td>...</td>\n",
       "      <td>...</td>\n",
       "      <td>...</td>\n",
       "      <td>...</td>\n",
       "      <td>...</td>\n",
       "      <td>...</td>\n",
       "      <td>...</td>\n",
       "      <td>...</td>\n",
       "      <td>...</td>\n",
       "      <td>...</td>\n",
       "      <td>...</td>\n",
       "      <td>...</td>\n",
       "      <td>...</td>\n",
       "      <td>...</td>\n",
       "      <td>...</td>\n",
       "      <td>...</td>\n",
       "      <td>...</td>\n",
       "    </tr>\n",
       "    <tr>\n",
       "      <th>402</th>\n",
       "      <td>0.200000</td>\n",
       "      <td>0.428571</td>\n",
       "      <td>0.478664</td>\n",
       "      <td>0.500000</td>\n",
       "      <td>False</td>\n",
       "      <td>False</td>\n",
       "      <td>False</td>\n",
       "      <td>False</td>\n",
       "      <td>False</td>\n",
       "      <td>False</td>\n",
       "      <td>...</td>\n",
       "      <td>False</td>\n",
       "      <td>False</td>\n",
       "      <td>False</td>\n",
       "      <td>False</td>\n",
       "      <td>True</td>\n",
       "      <td>False</td>\n",
       "      <td>False</td>\n",
       "      <td>False</td>\n",
       "      <td>4.859812</td>\n",
       "      <td>6.956545</td>\n",
       "    </tr>\n",
       "    <tr>\n",
       "      <th>403</th>\n",
       "      <td>0.200000</td>\n",
       "      <td>0.285714</td>\n",
       "      <td>0.451632</td>\n",
       "      <td>0.131579</td>\n",
       "      <td>False</td>\n",
       "      <td>False</td>\n",
       "      <td>False</td>\n",
       "      <td>False</td>\n",
       "      <td>False</td>\n",
       "      <td>False</td>\n",
       "      <td>...</td>\n",
       "      <td>False</td>\n",
       "      <td>False</td>\n",
       "      <td>False</td>\n",
       "      <td>False</td>\n",
       "      <td>False</td>\n",
       "      <td>False</td>\n",
       "      <td>False</td>\n",
       "      <td>True</td>\n",
       "      <td>4.859812</td>\n",
       "      <td>5.857933</td>\n",
       "    </tr>\n",
       "    <tr>\n",
       "      <th>404</th>\n",
       "      <td>0.200000</td>\n",
       "      <td>0.285714</td>\n",
       "      <td>0.360301</td>\n",
       "      <td>0.526316</td>\n",
       "      <td>True</td>\n",
       "      <td>False</td>\n",
       "      <td>False</td>\n",
       "      <td>False</td>\n",
       "      <td>False</td>\n",
       "      <td>False</td>\n",
       "      <td>...</td>\n",
       "      <td>False</td>\n",
       "      <td>False</td>\n",
       "      <td>False</td>\n",
       "      <td>False</td>\n",
       "      <td>False</td>\n",
       "      <td>False</td>\n",
       "      <td>False</td>\n",
       "      <td>False</td>\n",
       "      <td>4.859812</td>\n",
       "      <td>7.003065</td>\n",
       "    </tr>\n",
       "    <tr>\n",
       "      <th>405</th>\n",
       "      <td>0.200000</td>\n",
       "      <td>0.428571</td>\n",
       "      <td>0.425565</td>\n",
       "      <td>0.173684</td>\n",
       "      <td>False</td>\n",
       "      <td>False</td>\n",
       "      <td>False</td>\n",
       "      <td>False</td>\n",
       "      <td>False</td>\n",
       "      <td>False</td>\n",
       "      <td>...</td>\n",
       "      <td>False</td>\n",
       "      <td>False</td>\n",
       "      <td>True</td>\n",
       "      <td>False</td>\n",
       "      <td>False</td>\n",
       "      <td>False</td>\n",
       "      <td>False</td>\n",
       "      <td>False</td>\n",
       "      <td>4.859812</td>\n",
       "      <td>6.063785</td>\n",
       "    </tr>\n",
       "    <tr>\n",
       "      <th>406</th>\n",
       "      <td>0.200000</td>\n",
       "      <td>0.285714</td>\n",
       "      <td>0.517281</td>\n",
       "      <td>0.289474</td>\n",
       "      <td>False</td>\n",
       "      <td>False</td>\n",
       "      <td>False</td>\n",
       "      <td>False</td>\n",
       "      <td>False</td>\n",
       "      <td>False</td>\n",
       "      <td>...</td>\n",
       "      <td>False</td>\n",
       "      <td>False</td>\n",
       "      <td>False</td>\n",
       "      <td>False</td>\n",
       "      <td>True</td>\n",
       "      <td>False</td>\n",
       "      <td>False</td>\n",
       "      <td>False</td>\n",
       "      <td>4.859812</td>\n",
       "      <td>6.476972</td>\n",
       "    </tr>\n",
       "  </tbody>\n",
       "</table>\n",
       "<p>407 rows × 22 columns</p>\n",
       "</div>"
      ],
      "text/plain": [
       "     Storage       RAM   Battery Capacity (mAh)  Price ($)  Brand_Apple  \\\n",
       "0    0.200000  0.285714                0.245993   0.473684         True   \n",
       "1    0.466667  0.714286                0.613825   0.578947        False   \n",
       "2    0.200000  0.428571                0.517281   0.421053        False   \n",
       "3    0.200000  0.285714                0.617687   0.094737        False   \n",
       "4    0.200000  0.428571                0.539293   0.368421        False   \n",
       "..        ...       ...                     ...        ...          ...   \n",
       "402  0.200000  0.428571                0.478664   0.500000        False   \n",
       "403  0.200000  0.285714                0.451632   0.131579        False   \n",
       "404  0.200000  0.285714                0.360301   0.526316         True   \n",
       "405  0.200000  0.428571                0.425565   0.173684        False   \n",
       "406  0.200000  0.285714                0.517281   0.289474        False   \n",
       "\n",
       "     Brand_Asus  Brand_Blackberry  Brand_CAT  Brand_Google  Brand_Huawei  ...  \\\n",
       "0         False             False      False         False         False  ...   \n",
       "1         False             False      False         False         False  ...   \n",
       "2         False             False      False         False         False  ...   \n",
       "3         False             False      False         False         False  ...   \n",
       "4         False             False      False          True         False  ...   \n",
       "..          ...               ...        ...           ...           ...  ...   \n",
       "402       False             False      False         False         False  ...   \n",
       "403       False             False      False         False         False  ...   \n",
       "404       False             False      False         False         False  ...   \n",
       "405       False             False      False         False         False  ...   \n",
       "406       False             False      False         False         False  ...   \n",
       "\n",
       "     Brand_Nokia  Brand_OnePlus  Brand_Oppo  Brand_Realme  Brand_Samsung  \\\n",
       "0          False          False       False         False          False   \n",
       "1          False          False       False         False           True   \n",
       "2          False           True       False         False          False   \n",
       "3          False          False       False         False          False   \n",
       "4          False          False       False         False          False   \n",
       "..           ...            ...         ...           ...            ...   \n",
       "402        False          False       False         False           True   \n",
       "403        False          False       False         False          False   \n",
       "404        False          False       False         False          False   \n",
       "405        False          False        True         False          False   \n",
       "406        False          False       False         False           True   \n",
       "\n",
       "     Brand_Sony  Brand_Vivo  Brand_Xiaomi  Storage _log  Price ($)_log  \n",
       "0         False       False         False      4.859812       6.907755  \n",
       "1         False       False         False      5.549076       7.090077  \n",
       "2         False       False         False      4.859812       6.802395  \n",
       "3         False       False          True      4.859812       5.634790  \n",
       "4         False       False         False      4.859812       6.684612  \n",
       "..          ...         ...           ...           ...            ...  \n",
       "402       False       False         False      4.859812       6.956545  \n",
       "403       False       False          True      4.859812       5.857933  \n",
       "404       False       False         False      4.859812       7.003065  \n",
       "405       False       False         False      4.859812       6.063785  \n",
       "406       False       False         False      4.859812       6.476972  \n",
       "\n",
       "[407 rows x 22 columns]"
      ]
     },
     "execution_count": 23,
     "metadata": {},
     "output_type": "execute_result"
    }
   ],
   "source": [
    "df1"
   ]
  },
  {
   "cell_type": "markdown",
   "id": "a877a84c",
   "metadata": {
    "papermill": {
     "duration": 0.02405,
     "end_time": "2024-05-19T18:11:55.536935",
     "exception": false,
     "start_time": "2024-05-19T18:11:55.512885",
     "status": "completed"
    },
    "tags": []
   },
   "source": [
    "For regression tasks where the target variable is continuous, it's generally not necessary to scale the target variable. Algorithms like Linear Regression, Decision Trees, Random Forest, and Gradient Boosting Machines can handle continuous target variables without requiring scaling.\n",
    "\n",
    "if you're using algorithms that are sensitive to the scale of the target variable, such as Support Vector Machines (SVM) with a regression (SVR) or NuSVR kernel, you might consider scaling the target variable"
   ]
  },
  {
   "cell_type": "code",
   "execution_count": null,
   "id": "b05f7610",
   "metadata": {
    "papermill": {
     "duration": 0.024048,
     "end_time": "2024-05-19T18:11:55.585387",
     "exception": false,
     "start_time": "2024-05-19T18:11:55.561339",
     "status": "completed"
    },
    "tags": []
   },
   "outputs": [],
   "source": []
  },
  {
   "cell_type": "code",
   "execution_count": 24,
   "id": "14e6fa8d",
   "metadata": {
    "execution": {
     "iopub.execute_input": "2024-05-19T18:11:55.635169Z",
     "iopub.status.busy": "2024-05-19T18:11:55.634813Z",
     "iopub.status.idle": "2024-05-19T18:11:55.642285Z",
     "shell.execute_reply": "2024-05-19T18:11:55.641244Z"
    },
    "papermill": {
     "duration": 0.034777,
     "end_time": "2024-05-19T18:11:55.644313",
     "exception": false,
     "start_time": "2024-05-19T18:11:55.609536",
     "status": "completed"
    },
    "tags": []
   },
   "outputs": [
    {
     "data": {
      "text/plain": [
       "0      0.473684\n",
       "1      0.578947\n",
       "2      0.421053\n",
       "3      0.094737\n",
       "4      0.368421\n",
       "         ...   \n",
       "402    0.500000\n",
       "403    0.131579\n",
       "404    0.526316\n",
       "405    0.173684\n",
       "406    0.289474\n",
       "Name: Price ($), Length: 407, dtype: float64"
      ]
     },
     "execution_count": 24,
     "metadata": {},
     "output_type": "execute_result"
    }
   ],
   "source": [
    "y_scaled = df1['Price ($)']\n",
    "y_scaled"
   ]
  },
  {
   "cell_type": "code",
   "execution_count": 25,
   "id": "aa541488",
   "metadata": {
    "execution": {
     "iopub.execute_input": "2024-05-19T18:11:55.693993Z",
     "iopub.status.busy": "2024-05-19T18:11:55.693671Z",
     "iopub.status.idle": "2024-05-19T18:11:55.721129Z",
     "shell.execute_reply": "2024-05-19T18:11:55.720516Z"
    },
    "papermill": {
     "duration": 0.054714,
     "end_time": "2024-05-19T18:11:55.722944",
     "exception": false,
     "start_time": "2024-05-19T18:11:55.668230",
     "status": "completed"
    },
    "tags": []
   },
   "outputs": [
    {
     "data": {
      "text/html": [
       "<div>\n",
       "<style scoped>\n",
       "    .dataframe tbody tr th:only-of-type {\n",
       "        vertical-align: middle;\n",
       "    }\n",
       "\n",
       "    .dataframe tbody tr th {\n",
       "        vertical-align: top;\n",
       "    }\n",
       "\n",
       "    .dataframe thead th {\n",
       "        text-align: right;\n",
       "    }\n",
       "</style>\n",
       "<table border=\"1\" class=\"dataframe\">\n",
       "  <thead>\n",
       "    <tr style=\"text-align: right;\">\n",
       "      <th></th>\n",
       "      <th>Storage</th>\n",
       "      <th>RAM</th>\n",
       "      <th>Battery Capacity (mAh)</th>\n",
       "      <th>Price ($)</th>\n",
       "      <th>Brand_Apple</th>\n",
       "      <th>Brand_Asus</th>\n",
       "      <th>Brand_Blackberry</th>\n",
       "      <th>Brand_CAT</th>\n",
       "      <th>Brand_Google</th>\n",
       "      <th>Brand_Huawei</th>\n",
       "      <th>...</th>\n",
       "      <th>Brand_Nokia</th>\n",
       "      <th>Brand_OnePlus</th>\n",
       "      <th>Brand_Oppo</th>\n",
       "      <th>Brand_Realme</th>\n",
       "      <th>Brand_Samsung</th>\n",
       "      <th>Brand_Sony</th>\n",
       "      <th>Brand_Vivo</th>\n",
       "      <th>Brand_Xiaomi</th>\n",
       "      <th>Storage _log</th>\n",
       "      <th>Price ($)_log</th>\n",
       "    </tr>\n",
       "  </thead>\n",
       "  <tbody>\n",
       "    <tr>\n",
       "      <th>0</th>\n",
       "      <td>0.200000</td>\n",
       "      <td>0.285714</td>\n",
       "      <td>0.245993</td>\n",
       "      <td>0.473684</td>\n",
       "      <td>True</td>\n",
       "      <td>False</td>\n",
       "      <td>False</td>\n",
       "      <td>False</td>\n",
       "      <td>False</td>\n",
       "      <td>False</td>\n",
       "      <td>...</td>\n",
       "      <td>False</td>\n",
       "      <td>False</td>\n",
       "      <td>False</td>\n",
       "      <td>False</td>\n",
       "      <td>False</td>\n",
       "      <td>False</td>\n",
       "      <td>False</td>\n",
       "      <td>False</td>\n",
       "      <td>4.859812</td>\n",
       "      <td>6.907755</td>\n",
       "    </tr>\n",
       "    <tr>\n",
       "      <th>1</th>\n",
       "      <td>0.466667</td>\n",
       "      <td>0.714286</td>\n",
       "      <td>0.613825</td>\n",
       "      <td>0.578947</td>\n",
       "      <td>False</td>\n",
       "      <td>False</td>\n",
       "      <td>False</td>\n",
       "      <td>False</td>\n",
       "      <td>False</td>\n",
       "      <td>False</td>\n",
       "      <td>...</td>\n",
       "      <td>False</td>\n",
       "      <td>False</td>\n",
       "      <td>False</td>\n",
       "      <td>False</td>\n",
       "      <td>True</td>\n",
       "      <td>False</td>\n",
       "      <td>False</td>\n",
       "      <td>False</td>\n",
       "      <td>5.549076</td>\n",
       "      <td>7.090077</td>\n",
       "    </tr>\n",
       "    <tr>\n",
       "      <th>2</th>\n",
       "      <td>0.200000</td>\n",
       "      <td>0.428571</td>\n",
       "      <td>0.517281</td>\n",
       "      <td>0.421053</td>\n",
       "      <td>False</td>\n",
       "      <td>False</td>\n",
       "      <td>False</td>\n",
       "      <td>False</td>\n",
       "      <td>False</td>\n",
       "      <td>False</td>\n",
       "      <td>...</td>\n",
       "      <td>False</td>\n",
       "      <td>True</td>\n",
       "      <td>False</td>\n",
       "      <td>False</td>\n",
       "      <td>False</td>\n",
       "      <td>False</td>\n",
       "      <td>False</td>\n",
       "      <td>False</td>\n",
       "      <td>4.859812</td>\n",
       "      <td>6.802395</td>\n",
       "    </tr>\n",
       "    <tr>\n",
       "      <th>3</th>\n",
       "      <td>0.200000</td>\n",
       "      <td>0.285714</td>\n",
       "      <td>0.617687</td>\n",
       "      <td>0.094737</td>\n",
       "      <td>False</td>\n",
       "      <td>False</td>\n",
       "      <td>False</td>\n",
       "      <td>False</td>\n",
       "      <td>False</td>\n",
       "      <td>False</td>\n",
       "      <td>...</td>\n",
       "      <td>False</td>\n",
       "      <td>False</td>\n",
       "      <td>False</td>\n",
       "      <td>False</td>\n",
       "      <td>False</td>\n",
       "      <td>False</td>\n",
       "      <td>False</td>\n",
       "      <td>True</td>\n",
       "      <td>4.859812</td>\n",
       "      <td>5.634790</td>\n",
       "    </tr>\n",
       "    <tr>\n",
       "      <th>4</th>\n",
       "      <td>0.200000</td>\n",
       "      <td>0.428571</td>\n",
       "      <td>0.539293</td>\n",
       "      <td>0.368421</td>\n",
       "      <td>False</td>\n",
       "      <td>False</td>\n",
       "      <td>False</td>\n",
       "      <td>False</td>\n",
       "      <td>True</td>\n",
       "      <td>False</td>\n",
       "      <td>...</td>\n",
       "      <td>False</td>\n",
       "      <td>False</td>\n",
       "      <td>False</td>\n",
       "      <td>False</td>\n",
       "      <td>False</td>\n",
       "      <td>False</td>\n",
       "      <td>False</td>\n",
       "      <td>False</td>\n",
       "      <td>4.859812</td>\n",
       "      <td>6.684612</td>\n",
       "    </tr>\n",
       "    <tr>\n",
       "      <th>...</th>\n",
       "      <td>...</td>\n",
       "      <td>...</td>\n",
       "      <td>...</td>\n",
       "      <td>...</td>\n",
       "      <td>...</td>\n",
       "      <td>...</td>\n",
       "      <td>...</td>\n",
       "      <td>...</td>\n",
       "      <td>...</td>\n",
       "      <td>...</td>\n",
       "      <td>...</td>\n",
       "      <td>...</td>\n",
       "      <td>...</td>\n",
       "      <td>...</td>\n",
       "      <td>...</td>\n",
       "      <td>...</td>\n",
       "      <td>...</td>\n",
       "      <td>...</td>\n",
       "      <td>...</td>\n",
       "      <td>...</td>\n",
       "      <td>...</td>\n",
       "    </tr>\n",
       "    <tr>\n",
       "      <th>402</th>\n",
       "      <td>0.200000</td>\n",
       "      <td>0.428571</td>\n",
       "      <td>0.478664</td>\n",
       "      <td>0.500000</td>\n",
       "      <td>False</td>\n",
       "      <td>False</td>\n",
       "      <td>False</td>\n",
       "      <td>False</td>\n",
       "      <td>False</td>\n",
       "      <td>False</td>\n",
       "      <td>...</td>\n",
       "      <td>False</td>\n",
       "      <td>False</td>\n",
       "      <td>False</td>\n",
       "      <td>False</td>\n",
       "      <td>True</td>\n",
       "      <td>False</td>\n",
       "      <td>False</td>\n",
       "      <td>False</td>\n",
       "      <td>4.859812</td>\n",
       "      <td>6.956545</td>\n",
       "    </tr>\n",
       "    <tr>\n",
       "      <th>403</th>\n",
       "      <td>0.200000</td>\n",
       "      <td>0.285714</td>\n",
       "      <td>0.451632</td>\n",
       "      <td>0.131579</td>\n",
       "      <td>False</td>\n",
       "      <td>False</td>\n",
       "      <td>False</td>\n",
       "      <td>False</td>\n",
       "      <td>False</td>\n",
       "      <td>False</td>\n",
       "      <td>...</td>\n",
       "      <td>False</td>\n",
       "      <td>False</td>\n",
       "      <td>False</td>\n",
       "      <td>False</td>\n",
       "      <td>False</td>\n",
       "      <td>False</td>\n",
       "      <td>False</td>\n",
       "      <td>True</td>\n",
       "      <td>4.859812</td>\n",
       "      <td>5.857933</td>\n",
       "    </tr>\n",
       "    <tr>\n",
       "      <th>404</th>\n",
       "      <td>0.200000</td>\n",
       "      <td>0.285714</td>\n",
       "      <td>0.360301</td>\n",
       "      <td>0.526316</td>\n",
       "      <td>True</td>\n",
       "      <td>False</td>\n",
       "      <td>False</td>\n",
       "      <td>False</td>\n",
       "      <td>False</td>\n",
       "      <td>False</td>\n",
       "      <td>...</td>\n",
       "      <td>False</td>\n",
       "      <td>False</td>\n",
       "      <td>False</td>\n",
       "      <td>False</td>\n",
       "      <td>False</td>\n",
       "      <td>False</td>\n",
       "      <td>False</td>\n",
       "      <td>False</td>\n",
       "      <td>4.859812</td>\n",
       "      <td>7.003065</td>\n",
       "    </tr>\n",
       "    <tr>\n",
       "      <th>405</th>\n",
       "      <td>0.200000</td>\n",
       "      <td>0.428571</td>\n",
       "      <td>0.425565</td>\n",
       "      <td>0.173684</td>\n",
       "      <td>False</td>\n",
       "      <td>False</td>\n",
       "      <td>False</td>\n",
       "      <td>False</td>\n",
       "      <td>False</td>\n",
       "      <td>False</td>\n",
       "      <td>...</td>\n",
       "      <td>False</td>\n",
       "      <td>False</td>\n",
       "      <td>True</td>\n",
       "      <td>False</td>\n",
       "      <td>False</td>\n",
       "      <td>False</td>\n",
       "      <td>False</td>\n",
       "      <td>False</td>\n",
       "      <td>4.859812</td>\n",
       "      <td>6.063785</td>\n",
       "    </tr>\n",
       "    <tr>\n",
       "      <th>406</th>\n",
       "      <td>0.200000</td>\n",
       "      <td>0.285714</td>\n",
       "      <td>0.517281</td>\n",
       "      <td>0.289474</td>\n",
       "      <td>False</td>\n",
       "      <td>False</td>\n",
       "      <td>False</td>\n",
       "      <td>False</td>\n",
       "      <td>False</td>\n",
       "      <td>False</td>\n",
       "      <td>...</td>\n",
       "      <td>False</td>\n",
       "      <td>False</td>\n",
       "      <td>False</td>\n",
       "      <td>False</td>\n",
       "      <td>True</td>\n",
       "      <td>False</td>\n",
       "      <td>False</td>\n",
       "      <td>False</td>\n",
       "      <td>4.859812</td>\n",
       "      <td>6.476972</td>\n",
       "    </tr>\n",
       "  </tbody>\n",
       "</table>\n",
       "<p>407 rows × 22 columns</p>\n",
       "</div>"
      ],
      "text/plain": [
       "     Storage       RAM   Battery Capacity (mAh)  Price ($)  Brand_Apple  \\\n",
       "0    0.200000  0.285714                0.245993   0.473684         True   \n",
       "1    0.466667  0.714286                0.613825   0.578947        False   \n",
       "2    0.200000  0.428571                0.517281   0.421053        False   \n",
       "3    0.200000  0.285714                0.617687   0.094737        False   \n",
       "4    0.200000  0.428571                0.539293   0.368421        False   \n",
       "..        ...       ...                     ...        ...          ...   \n",
       "402  0.200000  0.428571                0.478664   0.500000        False   \n",
       "403  0.200000  0.285714                0.451632   0.131579        False   \n",
       "404  0.200000  0.285714                0.360301   0.526316         True   \n",
       "405  0.200000  0.428571                0.425565   0.173684        False   \n",
       "406  0.200000  0.285714                0.517281   0.289474        False   \n",
       "\n",
       "     Brand_Asus  Brand_Blackberry  Brand_CAT  Brand_Google  Brand_Huawei  ...  \\\n",
       "0         False             False      False         False         False  ...   \n",
       "1         False             False      False         False         False  ...   \n",
       "2         False             False      False         False         False  ...   \n",
       "3         False             False      False         False         False  ...   \n",
       "4         False             False      False          True         False  ...   \n",
       "..          ...               ...        ...           ...           ...  ...   \n",
       "402       False             False      False         False         False  ...   \n",
       "403       False             False      False         False         False  ...   \n",
       "404       False             False      False         False         False  ...   \n",
       "405       False             False      False         False         False  ...   \n",
       "406       False             False      False         False         False  ...   \n",
       "\n",
       "     Brand_Nokia  Brand_OnePlus  Brand_Oppo  Brand_Realme  Brand_Samsung  \\\n",
       "0          False          False       False         False          False   \n",
       "1          False          False       False         False           True   \n",
       "2          False           True       False         False          False   \n",
       "3          False          False       False         False          False   \n",
       "4          False          False       False         False          False   \n",
       "..           ...            ...         ...           ...            ...   \n",
       "402        False          False       False         False           True   \n",
       "403        False          False       False         False          False   \n",
       "404        False          False       False         False          False   \n",
       "405        False          False        True         False          False   \n",
       "406        False          False       False         False           True   \n",
       "\n",
       "     Brand_Sony  Brand_Vivo  Brand_Xiaomi  Storage _log  Price ($)_log  \n",
       "0         False       False         False      4.859812       6.907755  \n",
       "1         False       False         False      5.549076       7.090077  \n",
       "2         False       False         False      4.859812       6.802395  \n",
       "3         False       False          True      4.859812       5.634790  \n",
       "4         False       False         False      4.859812       6.684612  \n",
       "..          ...         ...           ...           ...            ...  \n",
       "402       False       False         False      4.859812       6.956545  \n",
       "403       False       False          True      4.859812       5.857933  \n",
       "404       False       False         False      4.859812       7.003065  \n",
       "405       False       False         False      4.859812       6.063785  \n",
       "406       False       False         False      4.859812       6.476972  \n",
       "\n",
       "[407 rows x 22 columns]"
      ]
     },
     "execution_count": 25,
     "metadata": {},
     "output_type": "execute_result"
    }
   ],
   "source": [
    "df1"
   ]
  },
  {
   "cell_type": "code",
   "execution_count": 26,
   "id": "92204363",
   "metadata": {
    "execution": {
     "iopub.execute_input": "2024-05-19T18:11:55.775056Z",
     "iopub.status.busy": "2024-05-19T18:11:55.774167Z",
     "iopub.status.idle": "2024-05-19T18:11:55.800803Z",
     "shell.execute_reply": "2024-05-19T18:11:55.799836Z"
    },
    "papermill": {
     "duration": 0.055039,
     "end_time": "2024-05-19T18:11:55.802978",
     "exception": false,
     "start_time": "2024-05-19T18:11:55.747939",
     "status": "completed"
    },
    "tags": []
   },
   "outputs": [
    {
     "data": {
      "text/html": [
       "<div>\n",
       "<style scoped>\n",
       "    .dataframe tbody tr th:only-of-type {\n",
       "        vertical-align: middle;\n",
       "    }\n",
       "\n",
       "    .dataframe tbody tr th {\n",
       "        vertical-align: top;\n",
       "    }\n",
       "\n",
       "    .dataframe thead th {\n",
       "        text-align: right;\n",
       "    }\n",
       "</style>\n",
       "<table border=\"1\" class=\"dataframe\">\n",
       "  <thead>\n",
       "    <tr style=\"text-align: right;\">\n",
       "      <th></th>\n",
       "      <th>Storage</th>\n",
       "      <th>RAM</th>\n",
       "      <th>Battery Capacity (mAh)</th>\n",
       "      <th>Brand_Apple</th>\n",
       "      <th>Brand_Asus</th>\n",
       "      <th>Brand_Blackberry</th>\n",
       "      <th>Brand_CAT</th>\n",
       "      <th>Brand_Google</th>\n",
       "      <th>Brand_Huawei</th>\n",
       "      <th>Brand_LG</th>\n",
       "      <th>...</th>\n",
       "      <th>Brand_Nokia</th>\n",
       "      <th>Brand_OnePlus</th>\n",
       "      <th>Brand_Oppo</th>\n",
       "      <th>Brand_Realme</th>\n",
       "      <th>Brand_Samsung</th>\n",
       "      <th>Brand_Sony</th>\n",
       "      <th>Brand_Vivo</th>\n",
       "      <th>Brand_Xiaomi</th>\n",
       "      <th>Storage _log</th>\n",
       "      <th>Price ($)_log</th>\n",
       "    </tr>\n",
       "  </thead>\n",
       "  <tbody>\n",
       "    <tr>\n",
       "      <th>0</th>\n",
       "      <td>0.200000</td>\n",
       "      <td>0.285714</td>\n",
       "      <td>0.245993</td>\n",
       "      <td>True</td>\n",
       "      <td>False</td>\n",
       "      <td>False</td>\n",
       "      <td>False</td>\n",
       "      <td>False</td>\n",
       "      <td>False</td>\n",
       "      <td>False</td>\n",
       "      <td>...</td>\n",
       "      <td>False</td>\n",
       "      <td>False</td>\n",
       "      <td>False</td>\n",
       "      <td>False</td>\n",
       "      <td>False</td>\n",
       "      <td>False</td>\n",
       "      <td>False</td>\n",
       "      <td>False</td>\n",
       "      <td>4.859812</td>\n",
       "      <td>6.907755</td>\n",
       "    </tr>\n",
       "    <tr>\n",
       "      <th>1</th>\n",
       "      <td>0.466667</td>\n",
       "      <td>0.714286</td>\n",
       "      <td>0.613825</td>\n",
       "      <td>False</td>\n",
       "      <td>False</td>\n",
       "      <td>False</td>\n",
       "      <td>False</td>\n",
       "      <td>False</td>\n",
       "      <td>False</td>\n",
       "      <td>False</td>\n",
       "      <td>...</td>\n",
       "      <td>False</td>\n",
       "      <td>False</td>\n",
       "      <td>False</td>\n",
       "      <td>False</td>\n",
       "      <td>True</td>\n",
       "      <td>False</td>\n",
       "      <td>False</td>\n",
       "      <td>False</td>\n",
       "      <td>5.549076</td>\n",
       "      <td>7.090077</td>\n",
       "    </tr>\n",
       "    <tr>\n",
       "      <th>2</th>\n",
       "      <td>0.200000</td>\n",
       "      <td>0.428571</td>\n",
       "      <td>0.517281</td>\n",
       "      <td>False</td>\n",
       "      <td>False</td>\n",
       "      <td>False</td>\n",
       "      <td>False</td>\n",
       "      <td>False</td>\n",
       "      <td>False</td>\n",
       "      <td>False</td>\n",
       "      <td>...</td>\n",
       "      <td>False</td>\n",
       "      <td>True</td>\n",
       "      <td>False</td>\n",
       "      <td>False</td>\n",
       "      <td>False</td>\n",
       "      <td>False</td>\n",
       "      <td>False</td>\n",
       "      <td>False</td>\n",
       "      <td>4.859812</td>\n",
       "      <td>6.802395</td>\n",
       "    </tr>\n",
       "    <tr>\n",
       "      <th>3</th>\n",
       "      <td>0.200000</td>\n",
       "      <td>0.285714</td>\n",
       "      <td>0.617687</td>\n",
       "      <td>False</td>\n",
       "      <td>False</td>\n",
       "      <td>False</td>\n",
       "      <td>False</td>\n",
       "      <td>False</td>\n",
       "      <td>False</td>\n",
       "      <td>False</td>\n",
       "      <td>...</td>\n",
       "      <td>False</td>\n",
       "      <td>False</td>\n",
       "      <td>False</td>\n",
       "      <td>False</td>\n",
       "      <td>False</td>\n",
       "      <td>False</td>\n",
       "      <td>False</td>\n",
       "      <td>True</td>\n",
       "      <td>4.859812</td>\n",
       "      <td>5.634790</td>\n",
       "    </tr>\n",
       "    <tr>\n",
       "      <th>4</th>\n",
       "      <td>0.200000</td>\n",
       "      <td>0.428571</td>\n",
       "      <td>0.539293</td>\n",
       "      <td>False</td>\n",
       "      <td>False</td>\n",
       "      <td>False</td>\n",
       "      <td>False</td>\n",
       "      <td>True</td>\n",
       "      <td>False</td>\n",
       "      <td>False</td>\n",
       "      <td>...</td>\n",
       "      <td>False</td>\n",
       "      <td>False</td>\n",
       "      <td>False</td>\n",
       "      <td>False</td>\n",
       "      <td>False</td>\n",
       "      <td>False</td>\n",
       "      <td>False</td>\n",
       "      <td>False</td>\n",
       "      <td>4.859812</td>\n",
       "      <td>6.684612</td>\n",
       "    </tr>\n",
       "    <tr>\n",
       "      <th>...</th>\n",
       "      <td>...</td>\n",
       "      <td>...</td>\n",
       "      <td>...</td>\n",
       "      <td>...</td>\n",
       "      <td>...</td>\n",
       "      <td>...</td>\n",
       "      <td>...</td>\n",
       "      <td>...</td>\n",
       "      <td>...</td>\n",
       "      <td>...</td>\n",
       "      <td>...</td>\n",
       "      <td>...</td>\n",
       "      <td>...</td>\n",
       "      <td>...</td>\n",
       "      <td>...</td>\n",
       "      <td>...</td>\n",
       "      <td>...</td>\n",
       "      <td>...</td>\n",
       "      <td>...</td>\n",
       "      <td>...</td>\n",
       "      <td>...</td>\n",
       "    </tr>\n",
       "    <tr>\n",
       "      <th>402</th>\n",
       "      <td>0.200000</td>\n",
       "      <td>0.428571</td>\n",
       "      <td>0.478664</td>\n",
       "      <td>False</td>\n",
       "      <td>False</td>\n",
       "      <td>False</td>\n",
       "      <td>False</td>\n",
       "      <td>False</td>\n",
       "      <td>False</td>\n",
       "      <td>False</td>\n",
       "      <td>...</td>\n",
       "      <td>False</td>\n",
       "      <td>False</td>\n",
       "      <td>False</td>\n",
       "      <td>False</td>\n",
       "      <td>True</td>\n",
       "      <td>False</td>\n",
       "      <td>False</td>\n",
       "      <td>False</td>\n",
       "      <td>4.859812</td>\n",
       "      <td>6.956545</td>\n",
       "    </tr>\n",
       "    <tr>\n",
       "      <th>403</th>\n",
       "      <td>0.200000</td>\n",
       "      <td>0.285714</td>\n",
       "      <td>0.451632</td>\n",
       "      <td>False</td>\n",
       "      <td>False</td>\n",
       "      <td>False</td>\n",
       "      <td>False</td>\n",
       "      <td>False</td>\n",
       "      <td>False</td>\n",
       "      <td>False</td>\n",
       "      <td>...</td>\n",
       "      <td>False</td>\n",
       "      <td>False</td>\n",
       "      <td>False</td>\n",
       "      <td>False</td>\n",
       "      <td>False</td>\n",
       "      <td>False</td>\n",
       "      <td>False</td>\n",
       "      <td>True</td>\n",
       "      <td>4.859812</td>\n",
       "      <td>5.857933</td>\n",
       "    </tr>\n",
       "    <tr>\n",
       "      <th>404</th>\n",
       "      <td>0.200000</td>\n",
       "      <td>0.285714</td>\n",
       "      <td>0.360301</td>\n",
       "      <td>True</td>\n",
       "      <td>False</td>\n",
       "      <td>False</td>\n",
       "      <td>False</td>\n",
       "      <td>False</td>\n",
       "      <td>False</td>\n",
       "      <td>False</td>\n",
       "      <td>...</td>\n",
       "      <td>False</td>\n",
       "      <td>False</td>\n",
       "      <td>False</td>\n",
       "      <td>False</td>\n",
       "      <td>False</td>\n",
       "      <td>False</td>\n",
       "      <td>False</td>\n",
       "      <td>False</td>\n",
       "      <td>4.859812</td>\n",
       "      <td>7.003065</td>\n",
       "    </tr>\n",
       "    <tr>\n",
       "      <th>405</th>\n",
       "      <td>0.200000</td>\n",
       "      <td>0.428571</td>\n",
       "      <td>0.425565</td>\n",
       "      <td>False</td>\n",
       "      <td>False</td>\n",
       "      <td>False</td>\n",
       "      <td>False</td>\n",
       "      <td>False</td>\n",
       "      <td>False</td>\n",
       "      <td>False</td>\n",
       "      <td>...</td>\n",
       "      <td>False</td>\n",
       "      <td>False</td>\n",
       "      <td>True</td>\n",
       "      <td>False</td>\n",
       "      <td>False</td>\n",
       "      <td>False</td>\n",
       "      <td>False</td>\n",
       "      <td>False</td>\n",
       "      <td>4.859812</td>\n",
       "      <td>6.063785</td>\n",
       "    </tr>\n",
       "    <tr>\n",
       "      <th>406</th>\n",
       "      <td>0.200000</td>\n",
       "      <td>0.285714</td>\n",
       "      <td>0.517281</td>\n",
       "      <td>False</td>\n",
       "      <td>False</td>\n",
       "      <td>False</td>\n",
       "      <td>False</td>\n",
       "      <td>False</td>\n",
       "      <td>False</td>\n",
       "      <td>False</td>\n",
       "      <td>...</td>\n",
       "      <td>False</td>\n",
       "      <td>False</td>\n",
       "      <td>False</td>\n",
       "      <td>False</td>\n",
       "      <td>True</td>\n",
       "      <td>False</td>\n",
       "      <td>False</td>\n",
       "      <td>False</td>\n",
       "      <td>4.859812</td>\n",
       "      <td>6.476972</td>\n",
       "    </tr>\n",
       "  </tbody>\n",
       "</table>\n",
       "<p>407 rows × 21 columns</p>\n",
       "</div>"
      ],
      "text/plain": [
       "     Storage       RAM   Battery Capacity (mAh)  Brand_Apple  Brand_Asus  \\\n",
       "0    0.200000  0.285714                0.245993         True       False   \n",
       "1    0.466667  0.714286                0.613825        False       False   \n",
       "2    0.200000  0.428571                0.517281        False       False   \n",
       "3    0.200000  0.285714                0.617687        False       False   \n",
       "4    0.200000  0.428571                0.539293        False       False   \n",
       "..        ...       ...                     ...          ...         ...   \n",
       "402  0.200000  0.428571                0.478664        False       False   \n",
       "403  0.200000  0.285714                0.451632        False       False   \n",
       "404  0.200000  0.285714                0.360301         True       False   \n",
       "405  0.200000  0.428571                0.425565        False       False   \n",
       "406  0.200000  0.285714                0.517281        False       False   \n",
       "\n",
       "     Brand_Blackberry  Brand_CAT  Brand_Google  Brand_Huawei  Brand_LG  ...  \\\n",
       "0               False      False         False         False     False  ...   \n",
       "1               False      False         False         False     False  ...   \n",
       "2               False      False         False         False     False  ...   \n",
       "3               False      False         False         False     False  ...   \n",
       "4               False      False          True         False     False  ...   \n",
       "..                ...        ...           ...           ...       ...  ...   \n",
       "402             False      False         False         False     False  ...   \n",
       "403             False      False         False         False     False  ...   \n",
       "404             False      False         False         False     False  ...   \n",
       "405             False      False         False         False     False  ...   \n",
       "406             False      False         False         False     False  ...   \n",
       "\n",
       "     Brand_Nokia  Brand_OnePlus  Brand_Oppo  Brand_Realme  Brand_Samsung  \\\n",
       "0          False          False       False         False          False   \n",
       "1          False          False       False         False           True   \n",
       "2          False           True       False         False          False   \n",
       "3          False          False       False         False          False   \n",
       "4          False          False       False         False          False   \n",
       "..           ...            ...         ...           ...            ...   \n",
       "402        False          False       False         False           True   \n",
       "403        False          False       False         False          False   \n",
       "404        False          False       False         False          False   \n",
       "405        False          False        True         False          False   \n",
       "406        False          False       False         False           True   \n",
       "\n",
       "     Brand_Sony  Brand_Vivo  Brand_Xiaomi  Storage _log  Price ($)_log  \n",
       "0         False       False         False      4.859812       6.907755  \n",
       "1         False       False         False      5.549076       7.090077  \n",
       "2         False       False         False      4.859812       6.802395  \n",
       "3         False       False          True      4.859812       5.634790  \n",
       "4         False       False         False      4.859812       6.684612  \n",
       "..          ...         ...           ...           ...            ...  \n",
       "402       False       False         False      4.859812       6.956545  \n",
       "403       False       False          True      4.859812       5.857933  \n",
       "404       False       False         False      4.859812       7.003065  \n",
       "405       False       False         False      4.859812       6.063785  \n",
       "406       False       False         False      4.859812       6.476972  \n",
       "\n",
       "[407 rows x 21 columns]"
      ]
     },
     "execution_count": 26,
     "metadata": {},
     "output_type": "execute_result"
    }
   ],
   "source": [
    "x = df1.drop(['Price ($)'],axis=1)\n",
    "x"
   ]
  },
  {
   "cell_type": "markdown",
   "id": "db3c7f07",
   "metadata": {
    "papermill": {
     "duration": 0.025387,
     "end_time": "2024-05-19T18:11:55.853667",
     "exception": false,
     "start_time": "2024-05-19T18:11:55.828280",
     "status": "completed"
    },
    "tags": []
   },
   "source": [
    "<a id=\"1\"></a>\n",
    "<div style=\"font-family: Cambria; font-weight: bold; letter-spacing: 0px; color: #ffffff; font-size: 120%; text-align: left; padding: 3px; background-color: #0000ff; border-bottom: 10px solid #80ffff;\">\n",
    "    Splitting data\n",
    "</div>"
   ]
  },
  {
   "cell_type": "code",
   "execution_count": 27,
   "id": "6214f185",
   "metadata": {
    "execution": {
     "iopub.execute_input": "2024-05-19T18:11:55.906534Z",
     "iopub.status.busy": "2024-05-19T18:11:55.906163Z",
     "iopub.status.idle": "2024-05-19T18:11:55.914176Z",
     "shell.execute_reply": "2024-05-19T18:11:55.913251Z"
    },
    "papermill": {
     "duration": 0.036941,
     "end_time": "2024-05-19T18:11:55.916081",
     "exception": false,
     "start_time": "2024-05-19T18:11:55.879140",
     "status": "completed"
    },
    "tags": []
   },
   "outputs": [],
   "source": [
    "from sklearn.model_selection import train_test_split\n",
    "\n",
    "X_train, X_test, y_train, y_test = train_test_split(x, y_scaled, test_size=0.2, random_state=42)"
   ]
  },
  {
   "cell_type": "code",
   "execution_count": 28,
   "id": "8c98d5c5",
   "metadata": {
    "execution": {
     "iopub.execute_input": "2024-05-19T18:11:55.968737Z",
     "iopub.status.busy": "2024-05-19T18:11:55.968398Z",
     "iopub.status.idle": "2024-05-19T18:11:55.995062Z",
     "shell.execute_reply": "2024-05-19T18:11:55.994114Z"
    },
    "papermill": {
     "duration": 0.055462,
     "end_time": "2024-05-19T18:11:55.997014",
     "exception": false,
     "start_time": "2024-05-19T18:11:55.941552",
     "status": "completed"
    },
    "tags": []
   },
   "outputs": [
    {
     "data": {
      "text/html": [
       "<div>\n",
       "<style scoped>\n",
       "    .dataframe tbody tr th:only-of-type {\n",
       "        vertical-align: middle;\n",
       "    }\n",
       "\n",
       "    .dataframe tbody tr th {\n",
       "        vertical-align: top;\n",
       "    }\n",
       "\n",
       "    .dataframe thead th {\n",
       "        text-align: right;\n",
       "    }\n",
       "</style>\n",
       "<table border=\"1\" class=\"dataframe\">\n",
       "  <thead>\n",
       "    <tr style=\"text-align: right;\">\n",
       "      <th></th>\n",
       "      <th>Storage</th>\n",
       "      <th>RAM</th>\n",
       "      <th>Battery Capacity (mAh)</th>\n",
       "      <th>Brand_Apple</th>\n",
       "      <th>Brand_Asus</th>\n",
       "      <th>Brand_Blackberry</th>\n",
       "      <th>Brand_CAT</th>\n",
       "      <th>Brand_Google</th>\n",
       "      <th>Brand_Huawei</th>\n",
       "      <th>Brand_LG</th>\n",
       "      <th>...</th>\n",
       "      <th>Brand_Nokia</th>\n",
       "      <th>Brand_OnePlus</th>\n",
       "      <th>Brand_Oppo</th>\n",
       "      <th>Brand_Realme</th>\n",
       "      <th>Brand_Samsung</th>\n",
       "      <th>Brand_Sony</th>\n",
       "      <th>Brand_Vivo</th>\n",
       "      <th>Brand_Xiaomi</th>\n",
       "      <th>Storage _log</th>\n",
       "      <th>Price ($)_log</th>\n",
       "    </tr>\n",
       "  </thead>\n",
       "  <tbody>\n",
       "    <tr>\n",
       "      <th>331</th>\n",
       "      <td>0.200000</td>\n",
       "      <td>0.285714</td>\n",
       "      <td>0.644719</td>\n",
       "      <td>False</td>\n",
       "      <td>False</td>\n",
       "      <td>False</td>\n",
       "      <td>False</td>\n",
       "      <td>False</td>\n",
       "      <td>False</td>\n",
       "      <td>False</td>\n",
       "      <td>...</td>\n",
       "      <td>False</td>\n",
       "      <td>False</td>\n",
       "      <td>False</td>\n",
       "      <td>False</td>\n",
       "      <td>False</td>\n",
       "      <td>False</td>\n",
       "      <td>False</td>\n",
       "      <td>True</td>\n",
       "      <td>4.859812</td>\n",
       "      <td>5.521461</td>\n",
       "    </tr>\n",
       "    <tr>\n",
       "      <th>3</th>\n",
       "      <td>0.200000</td>\n",
       "      <td>0.285714</td>\n",
       "      <td>0.617687</td>\n",
       "      <td>False</td>\n",
       "      <td>False</td>\n",
       "      <td>False</td>\n",
       "      <td>False</td>\n",
       "      <td>False</td>\n",
       "      <td>False</td>\n",
       "      <td>False</td>\n",
       "      <td>...</td>\n",
       "      <td>False</td>\n",
       "      <td>False</td>\n",
       "      <td>False</td>\n",
       "      <td>False</td>\n",
       "      <td>False</td>\n",
       "      <td>False</td>\n",
       "      <td>False</td>\n",
       "      <td>True</td>\n",
       "      <td>4.859812</td>\n",
       "      <td>5.634790</td>\n",
       "    </tr>\n",
       "    <tr>\n",
       "      <th>18</th>\n",
       "      <td>0.200000</td>\n",
       "      <td>0.285714</td>\n",
       "      <td>0.613825</td>\n",
       "      <td>False</td>\n",
       "      <td>False</td>\n",
       "      <td>False</td>\n",
       "      <td>False</td>\n",
       "      <td>False</td>\n",
       "      <td>False</td>\n",
       "      <td>False</td>\n",
       "      <td>...</td>\n",
       "      <td>False</td>\n",
       "      <td>False</td>\n",
       "      <td>False</td>\n",
       "      <td>True</td>\n",
       "      <td>False</td>\n",
       "      <td>False</td>\n",
       "      <td>False</td>\n",
       "      <td>False</td>\n",
       "      <td>4.859812</td>\n",
       "      <td>5.703782</td>\n",
       "    </tr>\n",
       "    <tr>\n",
       "      <th>131</th>\n",
       "      <td>0.066667</td>\n",
       "      <td>0.142857</td>\n",
       "      <td>0.613825</td>\n",
       "      <td>False</td>\n",
       "      <td>False</td>\n",
       "      <td>False</td>\n",
       "      <td>False</td>\n",
       "      <td>False</td>\n",
       "      <td>False</td>\n",
       "      <td>False</td>\n",
       "      <td>...</td>\n",
       "      <td>False</td>\n",
       "      <td>False</td>\n",
       "      <td>False</td>\n",
       "      <td>True</td>\n",
       "      <td>False</td>\n",
       "      <td>False</td>\n",
       "      <td>False</td>\n",
       "      <td>False</td>\n",
       "      <td>4.174387</td>\n",
       "      <td>5.010635</td>\n",
       "    </tr>\n",
       "    <tr>\n",
       "      <th>118</th>\n",
       "      <td>0.066667</td>\n",
       "      <td>0.142857</td>\n",
       "      <td>0.613825</td>\n",
       "      <td>False</td>\n",
       "      <td>False</td>\n",
       "      <td>False</td>\n",
       "      <td>False</td>\n",
       "      <td>False</td>\n",
       "      <td>False</td>\n",
       "      <td>False</td>\n",
       "      <td>...</td>\n",
       "      <td>False</td>\n",
       "      <td>False</td>\n",
       "      <td>False</td>\n",
       "      <td>False</td>\n",
       "      <td>False</td>\n",
       "      <td>False</td>\n",
       "      <td>False</td>\n",
       "      <td>False</td>\n",
       "      <td>4.174387</td>\n",
       "      <td>5.521461</td>\n",
       "    </tr>\n",
       "    <tr>\n",
       "      <th>...</th>\n",
       "      <td>...</td>\n",
       "      <td>...</td>\n",
       "      <td>...</td>\n",
       "      <td>...</td>\n",
       "      <td>...</td>\n",
       "      <td>...</td>\n",
       "      <td>...</td>\n",
       "      <td>...</td>\n",
       "      <td>...</td>\n",
       "      <td>...</td>\n",
       "      <td>...</td>\n",
       "      <td>...</td>\n",
       "      <td>...</td>\n",
       "      <td>...</td>\n",
       "      <td>...</td>\n",
       "      <td>...</td>\n",
       "      <td>...</td>\n",
       "      <td>...</td>\n",
       "      <td>...</td>\n",
       "      <td>...</td>\n",
       "      <td>...</td>\n",
       "    </tr>\n",
       "    <tr>\n",
       "      <th>71</th>\n",
       "      <td>0.200000</td>\n",
       "      <td>0.142857</td>\n",
       "      <td>0.613825</td>\n",
       "      <td>False</td>\n",
       "      <td>False</td>\n",
       "      <td>False</td>\n",
       "      <td>False</td>\n",
       "      <td>False</td>\n",
       "      <td>False</td>\n",
       "      <td>False</td>\n",
       "      <td>...</td>\n",
       "      <td>False</td>\n",
       "      <td>False</td>\n",
       "      <td>False</td>\n",
       "      <td>False</td>\n",
       "      <td>True</td>\n",
       "      <td>False</td>\n",
       "      <td>False</td>\n",
       "      <td>False</td>\n",
       "      <td>4.859812</td>\n",
       "      <td>5.480639</td>\n",
       "    </tr>\n",
       "    <tr>\n",
       "      <th>106</th>\n",
       "      <td>0.000000</td>\n",
       "      <td>0.071429</td>\n",
       "      <td>0.613825</td>\n",
       "      <td>False</td>\n",
       "      <td>False</td>\n",
       "      <td>False</td>\n",
       "      <td>False</td>\n",
       "      <td>False</td>\n",
       "      <td>False</td>\n",
       "      <td>False</td>\n",
       "      <td>...</td>\n",
       "      <td>False</td>\n",
       "      <td>False</td>\n",
       "      <td>False</td>\n",
       "      <td>False</td>\n",
       "      <td>False</td>\n",
       "      <td>False</td>\n",
       "      <td>True</td>\n",
       "      <td>False</td>\n",
       "      <td>3.496508</td>\n",
       "      <td>4.941642</td>\n",
       "    </tr>\n",
       "    <tr>\n",
       "      <th>270</th>\n",
       "      <td>0.000000</td>\n",
       "      <td>0.071429</td>\n",
       "      <td>0.613825</td>\n",
       "      <td>False</td>\n",
       "      <td>False</td>\n",
       "      <td>False</td>\n",
       "      <td>False</td>\n",
       "      <td>False</td>\n",
       "      <td>False</td>\n",
       "      <td>False</td>\n",
       "      <td>...</td>\n",
       "      <td>False</td>\n",
       "      <td>False</td>\n",
       "      <td>False</td>\n",
       "      <td>False</td>\n",
       "      <td>True</td>\n",
       "      <td>False</td>\n",
       "      <td>False</td>\n",
       "      <td>False</td>\n",
       "      <td>3.496508</td>\n",
       "      <td>4.875197</td>\n",
       "    </tr>\n",
       "    <tr>\n",
       "      <th>348</th>\n",
       "      <td>0.200000</td>\n",
       "      <td>0.142857</td>\n",
       "      <td>0.613825</td>\n",
       "      <td>False</td>\n",
       "      <td>False</td>\n",
       "      <td>False</td>\n",
       "      <td>False</td>\n",
       "      <td>False</td>\n",
       "      <td>False</td>\n",
       "      <td>False</td>\n",
       "      <td>...</td>\n",
       "      <td>False</td>\n",
       "      <td>False</td>\n",
       "      <td>True</td>\n",
       "      <td>False</td>\n",
       "      <td>False</td>\n",
       "      <td>False</td>\n",
       "      <td>False</td>\n",
       "      <td>False</td>\n",
       "      <td>4.859812</td>\n",
       "      <td>5.521461</td>\n",
       "    </tr>\n",
       "    <tr>\n",
       "      <th>102</th>\n",
       "      <td>0.200000</td>\n",
       "      <td>0.428571</td>\n",
       "      <td>0.285576</td>\n",
       "      <td>False</td>\n",
       "      <td>False</td>\n",
       "      <td>False</td>\n",
       "      <td>False</td>\n",
       "      <td>False</td>\n",
       "      <td>False</td>\n",
       "      <td>False</td>\n",
       "      <td>...</td>\n",
       "      <td>False</td>\n",
       "      <td>False</td>\n",
       "      <td>False</td>\n",
       "      <td>False</td>\n",
       "      <td>True</td>\n",
       "      <td>False</td>\n",
       "      <td>False</td>\n",
       "      <td>False</td>\n",
       "      <td>4.859812</td>\n",
       "      <td>6.907755</td>\n",
       "    </tr>\n",
       "  </tbody>\n",
       "</table>\n",
       "<p>325 rows × 21 columns</p>\n",
       "</div>"
      ],
      "text/plain": [
       "     Storage       RAM   Battery Capacity (mAh)  Brand_Apple  Brand_Asus  \\\n",
       "331  0.200000  0.285714                0.644719        False       False   \n",
       "3    0.200000  0.285714                0.617687        False       False   \n",
       "18   0.200000  0.285714                0.613825        False       False   \n",
       "131  0.066667  0.142857                0.613825        False       False   \n",
       "118  0.066667  0.142857                0.613825        False       False   \n",
       "..        ...       ...                     ...          ...         ...   \n",
       "71   0.200000  0.142857                0.613825        False       False   \n",
       "106  0.000000  0.071429                0.613825        False       False   \n",
       "270  0.000000  0.071429                0.613825        False       False   \n",
       "348  0.200000  0.142857                0.613825        False       False   \n",
       "102  0.200000  0.428571                0.285576        False       False   \n",
       "\n",
       "     Brand_Blackberry  Brand_CAT  Brand_Google  Brand_Huawei  Brand_LG  ...  \\\n",
       "331             False      False         False         False     False  ...   \n",
       "3               False      False         False         False     False  ...   \n",
       "18              False      False         False         False     False  ...   \n",
       "131             False      False         False         False     False  ...   \n",
       "118             False      False         False         False     False  ...   \n",
       "..                ...        ...           ...           ...       ...  ...   \n",
       "71              False      False         False         False     False  ...   \n",
       "106             False      False         False         False     False  ...   \n",
       "270             False      False         False         False     False  ...   \n",
       "348             False      False         False         False     False  ...   \n",
       "102             False      False         False         False     False  ...   \n",
       "\n",
       "     Brand_Nokia  Brand_OnePlus  Brand_Oppo  Brand_Realme  Brand_Samsung  \\\n",
       "331        False          False       False         False          False   \n",
       "3          False          False       False         False          False   \n",
       "18         False          False       False          True          False   \n",
       "131        False          False       False          True          False   \n",
       "118        False          False       False         False          False   \n",
       "..           ...            ...         ...           ...            ...   \n",
       "71         False          False       False         False           True   \n",
       "106        False          False       False         False          False   \n",
       "270        False          False       False         False           True   \n",
       "348        False          False        True         False          False   \n",
       "102        False          False       False         False           True   \n",
       "\n",
       "     Brand_Sony  Brand_Vivo  Brand_Xiaomi  Storage _log  Price ($)_log  \n",
       "331       False       False          True      4.859812       5.521461  \n",
       "3         False       False          True      4.859812       5.634790  \n",
       "18        False       False         False      4.859812       5.703782  \n",
       "131       False       False         False      4.174387       5.010635  \n",
       "118       False       False         False      4.174387       5.521461  \n",
       "..          ...         ...           ...           ...            ...  \n",
       "71        False       False         False      4.859812       5.480639  \n",
       "106       False        True         False      3.496508       4.941642  \n",
       "270       False       False         False      3.496508       4.875197  \n",
       "348       False       False         False      4.859812       5.521461  \n",
       "102       False       False         False      4.859812       6.907755  \n",
       "\n",
       "[325 rows x 21 columns]"
      ]
     },
     "execution_count": 28,
     "metadata": {},
     "output_type": "execute_result"
    }
   ],
   "source": [
    "X_train"
   ]
  },
  {
   "cell_type": "code",
   "execution_count": 29,
   "id": "e252e3b1",
   "metadata": {
    "execution": {
     "iopub.execute_input": "2024-05-19T18:11:56.051666Z",
     "iopub.status.busy": "2024-05-19T18:11:56.050971Z",
     "iopub.status.idle": "2024-05-19T18:11:56.058444Z",
     "shell.execute_reply": "2024-05-19T18:11:56.057686Z"
    },
    "papermill": {
     "duration": 0.037282,
     "end_time": "2024-05-19T18:11:56.060317",
     "exception": false,
     "start_time": "2024-05-19T18:11:56.023035",
     "status": "completed"
    },
    "tags": []
   },
   "outputs": [
    {
     "data": {
      "text/plain": [
       "331    0.078947\n",
       "3      0.094737\n",
       "18     0.105263\n",
       "131    0.026316\n",
       "118    0.078947\n",
       "         ...   \n",
       "71     0.073684\n",
       "106    0.021053\n",
       "270    0.016316\n",
       "348    0.078947\n",
       "102    0.473684\n",
       "Name: Price ($), Length: 325, dtype: float64"
      ]
     },
     "execution_count": 29,
     "metadata": {},
     "output_type": "execute_result"
    }
   ],
   "source": [
    "y_train"
   ]
  },
  {
   "cell_type": "markdown",
   "id": "b515c42c",
   "metadata": {
    "papermill": {
     "duration": 0.026572,
     "end_time": "2024-05-19T18:11:56.113607",
     "exception": false,
     "start_time": "2024-05-19T18:11:56.087035",
     "status": "completed"
    },
    "tags": []
   },
   "source": [
    "<a id=\"1\"></a>\n",
    "<div style=\"font-family: Cambria; font-weight: bold; letter-spacing: 0px; color: #ffffff; font-size: 120%; text-align: left; padding: 3px; background-color: #0000ff; border-bottom: 10px solid #80ffff;\">\n",
    "    Training and evalution of model\n",
    "</div>"
   ]
  },
  {
   "cell_type": "markdown",
   "id": "1c9320a8",
   "metadata": {
    "papermill": {
     "duration": 0.025935,
     "end_time": "2024-05-19T18:11:56.165546",
     "exception": false,
     "start_time": "2024-05-19T18:11:56.139611",
     "status": "completed"
    },
    "tags": []
   },
   "source": [
    "<div style=\"background-color: #ff0000; padding: 20px; border-radius: 10px;\">\n",
    "    <h1 style=\"text-align: left; font-size: 25px;\"> LinearRegression </h1>\n",
    "</div>\n"
   ]
  },
  {
   "cell_type": "code",
   "execution_count": 30,
   "id": "1e3def7b",
   "metadata": {
    "execution": {
     "iopub.execute_input": "2024-05-19T18:11:56.220158Z",
     "iopub.status.busy": "2024-05-19T18:11:56.219758Z",
     "iopub.status.idle": "2024-05-19T18:11:56.247917Z",
     "shell.execute_reply": "2024-05-19T18:11:56.246993Z"
    },
    "papermill": {
     "duration": 0.058276,
     "end_time": "2024-05-19T18:11:56.249805",
     "exception": false,
     "start_time": "2024-05-19T18:11:56.191529",
     "status": "completed"
    },
    "tags": []
   },
   "outputs": [
    {
     "data": {
      "text/html": [
       "<style>#sk-container-id-1 {color: black;background-color: white;}#sk-container-id-1 pre{padding: 0;}#sk-container-id-1 div.sk-toggleable {background-color: white;}#sk-container-id-1 label.sk-toggleable__label {cursor: pointer;display: block;width: 100%;margin-bottom: 0;padding: 0.3em;box-sizing: border-box;text-align: center;}#sk-container-id-1 label.sk-toggleable__label-arrow:before {content: \"▸\";float: left;margin-right: 0.25em;color: #696969;}#sk-container-id-1 label.sk-toggleable__label-arrow:hover:before {color: black;}#sk-container-id-1 div.sk-estimator:hover label.sk-toggleable__label-arrow:before {color: black;}#sk-container-id-1 div.sk-toggleable__content {max-height: 0;max-width: 0;overflow: hidden;text-align: left;background-color: #f0f8ff;}#sk-container-id-1 div.sk-toggleable__content pre {margin: 0.2em;color: black;border-radius: 0.25em;background-color: #f0f8ff;}#sk-container-id-1 input.sk-toggleable__control:checked~div.sk-toggleable__content {max-height: 200px;max-width: 100%;overflow: auto;}#sk-container-id-1 input.sk-toggleable__control:checked~label.sk-toggleable__label-arrow:before {content: \"▾\";}#sk-container-id-1 div.sk-estimator input.sk-toggleable__control:checked~label.sk-toggleable__label {background-color: #d4ebff;}#sk-container-id-1 div.sk-label input.sk-toggleable__control:checked~label.sk-toggleable__label {background-color: #d4ebff;}#sk-container-id-1 input.sk-hidden--visually {border: 0;clip: rect(1px 1px 1px 1px);clip: rect(1px, 1px, 1px, 1px);height: 1px;margin: -1px;overflow: hidden;padding: 0;position: absolute;width: 1px;}#sk-container-id-1 div.sk-estimator {font-family: monospace;background-color: #f0f8ff;border: 1px dotted black;border-radius: 0.25em;box-sizing: border-box;margin-bottom: 0.5em;}#sk-container-id-1 div.sk-estimator:hover {background-color: #d4ebff;}#sk-container-id-1 div.sk-parallel-item::after {content: \"\";width: 100%;border-bottom: 1px solid gray;flex-grow: 1;}#sk-container-id-1 div.sk-label:hover label.sk-toggleable__label {background-color: #d4ebff;}#sk-container-id-1 div.sk-serial::before {content: \"\";position: absolute;border-left: 1px solid gray;box-sizing: border-box;top: 0;bottom: 0;left: 50%;z-index: 0;}#sk-container-id-1 div.sk-serial {display: flex;flex-direction: column;align-items: center;background-color: white;padding-right: 0.2em;padding-left: 0.2em;position: relative;}#sk-container-id-1 div.sk-item {position: relative;z-index: 1;}#sk-container-id-1 div.sk-parallel {display: flex;align-items: stretch;justify-content: center;background-color: white;position: relative;}#sk-container-id-1 div.sk-item::before, #sk-container-id-1 div.sk-parallel-item::before {content: \"\";position: absolute;border-left: 1px solid gray;box-sizing: border-box;top: 0;bottom: 0;left: 50%;z-index: -1;}#sk-container-id-1 div.sk-parallel-item {display: flex;flex-direction: column;z-index: 1;position: relative;background-color: white;}#sk-container-id-1 div.sk-parallel-item:first-child::after {align-self: flex-end;width: 50%;}#sk-container-id-1 div.sk-parallel-item:last-child::after {align-self: flex-start;width: 50%;}#sk-container-id-1 div.sk-parallel-item:only-child::after {width: 0;}#sk-container-id-1 div.sk-dashed-wrapped {border: 1px dashed gray;margin: 0 0.4em 0.5em 0.4em;box-sizing: border-box;padding-bottom: 0.4em;background-color: white;}#sk-container-id-1 div.sk-label label {font-family: monospace;font-weight: bold;display: inline-block;line-height: 1.2em;}#sk-container-id-1 div.sk-label-container {text-align: center;}#sk-container-id-1 div.sk-container {/* jupyter's `normalize.less` sets `[hidden] { display: none; }` but bootstrap.min.css set `[hidden] { display: none !important; }` so we also need the `!important` here to be able to override the default hidden behavior on the sphinx rendered scikit-learn.org. See: https://github.com/scikit-learn/scikit-learn/issues/21755 */display: inline-block !important;position: relative;}#sk-container-id-1 div.sk-text-repr-fallback {display: none;}</style><div id=\"sk-container-id-1\" class=\"sk-top-container\"><div class=\"sk-text-repr-fallback\"><pre>LinearRegression()</pre><b>In a Jupyter environment, please rerun this cell to show the HTML representation or trust the notebook. <br />On GitHub, the HTML representation is unable to render, please try loading this page with nbviewer.org.</b></div><div class=\"sk-container\" hidden><div class=\"sk-item\"><div class=\"sk-estimator sk-toggleable\"><input class=\"sk-toggleable__control sk-hidden--visually\" id=\"sk-estimator-id-1\" type=\"checkbox\" checked><label for=\"sk-estimator-id-1\" class=\"sk-toggleable__label sk-toggleable__label-arrow\">LinearRegression</label><div class=\"sk-toggleable__content\"><pre>LinearRegression()</pre></div></div></div></div></div>"
      ],
      "text/plain": [
       "LinearRegression()"
      ]
     },
     "execution_count": 30,
     "metadata": {},
     "output_type": "execute_result"
    }
   ],
   "source": [
    "from sklearn.linear_model import LinearRegression\n",
    "\n",
    "linear_reg = LinearRegression()\n",
    "linear_reg.fit(X_train, y_train)\n",
    "\n"
   ]
  },
  {
   "cell_type": "code",
   "execution_count": 31,
   "id": "3669f4d5",
   "metadata": {
    "execution": {
     "iopub.execute_input": "2024-05-19T18:11:56.303913Z",
     "iopub.status.busy": "2024-05-19T18:11:56.303577Z",
     "iopub.status.idle": "2024-05-19T18:11:56.311216Z",
     "shell.execute_reply": "2024-05-19T18:11:56.310326Z"
    },
    "papermill": {
     "duration": 0.037027,
     "end_time": "2024-05-19T18:11:56.313171",
     "exception": false,
     "start_time": "2024-05-19T18:11:56.276144",
     "status": "completed"
    },
    "tags": []
   },
   "outputs": [],
   "source": [
    "y_pred_train = linear_reg.predict(X_train)\n",
    "y_pred_test = linear_reg.predict(X_test)\n",
    "\n"
   ]
  },
  {
   "cell_type": "code",
   "execution_count": 32,
   "id": "8738a112",
   "metadata": {
    "execution": {
     "iopub.execute_input": "2024-05-19T18:11:56.367539Z",
     "iopub.status.busy": "2024-05-19T18:11:56.367221Z",
     "iopub.status.idle": "2024-05-19T18:11:56.374921Z",
     "shell.execute_reply": "2024-05-19T18:11:56.374279Z"
    },
    "papermill": {
     "duration": 0.03737,
     "end_time": "2024-05-19T18:11:56.377104",
     "exception": false,
     "start_time": "2024-05-19T18:11:56.339734",
     "status": "completed"
    },
    "tags": []
   },
   "outputs": [
    {
     "name": "stdout",
     "output_type": "stream",
     "text": [
      "Training MSE: 0.0014026082628148461\n",
      "Testing MSE: 0.0014405235475605774\n",
      "Training R2 Score: 0.9431192113491829\n",
      "Testing R2 Score: 0.9430940108487701\n"
     ]
    }
   ],
   "source": [
    "# Evaluate the model\n",
    "train_mse = mean_squared_error(y_train, y_pred_train)\n",
    "test_mse = mean_squared_error(y_test, y_pred_test)\n",
    "train_r2 = r2_score(y_train, y_pred_train)\n",
    "test_r2 = r2_score(y_test, y_pred_test)\n",
    "\n",
    "print(f\"Training MSE: {train_mse}\")\n",
    "print(f\"Testing MSE: {test_mse}\")\n",
    "print(f\"Training R2 Score: {train_r2}\")\n",
    "print(f\"Testing R2 Score: {test_r2}\")"
   ]
  },
  {
   "cell_type": "markdown",
   "id": "dc02e526",
   "metadata": {
    "papermill": {
     "duration": 0.02799,
     "end_time": "2024-05-19T18:11:56.431455",
     "exception": false,
     "start_time": "2024-05-19T18:11:56.403465",
     "status": "completed"
    },
    "tags": []
   },
   "source": [
    "<div style=\"background-color: #ff0000; padding: 20px; border-radius: 10px;\">\n",
    "    <h1 style=\"text-align: left; font-size: 25px;\"> KNN </h1>\n",
    "</div>"
   ]
  },
  {
   "cell_type": "code",
   "execution_count": 33,
   "id": "d8d57b6e",
   "metadata": {
    "execution": {
     "iopub.execute_input": "2024-05-19T18:11:56.486416Z",
     "iopub.status.busy": "2024-05-19T18:11:56.486047Z",
     "iopub.status.idle": "2024-05-19T18:11:56.858513Z",
     "shell.execute_reply": "2024-05-19T18:11:56.857562Z"
    },
    "papermill": {
     "duration": 0.402446,
     "end_time": "2024-05-19T18:11:56.860723",
     "exception": false,
     "start_time": "2024-05-19T18:11:56.458277",
     "status": "completed"
    },
    "tags": []
   },
   "outputs": [
    {
     "data": {
      "image/png": "[encoded data removed]",
      "text/plain": [
       "<Figure size 1000x600 with 1 Axes>"
      ]
     },
     "metadata": {},
     "output_type": "display_data"
    }
   ],
   "source": [
    "mse_values = []\n",
    "r2_values = []\n",
    "max_neighbors = 10  \n",
    "for k in range(1, max_neighbors + 1):\n",
    "    knn = KNeighborsRegressor(n_neighbors=k)\n",
    "    knn.fit(X_train, y_train)\n",
    "    y_pred = knn.predict(X_test)\n",
    "    mse = mean_squared_error(y_test, y_pred)\n",
    "    r2 = r2_score(y_test, y_pred)\n",
    "    mse_values.append(mse)\n",
    "    r2_values.append(r2)\n",
    "\n",
    "# Plotting the elbow curve\n",
    "plt.figure(figsize=(10, 6))\n",
    "plt.plot(range(1, max_neighbors + 1), mse_values, marker='o')\n",
    "plt.xlabel('Number of Neighbors (k)')\n",
    "plt.ylabel('Mean Squared Error (MSE)')\n",
    "plt.title('Elbow Method for Optimal k')\n",
    "plt.grid(True)\n",
    "plt.show()\n",
    "\n"
   ]
  },
  {
   "cell_type": "code",
   "execution_count": 34,
   "id": "1975ea36",
   "metadata": {
    "execution": {
     "iopub.execute_input": "2024-05-19T18:11:56.918150Z",
     "iopub.status.busy": "2024-05-19T18:11:56.917624Z",
     "iopub.status.idle": "2024-05-19T18:11:56.923015Z",
     "shell.execute_reply": "2024-05-19T18:11:56.921833Z"
    },
    "papermill": {
     "duration": 0.036936,
     "end_time": "2024-05-19T18:11:56.925024",
     "exception": false,
     "start_time": "2024-05-19T18:11:56.888088",
     "status": "completed"
    },
    "tags": []
   },
   "outputs": [
    {
     "name": "stdout",
     "output_type": "stream",
     "text": [
      "Optimal number of neighbors (k): 1\n"
     ]
    }
   ],
   "source": [
    "# Choose the optimal k based on the elbow curve (lowest MSE)\n",
    "optimal_k = mse_values.index(min(mse_values)) + 1\n",
    "print(f\"Optimal number of neighbors (k): {optimal_k}\")\n",
    "\n"
   ]
  },
  {
   "cell_type": "code",
   "execution_count": 35,
   "id": "c45141f6",
   "metadata": {
    "execution": {
     "iopub.execute_input": "2024-05-19T18:11:56.980478Z",
     "iopub.status.busy": "2024-05-19T18:11:56.980177Z",
     "iopub.status.idle": "2024-05-19T18:11:56.989349Z",
     "shell.execute_reply": "2024-05-19T18:11:56.988460Z"
    },
    "papermill": {
     "duration": 0.039222,
     "end_time": "2024-05-19T18:11:56.991278",
     "exception": false,
     "start_time": "2024-05-19T18:11:56.952056",
     "status": "completed"
    },
    "tags": []
   },
   "outputs": [
    {
     "data": {
      "text/html": [
       "<style>#sk-container-id-2 {color: black;background-color: white;}#sk-container-id-2 pre{padding: 0;}#sk-container-id-2 div.sk-toggleable {background-color: white;}#sk-container-id-2 label.sk-toggleable__label {cursor: pointer;display: block;width: 100%;margin-bottom: 0;padding: 0.3em;box-sizing: border-box;text-align: center;}#sk-container-id-2 label.sk-toggleable__label-arrow:before {content: \"▸\";float: left;margin-right: 0.25em;color: #696969;}#sk-container-id-2 label.sk-toggleable__label-arrow:hover:before {color: black;}#sk-container-id-2 div.sk-estimator:hover label.sk-toggleable__label-arrow:before {color: black;}#sk-container-id-2 div.sk-toggleable__content {max-height: 0;max-width: 0;overflow: hidden;text-align: left;background-color: #f0f8ff;}#sk-container-id-2 div.sk-toggleable__content pre {margin: 0.2em;color: black;border-radius: 0.25em;background-color: #f0f8ff;}#sk-container-id-2 input.sk-toggleable__control:checked~div.sk-toggleable__content {max-height: 200px;max-width: 100%;overflow: auto;}#sk-container-id-2 input.sk-toggleable__control:checked~label.sk-toggleable__label-arrow:before {content: \"▾\";}#sk-container-id-2 div.sk-estimator input.sk-toggleable__control:checked~label.sk-toggleable__label {background-color: #d4ebff;}#sk-container-id-2 div.sk-label input.sk-toggleable__control:checked~label.sk-toggleable__label {background-color: #d4ebff;}#sk-container-id-2 input.sk-hidden--visually {border: 0;clip: rect(1px 1px 1px 1px);clip: rect(1px, 1px, 1px, 1px);height: 1px;margin: -1px;overflow: hidden;padding: 0;position: absolute;width: 1px;}#sk-container-id-2 div.sk-estimator {font-family: monospace;background-color: #f0f8ff;border: 1px dotted black;border-radius: 0.25em;box-sizing: border-box;margin-bottom: 0.5em;}#sk-container-id-2 div.sk-estimator:hover {background-color: #d4ebff;}#sk-container-id-2 div.sk-parallel-item::after {content: \"\";width: 100%;border-bottom: 1px solid gray;flex-grow: 1;}#sk-container-id-2 div.sk-label:hover label.sk-toggleable__label {background-color: #d4ebff;}#sk-container-id-2 div.sk-serial::before {content: \"\";position: absolute;border-left: 1px solid gray;box-sizing: border-box;top: 0;bottom: 0;left: 50%;z-index: 0;}#sk-container-id-2 div.sk-serial {display: flex;flex-direction: column;align-items: center;background-color: white;padding-right: 0.2em;padding-left: 0.2em;position: relative;}#sk-container-id-2 div.sk-item {position: relative;z-index: 1;}#sk-container-id-2 div.sk-parallel {display: flex;align-items: stretch;justify-content: center;background-color: white;position: relative;}#sk-container-id-2 div.sk-item::before, #sk-container-id-2 div.sk-parallel-item::before {content: \"\";position: absolute;border-left: 1px solid gray;box-sizing: border-box;top: 0;bottom: 0;left: 50%;z-index: -1;}#sk-container-id-2 div.sk-parallel-item {display: flex;flex-direction: column;z-index: 1;position: relative;background-color: white;}#sk-container-id-2 div.sk-parallel-item:first-child::after {align-self: flex-end;width: 50%;}#sk-container-id-2 div.sk-parallel-item:last-child::after {align-self: flex-start;width: 50%;}#sk-container-id-2 div.sk-parallel-item:only-child::after {width: 0;}#sk-container-id-2 div.sk-dashed-wrapped {border: 1px dashed gray;margin: 0 0.4em 0.5em 0.4em;box-sizing: border-box;padding-bottom: 0.4em;background-color: white;}#sk-container-id-2 div.sk-label label {font-family: monospace;font-weight: bold;display: inline-block;line-height: 1.2em;}#sk-container-id-2 div.sk-label-container {text-align: center;}#sk-container-id-2 div.sk-container {/* jupyter's `normalize.less` sets `[hidden] { display: none; }` but bootstrap.min.css set `[hidden] { display: none !important; }` so we also need the `!important` here to be able to override the default hidden behavior on the sphinx rendered scikit-learn.org. See: https://github.com/scikit-learn/scikit-learn/issues/21755 */display: inline-block !important;position: relative;}#sk-container-id-2 div.sk-text-repr-fallback {display: none;}</style><div id=\"sk-container-id-2\" class=\"sk-top-container\"><div class=\"sk-text-repr-fallback\"><pre>KNeighborsRegressor(n_neighbors=1)</pre><b>In a Jupyter environment, please rerun this cell to show the HTML representation or trust the notebook. <br />On GitHub, the HTML representation is unable to render, please try loading this page with nbviewer.org.</b></div><div class=\"sk-container\" hidden><div class=\"sk-item\"><div class=\"sk-estimator sk-toggleable\"><input class=\"sk-toggleable__control sk-hidden--visually\" id=\"sk-estimator-id-2\" type=\"checkbox\" checked><label for=\"sk-estimator-id-2\" class=\"sk-toggleable__label sk-toggleable__label-arrow\">KNeighborsRegressor</label><div class=\"sk-toggleable__content\"><pre>KNeighborsRegressor(n_neighbors=1)</pre></div></div></div></div></div>"
      ],
      "text/plain": [
       "KNeighborsRegressor(n_neighbors=1)"
      ]
     },
     "execution_count": 35,
     "metadata": {},
     "output_type": "execute_result"
    }
   ],
   "source": [
    "# Train the KNN model with the optimal k\n",
    "knn = KNeighborsRegressor(n_neighbors=optimal_k)\n",
    "knn.fit(X_train, y_train)\n",
    "\n"
   ]
  },
  {
   "cell_type": "code",
   "execution_count": 36,
   "id": "8b25172b",
   "metadata": {
    "execution": {
     "iopub.execute_input": "2024-05-19T18:11:57.047943Z",
     "iopub.status.busy": "2024-05-19T18:11:57.047466Z",
     "iopub.status.idle": "2024-05-19T18:11:57.059620Z",
     "shell.execute_reply": "2024-05-19T18:11:57.058793Z"
    },
    "papermill": {
     "duration": 0.04277,
     "end_time": "2024-05-19T18:11:57.061603",
     "exception": false,
     "start_time": "2024-05-19T18:11:57.018833",
     "status": "completed"
    },
    "tags": []
   },
   "outputs": [],
   "source": [
    "# Evaluate the model\n",
    "y_pred_train = knn.predict(X_train)\n",
    "y_pred_test = knn.predict(X_test)\n",
    "\n"
   ]
  },
  {
   "cell_type": "code",
   "execution_count": 37,
   "id": "b8b30651",
   "metadata": {
    "execution": {
     "iopub.execute_input": "2024-05-19T18:11:57.118742Z",
     "iopub.status.busy": "2024-05-19T18:11:57.118364Z",
     "iopub.status.idle": "2024-05-19T18:11:57.126101Z",
     "shell.execute_reply": "2024-05-19T18:11:57.125268Z"
    },
    "papermill": {
     "duration": 0.038791,
     "end_time": "2024-05-19T18:11:57.128060",
     "exception": false,
     "start_time": "2024-05-19T18:11:57.089269",
     "status": "completed"
    },
    "tags": []
   },
   "outputs": [
    {
     "name": "stdout",
     "output_type": "stream",
     "text": [
      "Training MSE: 0.0\n",
      "Testing MSE: 0.0018441321532328895\n",
      "Training R2 Score: 1.0\n",
      "Testing R2 Score: 0.9271499834327477\n"
     ]
    }
   ],
   "source": [
    "train_mse = mean_squared_error(y_train, y_pred_train)\n",
    "test_mse = mean_squared_error(y_test, y_pred_test)\n",
    "train_r2 = r2_score(y_train, y_pred_train)\n",
    "test_r2 = r2_score(y_test, y_pred_test)\n",
    "\n",
    "print(f\"Training MSE: {train_mse}\")\n",
    "print(f\"Testing MSE: {test_mse}\")\n",
    "print(f\"Training R2 Score: {train_r2}\")\n",
    "print(f\"Testing R2 Score: {test_r2}\")"
   ]
  },
  {
   "cell_type": "markdown",
   "id": "3da3808f",
   "metadata": {
    "papermill": {
     "duration": 0.026797,
     "end_time": "2024-05-19T18:11:57.182114",
     "exception": false,
     "start_time": "2024-05-19T18:11:57.155317",
     "status": "completed"
    },
    "tags": []
   },
   "source": [
    "<div style=\"background-color: #ff0000; padding: 20px; border-radius: 10px;\">\n",
    "    <h1 style=\"text-align: left; font-size: 25px;\"> DecisionTreeRegressor </h1>\n",
    "</div>"
   ]
  },
  {
   "cell_type": "code",
   "execution_count": 38,
   "id": "df8ae02d",
   "metadata": {
    "execution": {
     "iopub.execute_input": "2024-05-19T18:11:57.238450Z",
     "iopub.status.busy": "2024-05-19T18:11:57.238121Z",
     "iopub.status.idle": "2024-05-19T18:11:59.483438Z",
     "shell.execute_reply": "2024-05-19T18:11:59.482457Z"
    },
    "papermill": {
     "duration": 2.276099,
     "end_time": "2024-05-19T18:11:59.485739",
     "exception": false,
     "start_time": "2024-05-19T18:11:57.209640",
     "status": "completed"
    },
    "tags": []
   },
   "outputs": [
    {
     "name": "stdout",
     "output_type": "stream",
     "text": [
      "Fitting 5 folds for each of 36 candidates, totalling 180 fits\n"
     ]
    },
    {
     "data": {
      "text/html": [
       "<style>#sk-container-id-3 {color: black;background-color: white;}#sk-container-id-3 pre{padding: 0;}#sk-container-id-3 div.sk-toggleable {background-color: white;}#sk-container-id-3 label.sk-toggleable__label {cursor: pointer;display: block;width: 100%;margin-bottom: 0;padding: 0.3em;box-sizing: border-box;text-align: center;}#sk-container-id-3 label.sk-toggleable__label-arrow:before {content: \"▸\";float: left;margin-right: 0.25em;color: #696969;}#sk-container-id-3 label.sk-toggleable__label-arrow:hover:before {color: black;}#sk-container-id-3 div.sk-estimator:hover label.sk-toggleable__label-arrow:before {color: black;}#sk-container-id-3 div.sk-toggleable__content {max-height: 0;max-width: 0;overflow: hidden;text-align: left;background-color: #f0f8ff;}#sk-container-id-3 div.sk-toggleable__content pre {margin: 0.2em;color: black;border-radius: 0.25em;background-color: #f0f8ff;}#sk-container-id-3 input.sk-toggleable__control:checked~div.sk-toggleable__content {max-height: 200px;max-width: 100%;overflow: auto;}#sk-container-id-3 input.sk-toggleable__control:checked~label.sk-toggleable__label-arrow:before {content: \"▾\";}#sk-container-id-3 div.sk-estimator input.sk-toggleable__control:checked~label.sk-toggleable__label {background-color: #d4ebff;}#sk-container-id-3 div.sk-label input.sk-toggleable__control:checked~label.sk-toggleable__label {background-color: #d4ebff;}#sk-container-id-3 input.sk-hidden--visually {border: 0;clip: rect(1px 1px 1px 1px);clip: rect(1px, 1px, 1px, 1px);height: 1px;margin: -1px;overflow: hidden;padding: 0;position: absolute;width: 1px;}#sk-container-id-3 div.sk-estimator {font-family: monospace;background-color: #f0f8ff;border: 1px dotted black;border-radius: 0.25em;box-sizing: border-box;margin-bottom: 0.5em;}#sk-container-id-3 div.sk-estimator:hover {background-color: #d4ebff;}#sk-container-id-3 div.sk-parallel-item::after {content: \"\";width: 100%;border-bottom: 1px solid gray;flex-grow: 1;}#sk-container-id-3 div.sk-label:hover label.sk-toggleable__label {background-color: #d4ebff;}#sk-container-id-3 div.sk-serial::before {content: \"\";position: absolute;border-left: 1px solid gray;box-sizing: border-box;top: 0;bottom: 0;left: 50%;z-index: 0;}#sk-container-id-3 div.sk-serial {display: flex;flex-direction: column;align-items: center;background-color: white;padding-right: 0.2em;padding-left: 0.2em;position: relative;}#sk-container-id-3 div.sk-item {position: relative;z-index: 1;}#sk-container-id-3 div.sk-parallel {display: flex;align-items: stretch;justify-content: center;background-color: white;position: relative;}#sk-container-id-3 div.sk-item::before, #sk-container-id-3 div.sk-parallel-item::before {content: \"\";position: absolute;border-left: 1px solid gray;box-sizing: border-box;top: 0;bottom: 0;left: 50%;z-index: -1;}#sk-container-id-3 div.sk-parallel-item {display: flex;flex-direction: column;z-index: 1;position: relative;background-color: white;}#sk-container-id-3 div.sk-parallel-item:first-child::after {align-self: flex-end;width: 50%;}#sk-container-id-3 div.sk-parallel-item:last-child::after {align-self: flex-start;width: 50%;}#sk-container-id-3 div.sk-parallel-item:only-child::after {width: 0;}#sk-container-id-3 div.sk-dashed-wrapped {border: 1px dashed gray;margin: 0 0.4em 0.5em 0.4em;box-sizing: border-box;padding-bottom: 0.4em;background-color: white;}#sk-container-id-3 div.sk-label label {font-family: monospace;font-weight: bold;display: inline-block;line-height: 1.2em;}#sk-container-id-3 div.sk-label-container {text-align: center;}#sk-container-id-3 div.sk-container {/* jupyter's `normalize.less` sets `[hidden] { display: none; }` but bootstrap.min.css set `[hidden] { display: none !important; }` so we also need the `!important` here to be able to override the default hidden behavior on the sphinx rendered scikit-learn.org. See: https://github.com/scikit-learn/scikit-learn/issues/21755 */display: inline-block !important;position: relative;}#sk-container-id-3 div.sk-text-repr-fallback {display: none;}</style><div id=\"sk-container-id-3\" class=\"sk-top-container\"><div class=\"sk-text-repr-fallback\"><pre>GridSearchCV(cv=5, estimator=DecisionTreeRegressor(random_state=42), n_jobs=-1,\n",
       "             param_grid={&#x27;max_depth&#x27;: [3, 5, 7, 9],\n",
       "                         &#x27;min_samples_leaf&#x27;: [1, 2, 4],\n",
       "                         &#x27;min_samples_split&#x27;: [2, 5, 10]},\n",
       "             scoring=&#x27;neg_mean_squared_error&#x27;, verbose=1)</pre><b>In a Jupyter environment, please rerun this cell to show the HTML representation or trust the notebook. <br />On GitHub, the HTML representation is unable to render, please try loading this page with nbviewer.org.</b></div><div class=\"sk-container\" hidden><div class=\"sk-item sk-dashed-wrapped\"><div class=\"sk-label-container\"><div class=\"sk-label sk-toggleable\"><input class=\"sk-toggleable__control sk-hidden--visually\" id=\"sk-estimator-id-3\" type=\"checkbox\" ><label for=\"sk-estimator-id-3\" class=\"sk-toggleable__label sk-toggleable__label-arrow\">GridSearchCV</label><div class=\"sk-toggleable__content\"><pre>GridSearchCV(cv=5, estimator=DecisionTreeRegressor(random_state=42), n_jobs=-1,\n",
       "             param_grid={&#x27;max_depth&#x27;: [3, 5, 7, 9],\n",
       "                         &#x27;min_samples_leaf&#x27;: [1, 2, 4],\n",
       "                         &#x27;min_samples_split&#x27;: [2, 5, 10]},\n",
       "             scoring=&#x27;neg_mean_squared_error&#x27;, verbose=1)</pre></div></div></div><div class=\"sk-parallel\"><div class=\"sk-parallel-item\"><div class=\"sk-item\"><div class=\"sk-label-container\"><div class=\"sk-label sk-toggleable\"><input class=\"sk-toggleable__control sk-hidden--visually\" id=\"sk-estimator-id-4\" type=\"checkbox\" ><label for=\"sk-estimator-id-4\" class=\"sk-toggleable__label sk-toggleable__label-arrow\">estimator: DecisionTreeRegressor</label><div class=\"sk-toggleable__content\"><pre>DecisionTreeRegressor(random_state=42)</pre></div></div></div><div class=\"sk-serial\"><div class=\"sk-item\"><div class=\"sk-estimator sk-toggleable\"><input class=\"sk-toggleable__control sk-hidden--visually\" id=\"sk-estimator-id-5\" type=\"checkbox\" ><label for=\"sk-estimator-id-5\" class=\"sk-toggleable__label sk-toggleable__label-arrow\">DecisionTreeRegressor</label><div class=\"sk-toggleable__content\"><pre>DecisionTreeRegressor(random_state=42)</pre></div></div></div></div></div></div></div></div></div></div>"
      ],
      "text/plain": [
       "GridSearchCV(cv=5, estimator=DecisionTreeRegressor(random_state=42), n_jobs=-1,\n",
       "             param_grid={'max_depth': [3, 5, 7, 9],\n",
       "                         'min_samples_leaf': [1, 2, 4],\n",
       "                         'min_samples_split': [2, 5, 10]},\n",
       "             scoring='neg_mean_squared_error', verbose=1)"
      ]
     },
     "execution_count": 38,
     "metadata": {},
     "output_type": "execute_result"
    }
   ],
   "source": [
    "from sklearn.model_selection import train_test_split, GridSearchCV\n",
    "from sklearn.tree import DecisionTreeRegressor, export_graphviz\n",
    "\n",
    "# Define the hyperparameters grid\n",
    "param_grid = {\n",
    "    'max_depth': [3, 5, 7, 9],\n",
    "    'min_samples_split': [2, 5, 10],\n",
    "    'min_samples_leaf': [1, 2, 4]\n",
    "}\n",
    "\n",
    "# Initialize the Decision Tree model\n",
    "dt_regressor = DecisionTreeRegressor(random_state=42)\n",
    "\n",
    "# Initialize GridSearchCV with cross-validation\n",
    "grid_search = GridSearchCV(estimator=dt_regressor, param_grid=param_grid, cv=5, scoring='neg_mean_squared_error', verbose=1, n_jobs=-1)\n",
    "\n",
    "# Fit the model with hyperparameter tuning\n",
    "grid_search.fit(X_train, y_train)\n",
    "\n"
   ]
  },
  {
   "cell_type": "code",
   "execution_count": 39,
   "id": "bfdc016f",
   "metadata": {
    "execution": {
     "iopub.execute_input": "2024-05-19T18:11:59.544697Z",
     "iopub.status.busy": "2024-05-19T18:11:59.544100Z",
     "iopub.status.idle": "2024-05-19T18:11:59.555398Z",
     "shell.execute_reply": "2024-05-19T18:11:59.554533Z"
    },
    "papermill": {
     "duration": 0.043456,
     "end_time": "2024-05-19T18:11:59.557325",
     "exception": false,
     "start_time": "2024-05-19T18:11:59.513869",
     "status": "completed"
    },
    "tags": []
   },
   "outputs": [
    {
     "name": "stdout",
     "output_type": "stream",
     "text": [
      "Best Hyperparameters: {'max_depth': 5, 'min_samples_leaf': 1, 'min_samples_split': 2}\n"
     ]
    },
    {
     "data": {
      "text/html": [
       "<style>#sk-container-id-4 {color: black;background-color: white;}#sk-container-id-4 pre{padding: 0;}#sk-container-id-4 div.sk-toggleable {background-color: white;}#sk-container-id-4 label.sk-toggleable__label {cursor: pointer;display: block;width: 100%;margin-bottom: 0;padding: 0.3em;box-sizing: border-box;text-align: center;}#sk-container-id-4 label.sk-toggleable__label-arrow:before {content: \"▸\";float: left;margin-right: 0.25em;color: #696969;}#sk-container-id-4 label.sk-toggleable__label-arrow:hover:before {color: black;}#sk-container-id-4 div.sk-estimator:hover label.sk-toggleable__label-arrow:before {color: black;}#sk-container-id-4 div.sk-toggleable__content {max-height: 0;max-width: 0;overflow: hidden;text-align: left;background-color: #f0f8ff;}#sk-container-id-4 div.sk-toggleable__content pre {margin: 0.2em;color: black;border-radius: 0.25em;background-color: #f0f8ff;}#sk-container-id-4 input.sk-toggleable__control:checked~div.sk-toggleable__content {max-height: 200px;max-width: 100%;overflow: auto;}#sk-container-id-4 input.sk-toggleable__control:checked~label.sk-toggleable__label-arrow:before {content: \"▾\";}#sk-container-id-4 div.sk-estimator input.sk-toggleable__control:checked~label.sk-toggleable__label {background-color: #d4ebff;}#sk-container-id-4 div.sk-label input.sk-toggleable__control:checked~label.sk-toggleable__label {background-color: #d4ebff;}#sk-container-id-4 input.sk-hidden--visually {border: 0;clip: rect(1px 1px 1px 1px);clip: rect(1px, 1px, 1px, 1px);height: 1px;margin: -1px;overflow: hidden;padding: 0;position: absolute;width: 1px;}#sk-container-id-4 div.sk-estimator {font-family: monospace;background-color: #f0f8ff;border: 1px dotted black;border-radius: 0.25em;box-sizing: border-box;margin-bottom: 0.5em;}#sk-container-id-4 div.sk-estimator:hover {background-color: #d4ebff;}#sk-container-id-4 div.sk-parallel-item::after {content: \"\";width: 100%;border-bottom: 1px solid gray;flex-grow: 1;}#sk-container-id-4 div.sk-label:hover label.sk-toggleable__label {background-color: #d4ebff;}#sk-container-id-4 div.sk-serial::before {content: \"\";position: absolute;border-left: 1px solid gray;box-sizing: border-box;top: 0;bottom: 0;left: 50%;z-index: 0;}#sk-container-id-4 div.sk-serial {display: flex;flex-direction: column;align-items: center;background-color: white;padding-right: 0.2em;padding-left: 0.2em;position: relative;}#sk-container-id-4 div.sk-item {position: relative;z-index: 1;}#sk-container-id-4 div.sk-parallel {display: flex;align-items: stretch;justify-content: center;background-color: white;position: relative;}#sk-container-id-4 div.sk-item::before, #sk-container-id-4 div.sk-parallel-item::before {content: \"\";position: absolute;border-left: 1px solid gray;box-sizing: border-box;top: 0;bottom: 0;left: 50%;z-index: -1;}#sk-container-id-4 div.sk-parallel-item {display: flex;flex-direction: column;z-index: 1;position: relative;background-color: white;}#sk-container-id-4 div.sk-parallel-item:first-child::after {align-self: flex-end;width: 50%;}#sk-container-id-4 div.sk-parallel-item:last-child::after {align-self: flex-start;width: 50%;}#sk-container-id-4 div.sk-parallel-item:only-child::after {width: 0;}#sk-container-id-4 div.sk-dashed-wrapped {border: 1px dashed gray;margin: 0 0.4em 0.5em 0.4em;box-sizing: border-box;padding-bottom: 0.4em;background-color: white;}#sk-container-id-4 div.sk-label label {font-family: monospace;font-weight: bold;display: inline-block;line-height: 1.2em;}#sk-container-id-4 div.sk-label-container {text-align: center;}#sk-container-id-4 div.sk-container {/* jupyter's `normalize.less` sets `[hidden] { display: none; }` but bootstrap.min.css set `[hidden] { display: none !important; }` so we also need the `!important` here to be able to override the default hidden behavior on the sphinx rendered scikit-learn.org. See: https://github.com/scikit-learn/scikit-learn/issues/21755 */display: inline-block !important;position: relative;}#sk-container-id-4 div.sk-text-repr-fallback {display: none;}</style><div id=\"sk-container-id-4\" class=\"sk-top-container\"><div class=\"sk-text-repr-fallback\"><pre>DecisionTreeRegressor(max_depth=5)</pre><b>In a Jupyter environment, please rerun this cell to show the HTML representation or trust the notebook. <br />On GitHub, the HTML representation is unable to render, please try loading this page with nbviewer.org.</b></div><div class=\"sk-container\" hidden><div class=\"sk-item\"><div class=\"sk-estimator sk-toggleable\"><input class=\"sk-toggleable__control sk-hidden--visually\" id=\"sk-estimator-id-6\" type=\"checkbox\" checked><label for=\"sk-estimator-id-6\" class=\"sk-toggleable__label sk-toggleable__label-arrow\">DecisionTreeRegressor</label><div class=\"sk-toggleable__content\"><pre>DecisionTreeRegressor(max_depth=5)</pre></div></div></div></div></div>"
      ],
      "text/plain": [
       "DecisionTreeRegressor(max_depth=5)"
      ]
     },
     "execution_count": 39,
     "metadata": {},
     "output_type": "execute_result"
    }
   ],
   "source": [
    "# Get the best hyperparameters\n",
    "best_params = grid_search.best_params_\n",
    "print(\"Best Hyperparameters:\", best_params)\n",
    "\n",
    "# Train the Decision Tree model with the best hyperparameters\n",
    "best_dt_regressor = DecisionTreeRegressor(**best_params)\n",
    "best_dt_regressor.fit(X_train, y_train)\n",
    "\n",
    "\n"
   ]
  },
  {
   "cell_type": "code",
   "execution_count": 40,
   "id": "43d517fe",
   "metadata": {
    "execution": {
     "iopub.execute_input": "2024-05-19T18:11:59.615454Z",
     "iopub.status.busy": "2024-05-19T18:11:59.614890Z",
     "iopub.status.idle": "2024-05-19T18:11:59.622532Z",
     "shell.execute_reply": "2024-05-19T18:11:59.621893Z"
    },
    "papermill": {
     "duration": 0.038906,
     "end_time": "2024-05-19T18:11:59.624436",
     "exception": false,
     "start_time": "2024-05-19T18:11:59.585530",
     "status": "completed"
    },
    "tags": []
   },
   "outputs": [],
   "source": [
    "# Make predictions\n",
    "y_pred_train = best_dt_regressor.predict(X_train)\n",
    "y_pred_test = best_dt_regressor.predict(X_test)\n",
    "\n"
   ]
  },
  {
   "cell_type": "code",
   "execution_count": 41,
   "id": "713398f8",
   "metadata": {
    "execution": {
     "iopub.execute_input": "2024-05-19T18:11:59.681840Z",
     "iopub.status.busy": "2024-05-19T18:11:59.681235Z",
     "iopub.status.idle": "2024-05-19T18:11:59.689768Z",
     "shell.execute_reply": "2024-05-19T18:11:59.688736Z"
    },
    "papermill": {
     "duration": 0.039639,
     "end_time": "2024-05-19T18:11:59.691642",
     "exception": false,
     "start_time": "2024-05-19T18:11:59.652003",
     "status": "completed"
    },
    "tags": []
   },
   "outputs": [
    {
     "name": "stdout",
     "output_type": "stream",
     "text": [
      "Training MSE: 1.6253933800677982e-05\n",
      "Testing MSE: 4.5141032569494445e-05\n",
      "Training R2 Score: 0.9993408447691551\n",
      "Testing R2 Score: 0.9982167628470738\n"
     ]
    }
   ],
   "source": [
    "# Evaluate the model\n",
    "train_mse = mean_squared_error(y_train, y_pred_train)\n",
    "test_mse = mean_squared_error(y_test, y_pred_test)\n",
    "train_r2 = r2_score(y_train, y_pred_train)\n",
    "test_r2 = r2_score(y_test, y_pred_test)\n",
    "\n",
    "print(f\"Training MSE: {train_mse}\")\n",
    "print(f\"Testing MSE: {test_mse}\")\n",
    "print(f\"Training R2 Score: {train_r2}\")\n",
    "print(f\"Testing R2 Score: {test_r2}\")\n",
    "\n"
   ]
  },
  {
   "cell_type": "markdown",
   "id": "7abc1cf0",
   "metadata": {
    "papermill": {
     "duration": 0.027983,
     "end_time": "2024-05-19T18:11:59.748103",
     "exception": false,
     "start_time": "2024-05-19T18:11:59.720120",
     "status": "completed"
    },
    "tags": []
   },
   "source": [
    "<div style=\"background-color: #ff0000; padding: 20px; border-radius: 10px;\">\n",
    "    <h1 style=\"text-align: left; font-size: 25px;\"> RandomForestRegressor </h1>\n",
    "</div>"
   ]
  },
  {
   "cell_type": "code",
   "execution_count": 42,
   "id": "60689167",
   "metadata": {
    "execution": {
     "iopub.execute_input": "2024-05-19T18:11:59.807063Z",
     "iopub.status.busy": "2024-05-19T18:11:59.806423Z",
     "iopub.status.idle": "2024-05-19T18:12:59.270077Z",
     "shell.execute_reply": "2024-05-19T18:12:59.269397Z"
    },
    "papermill": {
     "duration": 59.52547,
     "end_time": "2024-05-19T18:12:59.301675",
     "exception": false,
     "start_time": "2024-05-19T18:11:59.776205",
     "status": "completed"
    },
    "tags": []
   },
   "outputs": [
    {
     "name": "stdout",
     "output_type": "stream",
     "text": [
      "Fitting 5 folds for each of 81 candidates, totalling 405 fits\n"
     ]
    },
    {
     "data": {
      "text/html": [
       "<style>#sk-container-id-5 {color: black;background-color: white;}#sk-container-id-5 pre{padding: 0;}#sk-container-id-5 div.sk-toggleable {background-color: white;}#sk-container-id-5 label.sk-toggleable__label {cursor: pointer;display: block;width: 100%;margin-bottom: 0;padding: 0.3em;box-sizing: border-box;text-align: center;}#sk-container-id-5 label.sk-toggleable__label-arrow:before {content: \"▸\";float: left;margin-right: 0.25em;color: #696969;}#sk-container-id-5 label.sk-toggleable__label-arrow:hover:before {color: black;}#sk-container-id-5 div.sk-estimator:hover label.sk-toggleable__label-arrow:before {color: black;}#sk-container-id-5 div.sk-toggleable__content {max-height: 0;max-width: 0;overflow: hidden;text-align: left;background-color: #f0f8ff;}#sk-container-id-5 div.sk-toggleable__content pre {margin: 0.2em;color: black;border-radius: 0.25em;background-color: #f0f8ff;}#sk-container-id-5 input.sk-toggleable__control:checked~div.sk-toggleable__content {max-height: 200px;max-width: 100%;overflow: auto;}#sk-container-id-5 input.sk-toggleable__control:checked~label.sk-toggleable__label-arrow:before {content: \"▾\";}#sk-container-id-5 div.sk-estimator input.sk-toggleable__control:checked~label.sk-toggleable__label {background-color: #d4ebff;}#sk-container-id-5 div.sk-label input.sk-toggleable__control:checked~label.sk-toggleable__label {background-color: #d4ebff;}#sk-container-id-5 input.sk-hidden--visually {border: 0;clip: rect(1px 1px 1px 1px);clip: rect(1px, 1px, 1px, 1px);height: 1px;margin: -1px;overflow: hidden;padding: 0;position: absolute;width: 1px;}#sk-container-id-5 div.sk-estimator {font-family: monospace;background-color: #f0f8ff;border: 1px dotted black;border-radius: 0.25em;box-sizing: border-box;margin-bottom: 0.5em;}#sk-container-id-5 div.sk-estimator:hover {background-color: #d4ebff;}#sk-container-id-5 div.sk-parallel-item::after {content: \"\";width: 100%;border-bottom: 1px solid gray;flex-grow: 1;}#sk-container-id-5 div.sk-label:hover label.sk-toggleable__label {background-color: #d4ebff;}#sk-container-id-5 div.sk-serial::before {content: \"\";position: absolute;border-left: 1px solid gray;box-sizing: border-box;top: 0;bottom: 0;left: 50%;z-index: 0;}#sk-container-id-5 div.sk-serial {display: flex;flex-direction: column;align-items: center;background-color: white;padding-right: 0.2em;padding-left: 0.2em;position: relative;}#sk-container-id-5 div.sk-item {position: relative;z-index: 1;}#sk-container-id-5 div.sk-parallel {display: flex;align-items: stretch;justify-content: center;background-color: white;position: relative;}#sk-container-id-5 div.sk-item::before, #sk-container-id-5 div.sk-parallel-item::before {content: \"\";position: absolute;border-left: 1px solid gray;box-sizing: border-box;top: 0;bottom: 0;left: 50%;z-index: -1;}#sk-container-id-5 div.sk-parallel-item {display: flex;flex-direction: column;z-index: 1;position: relative;background-color: white;}#sk-container-id-5 div.sk-parallel-item:first-child::after {align-self: flex-end;width: 50%;}#sk-container-id-5 div.sk-parallel-item:last-child::after {align-self: flex-start;width: 50%;}#sk-container-id-5 div.sk-parallel-item:only-child::after {width: 0;}#sk-container-id-5 div.sk-dashed-wrapped {border: 1px dashed gray;margin: 0 0.4em 0.5em 0.4em;box-sizing: border-box;padding-bottom: 0.4em;background-color: white;}#sk-container-id-5 div.sk-label label {font-family: monospace;font-weight: bold;display: inline-block;line-height: 1.2em;}#sk-container-id-5 div.sk-label-container {text-align: center;}#sk-container-id-5 div.sk-container {/* jupyter's `normalize.less` sets `[hidden] { display: none; }` but bootstrap.min.css set `[hidden] { display: none !important; }` so we also need the `!important` here to be able to override the default hidden behavior on the sphinx rendered scikit-learn.org. See: https://github.com/scikit-learn/scikit-learn/issues/21755 */display: inline-block !important;position: relative;}#sk-container-id-5 div.sk-text-repr-fallback {display: none;}</style><div id=\"sk-container-id-5\" class=\"sk-top-container\"><div class=\"sk-text-repr-fallback\"><pre>GridSearchCV(cv=5, estimator=RandomForestRegressor(random_state=42), n_jobs=-1,\n",
       "             param_grid={&#x27;max_depth&#x27;: [None, 5, 10],\n",
       "                         &#x27;min_samples_leaf&#x27;: [1, 2, 4],\n",
       "                         &#x27;min_samples_split&#x27;: [2, 5, 10],\n",
       "                         &#x27;n_estimators&#x27;: [100, 200, 300]},\n",
       "             scoring=&#x27;neg_mean_squared_error&#x27;, verbose=1)</pre><b>In a Jupyter environment, please rerun this cell to show the HTML representation or trust the notebook. <br />On GitHub, the HTML representation is unable to render, please try loading this page with nbviewer.org.</b></div><div class=\"sk-container\" hidden><div class=\"sk-item sk-dashed-wrapped\"><div class=\"sk-label-container\"><div class=\"sk-label sk-toggleable\"><input class=\"sk-toggleable__control sk-hidden--visually\" id=\"sk-estimator-id-7\" type=\"checkbox\" ><label for=\"sk-estimator-id-7\" class=\"sk-toggleable__label sk-toggleable__label-arrow\">GridSearchCV</label><div class=\"sk-toggleable__content\"><pre>GridSearchCV(cv=5, estimator=RandomForestRegressor(random_state=42), n_jobs=-1,\n",
       "             param_grid={&#x27;max_depth&#x27;: [None, 5, 10],\n",
       "                         &#x27;min_samples_leaf&#x27;: [1, 2, 4],\n",
       "                         &#x27;min_samples_split&#x27;: [2, 5, 10],\n",
       "                         &#x27;n_estimators&#x27;: [100, 200, 300]},\n",
       "             scoring=&#x27;neg_mean_squared_error&#x27;, verbose=1)</pre></div></div></div><div class=\"sk-parallel\"><div class=\"sk-parallel-item\"><div class=\"sk-item\"><div class=\"sk-label-container\"><div class=\"sk-label sk-toggleable\"><input class=\"sk-toggleable__control sk-hidden--visually\" id=\"sk-estimator-id-8\" type=\"checkbox\" ><label for=\"sk-estimator-id-8\" class=\"sk-toggleable__label sk-toggleable__label-arrow\">estimator: RandomForestRegressor</label><div class=\"sk-toggleable__content\"><pre>RandomForestRegressor(random_state=42)</pre></div></div></div><div class=\"sk-serial\"><div class=\"sk-item\"><div class=\"sk-estimator sk-toggleable\"><input class=\"sk-toggleable__control sk-hidden--visually\" id=\"sk-estimator-id-9\" type=\"checkbox\" ><label for=\"sk-estimator-id-9\" class=\"sk-toggleable__label sk-toggleable__label-arrow\">RandomForestRegressor</label><div class=\"sk-toggleable__content\"><pre>RandomForestRegressor(random_state=42)</pre></div></div></div></div></div></div></div></div></div></div>"
      ],
      "text/plain": [
       "GridSearchCV(cv=5, estimator=RandomForestRegressor(random_state=42), n_jobs=-1,\n",
       "             param_grid={'max_depth': [None, 5, 10],\n",
       "                         'min_samples_leaf': [1, 2, 4],\n",
       "                         'min_samples_split': [2, 5, 10],\n",
       "                         'n_estimators': [100, 200, 300]},\n",
       "             scoring='neg_mean_squared_error', verbose=1)"
      ]
     },
     "execution_count": 42,
     "metadata": {},
     "output_type": "execute_result"
    }
   ],
   "source": [
    "\n",
    "from sklearn.ensemble import RandomForestRegressor\n",
    "param_grid = {\n",
    "    'n_estimators': [100, 200, 300],\n",
    "    'max_depth': [None, 5, 10],\n",
    "    'min_samples_split': [2, 5, 10],\n",
    "    'min_samples_leaf': [1, 2, 4]\n",
    "}\n",
    "\n",
    "# Initialize the Random Forest model\n",
    "rf_regressor = RandomForestRegressor(random_state=42)\n",
    "\n",
    "# Initialize GridSearchCV with cross-validation\n",
    "grid_search = GridSearchCV(estimator=rf_regressor, param_grid=param_grid, cv=5, scoring='neg_mean_squared_error', verbose=1, n_jobs=-1)\n",
    "\n",
    "# Fit the model with hyperparameter tuning\n",
    "grid_search.fit(X_train, y_train)\n",
    "\n",
    "\n"
   ]
  },
  {
   "cell_type": "code",
   "execution_count": 43,
   "id": "cb4d7051",
   "metadata": {
    "execution": {
     "iopub.execute_input": "2024-05-19T18:12:59.362795Z",
     "iopub.status.busy": "2024-05-19T18:12:59.361905Z",
     "iopub.status.idle": "2024-05-19T18:12:59.760044Z",
     "shell.execute_reply": "2024-05-19T18:12:59.759079Z"
    },
    "papermill": {
     "duration": 0.430174,
     "end_time": "2024-05-19T18:12:59.762234",
     "exception": false,
     "start_time": "2024-05-19T18:12:59.332060",
     "status": "completed"
    },
    "tags": []
   },
   "outputs": [
    {
     "name": "stdout",
     "output_type": "stream",
     "text": [
      "Best Hyperparameters: {'max_depth': None, 'min_samples_leaf': 1, 'min_samples_split': 2, 'n_estimators': 200}\n"
     ]
    },
    {
     "data": {
      "text/html": [
       "<style>#sk-container-id-6 {color: black;background-color: white;}#sk-container-id-6 pre{padding: 0;}#sk-container-id-6 div.sk-toggleable {background-color: white;}#sk-container-id-6 label.sk-toggleable__label {cursor: pointer;display: block;width: 100%;margin-bottom: 0;padding: 0.3em;box-sizing: border-box;text-align: center;}#sk-container-id-6 label.sk-toggleable__label-arrow:before {content: \"▸\";float: left;margin-right: 0.25em;color: #696969;}#sk-container-id-6 label.sk-toggleable__label-arrow:hover:before {color: black;}#sk-container-id-6 div.sk-estimator:hover label.sk-toggleable__label-arrow:before {color: black;}#sk-container-id-6 div.sk-toggleable__content {max-height: 0;max-width: 0;overflow: hidden;text-align: left;background-color: #f0f8ff;}#sk-container-id-6 div.sk-toggleable__content pre {margin: 0.2em;color: black;border-radius: 0.25em;background-color: #f0f8ff;}#sk-container-id-6 input.sk-toggleable__control:checked~div.sk-toggleable__content {max-height: 200px;max-width: 100%;overflow: auto;}#sk-container-id-6 input.sk-toggleable__control:checked~label.sk-toggleable__label-arrow:before {content: \"▾\";}#sk-container-id-6 div.sk-estimator input.sk-toggleable__control:checked~label.sk-toggleable__label {background-color: #d4ebff;}#sk-container-id-6 div.sk-label input.sk-toggleable__control:checked~label.sk-toggleable__label {background-color: #d4ebff;}#sk-container-id-6 input.sk-hidden--visually {border: 0;clip: rect(1px 1px 1px 1px);clip: rect(1px, 1px, 1px, 1px);height: 1px;margin: -1px;overflow: hidden;padding: 0;position: absolute;width: 1px;}#sk-container-id-6 div.sk-estimator {font-family: monospace;background-color: #f0f8ff;border: 1px dotted black;border-radius: 0.25em;box-sizing: border-box;margin-bottom: 0.5em;}#sk-container-id-6 div.sk-estimator:hover {background-color: #d4ebff;}#sk-container-id-6 div.sk-parallel-item::after {content: \"\";width: 100%;border-bottom: 1px solid gray;flex-grow: 1;}#sk-container-id-6 div.sk-label:hover label.sk-toggleable__label {background-color: #d4ebff;}#sk-container-id-6 div.sk-serial::before {content: \"\";position: absolute;border-left: 1px solid gray;box-sizing: border-box;top: 0;bottom: 0;left: 50%;z-index: 0;}#sk-container-id-6 div.sk-serial {display: flex;flex-direction: column;align-items: center;background-color: white;padding-right: 0.2em;padding-left: 0.2em;position: relative;}#sk-container-id-6 div.sk-item {position: relative;z-index: 1;}#sk-container-id-6 div.sk-parallel {display: flex;align-items: stretch;justify-content: center;background-color: white;position: relative;}#sk-container-id-6 div.sk-item::before, #sk-container-id-6 div.sk-parallel-item::before {content: \"\";position: absolute;border-left: 1px solid gray;box-sizing: border-box;top: 0;bottom: 0;left: 50%;z-index: -1;}#sk-container-id-6 div.sk-parallel-item {display: flex;flex-direction: column;z-index: 1;position: relative;background-color: white;}#sk-container-id-6 div.sk-parallel-item:first-child::after {align-self: flex-end;width: 50%;}#sk-container-id-6 div.sk-parallel-item:last-child::after {align-self: flex-start;width: 50%;}#sk-container-id-6 div.sk-parallel-item:only-child::after {width: 0;}#sk-container-id-6 div.sk-dashed-wrapped {border: 1px dashed gray;margin: 0 0.4em 0.5em 0.4em;box-sizing: border-box;padding-bottom: 0.4em;background-color: white;}#sk-container-id-6 div.sk-label label {font-family: monospace;font-weight: bold;display: inline-block;line-height: 1.2em;}#sk-container-id-6 div.sk-label-container {text-align: center;}#sk-container-id-6 div.sk-container {/* jupyter's `normalize.less` sets `[hidden] { display: none; }` but bootstrap.min.css set `[hidden] { display: none !important; }` so we also need the `!important` here to be able to override the default hidden behavior on the sphinx rendered scikit-learn.org. See: https://github.com/scikit-learn/scikit-learn/issues/21755 */display: inline-block !important;position: relative;}#sk-container-id-6 div.sk-text-repr-fallback {display: none;}</style><div id=\"sk-container-id-6\" class=\"sk-top-container\"><div class=\"sk-text-repr-fallback\"><pre>RandomForestRegressor(n_estimators=200)</pre><b>In a Jupyter environment, please rerun this cell to show the HTML representation or trust the notebook. <br />On GitHub, the HTML representation is unable to render, please try loading this page with nbviewer.org.</b></div><div class=\"sk-container\" hidden><div class=\"sk-item\"><div class=\"sk-estimator sk-toggleable\"><input class=\"sk-toggleable__control sk-hidden--visually\" id=\"sk-estimator-id-10\" type=\"checkbox\" checked><label for=\"sk-estimator-id-10\" class=\"sk-toggleable__label sk-toggleable__label-arrow\">RandomForestRegressor</label><div class=\"sk-toggleable__content\"><pre>RandomForestRegressor(n_estimators=200)</pre></div></div></div></div></div>"
      ],
      "text/plain": [
       "RandomForestRegressor(n_estimators=200)"
      ]
     },
     "execution_count": 43,
     "metadata": {},
     "output_type": "execute_result"
    }
   ],
   "source": [
    "# Get the best hyperparameters\n",
    "best_params = grid_search.best_params_\n",
    "print(\"Best Hyperparameters:\", best_params)\n",
    "\n",
    "# Train the Random Forest model with the best hyperparameters\n",
    "best_rf_regressor = RandomForestRegressor(**best_params)\n",
    "best_rf_regressor.fit(X_train, y_train)\n",
    "\n"
   ]
  },
  {
   "cell_type": "code",
   "execution_count": 44,
   "id": "820bd3bd",
   "metadata": {
    "execution": {
     "iopub.execute_input": "2024-05-19T18:12:59.822446Z",
     "iopub.status.busy": "2024-05-19T18:12:59.821893Z",
     "iopub.status.idle": "2024-05-19T18:12:59.856214Z",
     "shell.execute_reply": "2024-05-19T18:12:59.855207Z"
    },
    "papermill": {
     "duration": 0.066949,
     "end_time": "2024-05-19T18:12:59.858410",
     "exception": false,
     "start_time": "2024-05-19T18:12:59.791461",
     "status": "completed"
    },
    "tags": []
   },
   "outputs": [
    {
     "name": "stdout",
     "output_type": "stream",
     "text": [
      "Training MSE: 6.372685544427894e-05\n",
      "Testing MSE: 3.202020209783018e-05\n",
      "Training R2 Score: 0.9974156477670874\n",
      "Testing R2 Score: 0.9987350840072798\n"
     ]
    }
   ],
   "source": [
    "# Make predictions\n",
    "y_pred_train = best_rf_regressor.predict(X_train)\n",
    "y_pred_test = best_rf_regressor.predict(X_test)\n",
    "\n",
    "# Evaluate the model\n",
    "train_mse = mean_squared_error(y_train, y_pred_train)\n",
    "test_mse = mean_squared_error(y_test, y_pred_test)\n",
    "train_r2 = r2_score(y_train, y_pred_train)\n",
    "test_r2 = r2_score(y_test, y_pred_test)\n",
    "\n",
    "print(f\"Training MSE: {train_mse}\")\n",
    "print(f\"Testing MSE: {test_mse}\")\n",
    "print(f\"Training R2 Score: {train_r2}\")\n",
    "print(f\"Testing R2 Score: {test_r2}\")"
   ]
  },
  {
   "cell_type": "markdown",
   "id": "b6b8a622",
   "metadata": {
    "papermill": {
     "duration": 0.028564,
     "end_time": "2024-05-19T18:12:59.915791",
     "exception": false,
     "start_time": "2024-05-19T18:12:59.887227",
     "status": "completed"
    },
    "tags": []
   },
   "source": [
    "<div style=\"background-color: #ff0000; padding: 20px; border-radius: 10px;\">\n",
    "    <h1 style=\"text-align: left; font-size: 25px;\"> XGBRegressor </h1>\n",
    "</div>"
   ]
  },
  {
   "cell_type": "code",
   "execution_count": 45,
   "id": "3a85224c",
   "metadata": {
    "execution": {
     "iopub.execute_input": "2024-05-19T18:12:59.975702Z",
     "iopub.status.busy": "2024-05-19T18:12:59.975322Z",
     "iopub.status.idle": "2024-05-19T18:13:04.710949Z",
     "shell.execute_reply": "2024-05-19T18:13:04.710275Z"
    },
    "papermill": {
     "duration": 4.769334,
     "end_time": "2024-05-19T18:13:04.715015",
     "exception": false,
     "start_time": "2024-05-19T18:12:59.945681",
     "status": "completed"
    },
    "tags": []
   },
   "outputs": [
    {
     "name": "stdout",
     "output_type": "stream",
     "text": [
      "Fitting 5 folds for each of 27 candidates, totalling 135 fits\n"
     ]
    },
    {
     "data": {
      "text/html": [
       "<style>#sk-container-id-7 {color: black;background-color: white;}#sk-container-id-7 pre{padding: 0;}#sk-container-id-7 div.sk-toggleable {background-color: white;}#sk-container-id-7 label.sk-toggleable__label {cursor: pointer;display: block;width: 100%;margin-bottom: 0;padding: 0.3em;box-sizing: border-box;text-align: center;}#sk-container-id-7 label.sk-toggleable__label-arrow:before {content: \"▸\";float: left;margin-right: 0.25em;color: #696969;}#sk-container-id-7 label.sk-toggleable__label-arrow:hover:before {color: black;}#sk-container-id-7 div.sk-estimator:hover label.sk-toggleable__label-arrow:before {color: black;}#sk-container-id-7 div.sk-toggleable__content {max-height: 0;max-width: 0;overflow: hidden;text-align: left;background-color: #f0f8ff;}#sk-container-id-7 div.sk-toggleable__content pre {margin: 0.2em;color: black;border-radius: 0.25em;background-color: #f0f8ff;}#sk-container-id-7 input.sk-toggleable__control:checked~div.sk-toggleable__content {max-height: 200px;max-width: 100%;overflow: auto;}#sk-container-id-7 input.sk-toggleable__control:checked~label.sk-toggleable__label-arrow:before {content: \"▾\";}#sk-container-id-7 div.sk-estimator input.sk-toggleable__control:checked~label.sk-toggleable__label {background-color: #d4ebff;}#sk-container-id-7 div.sk-label input.sk-toggleable__control:checked~label.sk-toggleable__label {background-color: #d4ebff;}#sk-container-id-7 input.sk-hidden--visually {border: 0;clip: rect(1px 1px 1px 1px);clip: rect(1px, 1px, 1px, 1px);height: 1px;margin: -1px;overflow: hidden;padding: 0;position: absolute;width: 1px;}#sk-container-id-7 div.sk-estimator {font-family: monospace;background-color: #f0f8ff;border: 1px dotted black;border-radius: 0.25em;box-sizing: border-box;margin-bottom: 0.5em;}#sk-container-id-7 div.sk-estimator:hover {background-color: #d4ebff;}#sk-container-id-7 div.sk-parallel-item::after {content: \"\";width: 100%;border-bottom: 1px solid gray;flex-grow: 1;}#sk-container-id-7 div.sk-label:hover label.sk-toggleable__label {background-color: #d4ebff;}#sk-container-id-7 div.sk-serial::before {content: \"\";position: absolute;border-left: 1px solid gray;box-sizing: border-box;top: 0;bottom: 0;left: 50%;z-index: 0;}#sk-container-id-7 div.sk-serial {display: flex;flex-direction: column;align-items: center;background-color: white;padding-right: 0.2em;padding-left: 0.2em;position: relative;}#sk-container-id-7 div.sk-item {position: relative;z-index: 1;}#sk-container-id-7 div.sk-parallel {display: flex;align-items: stretch;justify-content: center;background-color: white;position: relative;}#sk-container-id-7 div.sk-item::before, #sk-container-id-7 div.sk-parallel-item::before {content: \"\";position: absolute;border-left: 1px solid gray;box-sizing: border-box;top: 0;bottom: 0;left: 50%;z-index: -1;}#sk-container-id-7 div.sk-parallel-item {display: flex;flex-direction: column;z-index: 1;position: relative;background-color: white;}#sk-container-id-7 div.sk-parallel-item:first-child::after {align-self: flex-end;width: 50%;}#sk-container-id-7 div.sk-parallel-item:last-child::after {align-self: flex-start;width: 50%;}#sk-container-id-7 div.sk-parallel-item:only-child::after {width: 0;}#sk-container-id-7 div.sk-dashed-wrapped {border: 1px dashed gray;margin: 0 0.4em 0.5em 0.4em;box-sizing: border-box;padding-bottom: 0.4em;background-color: white;}#sk-container-id-7 div.sk-label label {font-family: monospace;font-weight: bold;display: inline-block;line-height: 1.2em;}#sk-container-id-7 div.sk-label-container {text-align: center;}#sk-container-id-7 div.sk-container {/* jupyter's `normalize.less` sets `[hidden] { display: none; }` but bootstrap.min.css set `[hidden] { display: none !important; }` so we also need the `!important` here to be able to override the default hidden behavior on the sphinx rendered scikit-learn.org. See: https://github.com/scikit-learn/scikit-learn/issues/21755 */display: inline-block !important;position: relative;}#sk-container-id-7 div.sk-text-repr-fallback {display: none;}</style><div id=\"sk-container-id-7\" class=\"sk-top-container\"><div class=\"sk-text-repr-fallback\"><pre>GridSearchCV(cv=5,\n",
       "             estimator=XGBRegressor(base_score=None, booster=None,\n",
       "                                    callbacks=None, colsample_bylevel=None,\n",
       "                                    colsample_bynode=None,\n",
       "                                    colsample_bytree=None, device=None,\n",
       "                                    early_stopping_rounds=None,\n",
       "                                    enable_categorical=False, eval_metric=None,\n",
       "                                    feature_types=None, gamma=None,\n",
       "                                    grow_policy=None, importance_type=None,\n",
       "                                    interaction_constraints=None,\n",
       "                                    learning_rate=None, m...\n",
       "                                    max_cat_to_onehot=None, max_delta_step=None,\n",
       "                                    max_depth=None, max_leaves=None,\n",
       "                                    min_child_weight=None, missing=nan,\n",
       "                                    monotone_constraints=None,\n",
       "                                    multi_strategy=None, n_estimators=None,\n",
       "                                    n_jobs=None, num_parallel_tree=None,\n",
       "                                    random_state=42, ...),\n",
       "             n_jobs=-1,\n",
       "             param_grid={&#x27;learning_rate&#x27;: [0.1, 0.01, 0.001],\n",
       "                         &#x27;max_depth&#x27;: [3, 5, 7],\n",
       "                         &#x27;n_estimators&#x27;: [100, 200, 300]},\n",
       "             scoring=&#x27;neg_mean_squared_error&#x27;, verbose=1)</pre><b>In a Jupyter environment, please rerun this cell to show the HTML representation or trust the notebook. <br />On GitHub, the HTML representation is unable to render, please try loading this page with nbviewer.org.</b></div><div class=\"sk-container\" hidden><div class=\"sk-item sk-dashed-wrapped\"><div class=\"sk-label-container\"><div class=\"sk-label sk-toggleable\"><input class=\"sk-toggleable__control sk-hidden--visually\" id=\"sk-estimator-id-11\" type=\"checkbox\" ><label for=\"sk-estimator-id-11\" class=\"sk-toggleable__label sk-toggleable__label-arrow\">GridSearchCV</label><div class=\"sk-toggleable__content\"><pre>GridSearchCV(cv=5,\n",
       "             estimator=XGBRegressor(base_score=None, booster=None,\n",
       "                                    callbacks=None, colsample_bylevel=None,\n",
       "                                    colsample_bynode=None,\n",
       "                                    colsample_bytree=None, device=None,\n",
       "                                    early_stopping_rounds=None,\n",
       "                                    enable_categorical=False, eval_metric=None,\n",
       "                                    feature_types=None, gamma=None,\n",
       "                                    grow_policy=None, importance_type=None,\n",
       "                                    interaction_constraints=None,\n",
       "                                    learning_rate=None, m...\n",
       "                                    max_cat_to_onehot=None, max_delta_step=None,\n",
       "                                    max_depth=None, max_leaves=None,\n",
       "                                    min_child_weight=None, missing=nan,\n",
       "                                    monotone_constraints=None,\n",
       "                                    multi_strategy=None, n_estimators=None,\n",
       "                                    n_jobs=None, num_parallel_tree=None,\n",
       "                                    random_state=42, ...),\n",
       "             n_jobs=-1,\n",
       "             param_grid={&#x27;learning_rate&#x27;: [0.1, 0.01, 0.001],\n",
       "                         &#x27;max_depth&#x27;: [3, 5, 7],\n",
       "                         &#x27;n_estimators&#x27;: [100, 200, 300]},\n",
       "             scoring=&#x27;neg_mean_squared_error&#x27;, verbose=1)</pre></div></div></div><div class=\"sk-parallel\"><div class=\"sk-parallel-item\"><div class=\"sk-item\"><div class=\"sk-label-container\"><div class=\"sk-label sk-toggleable\"><input class=\"sk-toggleable__control sk-hidden--visually\" id=\"sk-estimator-id-12\" type=\"checkbox\" ><label for=\"sk-estimator-id-12\" class=\"sk-toggleable__label sk-toggleable__label-arrow\">estimator: XGBRegressor</label><div class=\"sk-toggleable__content\"><pre>XGBRegressor(base_score=None, booster=None, callbacks=None,\n",
       "             colsample_bylevel=None, colsample_bynode=None,\n",
       "             colsample_bytree=None, device=None, early_stopping_rounds=None,\n",
       "             enable_categorical=False, eval_metric=None, feature_types=None,\n",
       "             gamma=None, grow_policy=None, importance_type=None,\n",
       "             interaction_constraints=None, learning_rate=None, max_bin=None,\n",
       "             max_cat_threshold=None, max_cat_to_onehot=None,\n",
       "             max_delta_step=None, max_depth=None, max_leaves=None,\n",
       "             min_child_weight=None, missing=nan, monotone_constraints=None,\n",
       "             multi_strategy=None, n_estimators=None, n_jobs=None,\n",
       "             num_parallel_tree=None, random_state=42, ...)</pre></div></div></div><div class=\"sk-serial\"><div class=\"sk-item\"><div class=\"sk-estimator sk-toggleable\"><input class=\"sk-toggleable__control sk-hidden--visually\" id=\"sk-estimator-id-13\" type=\"checkbox\" ><label for=\"sk-estimator-id-13\" class=\"sk-toggleable__label sk-toggleable__label-arrow\">XGBRegressor</label><div class=\"sk-toggleable__content\"><pre>XGBRegressor(base_score=None, booster=None, callbacks=None,\n",
       "             colsample_bylevel=None, colsample_bynode=None,\n",
       "             colsample_bytree=None, device=None, early_stopping_rounds=None,\n",
       "             enable_categorical=False, eval_metric=None, feature_types=None,\n",
       "             gamma=None, grow_policy=None, importance_type=None,\n",
       "             interaction_constraints=None, learning_rate=None, max_bin=None,\n",
       "             max_cat_threshold=None, max_cat_to_onehot=None,\n",
       "             max_delta_step=None, max_depth=None, max_leaves=None,\n",
       "             min_child_weight=None, missing=nan, monotone_constraints=None,\n",
       "             multi_strategy=None, n_estimators=None, n_jobs=None,\n",
       "             num_parallel_tree=None, random_state=42, ...)</pre></div></div></div></div></div></div></div></div></div></div>"
      ],
      "text/plain": [
       "GridSearchCV(cv=5,\n",
       "             estimator=XGBRegressor(base_score=None, booster=None,\n",
       "                                    callbacks=None, colsample_bylevel=None,\n",
       "                                    colsample_bynode=None,\n",
       "                                    colsample_bytree=None, device=None,\n",
       "                                    early_stopping_rounds=None,\n",
       "                                    enable_categorical=False, eval_metric=None,\n",
       "                                    feature_types=None, gamma=None,\n",
       "                                    grow_policy=None, importance_type=None,\n",
       "                                    interaction_constraints=None,\n",
       "                                    learning_rate=None, m...\n",
       "                                    max_cat_to_onehot=None, max_delta_step=None,\n",
       "                                    max_depth=None, max_leaves=None,\n",
       "                                    min_child_weight=None, missing=nan,\n",
       "                                    monotone_constraints=None,\n",
       "                                    multi_strategy=None, n_estimators=None,\n",
       "                                    n_jobs=None, num_parallel_tree=None,\n",
       "                                    random_state=42, ...),\n",
       "             n_jobs=-1,\n",
       "             param_grid={'learning_rate': [0.1, 0.01, 0.001],\n",
       "                         'max_depth': [3, 5, 7],\n",
       "                         'n_estimators': [100, 200, 300]},\n",
       "             scoring='neg_mean_squared_error', verbose=1)"
      ]
     },
     "execution_count": 45,
     "metadata": {},
     "output_type": "execute_result"
    }
   ],
   "source": [
    "\n",
    "from xgboost import XGBRegressor\n",
    "\n",
    "# Define the hyperparameters grid\n",
    "param_grid = {\n",
    "    'n_estimators': [100, 200, 300],\n",
    "    'max_depth': [3, 5, 7],\n",
    "    'learning_rate': [0.1, 0.01, 0.001]\n",
    "}\n",
    "\n",
    "# Initialize the XGBoost model\n",
    "xgb_regressor = XGBRegressor(random_state=42)\n",
    "\n",
    "# Initialize GridSearchCV with cross-validation\n",
    "grid_search = GridSearchCV(estimator=xgb_regressor, param_grid=param_grid, cv=5, scoring='neg_mean_squared_error', verbose=1, n_jobs=-1)\n",
    "\n",
    "# Fit the model with hyperparameter tuning\n",
    "grid_search.fit(X_train, y_train)\n",
    "\n"
   ]
  },
  {
   "cell_type": "code",
   "execution_count": 46,
   "id": "310059a5",
   "metadata": {
    "execution": {
     "iopub.execute_input": "2024-05-19T18:13:04.777634Z",
     "iopub.status.busy": "2024-05-19T18:13:04.777020Z",
     "iopub.status.idle": "2024-05-19T18:13:04.863341Z",
     "shell.execute_reply": "2024-05-19T18:13:04.862547Z"
    },
    "papermill": {
     "duration": 0.120116,
     "end_time": "2024-05-19T18:13:04.865394",
     "exception": false,
     "start_time": "2024-05-19T18:13:04.745278",
     "status": "completed"
    },
    "tags": []
   },
   "outputs": [
    {
     "name": "stdout",
     "output_type": "stream",
     "text": [
      "Best Hyperparameters: {'learning_rate': 0.1, 'max_depth': 5, 'n_estimators': 200}\n"
     ]
    },
    {
     "data": {
      "text/html": [
       "<style>#sk-container-id-8 {color: black;background-color: white;}#sk-container-id-8 pre{padding: 0;}#sk-container-id-8 div.sk-toggleable {background-color: white;}#sk-container-id-8 label.sk-toggleable__label {cursor: pointer;display: block;width: 100%;margin-bottom: 0;padding: 0.3em;box-sizing: border-box;text-align: center;}#sk-container-id-8 label.sk-toggleable__label-arrow:before {content: \"▸\";float: left;margin-right: 0.25em;color: #696969;}#sk-container-id-8 label.sk-toggleable__label-arrow:hover:before {color: black;}#sk-container-id-8 div.sk-estimator:hover label.sk-toggleable__label-arrow:before {color: black;}#sk-container-id-8 div.sk-toggleable__content {max-height: 0;max-width: 0;overflow: hidden;text-align: left;background-color: #f0f8ff;}#sk-container-id-8 div.sk-toggleable__content pre {margin: 0.2em;color: black;border-radius: 0.25em;background-color: #f0f8ff;}#sk-container-id-8 input.sk-toggleable__control:checked~div.sk-toggleable__content {max-height: 200px;max-width: 100%;overflow: auto;}#sk-container-id-8 input.sk-toggleable__control:checked~label.sk-toggleable__label-arrow:before {content: \"▾\";}#sk-container-id-8 div.sk-estimator input.sk-toggleable__control:checked~label.sk-toggleable__label {background-color: #d4ebff;}#sk-container-id-8 div.sk-label input.sk-toggleable__control:checked~label.sk-toggleable__label {background-color: #d4ebff;}#sk-container-id-8 input.sk-hidden--visually {border: 0;clip: rect(1px 1px 1px 1px);clip: rect(1px, 1px, 1px, 1px);height: 1px;margin: -1px;overflow: hidden;padding: 0;position: absolute;width: 1px;}#sk-container-id-8 div.sk-estimator {font-family: monospace;background-color: #f0f8ff;border: 1px dotted black;border-radius: 0.25em;box-sizing: border-box;margin-bottom: 0.5em;}#sk-container-id-8 div.sk-estimator:hover {background-color: #d4ebff;}#sk-container-id-8 div.sk-parallel-item::after {content: \"\";width: 100%;border-bottom: 1px solid gray;flex-grow: 1;}#sk-container-id-8 div.sk-label:hover label.sk-toggleable__label {background-color: #d4ebff;}#sk-container-id-8 div.sk-serial::before {content: \"\";position: absolute;border-left: 1px solid gray;box-sizing: border-box;top: 0;bottom: 0;left: 50%;z-index: 0;}#sk-container-id-8 div.sk-serial {display: flex;flex-direction: column;align-items: center;background-color: white;padding-right: 0.2em;padding-left: 0.2em;position: relative;}#sk-container-id-8 div.sk-item {position: relative;z-index: 1;}#sk-container-id-8 div.sk-parallel {display: flex;align-items: stretch;justify-content: center;background-color: white;position: relative;}#sk-container-id-8 div.sk-item::before, #sk-container-id-8 div.sk-parallel-item::before {content: \"\";position: absolute;border-left: 1px solid gray;box-sizing: border-box;top: 0;bottom: 0;left: 50%;z-index: -1;}#sk-container-id-8 div.sk-parallel-item {display: flex;flex-direction: column;z-index: 1;position: relative;background-color: white;}#sk-container-id-8 div.sk-parallel-item:first-child::after {align-self: flex-end;width: 50%;}#sk-container-id-8 div.sk-parallel-item:last-child::after {align-self: flex-start;width: 50%;}#sk-container-id-8 div.sk-parallel-item:only-child::after {width: 0;}#sk-container-id-8 div.sk-dashed-wrapped {border: 1px dashed gray;margin: 0 0.4em 0.5em 0.4em;box-sizing: border-box;padding-bottom: 0.4em;background-color: white;}#sk-container-id-8 div.sk-label label {font-family: monospace;font-weight: bold;display: inline-block;line-height: 1.2em;}#sk-container-id-8 div.sk-label-container {text-align: center;}#sk-container-id-8 div.sk-container {/* jupyter's `normalize.less` sets `[hidden] { display: none; }` but bootstrap.min.css set `[hidden] { display: none !important; }` so we also need the `!important` here to be able to override the default hidden behavior on the sphinx rendered scikit-learn.org. See: https://github.com/scikit-learn/scikit-learn/issues/21755 */display: inline-block !important;position: relative;}#sk-container-id-8 div.sk-text-repr-fallback {display: none;}</style><div id=\"sk-container-id-8\" class=\"sk-top-container\"><div class=\"sk-text-repr-fallback\"><pre>XGBRegressor(base_score=None, booster=None, callbacks=None,\n",
       "             colsample_bylevel=None, colsample_bynode=None,\n",
       "             colsample_bytree=None, device=None, early_stopping_rounds=None,\n",
       "             enable_categorical=False, eval_metric=None, feature_types=None,\n",
       "             gamma=None, grow_policy=None, importance_type=None,\n",
       "             interaction_constraints=None, learning_rate=0.1, max_bin=None,\n",
       "             max_cat_threshold=None, max_cat_to_onehot=None,\n",
       "             max_delta_step=None, max_depth=5, max_leaves=None,\n",
       "             min_child_weight=None, missing=nan, monotone_constraints=None,\n",
       "             multi_strategy=None, n_estimators=200, n_jobs=None,\n",
       "             num_parallel_tree=None, random_state=42, ...)</pre><b>In a Jupyter environment, please rerun this cell to show the HTML representation or trust the notebook. <br />On GitHub, the HTML representation is unable to render, please try loading this page with nbviewer.org.</b></div><div class=\"sk-container\" hidden><div class=\"sk-item\"><div class=\"sk-estimator sk-toggleable\"><input class=\"sk-toggleable__control sk-hidden--visually\" id=\"sk-estimator-id-14\" type=\"checkbox\" checked><label for=\"sk-estimator-id-14\" class=\"sk-toggleable__label sk-toggleable__label-arrow\">XGBRegressor</label><div class=\"sk-toggleable__content\"><pre>XGBRegressor(base_score=None, booster=None, callbacks=None,\n",
       "             colsample_bylevel=None, colsample_bynode=None,\n",
       "             colsample_bytree=None, device=None, early_stopping_rounds=None,\n",
       "             enable_categorical=False, eval_metric=None, feature_types=None,\n",
       "             gamma=None, grow_policy=None, importance_type=None,\n",
       "             interaction_constraints=None, learning_rate=0.1, max_bin=None,\n",
       "             max_cat_threshold=None, max_cat_to_onehot=None,\n",
       "             max_delta_step=None, max_depth=5, max_leaves=None,\n",
       "             min_child_weight=None, missing=nan, monotone_constraints=None,\n",
       "             multi_strategy=None, n_estimators=200, n_jobs=None,\n",
       "             num_parallel_tree=None, random_state=42, ...)</pre></div></div></div></div></div>"
      ],
      "text/plain": [
       "XGBRegressor(base_score=None, booster=None, callbacks=None,\n",
       "             colsample_bylevel=None, colsample_bynode=None,\n",
       "             colsample_bytree=None, device=None, early_stopping_rounds=None,\n",
       "             enable_categorical=False, eval_metric=None, feature_types=None,\n",
       "             gamma=None, grow_policy=None, importance_type=None,\n",
       "             interaction_constraints=None, learning_rate=0.1, max_bin=None,\n",
       "             max_cat_threshold=None, max_cat_to_onehot=None,\n",
       "             max_delta_step=None, max_depth=5, max_leaves=None,\n",
       "             min_child_weight=None, missing=nan, monotone_constraints=None,\n",
       "             multi_strategy=None, n_estimators=200, n_jobs=None,\n",
       "             num_parallel_tree=None, random_state=42, ...)"
      ]
     },
     "execution_count": 46,
     "metadata": {},
     "output_type": "execute_result"
    }
   ],
   "source": [
    "# Get the best hyperparameters\n",
    "best_params = grid_search.best_params_\n",
    "print(\"Best Hyperparameters:\", best_params)\n",
    "\n",
    "# Train the XGBoost model with the best hyperparameters\n",
    "best_xgb_regressor = XGBRegressor(**best_params, random_state=42)\n",
    "best_xgb_regressor.fit(X_train, y_train)\n",
    "\n"
   ]
  },
  {
   "cell_type": "code",
   "execution_count": 47,
   "id": "5fc945a2",
   "metadata": {
    "execution": {
     "iopub.execute_input": "2024-05-19T18:13:04.927198Z",
     "iopub.status.busy": "2024-05-19T18:13:04.926420Z",
     "iopub.status.idle": "2024-05-19T18:13:04.949187Z",
     "shell.execute_reply": "2024-05-19T18:13:04.948336Z"
    },
    "papermill": {
     "duration": 0.055773,
     "end_time": "2024-05-19T18:13:04.951248",
     "exception": false,
     "start_time": "2024-05-19T18:13:04.895475",
     "status": "completed"
    },
    "tags": []
   },
   "outputs": [
    {
     "name": "stdout",
     "output_type": "stream",
     "text": [
      "Training MSE: 1.2155075642454254e-08\n",
      "Testing MSE: 8.840447578323127e-06\n",
      "Training R2 Score: 0.999999507068148\n",
      "Testing R2 Score: 0.9996507697393521\n"
     ]
    }
   ],
   "source": [
    "# Make predictions\n",
    "y_pred_train = best_xgb_regressor.predict(X_train)\n",
    "y_pred_test = best_xgb_regressor.predict(X_test)\n",
    "\n",
    "# Evaluate the model\n",
    "train_mse = mean_squared_error(y_train, y_pred_train)\n",
    "test_mse = mean_squared_error(y_test, y_pred_test)\n",
    "train_r2 = r2_score(y_train, y_pred_train)\n",
    "test_r2 = r2_score(y_test, y_pred_test)\n",
    "\n",
    "print(f\"Training MSE: {train_mse}\")\n",
    "print(f\"Testing MSE: {test_mse}\")\n",
    "print(f\"Training R2 Score: {train_r2}\")\n",
    "print(f\"Testing R2 Score: {test_r2}\")\n"
   ]
  },
  {
   "cell_type": "markdown",
   "id": "216c560b",
   "metadata": {
    "papermill": {
     "duration": 0.029763,
     "end_time": "2024-05-19T18:13:05.012599",
     "exception": false,
     "start_time": "2024-05-19T18:13:04.982836",
     "status": "completed"
    },
    "tags": []
   },
   "source": [
    "<a id=\"1\"></a>\n",
    "<div style=\"font-family: Cambria; font-weight: bold; letter-spacing: 0px; color: #ffffff; font-size: 120%; text-align: left; padding: 3px; background-color: #0000ff; border-bottom: 10px solid #80ffff;\">\n",
    "    Model comparison\n",
    "</div>"
   ]
  },
  {
   "cell_type": "code",
   "execution_count": 48,
   "id": "070372c4",
   "metadata": {
    "execution": {
     "iopub.execute_input": "2024-05-19T18:13:05.074107Z",
     "iopub.status.busy": "2024-05-19T18:13:05.073694Z",
     "iopub.status.idle": "2024-05-19T18:13:05.370826Z",
     "shell.execute_reply": "2024-05-19T18:13:05.369977Z"
    },
    "papermill": {
     "duration": 0.330383,
     "end_time": "2024-05-19T18:13:05.372773",
     "exception": false,
     "start_time": "2024-05-19T18:13:05.042390",
     "status": "completed"
    },
    "tags": []
   },
   "outputs": [
    {
     "data": {
      "text/html": [
       "<div>\n",
       "<style scoped>\n",
       "    .dataframe tbody tr th:only-of-type {\n",
       "        vertical-align: middle;\n",
       "    }\n",
       "\n",
       "    .dataframe tbody tr th {\n",
       "        vertical-align: top;\n",
       "    }\n",
       "\n",
       "    .dataframe thead th {\n",
       "        text-align: right;\n",
       "    }\n",
       "</style>\n",
       "<table border=\"1\" class=\"dataframe\">\n",
       "  <thead>\n",
       "    <tr style=\"text-align: right;\">\n",
       "      <th></th>\n",
       "      <th>Model</th>\n",
       "      <th>Training MSE</th>\n",
       "      <th>Testing MSE</th>\n",
       "      <th>Training R2 Score</th>\n",
       "      <th>Testing R2 Score</th>\n",
       "    </tr>\n",
       "  </thead>\n",
       "  <tbody>\n",
       "    <tr>\n",
       "      <th>0</th>\n",
       "      <td>Linear Regression</td>\n",
       "      <td>1.402608e-03</td>\n",
       "      <td>0.001441</td>\n",
       "      <td>0.943119</td>\n",
       "      <td>0.943094</td>\n",
       "    </tr>\n",
       "    <tr>\n",
       "      <th>1</th>\n",
       "      <td>Decision Tree</td>\n",
       "      <td>1.004817e-33</td>\n",
       "      <td>0.000018</td>\n",
       "      <td>1.000000</td>\n",
       "      <td>0.999293</td>\n",
       "    </tr>\n",
       "    <tr>\n",
       "      <th>2</th>\n",
       "      <td>Random Forest</td>\n",
       "      <td>6.165650e-05</td>\n",
       "      <td>0.000030</td>\n",
       "      <td>0.997500</td>\n",
       "      <td>0.998824</td>\n",
       "    </tr>\n",
       "    <tr>\n",
       "      <th>3</th>\n",
       "      <td>XGBoost</td>\n",
       "      <td>1.233666e-07</td>\n",
       "      <td>0.000009</td>\n",
       "      <td>0.999995</td>\n",
       "      <td>0.999657</td>\n",
       "    </tr>\n",
       "  </tbody>\n",
       "</table>\n",
       "</div>"
      ],
      "text/plain": [
       "               Model  Training MSE  Testing MSE  Training R2 Score  \\\n",
       "0  Linear Regression  1.402608e-03     0.001441           0.943119   \n",
       "1      Decision Tree  1.004817e-33     0.000018           1.000000   \n",
       "2      Random Forest  6.165650e-05     0.000030           0.997500   \n",
       "3            XGBoost  1.233666e-07     0.000009           0.999995   \n",
       "\n",
       "   Testing R2 Score  \n",
       "0          0.943094  \n",
       "1          0.999293  \n",
       "2          0.998824  \n",
       "3          0.999657  "
      ]
     },
     "execution_count": 48,
     "metadata": {},
     "output_type": "execute_result"
    }
   ],
   "source": [
    "\n",
    "models = {\n",
    "    'Linear Regression': LinearRegression(),\n",
    "    'Decision Tree': DecisionTreeRegressor(random_state=42),\n",
    "    'Random Forest': RandomForestRegressor(random_state=42),\n",
    "    'XGBoost': XGBRegressor(random_state=42)\n",
    "}\n",
    "results = []\n",
    "for name, model in models.items():\n",
    "    model.fit(X_train, y_train)\n",
    "    y_pred_train = model.predict(X_train)\n",
    "    y_pred_test = model.predict(X_test)\n",
    "    train_mse = mean_squared_error(y_train, y_pred_train)\n",
    "    test_mse = mean_squared_error(y_test, y_pred_test)\n",
    "    train_r2 = r2_score(y_train, y_pred_train)\n",
    "    test_r2 = r2_score(y_test, y_pred_test)\n",
    "    results.append({'Model': name,\n",
    "                    'Training MSE': train_mse,\n",
    "                    'Testing MSE': test_mse,\n",
    "                    'Training R2 Score': train_r2,\n",
    "                    'Testing R2 Score': test_r2})\n",
    "results_df = pd.DataFrame(results)\n",
    "results_df\n"
   ]
  },
  {
   "cell_type": "markdown",
   "id": "0e677014",
   "metadata": {
    "papermill": {
     "duration": 0.030744,
     "end_time": "2024-05-19T18:13:05.435271",
     "exception": false,
     "start_time": "2024-05-19T18:13:05.404527",
     "status": "completed"
    },
    "tags": []
   },
   "source": [
    "<a id=\"1\"></a>\n",
    "<div style=\"font-family: Cambria; font-weight: bold; letter-spacing: 0px; color: #ffffff; font-size: 120%; text-align: left; padding: 3px; background-color: #0000ff; border-bottom: 10px solid #80ffff;\">\n",
    "    Conclusion\n",
    "</div>"
   ]
  },
  {
   "cell_type": "markdown",
   "id": "4859d5ca",
   "metadata": {
    "papermill": {
     "duration": 0.030012,
     "end_time": "2024-05-19T18:13:05.495778",
     "exception": false,
     "start_time": "2024-05-19T18:13:05.465766",
     "status": "completed"
    },
    "tags": []
   },
   "source": [
    "<div style=\"background-color: #66bbf1; padding: 20px; border-radius: 10px;\">\n",
    "    <h1 style=\"text-align: left; font-size: 22px;\">Best Performer: Both Random Forest and XGBoost exhibit outstanding performance with high R² scores and low MSE values. XGBoost slightly outperforms Random Forest in both metrics, making it the best performer among the models.\n",
    "        \n",
    "Overfitting Issue: The Decision Tree model suffers from overfitting, as evidenced by the perfect training score and significantly different training and testing MSE.\n",
    "        \n",
    "Reliable Option: Linear Regression, although not as strong as the ensemble methods, shows reliable performance without overfitting, making it a solid choice for simpler and more interpretable models.\n",
    "        \n",
    "For the best balance of performance and generalization, XGBoost is the top choice, closely followed by Random Forest. Linear Regression is suitable for scenarios where model interpretability is crucial.</h1>\n",
    "</div>"
   ]
  },
  {
   "cell_type": "markdown",
   "id": "f24b5a7d",
   "metadata": {
    "papermill": {
     "duration": 0.030063,
     "end_time": "2024-05-19T18:13:05.555752",
     "exception": false,
     "start_time": "2024-05-19T18:13:05.525689",
     "status": "completed"
    },
    "tags": []
   },
   "source": [
    "<div style=\"background-color: #ff0000; padding: 20px; border-radius: 10px;\">\n",
    "    <h1 style=\"text-align: left; font-size: 32px;\">  IF you like this Notebook checkout below Dataset which has better features(columns) , good amount of data and also my work on it </h1>\n",
    "</div>\n"
   ]
  },
  {
   "cell_type": "markdown",
   "id": "854af73d",
   "metadata": {
    "papermill": {
     "duration": 0.030049,
     "end_time": "2024-05-19T18:13:05.616232",
     "exception": false,
     "start_time": "2024-05-19T18:13:05.586183",
     "status": "completed"
    },
    "tags": []
   },
   "source": [
    "### Dataset link: https://www.kaggle.com/datasets/pruthvikmachhi/mobile-dataset-cleaned/data\n",
    "\n",
    "### Notebook link : https://www.kaggle.com/code/pruthvikmachhi/smartphone-price-prediction"
   ]
  },
  {
   "cell_type": "markdown",
   "id": "31599cdc",
   "metadata": {
    "papermill": {
     "duration": 0.029418,
     "end_time": "2024-05-19T18:13:05.676112",
     "exception": false,
     "start_time": "2024-05-19T18:13:05.646694",
     "status": "completed"
    },
    "tags": []
   },
   "source": [
    "\n",
    "### Notebook link :https://www.kaggle.com/code/pruthvikmachhi/mobilephone-eda-price-prediction"
   ]
  },
  {
   "cell_type": "markdown",
   "id": "8a1ca397",
   "metadata": {
    "papermill": {
     "duration": 0.030341,
     "end_time": "2024-05-19T18:13:05.736209",
     "exception": false,
     "start_time": "2024-05-19T18:13:05.705868",
     "status": "completed"
    },
    "tags": []
   },
   "source": [
    "<div style=\"background-color: #66bbf1; padding: 20px; border-radius: 10px;\">\n",
    "    <h1 style=\"text-align: left; font-size: 22px;\">if you like my notebook give upvote , it will encourage me.\n",
    "        thanks for exploring my notebook.</h1>\n",
    "</div>"
   ]
  }
 ],
 "metadata": {
  "kaggle": {
   "accelerator": "none",
   "dataSources": [
    {
     "datasetId": 2980968,
     "sourceId": 5131895,
     "sourceType": "datasetVersion"
    }
   ],
   "dockerImageVersionId": 30698,
   "isGpuEnabled": false,
   "isInternetEnabled": true,
   "language": "python",
   "sourceType": "notebook"
  },
  "kernelspec": {
   "display_name": "Python 3",
   "language": "python",
   "name": "python3"
  },
  "language_info": {
   "codemirror_mode": {
    "name": "ipython",
    "version": 3
   },
   "file_extension": ".py",
   "mimetype": "text/x-python",
   "name": "python",
   "nbconvert_exporter": "python",
   "pygments_lexer": "ipython3",
   "version": "3.10.13"
  },
  "papermill": {
   "default_parameters": {},
   "duration": 82.812639,
   "end_time": "2024-05-19T18:13:08.386219",
   "environment_variables": {},
   "exception": null,
   "input_path": "__notebook__.ipynb",
   "output_path": "__notebook__.ipynb",
   "parameters": {},
   "start_time": "2024-05-19T18:11:45.573580",
   "version": "2.5.0"
  }
 },
 "nbformat": 4,
 "nbformat_minor": 5
}
