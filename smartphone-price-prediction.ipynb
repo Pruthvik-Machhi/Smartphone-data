{
 "cells": [
  {
   "cell_type": "markdown",
   "id": "60b14165",
   "metadata": {
    "papermill": {
     "duration": 0.01445,
     "end_time": "2024-05-16T12:26:05.364282",
     "exception": false,
     "start_time": "2024-05-16T12:26:05.349832",
     "status": "completed"
    },
    "tags": []
   },
   "source": [
    ">\r\n"
   ]
  },
  {
   "cell_type": "code",
   "execution_count": 1,
   "id": "49b76666",
   "metadata": {
    "execution": {
     "iopub.execute_input": "2024-05-16T12:26:05.395047Z",
     "iopub.status.busy": "2024-05-16T12:26:05.394373Z",
     "iopub.status.idle": "2024-05-16T12:26:06.340548Z",
     "shell.execute_reply": "2024-05-16T12:26:06.339071Z"
    },
    "papermill": {
     "duration": 0.966125,
     "end_time": "2024-05-16T12:26:06.343962",
     "exception": false,
     "start_time": "2024-05-16T12:26:05.377837",
     "status": "completed"
    },
    "tags": []
   },
   "outputs": [
    {
     "name": "stdout",
     "output_type": "stream",
     "text": [
      "/kaggle/input/mobile-dataset-cleaned/mobile_detail.csv\n"
     ]
    }
   ],
   "source": [
    "# This Python 3 environment comes with many helpful analytics libraries installed\n",
    "# It is defined by the kaggle/python Docker image: https://github.com/kaggle/docker-python\n",
    "# For example, here's several helpful packages to load\n",
    "\n",
    "import numpy as np # linear algebra\n",
    "import pandas as pd # data processing, CSV file I/O (e.g. pd.read_csv)\n",
    "\n",
    "# Input data files are available in the read-only \"../input/\" directory\n",
    "# For example, running this (by clicking run or pressing Shift+Enter) will list all files under the input directory\n",
    "\n",
    "import os\n",
    "for dirname, _, filenames in os.walk('/kaggle/input'):\n",
    "    for filename in filenames:\n",
    "        print(os.path.join(dirname, filename))\n",
    "\n",
    "# You can write up to 20GB to the current directory (/kaggle/working/) that gets preserved as output when you create a version using \"Save & Run All\" \n",
    "# You can also write temporary files to /kaggle/temp/, but they won't be saved outside of the current session"
   ]
  },
  {
   "cell_type": "markdown",
   "id": "a59780b7",
   "metadata": {
    "papermill": {
     "duration": 0.014531,
     "end_time": "2024-05-16T12:26:06.372817",
     "exception": false,
     "start_time": "2024-05-16T12:26:06.358286",
     "status": "completed"
    },
    "tags": []
   },
   "source": [
    "<div style=\"background-color: #ff0000; padding: 20px; border-radius: 10px;\">\n",
    "    <h1 style=\"text-align: left; font-size: 32px;\">  Smartphone Price Prediction </h1>\n",
    "</div>\n"
   ]
  },
  {
   "cell_type": "markdown",
   "id": "df922f08",
   "metadata": {
    "papermill": {
     "duration": 0.014485,
     "end_time": "2024-05-16T12:26:06.401742",
     "exception": false,
     "start_time": "2024-05-16T12:26:06.387257",
     "status": "completed"
    },
    "tags": []
   },
   "source": [
    "<a id=\"1\"></a>\n",
    "<div style=\"font-family: Cambria; font-weight: bold; letter-spacing: 0px; color: #ffffff; font-size: 120%; text-align: left; padding: 3px; background-color: #0000ff; border-bottom: 10px solid #80ffff;\">\n",
    "    LIBRARY IMPORTS\n",
    "</div>\n"
   ]
  },
  {
   "cell_type": "markdown",
   "id": "5421069b",
   "metadata": {
    "papermill": {
     "duration": 0.013455,
     "end_time": "2024-05-16T12:26:06.429859",
     "exception": false,
     "start_time": "2024-05-16T12:26:06.416404",
     "status": "completed"
    },
    "tags": []
   },
   "source": [
    "<a id=\"1\"></a>\r\n",
    "<div style=\"font-family: Cambria; font-weight: bold; letter-spacing: 0px; color: #ffffff; font-size: 120%; text-align: left; padding: 3px; background-color: #0000ff; border-bottom: 10px solid #80ffff;>\r\n",
    "    LIBRARY IMPORTS\r\n",
    "</div>\r\n",
    ">\r\n",
    "\r\n",
    ">\r\n",
    "v>\r\n"
   ]
  },
  {
   "cell_type": "code",
   "execution_count": 2,
   "id": "558d7192",
   "metadata": {
    "execution": {
     "iopub.execute_input": "2024-05-16T12:26:06.459615Z",
     "iopub.status.busy": "2024-05-16T12:26:06.458411Z",
     "iopub.status.idle": "2024-05-16T12:26:08.418496Z",
     "shell.execute_reply": "2024-05-16T12:26:08.417639Z"
    },
    "papermill": {
     "duration": 1.977677,
     "end_time": "2024-05-16T12:26:08.421143",
     "exception": false,
     "start_time": "2024-05-16T12:26:06.443466",
     "status": "completed"
    },
    "tags": []
   },
   "outputs": [],
   "source": [
    "import pandas as pd\n",
    "import seaborn as sns\n",
    "from sklearn.model_selection import train_test_split\n",
    "from sklearn.neighbors import KNeighborsRegressor\n",
    "from sklearn.metrics import mean_squared_error, r2_score\n",
    "import matplotlib.pyplot as plt\n",
    "import warnings\n",
    "warnings.filterwarnings('ignore')"
   ]
  },
  {
   "cell_type": "markdown",
   "id": "e4395ac7",
   "metadata": {
    "papermill": {
     "duration": 0.013446,
     "end_time": "2024-05-16T12:26:08.448397",
     "exception": false,
     "start_time": "2024-05-16T12:26:08.434951",
     "status": "completed"
    },
    "tags": []
   },
   "source": [
    "<a id=\"1\"></a>\n",
    "<div style=\"font-family: Cambria; font-weight: bold; letter-spacing: 0px; color: #ffffff; font-size: 120%; text-align: left; padding: 3px; background-color: #0000ff; border-bottom: 10px solid #80ffff;\">\n",
    "    LOAD DATA\n",
    "</div>"
   ]
  },
  {
   "cell_type": "code",
   "execution_count": 3,
   "id": "11f247bf",
   "metadata": {
    "execution": {
     "iopub.execute_input": "2024-05-16T12:26:08.478492Z",
     "iopub.status.busy": "2024-05-16T12:26:08.477835Z",
     "iopub.status.idle": "2024-05-16T12:26:08.558363Z",
     "shell.execute_reply": "2024-05-16T12:26:08.556988Z"
    },
    "papermill": {
     "duration": 0.098804,
     "end_time": "2024-05-16T12:26:08.561124",
     "exception": false,
     "start_time": "2024-05-16T12:26:08.462320",
     "status": "completed"
    },
    "tags": []
   },
   "outputs": [
    {
     "data": {
      "text/html": [
       "<div>\n",
       "<style scoped>\n",
       "    .dataframe tbody tr th:only-of-type {\n",
       "        vertical-align: middle;\n",
       "    }\n",
       "\n",
       "    .dataframe tbody tr th {\n",
       "        vertical-align: top;\n",
       "    }\n",
       "\n",
       "    .dataframe thead th {\n",
       "        text-align: right;\n",
       "    }\n",
       "</style>\n",
       "<table border=\"1\" class=\"dataframe\">\n",
       "  <thead>\n",
       "    <tr style=\"text-align: right;\">\n",
       "      <th></th>\n",
       "      <th>ratings</th>\n",
       "      <th>price</th>\n",
       "      <th>imgURL</th>\n",
       "      <th>corpus</th>\n",
       "      <th>brand</th>\n",
       "      <th>mobile_name</th>\n",
       "      <th>color</th>\n",
       "      <th>storage</th>\n",
       "      <th>system</th>\n",
       "      <th>processor_type</th>\n",
       "      <th>resolution</th>\n",
       "      <th>size</th>\n",
       "    </tr>\n",
       "  </thead>\n",
       "  <tbody>\n",
       "    <tr>\n",
       "      <th>0</th>\n",
       "      <td>4.2</td>\n",
       "      <td>23999</td>\n",
       "      <td>https://rukminim2.flixcart.com/image/312/312/x...</td>\n",
       "      <td>storage128 gbram6  systemandroid 12processor t...</td>\n",
       "      <td>redmi</td>\n",
       "      <td>Note 12 Pro 5G</td>\n",
       "      <td>black</td>\n",
       "      <td>128</td>\n",
       "      <td>android</td>\n",
       "      <td>mediatek</td>\n",
       "      <td>Full HD</td>\n",
       "      <td>6.7</td>\n",
       "    </tr>\n",
       "    <tr>\n",
       "      <th>1</th>\n",
       "      <td>4.5</td>\n",
       "      <td>20999</td>\n",
       "      <td>https://rukminim2.flixcart.com/image/312/312/k...</td>\n",
       "      <td>storage128 gbram6 gbexpandable storage256gb  s...</td>\n",
       "      <td>oppo</td>\n",
       "      <td>F11 Pro</td>\n",
       "      <td>green</td>\n",
       "      <td>128</td>\n",
       "      <td>android</td>\n",
       "      <td>mediatek</td>\n",
       "      <td>Full HD</td>\n",
       "      <td>6.5</td>\n",
       "    </tr>\n",
       "    <tr>\n",
       "      <th>2</th>\n",
       "      <td>4.2</td>\n",
       "      <td>13149</td>\n",
       "      <td>https://rukminim2.flixcart.com/image/312/312/x...</td>\n",
       "      <td>storage64 gbram4  systemandroid 11processor sp...</td>\n",
       "      <td>redmi</td>\n",
       "      <td>Note 11</td>\n",
       "      <td>white</td>\n",
       "      <td>64</td>\n",
       "      <td>android</td>\n",
       "      <td>NaN</td>\n",
       "      <td>Full HD</td>\n",
       "      <td>6.4</td>\n",
       "    </tr>\n",
       "    <tr>\n",
       "      <th>3</th>\n",
       "      <td>4.1</td>\n",
       "      <td>21999</td>\n",
       "      <td>https://rukminim2.flixcart.com/image/312/312/x...</td>\n",
       "      <td>storage256 gbram12  systemandroid q 11processo...</td>\n",
       "      <td>oneplus</td>\n",
       "      <td>Nord CE 5G</td>\n",
       "      <td>blue</td>\n",
       "      <td>256</td>\n",
       "      <td>android</td>\n",
       "      <td>qualcomm</td>\n",
       "      <td>Full HD</td>\n",
       "      <td>6.4</td>\n",
       "    </tr>\n",
       "    <tr>\n",
       "      <th>4</th>\n",
       "      <td>4.6</td>\n",
       "      <td>3537</td>\n",
       "      <td>https://rukminim2.flixcart.com/image/312/312/k...</td>\n",
       "      <td>storage128  systemios 15processor typea15 bion...</td>\n",
       "      <td>apple</td>\n",
       "      <td>iPhone 13 mini</td>\n",
       "      <td>blue</td>\n",
       "      <td>128</td>\n",
       "      <td>ios</td>\n",
       "      <td>apple</td>\n",
       "      <td>Full HD</td>\n",
       "      <td>5.4</td>\n",
       "    </tr>\n",
       "  </tbody>\n",
       "</table>\n",
       "</div>"
      ],
      "text/plain": [
       "   ratings  price                                             imgURL  \\\n",
       "0      4.2  23999  https://rukminim2.flixcart.com/image/312/312/x...   \n",
       "1      4.5  20999  https://rukminim2.flixcart.com/image/312/312/k...   \n",
       "2      4.2  13149  https://rukminim2.flixcart.com/image/312/312/x...   \n",
       "3      4.1  21999  https://rukminim2.flixcart.com/image/312/312/x...   \n",
       "4      4.6   3537  https://rukminim2.flixcart.com/image/312/312/k...   \n",
       "\n",
       "                                              corpus    brand     mobile_name  \\\n",
       "0  storage128 gbram6  systemandroid 12processor t...    redmi  Note 12 Pro 5G   \n",
       "1  storage128 gbram6 gbexpandable storage256gb  s...     oppo         F11 Pro   \n",
       "2  storage64 gbram4  systemandroid 11processor sp...    redmi         Note 11   \n",
       "3  storage256 gbram12  systemandroid q 11processo...  oneplus      Nord CE 5G   \n",
       "4  storage128  systemios 15processor typea15 bion...    apple  iPhone 13 mini   \n",
       "\n",
       "   color  storage   system processor_type resolution  size  \n",
       "0  black      128  android       mediatek    Full HD   6.7  \n",
       "1  green      128  android       mediatek    Full HD   6.5  \n",
       "2  white       64  android            NaN    Full HD   6.4  \n",
       "3   blue      256  android       qualcomm    Full HD   6.4  \n",
       "4   blue      128      ios          apple    Full HD   5.4  "
      ]
     },
     "execution_count": 3,
     "metadata": {},
     "output_type": "execute_result"
    }
   ],
   "source": [
    "df = pd.read_csv('/kaggle/input/mobile-dataset-cleaned/mobile_detail.csv')\n",
    "df.head()"
   ]
  },
  {
   "cell_type": "code",
   "execution_count": 4,
   "id": "a4269ed5",
   "metadata": {
    "execution": {
     "iopub.execute_input": "2024-05-16T12:26:08.591782Z",
     "iopub.status.busy": "2024-05-16T12:26:08.591396Z",
     "iopub.status.idle": "2024-05-16T12:26:08.621946Z",
     "shell.execute_reply": "2024-05-16T12:26:08.619989Z"
    },
    "papermill": {
     "duration": 0.048927,
     "end_time": "2024-05-16T12:26:08.624614",
     "exception": false,
     "start_time": "2024-05-16T12:26:08.575687",
     "status": "completed"
    },
    "tags": []
   },
   "outputs": [
    {
     "name": "stdout",
     "output_type": "stream",
     "text": [
      "<class 'pandas.core.frame.DataFrame'>\n",
      "RangeIndex: 1984 entries, 0 to 1983\n",
      "Data columns (total 12 columns):\n",
      " #   Column          Non-Null Count  Dtype  \n",
      "---  ------          --------------  -----  \n",
      " 0   ratings         1984 non-null   float64\n",
      " 1   price           1984 non-null   int64  \n",
      " 2   imgURL          1984 non-null   object \n",
      " 3   corpus          1984 non-null   object \n",
      " 4   brand           1984 non-null   object \n",
      " 5   mobile_name     1984 non-null   object \n",
      " 6   color           1984 non-null   object \n",
      " 7   storage         1984 non-null   int64  \n",
      " 8   system          1984 non-null   object \n",
      " 9   processor_type  1644 non-null   object \n",
      " 10  resolution      1984 non-null   object \n",
      " 11  size            1983 non-null   float64\n",
      "dtypes: float64(2), int64(2), object(8)\n",
      "memory usage: 186.1+ KB\n"
     ]
    }
   ],
   "source": [
    "df.info()"
   ]
  },
  {
   "cell_type": "markdown",
   "id": "0056367f",
   "metadata": {
    "papermill": {
     "duration": 0.016415,
     "end_time": "2024-05-16T12:26:08.655799",
     "exception": false,
     "start_time": "2024-05-16T12:26:08.639384",
     "status": "completed"
    },
    "tags": []
   },
   "source": [
    "<a id=\"1\"></a>\n",
    "<div style=\"font-family: Cambria; font-weight: bold; letter-spacing: 0px; color: #ffffff; font-size: 120%; text-align: left; padding: 3px; background-color: #0000ff; border-bottom: 10px solid #80ffff;\">\n",
    "    Handling missing data\n",
    "</div>"
   ]
  },
  {
   "cell_type": "code",
   "execution_count": 5,
   "id": "3ad754c7",
   "metadata": {
    "execution": {
     "iopub.execute_input": "2024-05-16T12:26:08.686695Z",
     "iopub.status.busy": "2024-05-16T12:26:08.685415Z",
     "iopub.status.idle": "2024-05-16T12:26:08.695696Z",
     "shell.execute_reply": "2024-05-16T12:26:08.694777Z"
    },
    "papermill": {
     "duration": 0.028122,
     "end_time": "2024-05-16T12:26:08.697886",
     "exception": false,
     "start_time": "2024-05-16T12:26:08.669764",
     "status": "completed"
    },
    "tags": []
   },
   "outputs": [
    {
     "data": {
      "text/plain": [
       "ratings             0\n",
       "price               0\n",
       "imgURL              0\n",
       "corpus              0\n",
       "brand               0\n",
       "mobile_name         0\n",
       "color               0\n",
       "storage             0\n",
       "system              0\n",
       "processor_type    340\n",
       "resolution          0\n",
       "size                1\n",
       "dtype: int64"
      ]
     },
     "execution_count": 5,
     "metadata": {},
     "output_type": "execute_result"
    }
   ],
   "source": [
    "df.isnull().sum()"
   ]
  },
  {
   "cell_type": "markdown",
   "id": "1369c5ff",
   "metadata": {
    "papermill": {
     "duration": 0.013922,
     "end_time": "2024-05-16T12:26:08.726043",
     "exception": false,
     "start_time": "2024-05-16T12:26:08.712121",
     "status": "completed"
    },
    "tags": []
   },
   "source": [
    "# Fill missing processor_type with 'unknown'"
   ]
  },
  {
   "cell_type": "code",
   "execution_count": 6,
   "id": "54705b60",
   "metadata": {
    "execution": {
     "iopub.execute_input": "2024-05-16T12:26:08.757182Z",
     "iopub.status.busy": "2024-05-16T12:26:08.755732Z",
     "iopub.status.idle": "2024-05-16T12:26:08.761935Z",
     "shell.execute_reply": "2024-05-16T12:26:08.761022Z"
    },
    "papermill": {
     "duration": 0.024096,
     "end_time": "2024-05-16T12:26:08.764375",
     "exception": false,
     "start_time": "2024-05-16T12:26:08.740279",
     "status": "completed"
    },
    "tags": []
   },
   "outputs": [],
   "source": [
    "\n",
    "df['processor_type'].fillna('unknown', inplace=True)"
   ]
  },
  {
   "cell_type": "markdown",
   "id": "9c6fb4bf",
   "metadata": {
    "papermill": {
     "duration": 0.013909,
     "end_time": "2024-05-16T12:26:08.792946",
     "exception": false,
     "start_time": "2024-05-16T12:26:08.779037",
     "status": "completed"
    },
    "tags": []
   },
   "source": [
    "# Drop the missing data of size"
   ]
  },
  {
   "cell_type": "code",
   "execution_count": 7,
   "id": "059792e9",
   "metadata": {
    "execution": {
     "iopub.execute_input": "2024-05-16T12:26:08.823864Z",
     "iopub.status.busy": "2024-05-16T12:26:08.823203Z",
     "iopub.status.idle": "2024-05-16T12:26:08.832831Z",
     "shell.execute_reply": "2024-05-16T12:26:08.831651Z"
    },
    "papermill": {
     "duration": 0.028296,
     "end_time": "2024-05-16T12:26:08.835380",
     "exception": false,
     "start_time": "2024-05-16T12:26:08.807084",
     "status": "completed"
    },
    "tags": []
   },
   "outputs": [],
   "source": [
    "\n",
    "df.dropna(inplace=True)"
   ]
  },
  {
   "cell_type": "code",
   "execution_count": 8,
   "id": "5114ad68",
   "metadata": {
    "execution": {
     "iopub.execute_input": "2024-05-16T12:26:08.865565Z",
     "iopub.status.busy": "2024-05-16T12:26:08.864970Z",
     "iopub.status.idle": "2024-05-16T12:26:08.873279Z",
     "shell.execute_reply": "2024-05-16T12:26:08.872411Z"
    },
    "papermill": {
     "duration": 0.025949,
     "end_time": "2024-05-16T12:26:08.875319",
     "exception": false,
     "start_time": "2024-05-16T12:26:08.849370",
     "status": "completed"
    },
    "tags": []
   },
   "outputs": [
    {
     "data": {
      "text/plain": [
       "ratings           0\n",
       "price             0\n",
       "imgURL            0\n",
       "corpus            0\n",
       "brand             0\n",
       "mobile_name       0\n",
       "color             0\n",
       "storage           0\n",
       "system            0\n",
       "processor_type    0\n",
       "resolution        0\n",
       "size              0\n",
       "dtype: int64"
      ]
     },
     "execution_count": 8,
     "metadata": {},
     "output_type": "execute_result"
    }
   ],
   "source": [
    "df.isnull().sum()"
   ]
  },
  {
   "cell_type": "code",
   "execution_count": 9,
   "id": "e859a975",
   "metadata": {
    "execution": {
     "iopub.execute_input": "2024-05-16T12:26:08.906221Z",
     "iopub.status.busy": "2024-05-16T12:26:08.905546Z",
     "iopub.status.idle": "2024-05-16T12:26:08.912138Z",
     "shell.execute_reply": "2024-05-16T12:26:08.911065Z"
    },
    "papermill": {
     "duration": 0.024886,
     "end_time": "2024-05-16T12:26:08.914184",
     "exception": false,
     "start_time": "2024-05-16T12:26:08.889298",
     "status": "completed"
    },
    "tags": []
   },
   "outputs": [
    {
     "data": {
      "text/plain": [
       "(1983, 12)"
      ]
     },
     "execution_count": 9,
     "metadata": {},
     "output_type": "execute_result"
    }
   ],
   "source": [
    "df.shape"
   ]
  },
  {
   "cell_type": "markdown",
   "id": "9a23c22c",
   "metadata": {
    "papermill": {
     "duration": 0.014737,
     "end_time": "2024-05-16T12:26:08.943212",
     "exception": false,
     "start_time": "2024-05-16T12:26:08.928475",
     "status": "completed"
    },
    "tags": []
   },
   "source": [
    "<a id=\"1\"></a>\n",
    "<div style=\"font-family: Cambria; font-weight: bold; letter-spacing: 0px; color: #ffffff; font-size: 120%; text-align: left; padding: 3px; background-color: #0000ff; border-bottom: 10px solid #80ffff;\">\n",
    "    Statastical Summary\n",
    "</div>"
   ]
  },
  {
   "cell_type": "code",
   "execution_count": 10,
   "id": "c5740a6c",
   "metadata": {
    "execution": {
     "iopub.execute_input": "2024-05-16T12:26:08.973830Z",
     "iopub.status.busy": "2024-05-16T12:26:08.973467Z",
     "iopub.status.idle": "2024-05-16T12:26:09.088685Z",
     "shell.execute_reply": "2024-05-16T12:26:09.087304Z"
    },
    "papermill": {
     "duration": 0.133789,
     "end_time": "2024-05-16T12:26:09.091335",
     "exception": false,
     "start_time": "2024-05-16T12:26:08.957546",
     "status": "completed"
    },
    "tags": []
   },
   "outputs": [
    {
     "data": {
      "text/html": [
       "<style type=\"text/css\">\n",
       "#T_c3675_row0_col0, #T_c3675_row0_col1, #T_c3675_row0_col2, #T_c3675_row0_col4, #T_c3675_row0_col5, #T_c3675_row0_col6, #T_c3675_row0_col7, #T_c3675_row1_col0, #T_c3675_row2_col0, #T_c3675_row3_col0, #T_c3675_row3_col1, #T_c3675_row3_col2, #T_c3675_row3_col3, #T_c3675_row3_col4, #T_c3675_row3_col5, #T_c3675_row3_col6, #T_c3675_row3_col7 {\n",
       "  background-color: #440154;\n",
       "  color: #f1f1f1;\n",
       "}\n",
       "#T_c3675_row0_col3 {\n",
       "  background-color: #450559;\n",
       "  color: #f1f1f1;\n",
       "}\n",
       "#T_c3675_row1_col1, #T_c3675_row1_col2, #T_c3675_row1_col3, #T_c3675_row1_col4, #T_c3675_row1_col5, #T_c3675_row1_col6, #T_c3675_row1_col7 {\n",
       "  background-color: #fde725;\n",
       "  color: #000000;\n",
       "}\n",
       "#T_c3675_row2_col1, #T_c3675_row2_col4, #T_c3675_row2_col6, #T_c3675_row2_col7 {\n",
       "  background-color: #440256;\n",
       "  color: #f1f1f1;\n",
       "}\n",
       "#T_c3675_row2_col2, #T_c3675_row2_col5 {\n",
       "  background-color: #450457;\n",
       "  color: #f1f1f1;\n",
       "}\n",
       "#T_c3675_row2_col3 {\n",
       "  background-color: #414487;\n",
       "  color: #f1f1f1;\n",
       "}\n",
       "</style>\n",
       "<table id=\"T_c3675\">\n",
       "  <thead>\n",
       "    <tr>\n",
       "      <th class=\"blank level0\" >&nbsp;</th>\n",
       "      <th id=\"T_c3675_level0_col0\" class=\"col_heading level0 col0\" >count</th>\n",
       "      <th id=\"T_c3675_level0_col1\" class=\"col_heading level0 col1\" >mean</th>\n",
       "      <th id=\"T_c3675_level0_col2\" class=\"col_heading level0 col2\" >std</th>\n",
       "      <th id=\"T_c3675_level0_col3\" class=\"col_heading level0 col3\" >min</th>\n",
       "      <th id=\"T_c3675_level0_col4\" class=\"col_heading level0 col4\" >25%</th>\n",
       "      <th id=\"T_c3675_level0_col5\" class=\"col_heading level0 col5\" >50%</th>\n",
       "      <th id=\"T_c3675_level0_col6\" class=\"col_heading level0 col6\" >75%</th>\n",
       "      <th id=\"T_c3675_level0_col7\" class=\"col_heading level0 col7\" >max</th>\n",
       "    </tr>\n",
       "  </thead>\n",
       "  <tbody>\n",
       "    <tr>\n",
       "      <th id=\"T_c3675_level0_row0\" class=\"row_heading level0 row0\" >ratings</th>\n",
       "      <td id=\"T_c3675_row0_col0\" class=\"data row0 col0\" >1983.000000</td>\n",
       "      <td id=\"T_c3675_row0_col1\" class=\"data row0 col1\" >4.303833</td>\n",
       "      <td id=\"T_c3675_row0_col2\" class=\"data row0 col2\" >0.207468</td>\n",
       "      <td id=\"T_c3675_row0_col3\" class=\"data row0 col3\" >2.900000</td>\n",
       "      <td id=\"T_c3675_row0_col4\" class=\"data row0 col4\" >4.200000</td>\n",
       "      <td id=\"T_c3675_row0_col5\" class=\"data row0 col5\" >4.300000</td>\n",
       "      <td id=\"T_c3675_row0_col6\" class=\"data row0 col6\" >4.400000</td>\n",
       "      <td id=\"T_c3675_row0_col7\" class=\"data row0 col7\" >5.000000</td>\n",
       "    </tr>\n",
       "    <tr>\n",
       "      <th id=\"T_c3675_level0_row1\" class=\"row_heading level0 row1\" >price</th>\n",
       "      <td id=\"T_c3675_row1_col0\" class=\"data row1 col0\" >1983.000000</td>\n",
       "      <td id=\"T_c3675_row1_col1\" class=\"data row1 col1\" >17028.480585</td>\n",
       "      <td id=\"T_c3675_row1_col2\" class=\"data row1 col2\" >8620.669785</td>\n",
       "      <td id=\"T_c3675_row1_col3\" class=\"data row1 col3\" >73.000000</td>\n",
       "      <td id=\"T_c3675_row1_col4\" class=\"data row1 col4\" >10499.000000</td>\n",
       "      <td id=\"T_c3675_row1_col5\" class=\"data row1 col5\" >15337.000000</td>\n",
       "      <td id=\"T_c3675_row1_col6\" class=\"data row1 col6\" >23463.000000</td>\n",
       "      <td id=\"T_c3675_row1_col7\" class=\"data row1 col7\" >89999.000000</td>\n",
       "    </tr>\n",
       "    <tr>\n",
       "      <th id=\"T_c3675_level0_row2\" class=\"row_heading level0 row2\" >storage</th>\n",
       "      <td id=\"T_c3675_row2_col0\" class=\"data row2 col0\" >1983.000000</td>\n",
       "      <td id=\"T_c3675_row2_col1\" class=\"data row2 col1\" >123.997983</td>\n",
       "      <td id=\"T_c3675_row2_col2\" class=\"data row2 col2\" >91.562378</td>\n",
       "      <td id=\"T_c3675_row2_col3\" class=\"data row2 col3\" >16.000000</td>\n",
       "      <td id=\"T_c3675_row2_col4\" class=\"data row2 col4\" >64.000000</td>\n",
       "      <td id=\"T_c3675_row2_col5\" class=\"data row2 col5\" >128.000000</td>\n",
       "      <td id=\"T_c3675_row2_col6\" class=\"data row2 col6\" >128.000000</td>\n",
       "      <td id=\"T_c3675_row2_col7\" class=\"data row2 col7\" >512.000000</td>\n",
       "    </tr>\n",
       "    <tr>\n",
       "      <th id=\"T_c3675_level0_row3\" class=\"row_heading level0 row3\" >size</th>\n",
       "      <td id=\"T_c3675_row3_col0\" class=\"data row3 col0\" >1983.000000</td>\n",
       "      <td id=\"T_c3675_row3_col1\" class=\"data row3 col1\" >6.350378</td>\n",
       "      <td id=\"T_c3675_row3_col2\" class=\"data row3 col2\" >0.505907</td>\n",
       "      <td id=\"T_c3675_row3_col3\" class=\"data row3 col3\" >1.800000</td>\n",
       "      <td id=\"T_c3675_row3_col4\" class=\"data row3 col4\" >6.300000</td>\n",
       "      <td id=\"T_c3675_row3_col5\" class=\"data row3 col5\" >6.500000</td>\n",
       "      <td id=\"T_c3675_row3_col6\" class=\"data row3 col6\" >6.600000</td>\n",
       "      <td id=\"T_c3675_row3_col7\" class=\"data row3 col7\" >7.600000</td>\n",
       "    </tr>\n",
       "  </tbody>\n",
       "</table>\n"
      ],
      "text/plain": [
       "<pandas.io.formats.style.Styler at 0x7c52f839ef80>"
      ]
     },
     "execution_count": 10,
     "metadata": {},
     "output_type": "execute_result"
    }
   ],
   "source": [
    "numerical_summary = df.describe().transpose()\n",
    "palette = sns.color_palette(\"viridis\", as_cmap=True)\n",
    "numerical_summary.style.background_gradient(cmap=palette)"
   ]
  },
  {
   "cell_type": "markdown",
   "id": "e50ce599",
   "metadata": {
    "papermill": {
     "duration": 0.014427,
     "end_time": "2024-05-16T12:26:09.120416",
     "exception": false,
     "start_time": "2024-05-16T12:26:09.105989",
     "status": "completed"
    },
    "tags": []
   },
   "source": [
    "<a id=\"1\"></a>\n",
    "<div style=\"font-family: Cambria; font-weight: bold; letter-spacing: 0px; color: #ffffff; font-size: 120%; text-align: left; padding: 3px; background-color: #0000ff; border-bottom: 10px solid #80ffff;\">\n",
    "    Encoding\n",
    "</div>"
   ]
  },
  {
   "cell_type": "code",
   "execution_count": 11,
   "id": "cbe62cd1",
   "metadata": {
    "execution": {
     "iopub.execute_input": "2024-05-16T12:26:09.153058Z",
     "iopub.status.busy": "2024-05-16T12:26:09.152212Z",
     "iopub.status.idle": "2024-05-16T12:26:09.171220Z",
     "shell.execute_reply": "2024-05-16T12:26:09.169985Z"
    },
    "papermill": {
     "duration": 0.037376,
     "end_time": "2024-05-16T12:26:09.173426",
     "exception": false,
     "start_time": "2024-05-16T12:26:09.136050",
     "status": "completed"
    },
    "tags": []
   },
   "outputs": [
    {
     "data": {
      "text/html": [
       "<div>\n",
       "<style scoped>\n",
       "    .dataframe tbody tr th:only-of-type {\n",
       "        vertical-align: middle;\n",
       "    }\n",
       "\n",
       "    .dataframe tbody tr th {\n",
       "        vertical-align: top;\n",
       "    }\n",
       "\n",
       "    .dataframe thead th {\n",
       "        text-align: right;\n",
       "    }\n",
       "</style>\n",
       "<table border=\"1\" class=\"dataframe\">\n",
       "  <thead>\n",
       "    <tr style=\"text-align: right;\">\n",
       "      <th></th>\n",
       "      <th>brand</th>\n",
       "      <th>color</th>\n",
       "      <th>system</th>\n",
       "      <th>processor_type</th>\n",
       "      <th>resolution</th>\n",
       "    </tr>\n",
       "  </thead>\n",
       "  <tbody>\n",
       "    <tr>\n",
       "      <th>0</th>\n",
       "      <td>redmi</td>\n",
       "      <td>black</td>\n",
       "      <td>android</td>\n",
       "      <td>mediatek</td>\n",
       "      <td>Full HD</td>\n",
       "    </tr>\n",
       "    <tr>\n",
       "      <th>1</th>\n",
       "      <td>oppo</td>\n",
       "      <td>green</td>\n",
       "      <td>android</td>\n",
       "      <td>mediatek</td>\n",
       "      <td>Full HD</td>\n",
       "    </tr>\n",
       "    <tr>\n",
       "      <th>2</th>\n",
       "      <td>redmi</td>\n",
       "      <td>white</td>\n",
       "      <td>android</td>\n",
       "      <td>unknown</td>\n",
       "      <td>Full HD</td>\n",
       "    </tr>\n",
       "    <tr>\n",
       "      <th>3</th>\n",
       "      <td>oneplus</td>\n",
       "      <td>blue</td>\n",
       "      <td>android</td>\n",
       "      <td>qualcomm</td>\n",
       "      <td>Full HD</td>\n",
       "    </tr>\n",
       "    <tr>\n",
       "      <th>4</th>\n",
       "      <td>apple</td>\n",
       "      <td>blue</td>\n",
       "      <td>ios</td>\n",
       "      <td>apple</td>\n",
       "      <td>Full HD</td>\n",
       "    </tr>\n",
       "    <tr>\n",
       "      <th>...</th>\n",
       "      <td>...</td>\n",
       "      <td>...</td>\n",
       "      <td>...</td>\n",
       "      <td>...</td>\n",
       "      <td>...</td>\n",
       "    </tr>\n",
       "    <tr>\n",
       "      <th>1979</th>\n",
       "      <td>oneplus</td>\n",
       "      <td>blue</td>\n",
       "      <td>android</td>\n",
       "      <td>unknown</td>\n",
       "      <td>2K</td>\n",
       "    </tr>\n",
       "    <tr>\n",
       "      <th>1980</th>\n",
       "      <td>motorola</td>\n",
       "      <td>grey</td>\n",
       "      <td>android</td>\n",
       "      <td>mediatek</td>\n",
       "      <td>Full HD</td>\n",
       "    </tr>\n",
       "    <tr>\n",
       "      <th>1981</th>\n",
       "      <td>redmi</td>\n",
       "      <td>black</td>\n",
       "      <td>android</td>\n",
       "      <td>mediatek</td>\n",
       "      <td>Full HD</td>\n",
       "    </tr>\n",
       "    <tr>\n",
       "      <th>1982</th>\n",
       "      <td>oneplus</td>\n",
       "      <td>black</td>\n",
       "      <td>android</td>\n",
       "      <td>unknown</td>\n",
       "      <td>Full HD</td>\n",
       "    </tr>\n",
       "    <tr>\n",
       "      <th>1983</th>\n",
       "      <td>vivo</td>\n",
       "      <td>gold</td>\n",
       "      <td>android</td>\n",
       "      <td>mediatek</td>\n",
       "      <td>Full HD</td>\n",
       "    </tr>\n",
       "  </tbody>\n",
       "</table>\n",
       "<p>1983 rows × 5 columns</p>\n",
       "</div>"
      ],
      "text/plain": [
       "         brand  color   system processor_type resolution\n",
       "0        redmi  black  android       mediatek    Full HD\n",
       "1         oppo  green  android       mediatek    Full HD\n",
       "2        redmi  white  android        unknown    Full HD\n",
       "3      oneplus   blue  android       qualcomm    Full HD\n",
       "4        apple   blue      ios          apple    Full HD\n",
       "...        ...    ...      ...            ...        ...\n",
       "1979   oneplus   blue  android        unknown         2K\n",
       "1980  motorola   grey  android       mediatek    Full HD\n",
       "1981     redmi  black  android       mediatek    Full HD\n",
       "1982   oneplus  black  android        unknown    Full HD\n",
       "1983      vivo   gold  android       mediatek    Full HD\n",
       "\n",
       "[1983 rows x 5 columns]"
      ]
     },
     "execution_count": 11,
     "metadata": {},
     "output_type": "execute_result"
    }
   ],
   "source": [
    "drop_col=['imgURL','corpus','mobile_name']\n",
    "df.drop(drop_col,inplace=True,axis=1)\n",
    "object_columns = df.select_dtypes(include=['object']).columns\n",
    "df[object_columns]"
   ]
  },
  {
   "cell_type": "code",
   "execution_count": 12,
   "id": "0aeb436e",
   "metadata": {
    "execution": {
     "iopub.execute_input": "2024-05-16T12:26:09.264975Z",
     "iopub.status.busy": "2024-05-16T12:26:09.264174Z",
     "iopub.status.idle": "2024-05-16T12:26:09.277314Z",
     "shell.execute_reply": "2024-05-16T12:26:09.276232Z"
    },
    "papermill": {
     "duration": 0.032387,
     "end_time": "2024-05-16T12:26:09.279690",
     "exception": false,
     "start_time": "2024-05-16T12:26:09.247303",
     "status": "completed"
    },
    "tags": []
   },
   "outputs": [
    {
     "data": {
      "text/html": [
       "<div>\n",
       "<style scoped>\n",
       "    .dataframe tbody tr th:only-of-type {\n",
       "        vertical-align: middle;\n",
       "    }\n",
       "\n",
       "    .dataframe tbody tr th {\n",
       "        vertical-align: top;\n",
       "    }\n",
       "\n",
       "    .dataframe thead th {\n",
       "        text-align: right;\n",
       "    }\n",
       "</style>\n",
       "<table border=\"1\" class=\"dataframe\">\n",
       "  <thead>\n",
       "    <tr style=\"text-align: right;\">\n",
       "      <th></th>\n",
       "      <th>brand</th>\n",
       "      <th>color</th>\n",
       "      <th>system</th>\n",
       "      <th>processor_type</th>\n",
       "      <th>resolution</th>\n",
       "    </tr>\n",
       "  </thead>\n",
       "  <tbody>\n",
       "    <tr>\n",
       "      <th>0</th>\n",
       "      <td>redmi</td>\n",
       "      <td>black</td>\n",
       "      <td>android</td>\n",
       "      <td>mediatek</td>\n",
       "      <td>Full HD</td>\n",
       "    </tr>\n",
       "    <tr>\n",
       "      <th>1</th>\n",
       "      <td>oppo</td>\n",
       "      <td>green</td>\n",
       "      <td>android</td>\n",
       "      <td>mediatek</td>\n",
       "      <td>Full HD</td>\n",
       "    </tr>\n",
       "    <tr>\n",
       "      <th>2</th>\n",
       "      <td>redmi</td>\n",
       "      <td>white</td>\n",
       "      <td>android</td>\n",
       "      <td>unknown</td>\n",
       "      <td>Full HD</td>\n",
       "    </tr>\n",
       "    <tr>\n",
       "      <th>3</th>\n",
       "      <td>oneplus</td>\n",
       "      <td>blue</td>\n",
       "      <td>android</td>\n",
       "      <td>qualcomm</td>\n",
       "      <td>Full HD</td>\n",
       "    </tr>\n",
       "    <tr>\n",
       "      <th>4</th>\n",
       "      <td>apple</td>\n",
       "      <td>blue</td>\n",
       "      <td>ios</td>\n",
       "      <td>apple</td>\n",
       "      <td>Full HD</td>\n",
       "    </tr>\n",
       "    <tr>\n",
       "      <th>...</th>\n",
       "      <td>...</td>\n",
       "      <td>...</td>\n",
       "      <td>...</td>\n",
       "      <td>...</td>\n",
       "      <td>...</td>\n",
       "    </tr>\n",
       "    <tr>\n",
       "      <th>1979</th>\n",
       "      <td>oneplus</td>\n",
       "      <td>blue</td>\n",
       "      <td>android</td>\n",
       "      <td>unknown</td>\n",
       "      <td>2K</td>\n",
       "    </tr>\n",
       "    <tr>\n",
       "      <th>1980</th>\n",
       "      <td>motorola</td>\n",
       "      <td>grey</td>\n",
       "      <td>android</td>\n",
       "      <td>mediatek</td>\n",
       "      <td>Full HD</td>\n",
       "    </tr>\n",
       "    <tr>\n",
       "      <th>1981</th>\n",
       "      <td>redmi</td>\n",
       "      <td>black</td>\n",
       "      <td>android</td>\n",
       "      <td>mediatek</td>\n",
       "      <td>Full HD</td>\n",
       "    </tr>\n",
       "    <tr>\n",
       "      <th>1982</th>\n",
       "      <td>oneplus</td>\n",
       "      <td>black</td>\n",
       "      <td>android</td>\n",
       "      <td>unknown</td>\n",
       "      <td>Full HD</td>\n",
       "    </tr>\n",
       "    <tr>\n",
       "      <th>1983</th>\n",
       "      <td>vivo</td>\n",
       "      <td>gold</td>\n",
       "      <td>android</td>\n",
       "      <td>mediatek</td>\n",
       "      <td>Full HD</td>\n",
       "    </tr>\n",
       "  </tbody>\n",
       "</table>\n",
       "<p>1983 rows × 5 columns</p>\n",
       "</div>"
      ],
      "text/plain": [
       "         brand  color   system processor_type resolution\n",
       "0        redmi  black  android       mediatek    Full HD\n",
       "1         oppo  green  android       mediatek    Full HD\n",
       "2        redmi  white  android        unknown    Full HD\n",
       "3      oneplus   blue  android       qualcomm    Full HD\n",
       "4        apple   blue      ios          apple    Full HD\n",
       "...        ...    ...      ...            ...        ...\n",
       "1979   oneplus   blue  android        unknown         2K\n",
       "1980  motorola   grey  android       mediatek    Full HD\n",
       "1981     redmi  black  android       mediatek    Full HD\n",
       "1982   oneplus  black  android        unknown    Full HD\n",
       "1983      vivo   gold  android       mediatek    Full HD\n",
       "\n",
       "[1983 rows x 5 columns]"
      ]
     },
     "execution_count": 12,
     "metadata": {},
     "output_type": "execute_result"
    }
   ],
   "source": [
    "df[object_columns]"
   ]
  },
  {
   "cell_type": "code",
   "execution_count": 13,
   "id": "4b1496c3",
   "metadata": {
    "execution": {
     "iopub.execute_input": "2024-05-16T12:26:09.312460Z",
     "iopub.status.busy": "2024-05-16T12:26:09.312052Z",
     "iopub.status.idle": "2024-05-16T12:26:09.320916Z",
     "shell.execute_reply": "2024-05-16T12:26:09.319380Z"
    },
    "papermill": {
     "duration": 0.028393,
     "end_time": "2024-05-16T12:26:09.323498",
     "exception": false,
     "start_time": "2024-05-16T12:26:09.295105",
     "status": "completed"
    },
    "tags": []
   },
   "outputs": [
    {
     "name": "stdout",
     "output_type": "stream",
     "text": [
      "Unique values in 'brand':\n",
      "['redmi' 'oppo' 'oneplus' 'apple' 'infinix' 'samsung' 'vivo' 'motorola'\n",
      " 'realme' 'mi' 'tecno' 'xiaomi']\n",
      "\n",
      "Unique values in 'color':\n",
      "['black' 'green' 'white' 'blue' 'gold' 'purple' 'red' 'grey' 'silver']\n",
      "\n",
      "Unique values in 'system':\n",
      "['android' 'ios']\n",
      "\n",
      "Unique values in 'processor_type':\n",
      "['mediatek' 'unknown' 'qualcomm' 'apple' 'unisoc' 'samsung']\n",
      "\n",
      "Unique values in 'resolution':\n",
      "['Full HD' '4K' 'HD' '2K']\n",
      "\n"
     ]
    }
   ],
   "source": [
    "for column in object_columns:\n",
    "    unique_values = df[column].unique()\n",
    "    print(f\"Unique values in '{column}':\")\n",
    "    print(unique_values)\n",
    "    print()"
   ]
  },
  {
   "cell_type": "markdown",
   "id": "b4c66fdb",
   "metadata": {
    "papermill": {
     "duration": 0.015961,
     "end_time": "2024-05-16T12:26:09.355459",
     "exception": false,
     "start_time": "2024-05-16T12:26:09.339498",
     "status": "completed"
    },
    "tags": []
   },
   "source": [
    "# One-Hot encoding"
   ]
  },
  {
   "cell_type": "code",
   "execution_count": 14,
   "id": "561debfa",
   "metadata": {
    "execution": {
     "iopub.execute_input": "2024-05-16T12:26:09.388799Z",
     "iopub.status.busy": "2024-05-16T12:26:09.387504Z",
     "iopub.status.idle": "2024-05-16T12:26:09.400030Z",
     "shell.execute_reply": "2024-05-16T12:26:09.398601Z"
    },
    "papermill": {
     "duration": 0.031881,
     "end_time": "2024-05-16T12:26:09.402813",
     "exception": false,
     "start_time": "2024-05-16T12:26:09.370932",
     "status": "completed"
    },
    "tags": []
   },
   "outputs": [],
   "source": [
    "df1 = pd.get_dummies(df, columns=object_columns)"
   ]
  },
  {
   "cell_type": "code",
   "execution_count": 15,
   "id": "53b66217",
   "metadata": {
    "execution": {
     "iopub.execute_input": "2024-05-16T12:26:09.436470Z",
     "iopub.status.busy": "2024-05-16T12:26:09.435989Z",
     "iopub.status.idle": "2024-05-16T12:26:09.467524Z",
     "shell.execute_reply": "2024-05-16T12:26:09.466336Z"
    },
    "papermill": {
     "duration": 0.05115,
     "end_time": "2024-05-16T12:26:09.470200",
     "exception": false,
     "start_time": "2024-05-16T12:26:09.419050",
     "status": "completed"
    },
    "tags": []
   },
   "outputs": [
    {
     "data": {
      "text/html": [
       "<div>\n",
       "<style scoped>\n",
       "    .dataframe tbody tr th:only-of-type {\n",
       "        vertical-align: middle;\n",
       "    }\n",
       "\n",
       "    .dataframe tbody tr th {\n",
       "        vertical-align: top;\n",
       "    }\n",
       "\n",
       "    .dataframe thead th {\n",
       "        text-align: right;\n",
       "    }\n",
       "</style>\n",
       "<table border=\"1\" class=\"dataframe\">\n",
       "  <thead>\n",
       "    <tr style=\"text-align: right;\">\n",
       "      <th></th>\n",
       "      <th>ratings</th>\n",
       "      <th>price</th>\n",
       "      <th>storage</th>\n",
       "      <th>size</th>\n",
       "      <th>brand_apple</th>\n",
       "      <th>brand_infinix</th>\n",
       "      <th>brand_mi</th>\n",
       "      <th>brand_motorola</th>\n",
       "      <th>brand_oneplus</th>\n",
       "      <th>brand_oppo</th>\n",
       "      <th>...</th>\n",
       "      <th>processor_type_apple</th>\n",
       "      <th>processor_type_mediatek</th>\n",
       "      <th>processor_type_qualcomm</th>\n",
       "      <th>processor_type_samsung</th>\n",
       "      <th>processor_type_unisoc</th>\n",
       "      <th>processor_type_unknown</th>\n",
       "      <th>resolution_2K</th>\n",
       "      <th>resolution_4K</th>\n",
       "      <th>resolution_Full HD</th>\n",
       "      <th>resolution_HD</th>\n",
       "    </tr>\n",
       "  </thead>\n",
       "  <tbody>\n",
       "    <tr>\n",
       "      <th>0</th>\n",
       "      <td>4.2</td>\n",
       "      <td>23999</td>\n",
       "      <td>128</td>\n",
       "      <td>6.7</td>\n",
       "      <td>False</td>\n",
       "      <td>False</td>\n",
       "      <td>False</td>\n",
       "      <td>False</td>\n",
       "      <td>False</td>\n",
       "      <td>False</td>\n",
       "      <td>...</td>\n",
       "      <td>False</td>\n",
       "      <td>True</td>\n",
       "      <td>False</td>\n",
       "      <td>False</td>\n",
       "      <td>False</td>\n",
       "      <td>False</td>\n",
       "      <td>False</td>\n",
       "      <td>False</td>\n",
       "      <td>True</td>\n",
       "      <td>False</td>\n",
       "    </tr>\n",
       "    <tr>\n",
       "      <th>1</th>\n",
       "      <td>4.5</td>\n",
       "      <td>20999</td>\n",
       "      <td>128</td>\n",
       "      <td>6.5</td>\n",
       "      <td>False</td>\n",
       "      <td>False</td>\n",
       "      <td>False</td>\n",
       "      <td>False</td>\n",
       "      <td>False</td>\n",
       "      <td>True</td>\n",
       "      <td>...</td>\n",
       "      <td>False</td>\n",
       "      <td>True</td>\n",
       "      <td>False</td>\n",
       "      <td>False</td>\n",
       "      <td>False</td>\n",
       "      <td>False</td>\n",
       "      <td>False</td>\n",
       "      <td>False</td>\n",
       "      <td>True</td>\n",
       "      <td>False</td>\n",
       "    </tr>\n",
       "    <tr>\n",
       "      <th>2</th>\n",
       "      <td>4.2</td>\n",
       "      <td>13149</td>\n",
       "      <td>64</td>\n",
       "      <td>6.4</td>\n",
       "      <td>False</td>\n",
       "      <td>False</td>\n",
       "      <td>False</td>\n",
       "      <td>False</td>\n",
       "      <td>False</td>\n",
       "      <td>False</td>\n",
       "      <td>...</td>\n",
       "      <td>False</td>\n",
       "      <td>False</td>\n",
       "      <td>False</td>\n",
       "      <td>False</td>\n",
       "      <td>False</td>\n",
       "      <td>True</td>\n",
       "      <td>False</td>\n",
       "      <td>False</td>\n",
       "      <td>True</td>\n",
       "      <td>False</td>\n",
       "    </tr>\n",
       "    <tr>\n",
       "      <th>3</th>\n",
       "      <td>4.1</td>\n",
       "      <td>21999</td>\n",
       "      <td>256</td>\n",
       "      <td>6.4</td>\n",
       "      <td>False</td>\n",
       "      <td>False</td>\n",
       "      <td>False</td>\n",
       "      <td>False</td>\n",
       "      <td>True</td>\n",
       "      <td>False</td>\n",
       "      <td>...</td>\n",
       "      <td>False</td>\n",
       "      <td>False</td>\n",
       "      <td>True</td>\n",
       "      <td>False</td>\n",
       "      <td>False</td>\n",
       "      <td>False</td>\n",
       "      <td>False</td>\n",
       "      <td>False</td>\n",
       "      <td>True</td>\n",
       "      <td>False</td>\n",
       "    </tr>\n",
       "    <tr>\n",
       "      <th>4</th>\n",
       "      <td>4.6</td>\n",
       "      <td>3537</td>\n",
       "      <td>128</td>\n",
       "      <td>5.4</td>\n",
       "      <td>True</td>\n",
       "      <td>False</td>\n",
       "      <td>False</td>\n",
       "      <td>False</td>\n",
       "      <td>False</td>\n",
       "      <td>False</td>\n",
       "      <td>...</td>\n",
       "      <td>True</td>\n",
       "      <td>False</td>\n",
       "      <td>False</td>\n",
       "      <td>False</td>\n",
       "      <td>False</td>\n",
       "      <td>False</td>\n",
       "      <td>False</td>\n",
       "      <td>False</td>\n",
       "      <td>True</td>\n",
       "      <td>False</td>\n",
       "    </tr>\n",
       "    <tr>\n",
       "      <th>...</th>\n",
       "      <td>...</td>\n",
       "      <td>...</td>\n",
       "      <td>...</td>\n",
       "      <td>...</td>\n",
       "      <td>...</td>\n",
       "      <td>...</td>\n",
       "      <td>...</td>\n",
       "      <td>...</td>\n",
       "      <td>...</td>\n",
       "      <td>...</td>\n",
       "      <td>...</td>\n",
       "      <td>...</td>\n",
       "      <td>...</td>\n",
       "      <td>...</td>\n",
       "      <td>...</td>\n",
       "      <td>...</td>\n",
       "      <td>...</td>\n",
       "      <td>...</td>\n",
       "      <td>...</td>\n",
       "      <td>...</td>\n",
       "      <td>...</td>\n",
       "    </tr>\n",
       "    <tr>\n",
       "      <th>1979</th>\n",
       "      <td>4.2</td>\n",
       "      <td>29999</td>\n",
       "      <td>256</td>\n",
       "      <td>6.7</td>\n",
       "      <td>False</td>\n",
       "      <td>False</td>\n",
       "      <td>False</td>\n",
       "      <td>False</td>\n",
       "      <td>True</td>\n",
       "      <td>False</td>\n",
       "      <td>...</td>\n",
       "      <td>False</td>\n",
       "      <td>False</td>\n",
       "      <td>False</td>\n",
       "      <td>False</td>\n",
       "      <td>False</td>\n",
       "      <td>True</td>\n",
       "      <td>True</td>\n",
       "      <td>False</td>\n",
       "      <td>False</td>\n",
       "      <td>False</td>\n",
       "    </tr>\n",
       "    <tr>\n",
       "      <th>1980</th>\n",
       "      <td>4.1</td>\n",
       "      <td>15999</td>\n",
       "      <td>128</td>\n",
       "      <td>6.5</td>\n",
       "      <td>False</td>\n",
       "      <td>False</td>\n",
       "      <td>False</td>\n",
       "      <td>True</td>\n",
       "      <td>False</td>\n",
       "      <td>False</td>\n",
       "      <td>...</td>\n",
       "      <td>False</td>\n",
       "      <td>True</td>\n",
       "      <td>False</td>\n",
       "      <td>False</td>\n",
       "      <td>False</td>\n",
       "      <td>False</td>\n",
       "      <td>False</td>\n",
       "      <td>False</td>\n",
       "      <td>True</td>\n",
       "      <td>False</td>\n",
       "    </tr>\n",
       "    <tr>\n",
       "      <th>1981</th>\n",
       "      <td>4.3</td>\n",
       "      <td>11999</td>\n",
       "      <td>64</td>\n",
       "      <td>6.5</td>\n",
       "      <td>False</td>\n",
       "      <td>False</td>\n",
       "      <td>False</td>\n",
       "      <td>False</td>\n",
       "      <td>False</td>\n",
       "      <td>False</td>\n",
       "      <td>...</td>\n",
       "      <td>False</td>\n",
       "      <td>True</td>\n",
       "      <td>False</td>\n",
       "      <td>False</td>\n",
       "      <td>False</td>\n",
       "      <td>False</td>\n",
       "      <td>False</td>\n",
       "      <td>False</td>\n",
       "      <td>True</td>\n",
       "      <td>False</td>\n",
       "    </tr>\n",
       "    <tr>\n",
       "      <th>1982</th>\n",
       "      <td>3.9</td>\n",
       "      <td>30203</td>\n",
       "      <td>128</td>\n",
       "      <td>6.5</td>\n",
       "      <td>False</td>\n",
       "      <td>False</td>\n",
       "      <td>False</td>\n",
       "      <td>False</td>\n",
       "      <td>True</td>\n",
       "      <td>False</td>\n",
       "      <td>...</td>\n",
       "      <td>False</td>\n",
       "      <td>False</td>\n",
       "      <td>False</td>\n",
       "      <td>False</td>\n",
       "      <td>False</td>\n",
       "      <td>True</td>\n",
       "      <td>False</td>\n",
       "      <td>False</td>\n",
       "      <td>True</td>\n",
       "      <td>False</td>\n",
       "    </tr>\n",
       "    <tr>\n",
       "      <th>1983</th>\n",
       "      <td>4.4</td>\n",
       "      <td>13999</td>\n",
       "      <td>128</td>\n",
       "      <td>6.6</td>\n",
       "      <td>False</td>\n",
       "      <td>False</td>\n",
       "      <td>False</td>\n",
       "      <td>False</td>\n",
       "      <td>False</td>\n",
       "      <td>False</td>\n",
       "      <td>...</td>\n",
       "      <td>False</td>\n",
       "      <td>True</td>\n",
       "      <td>False</td>\n",
       "      <td>False</td>\n",
       "      <td>False</td>\n",
       "      <td>False</td>\n",
       "      <td>False</td>\n",
       "      <td>False</td>\n",
       "      <td>True</td>\n",
       "      <td>False</td>\n",
       "    </tr>\n",
       "  </tbody>\n",
       "</table>\n",
       "<p>1983 rows × 37 columns</p>\n",
       "</div>"
      ],
      "text/plain": [
       "      ratings  price  storage  size  brand_apple  brand_infinix  brand_mi  \\\n",
       "0         4.2  23999      128   6.7        False          False     False   \n",
       "1         4.5  20999      128   6.5        False          False     False   \n",
       "2         4.2  13149       64   6.4        False          False     False   \n",
       "3         4.1  21999      256   6.4        False          False     False   \n",
       "4         4.6   3537      128   5.4         True          False     False   \n",
       "...       ...    ...      ...   ...          ...            ...       ...   \n",
       "1979      4.2  29999      256   6.7        False          False     False   \n",
       "1980      4.1  15999      128   6.5        False          False     False   \n",
       "1981      4.3  11999       64   6.5        False          False     False   \n",
       "1982      3.9  30203      128   6.5        False          False     False   \n",
       "1983      4.4  13999      128   6.6        False          False     False   \n",
       "\n",
       "      brand_motorola  brand_oneplus  brand_oppo  ...  processor_type_apple  \\\n",
       "0              False          False       False  ...                 False   \n",
       "1              False          False        True  ...                 False   \n",
       "2              False          False       False  ...                 False   \n",
       "3              False           True       False  ...                 False   \n",
       "4              False          False       False  ...                  True   \n",
       "...              ...            ...         ...  ...                   ...   \n",
       "1979           False           True       False  ...                 False   \n",
       "1980            True          False       False  ...                 False   \n",
       "1981           False          False       False  ...                 False   \n",
       "1982           False           True       False  ...                 False   \n",
       "1983           False          False       False  ...                 False   \n",
       "\n",
       "      processor_type_mediatek  processor_type_qualcomm  \\\n",
       "0                        True                    False   \n",
       "1                        True                    False   \n",
       "2                       False                    False   \n",
       "3                       False                     True   \n",
       "4                       False                    False   \n",
       "...                       ...                      ...   \n",
       "1979                    False                    False   \n",
       "1980                     True                    False   \n",
       "1981                     True                    False   \n",
       "1982                    False                    False   \n",
       "1983                     True                    False   \n",
       "\n",
       "      processor_type_samsung  processor_type_unisoc  processor_type_unknown  \\\n",
       "0                      False                  False                   False   \n",
       "1                      False                  False                   False   \n",
       "2                      False                  False                    True   \n",
       "3                      False                  False                   False   \n",
       "4                      False                  False                   False   \n",
       "...                      ...                    ...                     ...   \n",
       "1979                   False                  False                    True   \n",
       "1980                   False                  False                   False   \n",
       "1981                   False                  False                   False   \n",
       "1982                   False                  False                    True   \n",
       "1983                   False                  False                   False   \n",
       "\n",
       "      resolution_2K  resolution_4K  resolution_Full HD  resolution_HD  \n",
       "0             False          False                True          False  \n",
       "1             False          False                True          False  \n",
       "2             False          False                True          False  \n",
       "3             False          False                True          False  \n",
       "4             False          False                True          False  \n",
       "...             ...            ...                 ...            ...  \n",
       "1979           True          False               False          False  \n",
       "1980          False          False                True          False  \n",
       "1981          False          False                True          False  \n",
       "1982          False          False                True          False  \n",
       "1983          False          False                True          False  \n",
       "\n",
       "[1983 rows x 37 columns]"
      ]
     },
     "execution_count": 15,
     "metadata": {},
     "output_type": "execute_result"
    }
   ],
   "source": [
    "df1"
   ]
  },
  {
   "cell_type": "code",
   "execution_count": 16,
   "id": "b5f76cc9",
   "metadata": {
    "execution": {
     "iopub.execute_input": "2024-05-16T12:26:09.505543Z",
     "iopub.status.busy": "2024-05-16T12:26:09.505098Z",
     "iopub.status.idle": "2024-05-16T12:26:09.512871Z",
     "shell.execute_reply": "2024-05-16T12:26:09.511511Z"
    },
    "papermill": {
     "duration": 0.028301,
     "end_time": "2024-05-16T12:26:09.515145",
     "exception": false,
     "start_time": "2024-05-16T12:26:09.486844",
     "status": "completed"
    },
    "tags": []
   },
   "outputs": [
    {
     "data": {
      "text/plain": [
       "(1983, 37)"
      ]
     },
     "execution_count": 16,
     "metadata": {},
     "output_type": "execute_result"
    }
   ],
   "source": [
    "df1.shape"
   ]
  },
  {
   "cell_type": "markdown",
   "id": "11451134",
   "metadata": {
    "papermill": {
     "duration": 0.016201,
     "end_time": "2024-05-16T12:26:09.548647",
     "exception": false,
     "start_time": "2024-05-16T12:26:09.532446",
     "status": "completed"
    },
    "tags": []
   },
   "source": [
    "<a id=\"1\"></a>\n",
    "<div style=\"font-family: Cambria; font-weight: bold; letter-spacing: 0px; color: #ffffff; font-size: 120%; text-align: left; padding: 3px; background-color: #0000ff; border-bottom: 10px solid #80ffff;\">\n",
    "    EDA\n",
    "</div>"
   ]
  },
  {
   "cell_type": "code",
   "execution_count": 17,
   "id": "567c7b12",
   "metadata": {
    "execution": {
     "iopub.execute_input": "2024-05-16T12:26:09.587558Z",
     "iopub.status.busy": "2024-05-16T12:26:09.586774Z",
     "iopub.status.idle": "2024-05-16T12:26:10.456202Z",
     "shell.execute_reply": "2024-05-16T12:26:10.454734Z"
    },
    "papermill": {
     "duration": 0.893874,
     "end_time": "2024-05-16T12:26:10.460729",
     "exception": false,
     "start_time": "2024-05-16T12:26:09.566855",
     "status": "completed"
    },
    "tags": []
   },
   "outputs": [
    {
     "data": {
      "text/plain": [
       "<Axes: >"
      ]
     },
     "execution_count": 17,
     "metadata": {},
     "output_type": "execute_result"
    },
    {
     "data": {
      "image/png": "[encoded data removed]",
      "text/plain": [
       "<Figure size 640x480 with 1 Axes>"
      ]
     },
     "metadata": {},
     "output_type": "display_data"
    }
   ],
   "source": [
    "sns.boxplot(df1)"
   ]
  },
  {
   "cell_type": "code",
   "execution_count": 18,
   "id": "8b7d1df6",
   "metadata": {
    "execution": {
     "iopub.execute_input": "2024-05-16T12:26:10.499632Z",
     "iopub.status.busy": "2024-05-16T12:26:10.499251Z",
     "iopub.status.idle": "2024-05-16T12:26:13.678238Z",
     "shell.execute_reply": "2024-05-16T12:26:13.676946Z"
    },
    "papermill": {
     "duration": 3.200681,
     "end_time": "2024-05-16T12:26:13.680754",
     "exception": false,
     "start_time": "2024-05-16T12:26:10.480073",
     "status": "completed"
    },
    "tags": []
   },
   "outputs": [
    {
     "data": {
      "image/png": "[encoded data removed]",
      "text/plain": [
       "<Figure size 1800x400 with 3 Axes>"
      ]
     },
     "metadata": {},
     "output_type": "display_data"
    },
    {
     "data": {
      "image/png": "[encoded data removed]",
      "text/plain": [
       "<Figure size 1800x400 with 3 Axes>"
      ]
     },
     "metadata": {},
     "output_type": "display_data"
    },
    {
     "data": {
      "image/png": "[encoded data removed]",
      "text/plain": [
       "<Figure size 1800x400 with 3 Axes>"
      ]
     },
     "metadata": {},
     "output_type": "display_data"
    },
    {
     "data": {
      "image/png": "[encoded data removed]",
      "text/plain": [
       "<Figure size 1800x400 with 3 Axes>"
      ]
     },
     "metadata": {},
     "output_type": "display_data"
    }
   ],
   "source": [
    "import matplotlib.pyplot as plt\n",
    "import numpy as np\n",
    "non_boolean_numerical_features = ['ratings', 'price', 'storage', 'size']\n",
    "\n",
    "# Get all boolean columns\n",
    "boolean_columns = df.select_dtypes(include=['bool']).columns.tolist()\n",
    "\n",
    "# Filter out non-boolean numerical features\n",
    "boolean_features_except_numerical = [col for col in boolean_columns if col not in non_boolean_numerical_features]\n",
    "# Visualize the distributions and box plots for numerical features, including log-transformed versions for skewed data\n",
    "for column in non_boolean_numerical_features:\n",
    "    fig, (ax1, ax2, ax3) = plt.subplots(1, 3, figsize=(18, 4))\n",
    "\n",
    "    # Histogram for the distribution\n",
    "    sns.histplot(df1[column], kde=False, color='skyblue', ax=ax1)\n",
    "    ax1.set_title(f'Distribution of {column}')\n",
    "    ax1.set_ylabel('Frequency')\n",
    "\n",
    "    # Boxplot for the variable\n",
    "    sns.boxplot(x=df1[column], color='lightgreen', ax=ax2)\n",
    "    ax2.set_title(f'Boxplot of {column}')\n",
    "\n",
    "    # Log transformation and plot if the data is skewed\n",
    "    if df1[column].skew() > 1:\n",
    "        df1[column+'_log'] = np.log1p(df1[column])\n",
    "        sns.histplot(df1[column+'_log'], kde=False, color='orange', ax=ax3)\n",
    "        ax3.set_title(f'Log-transformed Distribution of {column}')\n",
    "    else:\n",
    "        ax3.set_title(f'Log-transformed plot not necessary for {column}')\n",
    "        ax3.axis('off')\n",
    "\n",
    "    plt.tight_layout()\n",
    "    plt.show()\n"
   ]
  },
  {
   "cell_type": "markdown",
   "id": "3e89a7fe",
   "metadata": {
    "papermill": {
     "duration": 0.021503,
     "end_time": "2024-05-16T12:26:13.721143",
     "exception": false,
     "start_time": "2024-05-16T12:26:13.699640",
     "status": "completed"
    },
    "tags": []
   },
   "source": [
    "<div style=\"background-color: #ff0000; padding: 20px; border-radius: 10px;\">\n",
    "    <h1 style=\"text-align: left; font-size: 15px;\"> we can not consider these outlier for above feature because according to the daomain knowledge it there can be values ike this. </h1>\n",
    "</div>"
   ]
  },
  {
   "cell_type": "markdown",
   "id": "9097561d",
   "metadata": {
    "papermill": {
     "duration": 0.018497,
     "end_time": "2024-05-16T12:26:13.758383",
     "exception": false,
     "start_time": "2024-05-16T12:26:13.739886",
     "status": "completed"
    },
    "tags": []
   },
   "source": [
    "<a id=\"1\"></a>\n",
    "<div style=\"font-family: Cambria; font-weight: bold; letter-spacing: 0px; color: #ffffff; font-size: 120%; text-align: left; padding: 3px; background-color: #0000ff; border-bottom: 10px solid #80ffff;\">\n",
    "    Feature Scaling\n",
    "</div>"
   ]
  },
  {
   "cell_type": "code",
   "execution_count": 19,
   "id": "90c05e21",
   "metadata": {
    "execution": {
     "iopub.execute_input": "2024-05-16T12:26:13.798964Z",
     "iopub.status.busy": "2024-05-16T12:26:13.797867Z",
     "iopub.status.idle": "2024-05-16T12:26:13.809545Z",
     "shell.execute_reply": "2024-05-16T12:26:13.808289Z"
    },
    "papermill": {
     "duration": 0.035089,
     "end_time": "2024-05-16T12:26:13.812323",
     "exception": false,
     "start_time": "2024-05-16T12:26:13.777234",
     "status": "completed"
    },
    "tags": []
   },
   "outputs": [],
   "source": [
    "from sklearn.preprocessing import MinMaxScaler\n",
    "non_boolean_numerical_features = ['ratings', 'price', 'storage', 'size']\n",
    "scaler = MinMaxScaler()\n",
    "df1[non_boolean_numerical_features] = scaler.fit_transform(df1[non_boolean_numerical_features])\n"
   ]
  },
  {
   "cell_type": "code",
   "execution_count": 20,
   "id": "fe87e28b",
   "metadata": {
    "execution": {
     "iopub.execute_input": "2024-05-16T12:26:13.851721Z",
     "iopub.status.busy": "2024-05-16T12:26:13.851291Z",
     "iopub.status.idle": "2024-05-16T12:26:13.881007Z",
     "shell.execute_reply": "2024-05-16T12:26:13.879703Z"
    },
    "papermill": {
     "duration": 0.052177,
     "end_time": "2024-05-16T12:26:13.883305",
     "exception": false,
     "start_time": "2024-05-16T12:26:13.831128",
     "status": "completed"
    },
    "tags": []
   },
   "outputs": [
    {
     "data": {
      "text/html": [
       "<div>\n",
       "<style scoped>\n",
       "    .dataframe tbody tr th:only-of-type {\n",
       "        vertical-align: middle;\n",
       "    }\n",
       "\n",
       "    .dataframe tbody tr th {\n",
       "        vertical-align: top;\n",
       "    }\n",
       "\n",
       "    .dataframe thead th {\n",
       "        text-align: right;\n",
       "    }\n",
       "</style>\n",
       "<table border=\"1\" class=\"dataframe\">\n",
       "  <thead>\n",
       "    <tr style=\"text-align: right;\">\n",
       "      <th></th>\n",
       "      <th>ratings</th>\n",
       "      <th>price</th>\n",
       "      <th>storage</th>\n",
       "      <th>size</th>\n",
       "      <th>brand_apple</th>\n",
       "      <th>brand_infinix</th>\n",
       "      <th>brand_mi</th>\n",
       "      <th>brand_motorola</th>\n",
       "      <th>brand_oneplus</th>\n",
       "      <th>brand_oppo</th>\n",
       "      <th>...</th>\n",
       "      <th>processor_type_qualcomm</th>\n",
       "      <th>processor_type_samsung</th>\n",
       "      <th>processor_type_unisoc</th>\n",
       "      <th>processor_type_unknown</th>\n",
       "      <th>resolution_2K</th>\n",
       "      <th>resolution_4K</th>\n",
       "      <th>resolution_Full HD</th>\n",
       "      <th>resolution_HD</th>\n",
       "      <th>price_log</th>\n",
       "      <th>storage_log</th>\n",
       "    </tr>\n",
       "  </thead>\n",
       "  <tbody>\n",
       "    <tr>\n",
       "      <th>0</th>\n",
       "      <td>0.619048</td>\n",
       "      <td>0.266063</td>\n",
       "      <td>0.225806</td>\n",
       "      <td>0.844828</td>\n",
       "      <td>False</td>\n",
       "      <td>False</td>\n",
       "      <td>False</td>\n",
       "      <td>False</td>\n",
       "      <td>False</td>\n",
       "      <td>False</td>\n",
       "      <td>...</td>\n",
       "      <td>False</td>\n",
       "      <td>False</td>\n",
       "      <td>False</td>\n",
       "      <td>False</td>\n",
       "      <td>False</td>\n",
       "      <td>False</td>\n",
       "      <td>True</td>\n",
       "      <td>False</td>\n",
       "      <td>10.085809</td>\n",
       "      <td>4.859812</td>\n",
       "    </tr>\n",
       "    <tr>\n",
       "      <th>1</th>\n",
       "      <td>0.761905</td>\n",
       "      <td>0.232702</td>\n",
       "      <td>0.225806</td>\n",
       "      <td>0.810345</td>\n",
       "      <td>False</td>\n",
       "      <td>False</td>\n",
       "      <td>False</td>\n",
       "      <td>False</td>\n",
       "      <td>False</td>\n",
       "      <td>True</td>\n",
       "      <td>...</td>\n",
       "      <td>False</td>\n",
       "      <td>False</td>\n",
       "      <td>False</td>\n",
       "      <td>False</td>\n",
       "      <td>False</td>\n",
       "      <td>False</td>\n",
       "      <td>True</td>\n",
       "      <td>False</td>\n",
       "      <td>9.952278</td>\n",
       "      <td>4.859812</td>\n",
       "    </tr>\n",
       "    <tr>\n",
       "      <th>2</th>\n",
       "      <td>0.619048</td>\n",
       "      <td>0.145408</td>\n",
       "      <td>0.096774</td>\n",
       "      <td>0.793103</td>\n",
       "      <td>False</td>\n",
       "      <td>False</td>\n",
       "      <td>False</td>\n",
       "      <td>False</td>\n",
       "      <td>False</td>\n",
       "      <td>False</td>\n",
       "      <td>...</td>\n",
       "      <td>False</td>\n",
       "      <td>False</td>\n",
       "      <td>False</td>\n",
       "      <td>True</td>\n",
       "      <td>False</td>\n",
       "      <td>False</td>\n",
       "      <td>True</td>\n",
       "      <td>False</td>\n",
       "      <td>9.484177</td>\n",
       "      <td>4.174387</td>\n",
       "    </tr>\n",
       "    <tr>\n",
       "      <th>3</th>\n",
       "      <td>0.571429</td>\n",
       "      <td>0.243823</td>\n",
       "      <td>0.483871</td>\n",
       "      <td>0.793103</td>\n",
       "      <td>False</td>\n",
       "      <td>False</td>\n",
       "      <td>False</td>\n",
       "      <td>False</td>\n",
       "      <td>True</td>\n",
       "      <td>False</td>\n",
       "      <td>...</td>\n",
       "      <td>True</td>\n",
       "      <td>False</td>\n",
       "      <td>False</td>\n",
       "      <td>False</td>\n",
       "      <td>False</td>\n",
       "      <td>False</td>\n",
       "      <td>True</td>\n",
       "      <td>False</td>\n",
       "      <td>9.998798</td>\n",
       "      <td>5.549076</td>\n",
       "    </tr>\n",
       "    <tr>\n",
       "      <th>4</th>\n",
       "      <td>0.809524</td>\n",
       "      <td>0.038521</td>\n",
       "      <td>0.225806</td>\n",
       "      <td>0.620690</td>\n",
       "      <td>True</td>\n",
       "      <td>False</td>\n",
       "      <td>False</td>\n",
       "      <td>False</td>\n",
       "      <td>False</td>\n",
       "      <td>False</td>\n",
       "      <td>...</td>\n",
       "      <td>False</td>\n",
       "      <td>False</td>\n",
       "      <td>False</td>\n",
       "      <td>False</td>\n",
       "      <td>False</td>\n",
       "      <td>False</td>\n",
       "      <td>True</td>\n",
       "      <td>False</td>\n",
       "      <td>8.171317</td>\n",
       "      <td>4.859812</td>\n",
       "    </tr>\n",
       "    <tr>\n",
       "      <th>...</th>\n",
       "      <td>...</td>\n",
       "      <td>...</td>\n",
       "      <td>...</td>\n",
       "      <td>...</td>\n",
       "      <td>...</td>\n",
       "      <td>...</td>\n",
       "      <td>...</td>\n",
       "      <td>...</td>\n",
       "      <td>...</td>\n",
       "      <td>...</td>\n",
       "      <td>...</td>\n",
       "      <td>...</td>\n",
       "      <td>...</td>\n",
       "      <td>...</td>\n",
       "      <td>...</td>\n",
       "      <td>...</td>\n",
       "      <td>...</td>\n",
       "      <td>...</td>\n",
       "      <td>...</td>\n",
       "      <td>...</td>\n",
       "      <td>...</td>\n",
       "    </tr>\n",
       "    <tr>\n",
       "      <th>1979</th>\n",
       "      <td>0.619048</td>\n",
       "      <td>0.332785</td>\n",
       "      <td>0.483871</td>\n",
       "      <td>0.844828</td>\n",
       "      <td>False</td>\n",
       "      <td>False</td>\n",
       "      <td>False</td>\n",
       "      <td>False</td>\n",
       "      <td>True</td>\n",
       "      <td>False</td>\n",
       "      <td>...</td>\n",
       "      <td>False</td>\n",
       "      <td>False</td>\n",
       "      <td>False</td>\n",
       "      <td>True</td>\n",
       "      <td>True</td>\n",
       "      <td>False</td>\n",
       "      <td>False</td>\n",
       "      <td>False</td>\n",
       "      <td>10.308953</td>\n",
       "      <td>5.549076</td>\n",
       "    </tr>\n",
       "    <tr>\n",
       "      <th>1980</th>\n",
       "      <td>0.571429</td>\n",
       "      <td>0.177101</td>\n",
       "      <td>0.225806</td>\n",
       "      <td>0.810345</td>\n",
       "      <td>False</td>\n",
       "      <td>False</td>\n",
       "      <td>False</td>\n",
       "      <td>True</td>\n",
       "      <td>False</td>\n",
       "      <td>False</td>\n",
       "      <td>...</td>\n",
       "      <td>False</td>\n",
       "      <td>False</td>\n",
       "      <td>False</td>\n",
       "      <td>False</td>\n",
       "      <td>False</td>\n",
       "      <td>False</td>\n",
       "      <td>True</td>\n",
       "      <td>False</td>\n",
       "      <td>9.680344</td>\n",
       "      <td>4.859812</td>\n",
       "    </tr>\n",
       "    <tr>\n",
       "      <th>1981</th>\n",
       "      <td>0.666667</td>\n",
       "      <td>0.132620</td>\n",
       "      <td>0.096774</td>\n",
       "      <td>0.810345</td>\n",
       "      <td>False</td>\n",
       "      <td>False</td>\n",
       "      <td>False</td>\n",
       "      <td>False</td>\n",
       "      <td>False</td>\n",
       "      <td>False</td>\n",
       "      <td>...</td>\n",
       "      <td>False</td>\n",
       "      <td>False</td>\n",
       "      <td>False</td>\n",
       "      <td>False</td>\n",
       "      <td>False</td>\n",
       "      <td>False</td>\n",
       "      <td>True</td>\n",
       "      <td>False</td>\n",
       "      <td>9.392662</td>\n",
       "      <td>4.174387</td>\n",
       "    </tr>\n",
       "    <tr>\n",
       "      <th>1982</th>\n",
       "      <td>0.476190</td>\n",
       "      <td>0.335053</td>\n",
       "      <td>0.225806</td>\n",
       "      <td>0.810345</td>\n",
       "      <td>False</td>\n",
       "      <td>False</td>\n",
       "      <td>False</td>\n",
       "      <td>False</td>\n",
       "      <td>True</td>\n",
       "      <td>False</td>\n",
       "      <td>...</td>\n",
       "      <td>False</td>\n",
       "      <td>False</td>\n",
       "      <td>False</td>\n",
       "      <td>True</td>\n",
       "      <td>False</td>\n",
       "      <td>False</td>\n",
       "      <td>True</td>\n",
       "      <td>False</td>\n",
       "      <td>10.315730</td>\n",
       "      <td>4.859812</td>\n",
       "    </tr>\n",
       "    <tr>\n",
       "      <th>1983</th>\n",
       "      <td>0.714286</td>\n",
       "      <td>0.154861</td>\n",
       "      <td>0.225806</td>\n",
       "      <td>0.827586</td>\n",
       "      <td>False</td>\n",
       "      <td>False</td>\n",
       "      <td>False</td>\n",
       "      <td>False</td>\n",
       "      <td>False</td>\n",
       "      <td>False</td>\n",
       "      <td>...</td>\n",
       "      <td>False</td>\n",
       "      <td>False</td>\n",
       "      <td>False</td>\n",
       "      <td>False</td>\n",
       "      <td>False</td>\n",
       "      <td>False</td>\n",
       "      <td>True</td>\n",
       "      <td>False</td>\n",
       "      <td>9.546813</td>\n",
       "      <td>4.859812</td>\n",
       "    </tr>\n",
       "  </tbody>\n",
       "</table>\n",
       "<p>1983 rows × 39 columns</p>\n",
       "</div>"
      ],
      "text/plain": [
       "       ratings     price   storage      size  brand_apple  brand_infinix  \\\n",
       "0     0.619048  0.266063  0.225806  0.844828        False          False   \n",
       "1     0.761905  0.232702  0.225806  0.810345        False          False   \n",
       "2     0.619048  0.145408  0.096774  0.793103        False          False   \n",
       "3     0.571429  0.243823  0.483871  0.793103        False          False   \n",
       "4     0.809524  0.038521  0.225806  0.620690         True          False   \n",
       "...        ...       ...       ...       ...          ...            ...   \n",
       "1979  0.619048  0.332785  0.483871  0.844828        False          False   \n",
       "1980  0.571429  0.177101  0.225806  0.810345        False          False   \n",
       "1981  0.666667  0.132620  0.096774  0.810345        False          False   \n",
       "1982  0.476190  0.335053  0.225806  0.810345        False          False   \n",
       "1983  0.714286  0.154861  0.225806  0.827586        False          False   \n",
       "\n",
       "      brand_mi  brand_motorola  brand_oneplus  brand_oppo  ...  \\\n",
       "0        False           False          False       False  ...   \n",
       "1        False           False          False        True  ...   \n",
       "2        False           False          False       False  ...   \n",
       "3        False           False           True       False  ...   \n",
       "4        False           False          False       False  ...   \n",
       "...        ...             ...            ...         ...  ...   \n",
       "1979     False           False           True       False  ...   \n",
       "1980     False            True          False       False  ...   \n",
       "1981     False           False          False       False  ...   \n",
       "1982     False           False           True       False  ...   \n",
       "1983     False           False          False       False  ...   \n",
       "\n",
       "      processor_type_qualcomm  processor_type_samsung  processor_type_unisoc  \\\n",
       "0                       False                   False                  False   \n",
       "1                       False                   False                  False   \n",
       "2                       False                   False                  False   \n",
       "3                        True                   False                  False   \n",
       "4                       False                   False                  False   \n",
       "...                       ...                     ...                    ...   \n",
       "1979                    False                   False                  False   \n",
       "1980                    False                   False                  False   \n",
       "1981                    False                   False                  False   \n",
       "1982                    False                   False                  False   \n",
       "1983                    False                   False                  False   \n",
       "\n",
       "      processor_type_unknown  resolution_2K  resolution_4K  \\\n",
       "0                      False          False          False   \n",
       "1                      False          False          False   \n",
       "2                       True          False          False   \n",
       "3                      False          False          False   \n",
       "4                      False          False          False   \n",
       "...                      ...            ...            ...   \n",
       "1979                    True           True          False   \n",
       "1980                   False          False          False   \n",
       "1981                   False          False          False   \n",
       "1982                    True          False          False   \n",
       "1983                   False          False          False   \n",
       "\n",
       "      resolution_Full HD  resolution_HD  price_log  storage_log  \n",
       "0                   True          False  10.085809     4.859812  \n",
       "1                   True          False   9.952278     4.859812  \n",
       "2                   True          False   9.484177     4.174387  \n",
       "3                   True          False   9.998798     5.549076  \n",
       "4                   True          False   8.171317     4.859812  \n",
       "...                  ...            ...        ...          ...  \n",
       "1979               False          False  10.308953     5.549076  \n",
       "1980                True          False   9.680344     4.859812  \n",
       "1981                True          False   9.392662     4.174387  \n",
       "1982                True          False  10.315730     4.859812  \n",
       "1983                True          False   9.546813     4.859812  \n",
       "\n",
       "[1983 rows x 39 columns]"
      ]
     },
     "execution_count": 20,
     "metadata": {},
     "output_type": "execute_result"
    }
   ],
   "source": [
    "df1"
   ]
  },
  {
   "cell_type": "markdown",
   "id": "74553827",
   "metadata": {
    "papermill": {
     "duration": 0.020563,
     "end_time": "2024-05-16T12:26:13.923175",
     "exception": false,
     "start_time": "2024-05-16T12:26:13.902612",
     "status": "completed"
    },
    "tags": []
   },
   "source": [
    "For regression tasks where the target variable is continuous, it's generally not necessary to scale the target variable. Algorithms like Linear Regression, Decision Trees, Random Forest, and Gradient Boosting Machines can handle continuous target variables without requiring scaling.\n",
    "\n",
    "if you're using algorithms that are sensitive to the scale of the target variable, such as Support Vector Machines (SVM) with a regression (SVR) or NuSVR kernel, you might consider scaling the target variable"
   ]
  },
  {
   "cell_type": "code",
   "execution_count": 21,
   "id": "e51ce240",
   "metadata": {
    "execution": {
     "iopub.execute_input": "2024-05-16T12:26:13.964570Z",
     "iopub.status.busy": "2024-05-16T12:26:13.964201Z",
     "iopub.status.idle": "2024-05-16T12:26:13.972351Z",
     "shell.execute_reply": "2024-05-16T12:26:13.971270Z"
    },
    "papermill": {
     "duration": 0.030987,
     "end_time": "2024-05-16T12:26:13.974467",
     "exception": false,
     "start_time": "2024-05-16T12:26:13.943480",
     "status": "completed"
    },
    "tags": []
   },
   "outputs": [
    {
     "data": {
      "text/plain": [
       "0       23999\n",
       "1       20999\n",
       "2       13149\n",
       "3       21999\n",
       "4        3537\n",
       "        ...  \n",
       "1979    29999\n",
       "1980    15999\n",
       "1981    11999\n",
       "1982    30203\n",
       "1983    13999\n",
       "Name: price, Length: 1983, dtype: int64"
      ]
     },
     "execution_count": 21,
     "metadata": {},
     "output_type": "execute_result"
    }
   ],
   "source": [
    "y_unscaled=df['price']\n",
    "y_unscaled"
   ]
  },
  {
   "cell_type": "code",
   "execution_count": 22,
   "id": "f04c87e3",
   "metadata": {
    "execution": {
     "iopub.execute_input": "2024-05-16T12:26:14.016544Z",
     "iopub.status.busy": "2024-05-16T12:26:14.015688Z",
     "iopub.status.idle": "2024-05-16T12:26:14.024234Z",
     "shell.execute_reply": "2024-05-16T12:26:14.023147Z"
    },
    "papermill": {
     "duration": 0.032145,
     "end_time": "2024-05-16T12:26:14.026526",
     "exception": false,
     "start_time": "2024-05-16T12:26:13.994381",
     "status": "completed"
    },
    "tags": []
   },
   "outputs": [
    {
     "data": {
      "text/plain": [
       "0       0.266063\n",
       "1       0.232702\n",
       "2       0.145408\n",
       "3       0.243823\n",
       "4       0.038521\n",
       "          ...   \n",
       "1979    0.332785\n",
       "1980    0.177101\n",
       "1981    0.132620\n",
       "1982    0.335053\n",
       "1983    0.154861\n",
       "Name: price, Length: 1983, dtype: float64"
      ]
     },
     "execution_count": 22,
     "metadata": {},
     "output_type": "execute_result"
    }
   ],
   "source": [
    "y_scaled = df1['price']\n",
    "y_scaled"
   ]
  },
  {
   "cell_type": "code",
   "execution_count": 23,
   "id": "2fa5bc4b",
   "metadata": {
    "execution": {
     "iopub.execute_input": "2024-05-16T12:26:14.068619Z",
     "iopub.status.busy": "2024-05-16T12:26:14.067932Z",
     "iopub.status.idle": "2024-05-16T12:26:14.095450Z",
     "shell.execute_reply": "2024-05-16T12:26:14.094571Z"
    },
    "papermill": {
     "duration": 0.051304,
     "end_time": "2024-05-16T12:26:14.097497",
     "exception": false,
     "start_time": "2024-05-16T12:26:14.046193",
     "status": "completed"
    },
    "tags": []
   },
   "outputs": [
    {
     "data": {
      "text/html": [
       "<div>\n",
       "<style scoped>\n",
       "    .dataframe tbody tr th:only-of-type {\n",
       "        vertical-align: middle;\n",
       "    }\n",
       "\n",
       "    .dataframe tbody tr th {\n",
       "        vertical-align: top;\n",
       "    }\n",
       "\n",
       "    .dataframe thead th {\n",
       "        text-align: right;\n",
       "    }\n",
       "</style>\n",
       "<table border=\"1\" class=\"dataframe\">\n",
       "  <thead>\n",
       "    <tr style=\"text-align: right;\">\n",
       "      <th></th>\n",
       "      <th>ratings</th>\n",
       "      <th>price</th>\n",
       "      <th>storage</th>\n",
       "      <th>size</th>\n",
       "      <th>brand_apple</th>\n",
       "      <th>brand_infinix</th>\n",
       "      <th>brand_mi</th>\n",
       "      <th>brand_motorola</th>\n",
       "      <th>brand_oneplus</th>\n",
       "      <th>brand_oppo</th>\n",
       "      <th>...</th>\n",
       "      <th>processor_type_qualcomm</th>\n",
       "      <th>processor_type_samsung</th>\n",
       "      <th>processor_type_unisoc</th>\n",
       "      <th>processor_type_unknown</th>\n",
       "      <th>resolution_2K</th>\n",
       "      <th>resolution_4K</th>\n",
       "      <th>resolution_Full HD</th>\n",
       "      <th>resolution_HD</th>\n",
       "      <th>price_log</th>\n",
       "      <th>storage_log</th>\n",
       "    </tr>\n",
       "  </thead>\n",
       "  <tbody>\n",
       "    <tr>\n",
       "      <th>0</th>\n",
       "      <td>0.619048</td>\n",
       "      <td>0.266063</td>\n",
       "      <td>0.225806</td>\n",
       "      <td>0.844828</td>\n",
       "      <td>False</td>\n",
       "      <td>False</td>\n",
       "      <td>False</td>\n",
       "      <td>False</td>\n",
       "      <td>False</td>\n",
       "      <td>False</td>\n",
       "      <td>...</td>\n",
       "      <td>False</td>\n",
       "      <td>False</td>\n",
       "      <td>False</td>\n",
       "      <td>False</td>\n",
       "      <td>False</td>\n",
       "      <td>False</td>\n",
       "      <td>True</td>\n",
       "      <td>False</td>\n",
       "      <td>10.085809</td>\n",
       "      <td>4.859812</td>\n",
       "    </tr>\n",
       "    <tr>\n",
       "      <th>1</th>\n",
       "      <td>0.761905</td>\n",
       "      <td>0.232702</td>\n",
       "      <td>0.225806</td>\n",
       "      <td>0.810345</td>\n",
       "      <td>False</td>\n",
       "      <td>False</td>\n",
       "      <td>False</td>\n",
       "      <td>False</td>\n",
       "      <td>False</td>\n",
       "      <td>True</td>\n",
       "      <td>...</td>\n",
       "      <td>False</td>\n",
       "      <td>False</td>\n",
       "      <td>False</td>\n",
       "      <td>False</td>\n",
       "      <td>False</td>\n",
       "      <td>False</td>\n",
       "      <td>True</td>\n",
       "      <td>False</td>\n",
       "      <td>9.952278</td>\n",
       "      <td>4.859812</td>\n",
       "    </tr>\n",
       "    <tr>\n",
       "      <th>2</th>\n",
       "      <td>0.619048</td>\n",
       "      <td>0.145408</td>\n",
       "      <td>0.096774</td>\n",
       "      <td>0.793103</td>\n",
       "      <td>False</td>\n",
       "      <td>False</td>\n",
       "      <td>False</td>\n",
       "      <td>False</td>\n",
       "      <td>False</td>\n",
       "      <td>False</td>\n",
       "      <td>...</td>\n",
       "      <td>False</td>\n",
       "      <td>False</td>\n",
       "      <td>False</td>\n",
       "      <td>True</td>\n",
       "      <td>False</td>\n",
       "      <td>False</td>\n",
       "      <td>True</td>\n",
       "      <td>False</td>\n",
       "      <td>9.484177</td>\n",
       "      <td>4.174387</td>\n",
       "    </tr>\n",
       "    <tr>\n",
       "      <th>3</th>\n",
       "      <td>0.571429</td>\n",
       "      <td>0.243823</td>\n",
       "      <td>0.483871</td>\n",
       "      <td>0.793103</td>\n",
       "      <td>False</td>\n",
       "      <td>False</td>\n",
       "      <td>False</td>\n",
       "      <td>False</td>\n",
       "      <td>True</td>\n",
       "      <td>False</td>\n",
       "      <td>...</td>\n",
       "      <td>True</td>\n",
       "      <td>False</td>\n",
       "      <td>False</td>\n",
       "      <td>False</td>\n",
       "      <td>False</td>\n",
       "      <td>False</td>\n",
       "      <td>True</td>\n",
       "      <td>False</td>\n",
       "      <td>9.998798</td>\n",
       "      <td>5.549076</td>\n",
       "    </tr>\n",
       "    <tr>\n",
       "      <th>4</th>\n",
       "      <td>0.809524</td>\n",
       "      <td>0.038521</td>\n",
       "      <td>0.225806</td>\n",
       "      <td>0.620690</td>\n",
       "      <td>True</td>\n",
       "      <td>False</td>\n",
       "      <td>False</td>\n",
       "      <td>False</td>\n",
       "      <td>False</td>\n",
       "      <td>False</td>\n",
       "      <td>...</td>\n",
       "      <td>False</td>\n",
       "      <td>False</td>\n",
       "      <td>False</td>\n",
       "      <td>False</td>\n",
       "      <td>False</td>\n",
       "      <td>False</td>\n",
       "      <td>True</td>\n",
       "      <td>False</td>\n",
       "      <td>8.171317</td>\n",
       "      <td>4.859812</td>\n",
       "    </tr>\n",
       "    <tr>\n",
       "      <th>...</th>\n",
       "      <td>...</td>\n",
       "      <td>...</td>\n",
       "      <td>...</td>\n",
       "      <td>...</td>\n",
       "      <td>...</td>\n",
       "      <td>...</td>\n",
       "      <td>...</td>\n",
       "      <td>...</td>\n",
       "      <td>...</td>\n",
       "      <td>...</td>\n",
       "      <td>...</td>\n",
       "      <td>...</td>\n",
       "      <td>...</td>\n",
       "      <td>...</td>\n",
       "      <td>...</td>\n",
       "      <td>...</td>\n",
       "      <td>...</td>\n",
       "      <td>...</td>\n",
       "      <td>...</td>\n",
       "      <td>...</td>\n",
       "      <td>...</td>\n",
       "    </tr>\n",
       "    <tr>\n",
       "      <th>1979</th>\n",
       "      <td>0.619048</td>\n",
       "      <td>0.332785</td>\n",
       "      <td>0.483871</td>\n",
       "      <td>0.844828</td>\n",
       "      <td>False</td>\n",
       "      <td>False</td>\n",
       "      <td>False</td>\n",
       "      <td>False</td>\n",
       "      <td>True</td>\n",
       "      <td>False</td>\n",
       "      <td>...</td>\n",
       "      <td>False</td>\n",
       "      <td>False</td>\n",
       "      <td>False</td>\n",
       "      <td>True</td>\n",
       "      <td>True</td>\n",
       "      <td>False</td>\n",
       "      <td>False</td>\n",
       "      <td>False</td>\n",
       "      <td>10.308953</td>\n",
       "      <td>5.549076</td>\n",
       "    </tr>\n",
       "    <tr>\n",
       "      <th>1980</th>\n",
       "      <td>0.571429</td>\n",
       "      <td>0.177101</td>\n",
       "      <td>0.225806</td>\n",
       "      <td>0.810345</td>\n",
       "      <td>False</td>\n",
       "      <td>False</td>\n",
       "      <td>False</td>\n",
       "      <td>True</td>\n",
       "      <td>False</td>\n",
       "      <td>False</td>\n",
       "      <td>...</td>\n",
       "      <td>False</td>\n",
       "      <td>False</td>\n",
       "      <td>False</td>\n",
       "      <td>False</td>\n",
       "      <td>False</td>\n",
       "      <td>False</td>\n",
       "      <td>True</td>\n",
       "      <td>False</td>\n",
       "      <td>9.680344</td>\n",
       "      <td>4.859812</td>\n",
       "    </tr>\n",
       "    <tr>\n",
       "      <th>1981</th>\n",
       "      <td>0.666667</td>\n",
       "      <td>0.132620</td>\n",
       "      <td>0.096774</td>\n",
       "      <td>0.810345</td>\n",
       "      <td>False</td>\n",
       "      <td>False</td>\n",
       "      <td>False</td>\n",
       "      <td>False</td>\n",
       "      <td>False</td>\n",
       "      <td>False</td>\n",
       "      <td>...</td>\n",
       "      <td>False</td>\n",
       "      <td>False</td>\n",
       "      <td>False</td>\n",
       "      <td>False</td>\n",
       "      <td>False</td>\n",
       "      <td>False</td>\n",
       "      <td>True</td>\n",
       "      <td>False</td>\n",
       "      <td>9.392662</td>\n",
       "      <td>4.174387</td>\n",
       "    </tr>\n",
       "    <tr>\n",
       "      <th>1982</th>\n",
       "      <td>0.476190</td>\n",
       "      <td>0.335053</td>\n",
       "      <td>0.225806</td>\n",
       "      <td>0.810345</td>\n",
       "      <td>False</td>\n",
       "      <td>False</td>\n",
       "      <td>False</td>\n",
       "      <td>False</td>\n",
       "      <td>True</td>\n",
       "      <td>False</td>\n",
       "      <td>...</td>\n",
       "      <td>False</td>\n",
       "      <td>False</td>\n",
       "      <td>False</td>\n",
       "      <td>True</td>\n",
       "      <td>False</td>\n",
       "      <td>False</td>\n",
       "      <td>True</td>\n",
       "      <td>False</td>\n",
       "      <td>10.315730</td>\n",
       "      <td>4.859812</td>\n",
       "    </tr>\n",
       "    <tr>\n",
       "      <th>1983</th>\n",
       "      <td>0.714286</td>\n",
       "      <td>0.154861</td>\n",
       "      <td>0.225806</td>\n",
       "      <td>0.827586</td>\n",
       "      <td>False</td>\n",
       "      <td>False</td>\n",
       "      <td>False</td>\n",
       "      <td>False</td>\n",
       "      <td>False</td>\n",
       "      <td>False</td>\n",
       "      <td>...</td>\n",
       "      <td>False</td>\n",
       "      <td>False</td>\n",
       "      <td>False</td>\n",
       "      <td>False</td>\n",
       "      <td>False</td>\n",
       "      <td>False</td>\n",
       "      <td>True</td>\n",
       "      <td>False</td>\n",
       "      <td>9.546813</td>\n",
       "      <td>4.859812</td>\n",
       "    </tr>\n",
       "  </tbody>\n",
       "</table>\n",
       "<p>1983 rows × 39 columns</p>\n",
       "</div>"
      ],
      "text/plain": [
       "       ratings     price   storage      size  brand_apple  brand_infinix  \\\n",
       "0     0.619048  0.266063  0.225806  0.844828        False          False   \n",
       "1     0.761905  0.232702  0.225806  0.810345        False          False   \n",
       "2     0.619048  0.145408  0.096774  0.793103        False          False   \n",
       "3     0.571429  0.243823  0.483871  0.793103        False          False   \n",
       "4     0.809524  0.038521  0.225806  0.620690         True          False   \n",
       "...        ...       ...       ...       ...          ...            ...   \n",
       "1979  0.619048  0.332785  0.483871  0.844828        False          False   \n",
       "1980  0.571429  0.177101  0.225806  0.810345        False          False   \n",
       "1981  0.666667  0.132620  0.096774  0.810345        False          False   \n",
       "1982  0.476190  0.335053  0.225806  0.810345        False          False   \n",
       "1983  0.714286  0.154861  0.225806  0.827586        False          False   \n",
       "\n",
       "      brand_mi  brand_motorola  brand_oneplus  brand_oppo  ...  \\\n",
       "0        False           False          False       False  ...   \n",
       "1        False           False          False        True  ...   \n",
       "2        False           False          False       False  ...   \n",
       "3        False           False           True       False  ...   \n",
       "4        False           False          False       False  ...   \n",
       "...        ...             ...            ...         ...  ...   \n",
       "1979     False           False           True       False  ...   \n",
       "1980     False            True          False       False  ...   \n",
       "1981     False           False          False       False  ...   \n",
       "1982     False           False           True       False  ...   \n",
       "1983     False           False          False       False  ...   \n",
       "\n",
       "      processor_type_qualcomm  processor_type_samsung  processor_type_unisoc  \\\n",
       "0                       False                   False                  False   \n",
       "1                       False                   False                  False   \n",
       "2                       False                   False                  False   \n",
       "3                        True                   False                  False   \n",
       "4                       False                   False                  False   \n",
       "...                       ...                     ...                    ...   \n",
       "1979                    False                   False                  False   \n",
       "1980                    False                   False                  False   \n",
       "1981                    False                   False                  False   \n",
       "1982                    False                   False                  False   \n",
       "1983                    False                   False                  False   \n",
       "\n",
       "      processor_type_unknown  resolution_2K  resolution_4K  \\\n",
       "0                      False          False          False   \n",
       "1                      False          False          False   \n",
       "2                       True          False          False   \n",
       "3                      False          False          False   \n",
       "4                      False          False          False   \n",
       "...                      ...            ...            ...   \n",
       "1979                    True           True          False   \n",
       "1980                   False          False          False   \n",
       "1981                   False          False          False   \n",
       "1982                    True          False          False   \n",
       "1983                   False          False          False   \n",
       "\n",
       "      resolution_Full HD  resolution_HD  price_log  storage_log  \n",
       "0                   True          False  10.085809     4.859812  \n",
       "1                   True          False   9.952278     4.859812  \n",
       "2                   True          False   9.484177     4.174387  \n",
       "3                   True          False   9.998798     5.549076  \n",
       "4                   True          False   8.171317     4.859812  \n",
       "...                  ...            ...        ...          ...  \n",
       "1979               False          False  10.308953     5.549076  \n",
       "1980                True          False   9.680344     4.859812  \n",
       "1981                True          False   9.392662     4.174387  \n",
       "1982                True          False  10.315730     4.859812  \n",
       "1983                True          False   9.546813     4.859812  \n",
       "\n",
       "[1983 rows x 39 columns]"
      ]
     },
     "execution_count": 23,
     "metadata": {},
     "output_type": "execute_result"
    }
   ],
   "source": [
    "df1"
   ]
  },
  {
   "cell_type": "code",
   "execution_count": 24,
   "id": "bd518593",
   "metadata": {
    "execution": {
     "iopub.execute_input": "2024-05-16T12:26:14.140084Z",
     "iopub.status.busy": "2024-05-16T12:26:14.139659Z",
     "iopub.status.idle": "2024-05-16T12:26:14.170481Z",
     "shell.execute_reply": "2024-05-16T12:26:14.169285Z"
    },
    "papermill": {
     "duration": 0.054991,
     "end_time": "2024-05-16T12:26:14.172839",
     "exception": false,
     "start_time": "2024-05-16T12:26:14.117848",
     "status": "completed"
    },
    "tags": []
   },
   "outputs": [
    {
     "data": {
      "text/html": [
       "<div>\n",
       "<style scoped>\n",
       "    .dataframe tbody tr th:only-of-type {\n",
       "        vertical-align: middle;\n",
       "    }\n",
       "\n",
       "    .dataframe tbody tr th {\n",
       "        vertical-align: top;\n",
       "    }\n",
       "\n",
       "    .dataframe thead th {\n",
       "        text-align: right;\n",
       "    }\n",
       "</style>\n",
       "<table border=\"1\" class=\"dataframe\">\n",
       "  <thead>\n",
       "    <tr style=\"text-align: right;\">\n",
       "      <th></th>\n",
       "      <th>ratings</th>\n",
       "      <th>storage</th>\n",
       "      <th>size</th>\n",
       "      <th>brand_apple</th>\n",
       "      <th>brand_infinix</th>\n",
       "      <th>brand_mi</th>\n",
       "      <th>brand_motorola</th>\n",
       "      <th>brand_oneplus</th>\n",
       "      <th>brand_oppo</th>\n",
       "      <th>brand_realme</th>\n",
       "      <th>...</th>\n",
       "      <th>processor_type_qualcomm</th>\n",
       "      <th>processor_type_samsung</th>\n",
       "      <th>processor_type_unisoc</th>\n",
       "      <th>processor_type_unknown</th>\n",
       "      <th>resolution_2K</th>\n",
       "      <th>resolution_4K</th>\n",
       "      <th>resolution_Full HD</th>\n",
       "      <th>resolution_HD</th>\n",
       "      <th>price_log</th>\n",
       "      <th>storage_log</th>\n",
       "    </tr>\n",
       "  </thead>\n",
       "  <tbody>\n",
       "    <tr>\n",
       "      <th>0</th>\n",
       "      <td>0.619048</td>\n",
       "      <td>0.225806</td>\n",
       "      <td>0.844828</td>\n",
       "      <td>False</td>\n",
       "      <td>False</td>\n",
       "      <td>False</td>\n",
       "      <td>False</td>\n",
       "      <td>False</td>\n",
       "      <td>False</td>\n",
       "      <td>False</td>\n",
       "      <td>...</td>\n",
       "      <td>False</td>\n",
       "      <td>False</td>\n",
       "      <td>False</td>\n",
       "      <td>False</td>\n",
       "      <td>False</td>\n",
       "      <td>False</td>\n",
       "      <td>True</td>\n",
       "      <td>False</td>\n",
       "      <td>10.085809</td>\n",
       "      <td>4.859812</td>\n",
       "    </tr>\n",
       "    <tr>\n",
       "      <th>1</th>\n",
       "      <td>0.761905</td>\n",
       "      <td>0.225806</td>\n",
       "      <td>0.810345</td>\n",
       "      <td>False</td>\n",
       "      <td>False</td>\n",
       "      <td>False</td>\n",
       "      <td>False</td>\n",
       "      <td>False</td>\n",
       "      <td>True</td>\n",
       "      <td>False</td>\n",
       "      <td>...</td>\n",
       "      <td>False</td>\n",
       "      <td>False</td>\n",
       "      <td>False</td>\n",
       "      <td>False</td>\n",
       "      <td>False</td>\n",
       "      <td>False</td>\n",
       "      <td>True</td>\n",
       "      <td>False</td>\n",
       "      <td>9.952278</td>\n",
       "      <td>4.859812</td>\n",
       "    </tr>\n",
       "    <tr>\n",
       "      <th>2</th>\n",
       "      <td>0.619048</td>\n",
       "      <td>0.096774</td>\n",
       "      <td>0.793103</td>\n",
       "      <td>False</td>\n",
       "      <td>False</td>\n",
       "      <td>False</td>\n",
       "      <td>False</td>\n",
       "      <td>False</td>\n",
       "      <td>False</td>\n",
       "      <td>False</td>\n",
       "      <td>...</td>\n",
       "      <td>False</td>\n",
       "      <td>False</td>\n",
       "      <td>False</td>\n",
       "      <td>True</td>\n",
       "      <td>False</td>\n",
       "      <td>False</td>\n",
       "      <td>True</td>\n",
       "      <td>False</td>\n",
       "      <td>9.484177</td>\n",
       "      <td>4.174387</td>\n",
       "    </tr>\n",
       "    <tr>\n",
       "      <th>3</th>\n",
       "      <td>0.571429</td>\n",
       "      <td>0.483871</td>\n",
       "      <td>0.793103</td>\n",
       "      <td>False</td>\n",
       "      <td>False</td>\n",
       "      <td>False</td>\n",
       "      <td>False</td>\n",
       "      <td>True</td>\n",
       "      <td>False</td>\n",
       "      <td>False</td>\n",
       "      <td>...</td>\n",
       "      <td>True</td>\n",
       "      <td>False</td>\n",
       "      <td>False</td>\n",
       "      <td>False</td>\n",
       "      <td>False</td>\n",
       "      <td>False</td>\n",
       "      <td>True</td>\n",
       "      <td>False</td>\n",
       "      <td>9.998798</td>\n",
       "      <td>5.549076</td>\n",
       "    </tr>\n",
       "    <tr>\n",
       "      <th>4</th>\n",
       "      <td>0.809524</td>\n",
       "      <td>0.225806</td>\n",
       "      <td>0.620690</td>\n",
       "      <td>True</td>\n",
       "      <td>False</td>\n",
       "      <td>False</td>\n",
       "      <td>False</td>\n",
       "      <td>False</td>\n",
       "      <td>False</td>\n",
       "      <td>False</td>\n",
       "      <td>...</td>\n",
       "      <td>False</td>\n",
       "      <td>False</td>\n",
       "      <td>False</td>\n",
       "      <td>False</td>\n",
       "      <td>False</td>\n",
       "      <td>False</td>\n",
       "      <td>True</td>\n",
       "      <td>False</td>\n",
       "      <td>8.171317</td>\n",
       "      <td>4.859812</td>\n",
       "    </tr>\n",
       "    <tr>\n",
       "      <th>...</th>\n",
       "      <td>...</td>\n",
       "      <td>...</td>\n",
       "      <td>...</td>\n",
       "      <td>...</td>\n",
       "      <td>...</td>\n",
       "      <td>...</td>\n",
       "      <td>...</td>\n",
       "      <td>...</td>\n",
       "      <td>...</td>\n",
       "      <td>...</td>\n",
       "      <td>...</td>\n",
       "      <td>...</td>\n",
       "      <td>...</td>\n",
       "      <td>...</td>\n",
       "      <td>...</td>\n",
       "      <td>...</td>\n",
       "      <td>...</td>\n",
       "      <td>...</td>\n",
       "      <td>...</td>\n",
       "      <td>...</td>\n",
       "      <td>...</td>\n",
       "    </tr>\n",
       "    <tr>\n",
       "      <th>1979</th>\n",
       "      <td>0.619048</td>\n",
       "      <td>0.483871</td>\n",
       "      <td>0.844828</td>\n",
       "      <td>False</td>\n",
       "      <td>False</td>\n",
       "      <td>False</td>\n",
       "      <td>False</td>\n",
       "      <td>True</td>\n",
       "      <td>False</td>\n",
       "      <td>False</td>\n",
       "      <td>...</td>\n",
       "      <td>False</td>\n",
       "      <td>False</td>\n",
       "      <td>False</td>\n",
       "      <td>True</td>\n",
       "      <td>True</td>\n",
       "      <td>False</td>\n",
       "      <td>False</td>\n",
       "      <td>False</td>\n",
       "      <td>10.308953</td>\n",
       "      <td>5.549076</td>\n",
       "    </tr>\n",
       "    <tr>\n",
       "      <th>1980</th>\n",
       "      <td>0.571429</td>\n",
       "      <td>0.225806</td>\n",
       "      <td>0.810345</td>\n",
       "      <td>False</td>\n",
       "      <td>False</td>\n",
       "      <td>False</td>\n",
       "      <td>True</td>\n",
       "      <td>False</td>\n",
       "      <td>False</td>\n",
       "      <td>False</td>\n",
       "      <td>...</td>\n",
       "      <td>False</td>\n",
       "      <td>False</td>\n",
       "      <td>False</td>\n",
       "      <td>False</td>\n",
       "      <td>False</td>\n",
       "      <td>False</td>\n",
       "      <td>True</td>\n",
       "      <td>False</td>\n",
       "      <td>9.680344</td>\n",
       "      <td>4.859812</td>\n",
       "    </tr>\n",
       "    <tr>\n",
       "      <th>1981</th>\n",
       "      <td>0.666667</td>\n",
       "      <td>0.096774</td>\n",
       "      <td>0.810345</td>\n",
       "      <td>False</td>\n",
       "      <td>False</td>\n",
       "      <td>False</td>\n",
       "      <td>False</td>\n",
       "      <td>False</td>\n",
       "      <td>False</td>\n",
       "      <td>False</td>\n",
       "      <td>...</td>\n",
       "      <td>False</td>\n",
       "      <td>False</td>\n",
       "      <td>False</td>\n",
       "      <td>False</td>\n",
       "      <td>False</td>\n",
       "      <td>False</td>\n",
       "      <td>True</td>\n",
       "      <td>False</td>\n",
       "      <td>9.392662</td>\n",
       "      <td>4.174387</td>\n",
       "    </tr>\n",
       "    <tr>\n",
       "      <th>1982</th>\n",
       "      <td>0.476190</td>\n",
       "      <td>0.225806</td>\n",
       "      <td>0.810345</td>\n",
       "      <td>False</td>\n",
       "      <td>False</td>\n",
       "      <td>False</td>\n",
       "      <td>False</td>\n",
       "      <td>True</td>\n",
       "      <td>False</td>\n",
       "      <td>False</td>\n",
       "      <td>...</td>\n",
       "      <td>False</td>\n",
       "      <td>False</td>\n",
       "      <td>False</td>\n",
       "      <td>True</td>\n",
       "      <td>False</td>\n",
       "      <td>False</td>\n",
       "      <td>True</td>\n",
       "      <td>False</td>\n",
       "      <td>10.315730</td>\n",
       "      <td>4.859812</td>\n",
       "    </tr>\n",
       "    <tr>\n",
       "      <th>1983</th>\n",
       "      <td>0.714286</td>\n",
       "      <td>0.225806</td>\n",
       "      <td>0.827586</td>\n",
       "      <td>False</td>\n",
       "      <td>False</td>\n",
       "      <td>False</td>\n",
       "      <td>False</td>\n",
       "      <td>False</td>\n",
       "      <td>False</td>\n",
       "      <td>False</td>\n",
       "      <td>...</td>\n",
       "      <td>False</td>\n",
       "      <td>False</td>\n",
       "      <td>False</td>\n",
       "      <td>False</td>\n",
       "      <td>False</td>\n",
       "      <td>False</td>\n",
       "      <td>True</td>\n",
       "      <td>False</td>\n",
       "      <td>9.546813</td>\n",
       "      <td>4.859812</td>\n",
       "    </tr>\n",
       "  </tbody>\n",
       "</table>\n",
       "<p>1983 rows × 38 columns</p>\n",
       "</div>"
      ],
      "text/plain": [
       "       ratings   storage      size  brand_apple  brand_infinix  brand_mi  \\\n",
       "0     0.619048  0.225806  0.844828        False          False     False   \n",
       "1     0.761905  0.225806  0.810345        False          False     False   \n",
       "2     0.619048  0.096774  0.793103        False          False     False   \n",
       "3     0.571429  0.483871  0.793103        False          False     False   \n",
       "4     0.809524  0.225806  0.620690         True          False     False   \n",
       "...        ...       ...       ...          ...            ...       ...   \n",
       "1979  0.619048  0.483871  0.844828        False          False     False   \n",
       "1980  0.571429  0.225806  0.810345        False          False     False   \n",
       "1981  0.666667  0.096774  0.810345        False          False     False   \n",
       "1982  0.476190  0.225806  0.810345        False          False     False   \n",
       "1983  0.714286  0.225806  0.827586        False          False     False   \n",
       "\n",
       "      brand_motorola  brand_oneplus  brand_oppo  brand_realme  ...  \\\n",
       "0              False          False       False         False  ...   \n",
       "1              False          False        True         False  ...   \n",
       "2              False          False       False         False  ...   \n",
       "3              False           True       False         False  ...   \n",
       "4              False          False       False         False  ...   \n",
       "...              ...            ...         ...           ...  ...   \n",
       "1979           False           True       False         False  ...   \n",
       "1980            True          False       False         False  ...   \n",
       "1981           False          False       False         False  ...   \n",
       "1982           False           True       False         False  ...   \n",
       "1983           False          False       False         False  ...   \n",
       "\n",
       "      processor_type_qualcomm  processor_type_samsung  processor_type_unisoc  \\\n",
       "0                       False                   False                  False   \n",
       "1                       False                   False                  False   \n",
       "2                       False                   False                  False   \n",
       "3                        True                   False                  False   \n",
       "4                       False                   False                  False   \n",
       "...                       ...                     ...                    ...   \n",
       "1979                    False                   False                  False   \n",
       "1980                    False                   False                  False   \n",
       "1981                    False                   False                  False   \n",
       "1982                    False                   False                  False   \n",
       "1983                    False                   False                  False   \n",
       "\n",
       "      processor_type_unknown  resolution_2K  resolution_4K  \\\n",
       "0                      False          False          False   \n",
       "1                      False          False          False   \n",
       "2                       True          False          False   \n",
       "3                      False          False          False   \n",
       "4                      False          False          False   \n",
       "...                      ...            ...            ...   \n",
       "1979                    True           True          False   \n",
       "1980                   False          False          False   \n",
       "1981                   False          False          False   \n",
       "1982                    True          False          False   \n",
       "1983                   False          False          False   \n",
       "\n",
       "      resolution_Full HD  resolution_HD  price_log  storage_log  \n",
       "0                   True          False  10.085809     4.859812  \n",
       "1                   True          False   9.952278     4.859812  \n",
       "2                   True          False   9.484177     4.174387  \n",
       "3                   True          False   9.998798     5.549076  \n",
       "4                   True          False   8.171317     4.859812  \n",
       "...                  ...            ...        ...          ...  \n",
       "1979               False          False  10.308953     5.549076  \n",
       "1980                True          False   9.680344     4.859812  \n",
       "1981                True          False   9.392662     4.174387  \n",
       "1982                True          False  10.315730     4.859812  \n",
       "1983                True          False   9.546813     4.859812  \n",
       "\n",
       "[1983 rows x 38 columns]"
      ]
     },
     "execution_count": 24,
     "metadata": {},
     "output_type": "execute_result"
    }
   ],
   "source": [
    "x = df1.drop(['price'],axis=1)\n",
    "x"
   ]
  },
  {
   "cell_type": "markdown",
   "id": "0f12c2c4",
   "metadata": {
    "papermill": {
     "duration": 0.020069,
     "end_time": "2024-05-16T12:26:14.213590",
     "exception": false,
     "start_time": "2024-05-16T12:26:14.193521",
     "status": "completed"
    },
    "tags": []
   },
   "source": [
    "<a id=\"1\"></a>\n",
    "<div style=\"font-family: Cambria; font-weight: bold; letter-spacing: 0px; color: #ffffff; font-size: 120%; text-align: left; padding: 3px; background-color: #0000ff; border-bottom: 10px solid #80ffff;\">\n",
    "    Splitting data\n",
    "</div>"
   ]
  },
  {
   "cell_type": "code",
   "execution_count": 25,
   "id": "632d3048",
   "metadata": {
    "execution": {
     "iopub.execute_input": "2024-05-16T12:26:14.258839Z",
     "iopub.status.busy": "2024-05-16T12:26:14.258410Z",
     "iopub.status.idle": "2024-05-16T12:26:14.268459Z",
     "shell.execute_reply": "2024-05-16T12:26:14.267217Z"
    },
    "papermill": {
     "duration": 0.03573,
     "end_time": "2024-05-16T12:26:14.270986",
     "exception": false,
     "start_time": "2024-05-16T12:26:14.235256",
     "status": "completed"
    },
    "tags": []
   },
   "outputs": [],
   "source": [
    "from sklearn.model_selection import train_test_split\n",
    "\n",
    "X_train, X_test, y_train, y_test = train_test_split(x, y_scaled, test_size=0.2, random_state=42)"
   ]
  },
  {
   "cell_type": "code",
   "execution_count": 26,
   "id": "d55c0986",
   "metadata": {
    "execution": {
     "iopub.execute_input": "2024-05-16T12:26:14.315343Z",
     "iopub.status.busy": "2024-05-16T12:26:14.314649Z",
     "iopub.status.idle": "2024-05-16T12:26:14.345639Z",
     "shell.execute_reply": "2024-05-16T12:26:14.344420Z"
    },
    "papermill": {
     "duration": 0.055796,
     "end_time": "2024-05-16T12:26:14.348286",
     "exception": false,
     "start_time": "2024-05-16T12:26:14.292490",
     "status": "completed"
    },
    "tags": []
   },
   "outputs": [
    {
     "data": {
      "text/html": [
       "<div>\n",
       "<style scoped>\n",
       "    .dataframe tbody tr th:only-of-type {\n",
       "        vertical-align: middle;\n",
       "    }\n",
       "\n",
       "    .dataframe tbody tr th {\n",
       "        vertical-align: top;\n",
       "    }\n",
       "\n",
       "    .dataframe thead th {\n",
       "        text-align: right;\n",
       "    }\n",
       "</style>\n",
       "<table border=\"1\" class=\"dataframe\">\n",
       "  <thead>\n",
       "    <tr style=\"text-align: right;\">\n",
       "      <th></th>\n",
       "      <th>ratings</th>\n",
       "      <th>storage</th>\n",
       "      <th>size</th>\n",
       "      <th>brand_apple</th>\n",
       "      <th>brand_infinix</th>\n",
       "      <th>brand_mi</th>\n",
       "      <th>brand_motorola</th>\n",
       "      <th>brand_oneplus</th>\n",
       "      <th>brand_oppo</th>\n",
       "      <th>brand_realme</th>\n",
       "      <th>...</th>\n",
       "      <th>processor_type_qualcomm</th>\n",
       "      <th>processor_type_samsung</th>\n",
       "      <th>processor_type_unisoc</th>\n",
       "      <th>processor_type_unknown</th>\n",
       "      <th>resolution_2K</th>\n",
       "      <th>resolution_4K</th>\n",
       "      <th>resolution_Full HD</th>\n",
       "      <th>resolution_HD</th>\n",
       "      <th>price_log</th>\n",
       "      <th>storage_log</th>\n",
       "    </tr>\n",
       "  </thead>\n",
       "  <tbody>\n",
       "    <tr>\n",
       "      <th>720</th>\n",
       "      <td>0.857143</td>\n",
       "      <td>1.000000</td>\n",
       "      <td>0.741379</td>\n",
       "      <td>True</td>\n",
       "      <td>False</td>\n",
       "      <td>False</td>\n",
       "      <td>False</td>\n",
       "      <td>False</td>\n",
       "      <td>False</td>\n",
       "      <td>False</td>\n",
       "      <td>...</td>\n",
       "      <td>False</td>\n",
       "      <td>False</td>\n",
       "      <td>False</td>\n",
       "      <td>False</td>\n",
       "      <td>False</td>\n",
       "      <td>False</td>\n",
       "      <td>True</td>\n",
       "      <td>False</td>\n",
       "      <td>8.531885</td>\n",
       "      <td>6.240276</td>\n",
       "    </tr>\n",
       "    <tr>\n",
       "      <th>480</th>\n",
       "      <td>0.666667</td>\n",
       "      <td>0.225806</td>\n",
       "      <td>0.810345</td>\n",
       "      <td>False</td>\n",
       "      <td>False</td>\n",
       "      <td>False</td>\n",
       "      <td>False</td>\n",
       "      <td>False</td>\n",
       "      <td>True</td>\n",
       "      <td>False</td>\n",
       "      <td>...</td>\n",
       "      <td>False</td>\n",
       "      <td>False</td>\n",
       "      <td>False</td>\n",
       "      <td>False</td>\n",
       "      <td>False</td>\n",
       "      <td>False</td>\n",
       "      <td>False</td>\n",
       "      <td>True</td>\n",
       "      <td>9.797627</td>\n",
       "      <td>4.859812</td>\n",
       "    </tr>\n",
       "    <tr>\n",
       "      <th>567</th>\n",
       "      <td>0.809524</td>\n",
       "      <td>1.000000</td>\n",
       "      <td>0.689655</td>\n",
       "      <td>True</td>\n",
       "      <td>False</td>\n",
       "      <td>False</td>\n",
       "      <td>False</td>\n",
       "      <td>False</td>\n",
       "      <td>False</td>\n",
       "      <td>False</td>\n",
       "      <td>...</td>\n",
       "      <td>False</td>\n",
       "      <td>False</td>\n",
       "      <td>False</td>\n",
       "      <td>False</td>\n",
       "      <td>False</td>\n",
       "      <td>False</td>\n",
       "      <td>True</td>\n",
       "      <td>False</td>\n",
       "      <td>9.130106</td>\n",
       "      <td>6.240276</td>\n",
       "    </tr>\n",
       "    <tr>\n",
       "      <th>71</th>\n",
       "      <td>0.666667</td>\n",
       "      <td>0.032258</td>\n",
       "      <td>0.775862</td>\n",
       "      <td>False</td>\n",
       "      <td>False</td>\n",
       "      <td>False</td>\n",
       "      <td>False</td>\n",
       "      <td>False</td>\n",
       "      <td>False</td>\n",
       "      <td>False</td>\n",
       "      <td>...</td>\n",
       "      <td>False</td>\n",
       "      <td>False</td>\n",
       "      <td>False</td>\n",
       "      <td>True</td>\n",
       "      <td>False</td>\n",
       "      <td>False</td>\n",
       "      <td>False</td>\n",
       "      <td>True</td>\n",
       "      <td>9.104869</td>\n",
       "      <td>3.496508</td>\n",
       "    </tr>\n",
       "    <tr>\n",
       "      <th>1693</th>\n",
       "      <td>0.714286</td>\n",
       "      <td>0.225806</td>\n",
       "      <td>0.810345</td>\n",
       "      <td>False</td>\n",
       "      <td>False</td>\n",
       "      <td>False</td>\n",
       "      <td>False</td>\n",
       "      <td>False</td>\n",
       "      <td>False</td>\n",
       "      <td>False</td>\n",
       "      <td>...</td>\n",
       "      <td>False</td>\n",
       "      <td>False</td>\n",
       "      <td>False</td>\n",
       "      <td>True</td>\n",
       "      <td>False</td>\n",
       "      <td>False</td>\n",
       "      <td>True</td>\n",
       "      <td>False</td>\n",
       "      <td>10.107978</td>\n",
       "      <td>4.859812</td>\n",
       "    </tr>\n",
       "    <tr>\n",
       "      <th>...</th>\n",
       "      <td>...</td>\n",
       "      <td>...</td>\n",
       "      <td>...</td>\n",
       "      <td>...</td>\n",
       "      <td>...</td>\n",
       "      <td>...</td>\n",
       "      <td>...</td>\n",
       "      <td>...</td>\n",
       "      <td>...</td>\n",
       "      <td>...</td>\n",
       "      <td>...</td>\n",
       "      <td>...</td>\n",
       "      <td>...</td>\n",
       "      <td>...</td>\n",
       "      <td>...</td>\n",
       "      <td>...</td>\n",
       "      <td>...</td>\n",
       "      <td>...</td>\n",
       "      <td>...</td>\n",
       "      <td>...</td>\n",
       "      <td>...</td>\n",
       "    </tr>\n",
       "    <tr>\n",
       "      <th>1131</th>\n",
       "      <td>0.761905</td>\n",
       "      <td>0.032258</td>\n",
       "      <td>0.810345</td>\n",
       "      <td>False</td>\n",
       "      <td>False</td>\n",
       "      <td>False</td>\n",
       "      <td>False</td>\n",
       "      <td>False</td>\n",
       "      <td>False</td>\n",
       "      <td>True</td>\n",
       "      <td>...</td>\n",
       "      <td>False</td>\n",
       "      <td>False</td>\n",
       "      <td>True</td>\n",
       "      <td>False</td>\n",
       "      <td>False</td>\n",
       "      <td>False</td>\n",
       "      <td>False</td>\n",
       "      <td>True</td>\n",
       "      <td>8.993427</td>\n",
       "      <td>3.496508</td>\n",
       "    </tr>\n",
       "    <tr>\n",
       "      <th>1295</th>\n",
       "      <td>0.619048</td>\n",
       "      <td>0.225806</td>\n",
       "      <td>0.827586</td>\n",
       "      <td>False</td>\n",
       "      <td>False</td>\n",
       "      <td>False</td>\n",
       "      <td>True</td>\n",
       "      <td>False</td>\n",
       "      <td>False</td>\n",
       "      <td>False</td>\n",
       "      <td>...</td>\n",
       "      <td>True</td>\n",
       "      <td>False</td>\n",
       "      <td>False</td>\n",
       "      <td>False</td>\n",
       "      <td>False</td>\n",
       "      <td>False</td>\n",
       "      <td>True</td>\n",
       "      <td>False</td>\n",
       "      <td>9.546813</td>\n",
       "      <td>4.859812</td>\n",
       "    </tr>\n",
       "    <tr>\n",
       "      <th>861</th>\n",
       "      <td>0.761905</td>\n",
       "      <td>0.225806</td>\n",
       "      <td>0.844828</td>\n",
       "      <td>False</td>\n",
       "      <td>False</td>\n",
       "      <td>False</td>\n",
       "      <td>False</td>\n",
       "      <td>True</td>\n",
       "      <td>False</td>\n",
       "      <td>False</td>\n",
       "      <td>...</td>\n",
       "      <td>False</td>\n",
       "      <td>False</td>\n",
       "      <td>False</td>\n",
       "      <td>True</td>\n",
       "      <td>False</td>\n",
       "      <td>False</td>\n",
       "      <td>True</td>\n",
       "      <td>False</td>\n",
       "      <td>10.158246</td>\n",
       "      <td>4.859812</td>\n",
       "    </tr>\n",
       "    <tr>\n",
       "      <th>1460</th>\n",
       "      <td>0.666667</td>\n",
       "      <td>0.032258</td>\n",
       "      <td>0.810345</td>\n",
       "      <td>False</td>\n",
       "      <td>False</td>\n",
       "      <td>False</td>\n",
       "      <td>False</td>\n",
       "      <td>False</td>\n",
       "      <td>False</td>\n",
       "      <td>False</td>\n",
       "      <td>...</td>\n",
       "      <td>False</td>\n",
       "      <td>False</td>\n",
       "      <td>False</td>\n",
       "      <td>False</td>\n",
       "      <td>False</td>\n",
       "      <td>False</td>\n",
       "      <td>False</td>\n",
       "      <td>True</td>\n",
       "      <td>9.158099</td>\n",
       "      <td>3.496508</td>\n",
       "    </tr>\n",
       "    <tr>\n",
       "      <th>1127</th>\n",
       "      <td>0.714286</td>\n",
       "      <td>0.225806</td>\n",
       "      <td>0.793103</td>\n",
       "      <td>False</td>\n",
       "      <td>False</td>\n",
       "      <td>False</td>\n",
       "      <td>False</td>\n",
       "      <td>False</td>\n",
       "      <td>False</td>\n",
       "      <td>True</td>\n",
       "      <td>...</td>\n",
       "      <td>True</td>\n",
       "      <td>False</td>\n",
       "      <td>False</td>\n",
       "      <td>False</td>\n",
       "      <td>False</td>\n",
       "      <td>False</td>\n",
       "      <td>True</td>\n",
       "      <td>False</td>\n",
       "      <td>9.798127</td>\n",
       "      <td>4.859812</td>\n",
       "    </tr>\n",
       "  </tbody>\n",
       "</table>\n",
       "<p>1586 rows × 38 columns</p>\n",
       "</div>"
      ],
      "text/plain": [
       "       ratings   storage      size  brand_apple  brand_infinix  brand_mi  \\\n",
       "720   0.857143  1.000000  0.741379         True          False     False   \n",
       "480   0.666667  0.225806  0.810345        False          False     False   \n",
       "567   0.809524  1.000000  0.689655         True          False     False   \n",
       "71    0.666667  0.032258  0.775862        False          False     False   \n",
       "1693  0.714286  0.225806  0.810345        False          False     False   \n",
       "...        ...       ...       ...          ...            ...       ...   \n",
       "1131  0.761905  0.032258  0.810345        False          False     False   \n",
       "1295  0.619048  0.225806  0.827586        False          False     False   \n",
       "861   0.761905  0.225806  0.844828        False          False     False   \n",
       "1460  0.666667  0.032258  0.810345        False          False     False   \n",
       "1127  0.714286  0.225806  0.793103        False          False     False   \n",
       "\n",
       "      brand_motorola  brand_oneplus  brand_oppo  brand_realme  ...  \\\n",
       "720            False          False       False         False  ...   \n",
       "480            False          False        True         False  ...   \n",
       "567            False          False       False         False  ...   \n",
       "71             False          False       False         False  ...   \n",
       "1693           False          False       False         False  ...   \n",
       "...              ...            ...         ...           ...  ...   \n",
       "1131           False          False       False          True  ...   \n",
       "1295            True          False       False         False  ...   \n",
       "861            False           True       False         False  ...   \n",
       "1460           False          False       False         False  ...   \n",
       "1127           False          False       False          True  ...   \n",
       "\n",
       "      processor_type_qualcomm  processor_type_samsung  processor_type_unisoc  \\\n",
       "720                     False                   False                  False   \n",
       "480                     False                   False                  False   \n",
       "567                     False                   False                  False   \n",
       "71                      False                   False                  False   \n",
       "1693                    False                   False                  False   \n",
       "...                       ...                     ...                    ...   \n",
       "1131                    False                   False                   True   \n",
       "1295                     True                   False                  False   \n",
       "861                     False                   False                  False   \n",
       "1460                    False                   False                  False   \n",
       "1127                     True                   False                  False   \n",
       "\n",
       "      processor_type_unknown  resolution_2K  resolution_4K  \\\n",
       "720                    False          False          False   \n",
       "480                    False          False          False   \n",
       "567                    False          False          False   \n",
       "71                      True          False          False   \n",
       "1693                    True          False          False   \n",
       "...                      ...            ...            ...   \n",
       "1131                   False          False          False   \n",
       "1295                   False          False          False   \n",
       "861                     True          False          False   \n",
       "1460                   False          False          False   \n",
       "1127                   False          False          False   \n",
       "\n",
       "      resolution_Full HD  resolution_HD  price_log  storage_log  \n",
       "720                 True          False   8.531885     6.240276  \n",
       "480                False           True   9.797627     4.859812  \n",
       "567                 True          False   9.130106     6.240276  \n",
       "71                 False           True   9.104869     3.496508  \n",
       "1693                True          False  10.107978     4.859812  \n",
       "...                  ...            ...        ...          ...  \n",
       "1131               False           True   8.993427     3.496508  \n",
       "1295                True          False   9.546813     4.859812  \n",
       "861                 True          False  10.158246     4.859812  \n",
       "1460               False           True   9.158099     3.496508  \n",
       "1127                True          False   9.798127     4.859812  \n",
       "\n",
       "[1586 rows x 38 columns]"
      ]
     },
     "execution_count": 26,
     "metadata": {},
     "output_type": "execute_result"
    }
   ],
   "source": [
    "X_train"
   ]
  },
  {
   "cell_type": "code",
   "execution_count": 27,
   "id": "131fc395",
   "metadata": {
    "execution": {
     "iopub.execute_input": "2024-05-16T12:26:14.395502Z",
     "iopub.status.busy": "2024-05-16T12:26:14.395110Z",
     "iopub.status.idle": "2024-05-16T12:26:14.404092Z",
     "shell.execute_reply": "2024-05-16T12:26:14.402933Z"
    },
    "papermill": {
     "duration": 0.035498,
     "end_time": "2024-05-16T12:26:14.406410",
     "exception": false,
     "start_time": "2024-05-16T12:26:14.370912",
     "status": "completed"
    },
    "tags": []
   },
   "outputs": [
    {
     "data": {
      "text/plain": [
       "720     0.055601\n",
       "480     0.199242\n",
       "567     0.101806\n",
       "71      0.099248\n",
       "1693    0.272046\n",
       "          ...   \n",
       "1131    0.088695\n",
       "1295    0.154861\n",
       "861     0.286113\n",
       "1460    0.104719\n",
       "1127    0.199342\n",
       "Name: price, Length: 1586, dtype: float64"
      ]
     },
     "execution_count": 27,
     "metadata": {},
     "output_type": "execute_result"
    }
   ],
   "source": [
    "y_train"
   ]
  },
  {
   "cell_type": "markdown",
   "id": "db83ac52",
   "metadata": {
    "papermill": {
     "duration": 0.022704,
     "end_time": "2024-05-16T12:26:14.450994",
     "exception": false,
     "start_time": "2024-05-16T12:26:14.428290",
     "status": "completed"
    },
    "tags": []
   },
   "source": [
    "<a id=\"1\"></a>\n",
    "<div style=\"font-family: Cambria; font-weight: bold; letter-spacing: 0px; color: #ffffff; font-size: 120%; text-align: left; padding: 3px; background-color: #0000ff; border-bottom: 10px solid #80ffff;\">\n",
    "    Training and evalution of model\n",
    "</div>"
   ]
  },
  {
   "cell_type": "markdown",
   "id": "3d3d9286",
   "metadata": {
    "papermill": {
     "duration": 0.025276,
     "end_time": "2024-05-16T12:26:14.498803",
     "exception": false,
     "start_time": "2024-05-16T12:26:14.473527",
     "status": "completed"
    },
    "tags": []
   },
   "source": [
    "<div style=\"background-color: #ff0000; padding: 20px; border-radius: 10px;\">\n",
    "    <h1 style=\"text-align: left; font-size: 25px;\"> LinearRegression </h1>\n",
    "</div>\n"
   ]
  },
  {
   "cell_type": "code",
   "execution_count": 28,
   "id": "9c9720f8",
   "metadata": {
    "execution": {
     "iopub.execute_input": "2024-05-16T12:26:14.546697Z",
     "iopub.status.busy": "2024-05-16T12:26:14.546288Z",
     "iopub.status.idle": "2024-05-16T12:26:14.592594Z",
     "shell.execute_reply": "2024-05-16T12:26:14.591460Z"
    },
    "papermill": {
     "duration": 0.072237,
     "end_time": "2024-05-16T12:26:14.595719",
     "exception": false,
     "start_time": "2024-05-16T12:26:14.523482",
     "status": "completed"
    },
    "tags": []
   },
   "outputs": [
    {
     "data": {
      "text/html": [
       "<style>#sk-container-id-1 {color: black;background-color: white;}#sk-container-id-1 pre{padding: 0;}#sk-container-id-1 div.sk-toggleable {background-color: white;}#sk-container-id-1 label.sk-toggleable__label {cursor: pointer;display: block;width: 100%;margin-bottom: 0;padding: 0.3em;box-sizing: border-box;text-align: center;}#sk-container-id-1 label.sk-toggleable__label-arrow:before {content: \"▸\";float: left;margin-right: 0.25em;color: #696969;}#sk-container-id-1 label.sk-toggleable__label-arrow:hover:before {color: black;}#sk-container-id-1 div.sk-estimator:hover label.sk-toggleable__label-arrow:before {color: black;}#sk-container-id-1 div.sk-toggleable__content {max-height: 0;max-width: 0;overflow: hidden;text-align: left;background-color: #f0f8ff;}#sk-container-id-1 div.sk-toggleable__content pre {margin: 0.2em;color: black;border-radius: 0.25em;background-color: #f0f8ff;}#sk-container-id-1 input.sk-toggleable__control:checked~div.sk-toggleable__content {max-height: 200px;max-width: 100%;overflow: auto;}#sk-container-id-1 input.sk-toggleable__control:checked~label.sk-toggleable__label-arrow:before {content: \"▾\";}#sk-container-id-1 div.sk-estimator input.sk-toggleable__control:checked~label.sk-toggleable__label {background-color: #d4ebff;}#sk-container-id-1 div.sk-label input.sk-toggleable__control:checked~label.sk-toggleable__label {background-color: #d4ebff;}#sk-container-id-1 input.sk-hidden--visually {border: 0;clip: rect(1px 1px 1px 1px);clip: rect(1px, 1px, 1px, 1px);height: 1px;margin: -1px;overflow: hidden;padding: 0;position: absolute;width: 1px;}#sk-container-id-1 div.sk-estimator {font-family: monospace;background-color: #f0f8ff;border: 1px dotted black;border-radius: 0.25em;box-sizing: border-box;margin-bottom: 0.5em;}#sk-container-id-1 div.sk-estimator:hover {background-color: #d4ebff;}#sk-container-id-1 div.sk-parallel-item::after {content: \"\";width: 100%;border-bottom: 1px solid gray;flex-grow: 1;}#sk-container-id-1 div.sk-label:hover label.sk-toggleable__label {background-color: #d4ebff;}#sk-container-id-1 div.sk-serial::before {content: \"\";position: absolute;border-left: 1px solid gray;box-sizing: border-box;top: 0;bottom: 0;left: 50%;z-index: 0;}#sk-container-id-1 div.sk-serial {display: flex;flex-direction: column;align-items: center;background-color: white;padding-right: 0.2em;padding-left: 0.2em;position: relative;}#sk-container-id-1 div.sk-item {position: relative;z-index: 1;}#sk-container-id-1 div.sk-parallel {display: flex;align-items: stretch;justify-content: center;background-color: white;position: relative;}#sk-container-id-1 div.sk-item::before, #sk-container-id-1 div.sk-parallel-item::before {content: \"\";position: absolute;border-left: 1px solid gray;box-sizing: border-box;top: 0;bottom: 0;left: 50%;z-index: -1;}#sk-container-id-1 div.sk-parallel-item {display: flex;flex-direction: column;z-index: 1;position: relative;background-color: white;}#sk-container-id-1 div.sk-parallel-item:first-child::after {align-self: flex-end;width: 50%;}#sk-container-id-1 div.sk-parallel-item:last-child::after {align-self: flex-start;width: 50%;}#sk-container-id-1 div.sk-parallel-item:only-child::after {width: 0;}#sk-container-id-1 div.sk-dashed-wrapped {border: 1px dashed gray;margin: 0 0.4em 0.5em 0.4em;box-sizing: border-box;padding-bottom: 0.4em;background-color: white;}#sk-container-id-1 div.sk-label label {font-family: monospace;font-weight: bold;display: inline-block;line-height: 1.2em;}#sk-container-id-1 div.sk-label-container {text-align: center;}#sk-container-id-1 div.sk-container {/* jupyter's `normalize.less` sets `[hidden] { display: none; }` but bootstrap.min.css set `[hidden] { display: none !important; }` so we also need the `!important` here to be able to override the default hidden behavior on the sphinx rendered scikit-learn.org. See: https://github.com/scikit-learn/scikit-learn/issues/21755 */display: inline-block !important;position: relative;}#sk-container-id-1 div.sk-text-repr-fallback {display: none;}</style><div id=\"sk-container-id-1\" class=\"sk-top-container\"><div class=\"sk-text-repr-fallback\"><pre>LinearRegression()</pre><b>In a Jupyter environment, please rerun this cell to show the HTML representation or trust the notebook. <br />On GitHub, the HTML representation is unable to render, please try loading this page with nbviewer.org.</b></div><div class=\"sk-container\" hidden><div class=\"sk-item\"><div class=\"sk-estimator sk-toggleable\"><input class=\"sk-toggleable__control sk-hidden--visually\" id=\"sk-estimator-id-1\" type=\"checkbox\" checked><label for=\"sk-estimator-id-1\" class=\"sk-toggleable__label sk-toggleable__label-arrow\">LinearRegression</label><div class=\"sk-toggleable__content\"><pre>LinearRegression()</pre></div></div></div></div></div>"
      ],
      "text/plain": [
       "LinearRegression()"
      ]
     },
     "execution_count": 28,
     "metadata": {},
     "output_type": "execute_result"
    }
   ],
   "source": [
    "from sklearn.linear_model import LinearRegression\n",
    "\n",
    "linear_reg = LinearRegression()\n",
    "linear_reg.fit(X_train, y_train)\n",
    "\n"
   ]
  },
  {
   "cell_type": "code",
   "execution_count": 29,
   "id": "5f8505c6",
   "metadata": {
    "execution": {
     "iopub.execute_input": "2024-05-16T12:26:14.677805Z",
     "iopub.status.busy": "2024-05-16T12:26:14.677260Z",
     "iopub.status.idle": "2024-05-16T12:26:14.692012Z",
     "shell.execute_reply": "2024-05-16T12:26:14.690823Z"
    },
    "papermill": {
     "duration": 0.061054,
     "end_time": "2024-05-16T12:26:14.695211",
     "exception": false,
     "start_time": "2024-05-16T12:26:14.634157",
     "status": "completed"
    },
    "tags": []
   },
   "outputs": [],
   "source": [
    "y_pred_train = linear_reg.predict(X_train)\n",
    "y_pred_test = linear_reg.predict(X_test)\n",
    "\n"
   ]
  },
  {
   "cell_type": "code",
   "execution_count": 30,
   "id": "cf20daab",
   "metadata": {
    "execution": {
     "iopub.execute_input": "2024-05-16T12:26:14.776241Z",
     "iopub.status.busy": "2024-05-16T12:26:14.775644Z",
     "iopub.status.idle": "2024-05-16T12:26:14.787741Z",
     "shell.execute_reply": "2024-05-16T12:26:14.786661Z"
    },
    "papermill": {
     "duration": 0.055432,
     "end_time": "2024-05-16T12:26:14.791260",
     "exception": false,
     "start_time": "2024-05-16T12:26:14.735828",
     "status": "completed"
    },
    "tags": []
   },
   "outputs": [
    {
     "name": "stdout",
     "output_type": "stream",
     "text": [
      "Training MSE: 0.003911375411876437\n",
      "Testing MSE: 0.002656753604869572\n",
      "Training R2 Score: 0.5871440260458628\n",
      "Testing R2 Score: 0.6690606847157776\n"
     ]
    }
   ],
   "source": [
    "# Evaluate the model\n",
    "train_mse = mean_squared_error(y_train, y_pred_train)\n",
    "test_mse = mean_squared_error(y_test, y_pred_test)\n",
    "train_r2 = r2_score(y_train, y_pred_train)\n",
    "test_r2 = r2_score(y_test, y_pred_test)\n",
    "\n",
    "print(f\"Training MSE: {train_mse}\")\n",
    "print(f\"Testing MSE: {test_mse}\")\n",
    "print(f\"Training R2 Score: {train_r2}\")\n",
    "print(f\"Testing R2 Score: {test_r2}\")"
   ]
  },
  {
   "cell_type": "markdown",
   "id": "38a73804",
   "metadata": {
    "papermill": {
     "duration": 0.021178,
     "end_time": "2024-05-16T12:26:14.842438",
     "exception": false,
     "start_time": "2024-05-16T12:26:14.821260",
     "status": "completed"
    },
    "tags": []
   },
   "source": [
    "<div style=\"background-color: #ff0000; padding: 20px; border-radius: 10px;\">\n",
    "    <h1 style=\"text-align: left; font-size: 25px;\"> KNN </h1>\n",
    "</div>"
   ]
  },
  {
   "cell_type": "code",
   "execution_count": 31,
   "id": "08085d4f",
   "metadata": {
    "execution": {
     "iopub.execute_input": "2024-05-16T12:26:14.887246Z",
     "iopub.status.busy": "2024-05-16T12:26:14.886868Z",
     "iopub.status.idle": "2024-05-16T12:26:15.320035Z",
     "shell.execute_reply": "2024-05-16T12:26:15.318848Z"
    },
    "papermill": {
     "duration": 0.45817,
     "end_time": "2024-05-16T12:26:15.322308",
     "exception": false,
     "start_time": "2024-05-16T12:26:14.864138",
     "status": "completed"
    },
    "tags": []
   },
   "outputs": [
    {
     "data": {
      "image/png": "[encoded data removed]",
      "text/plain": [
       "<Figure size 1000x600 with 1 Axes>"
      ]
     },
     "metadata": {},
     "output_type": "display_data"
    }
   ],
   "source": [
    "mse_values = []\n",
    "r2_values = []\n",
    "max_neighbors = 10  \n",
    "for k in range(1, max_neighbors + 1):\n",
    "    knn = KNeighborsRegressor(n_neighbors=k)\n",
    "    knn.fit(X_train, y_train)\n",
    "    y_pred = knn.predict(X_test)\n",
    "    mse = mean_squared_error(y_test, y_pred)\n",
    "    r2 = r2_score(y_test, y_pred)\n",
    "    mse_values.append(mse)\n",
    "    r2_values.append(r2)\n",
    "\n",
    "# Plotting the elbow curve\n",
    "plt.figure(figsize=(10, 6))\n",
    "plt.plot(range(1, max_neighbors + 1), mse_values, marker='o')\n",
    "plt.xlabel('Number of Neighbors (k)')\n",
    "plt.ylabel('Mean Squared Error (MSE)')\n",
    "plt.title('Elbow Method for Optimal k')\n",
    "plt.grid(True)\n",
    "plt.show()\n",
    "\n"
   ]
  },
  {
   "cell_type": "code",
   "execution_count": 32,
   "id": "2b56ac26",
   "metadata": {
    "execution": {
     "iopub.execute_input": "2024-05-16T12:26:15.369370Z",
     "iopub.status.busy": "2024-05-16T12:26:15.368961Z",
     "iopub.status.idle": "2024-05-16T12:26:15.374955Z",
     "shell.execute_reply": "2024-05-16T12:26:15.373683Z"
    },
    "papermill": {
     "duration": 0.032297,
     "end_time": "2024-05-16T12:26:15.377422",
     "exception": false,
     "start_time": "2024-05-16T12:26:15.345125",
     "status": "completed"
    },
    "tags": []
   },
   "outputs": [
    {
     "name": "stdout",
     "output_type": "stream",
     "text": [
      "Optimal number of neighbors (k): 3\n"
     ]
    }
   ],
   "source": [
    "# Choose the optimal k based on the elbow curve (lowest MSE)\n",
    "optimal_k = mse_values.index(min(mse_values)) + 1\n",
    "print(f\"Optimal number of neighbors (k): {optimal_k}\")\n",
    "\n"
   ]
  },
  {
   "cell_type": "code",
   "execution_count": 33,
   "id": "42fd429a",
   "metadata": {
    "execution": {
     "iopub.execute_input": "2024-05-16T12:26:15.426415Z",
     "iopub.status.busy": "2024-05-16T12:26:15.425334Z",
     "iopub.status.idle": "2024-05-16T12:26:15.437857Z",
     "shell.execute_reply": "2024-05-16T12:26:15.436748Z"
    },
    "papermill": {
     "duration": 0.03973,
     "end_time": "2024-05-16T12:26:15.440219",
     "exception": false,
     "start_time": "2024-05-16T12:26:15.400489",
     "status": "completed"
    },
    "tags": []
   },
   "outputs": [
    {
     "data": {
      "text/html": [
       "<style>#sk-container-id-2 {color: black;background-color: white;}#sk-container-id-2 pre{padding: 0;}#sk-container-id-2 div.sk-toggleable {background-color: white;}#sk-container-id-2 label.sk-toggleable__label {cursor: pointer;display: block;width: 100%;margin-bottom: 0;padding: 0.3em;box-sizing: border-box;text-align: center;}#sk-container-id-2 label.sk-toggleable__label-arrow:before {content: \"▸\";float: left;margin-right: 0.25em;color: #696969;}#sk-container-id-2 label.sk-toggleable__label-arrow:hover:before {color: black;}#sk-container-id-2 div.sk-estimator:hover label.sk-toggleable__label-arrow:before {color: black;}#sk-container-id-2 div.sk-toggleable__content {max-height: 0;max-width: 0;overflow: hidden;text-align: left;background-color: #f0f8ff;}#sk-container-id-2 div.sk-toggleable__content pre {margin: 0.2em;color: black;border-radius: 0.25em;background-color: #f0f8ff;}#sk-container-id-2 input.sk-toggleable__control:checked~div.sk-toggleable__content {max-height: 200px;max-width: 100%;overflow: auto;}#sk-container-id-2 input.sk-toggleable__control:checked~label.sk-toggleable__label-arrow:before {content: \"▾\";}#sk-container-id-2 div.sk-estimator input.sk-toggleable__control:checked~label.sk-toggleable__label {background-color: #d4ebff;}#sk-container-id-2 div.sk-label input.sk-toggleable__control:checked~label.sk-toggleable__label {background-color: #d4ebff;}#sk-container-id-2 input.sk-hidden--visually {border: 0;clip: rect(1px 1px 1px 1px);clip: rect(1px, 1px, 1px, 1px);height: 1px;margin: -1px;overflow: hidden;padding: 0;position: absolute;width: 1px;}#sk-container-id-2 div.sk-estimator {font-family: monospace;background-color: #f0f8ff;border: 1px dotted black;border-radius: 0.25em;box-sizing: border-box;margin-bottom: 0.5em;}#sk-container-id-2 div.sk-estimator:hover {background-color: #d4ebff;}#sk-container-id-2 div.sk-parallel-item::after {content: \"\";width: 100%;border-bottom: 1px solid gray;flex-grow: 1;}#sk-container-id-2 div.sk-label:hover label.sk-toggleable__label {background-color: #d4ebff;}#sk-container-id-2 div.sk-serial::before {content: \"\";position: absolute;border-left: 1px solid gray;box-sizing: border-box;top: 0;bottom: 0;left: 50%;z-index: 0;}#sk-container-id-2 div.sk-serial {display: flex;flex-direction: column;align-items: center;background-color: white;padding-right: 0.2em;padding-left: 0.2em;position: relative;}#sk-container-id-2 div.sk-item {position: relative;z-index: 1;}#sk-container-id-2 div.sk-parallel {display: flex;align-items: stretch;justify-content: center;background-color: white;position: relative;}#sk-container-id-2 div.sk-item::before, #sk-container-id-2 div.sk-parallel-item::before {content: \"\";position: absolute;border-left: 1px solid gray;box-sizing: border-box;top: 0;bottom: 0;left: 50%;z-index: -1;}#sk-container-id-2 div.sk-parallel-item {display: flex;flex-direction: column;z-index: 1;position: relative;background-color: white;}#sk-container-id-2 div.sk-parallel-item:first-child::after {align-self: flex-end;width: 50%;}#sk-container-id-2 div.sk-parallel-item:last-child::after {align-self: flex-start;width: 50%;}#sk-container-id-2 div.sk-parallel-item:only-child::after {width: 0;}#sk-container-id-2 div.sk-dashed-wrapped {border: 1px dashed gray;margin: 0 0.4em 0.5em 0.4em;box-sizing: border-box;padding-bottom: 0.4em;background-color: white;}#sk-container-id-2 div.sk-label label {font-family: monospace;font-weight: bold;display: inline-block;line-height: 1.2em;}#sk-container-id-2 div.sk-label-container {text-align: center;}#sk-container-id-2 div.sk-container {/* jupyter's `normalize.less` sets `[hidden] { display: none; }` but bootstrap.min.css set `[hidden] { display: none !important; }` so we also need the `!important` here to be able to override the default hidden behavior on the sphinx rendered scikit-learn.org. See: https://github.com/scikit-learn/scikit-learn/issues/21755 */display: inline-block !important;position: relative;}#sk-container-id-2 div.sk-text-repr-fallback {display: none;}</style><div id=\"sk-container-id-2\" class=\"sk-top-container\"><div class=\"sk-text-repr-fallback\"><pre>KNeighborsRegressor(n_neighbors=3)</pre><b>In a Jupyter environment, please rerun this cell to show the HTML representation or trust the notebook. <br />On GitHub, the HTML representation is unable to render, please try loading this page with nbviewer.org.</b></div><div class=\"sk-container\" hidden><div class=\"sk-item\"><div class=\"sk-estimator sk-toggleable\"><input class=\"sk-toggleable__control sk-hidden--visually\" id=\"sk-estimator-id-2\" type=\"checkbox\" checked><label for=\"sk-estimator-id-2\" class=\"sk-toggleable__label sk-toggleable__label-arrow\">KNeighborsRegressor</label><div class=\"sk-toggleable__content\"><pre>KNeighborsRegressor(n_neighbors=3)</pre></div></div></div></div></div>"
      ],
      "text/plain": [
       "KNeighborsRegressor(n_neighbors=3)"
      ]
     },
     "execution_count": 33,
     "metadata": {},
     "output_type": "execute_result"
    }
   ],
   "source": [
    "# Train the KNN model with the optimal k\n",
    "knn = KNeighborsRegressor(n_neighbors=optimal_k)\n",
    "knn.fit(X_train, y_train)\n",
    "\n"
   ]
  },
  {
   "cell_type": "code",
   "execution_count": 34,
   "id": "a5e88074",
   "metadata": {
    "execution": {
     "iopub.execute_input": "2024-05-16T12:26:15.490333Z",
     "iopub.status.busy": "2024-05-16T12:26:15.489951Z",
     "iopub.status.idle": "2024-05-16T12:26:15.518882Z",
     "shell.execute_reply": "2024-05-16T12:26:15.517984Z"
    },
    "papermill": {
     "duration": 0.057978,
     "end_time": "2024-05-16T12:26:15.521420",
     "exception": false,
     "start_time": "2024-05-16T12:26:15.463442",
     "status": "completed"
    },
    "tags": []
   },
   "outputs": [],
   "source": [
    "# Evaluate the model\n",
    "y_pred_train = knn.predict(X_train)\n",
    "y_pred_test = knn.predict(X_test)\n",
    "\n"
   ]
  },
  {
   "cell_type": "code",
   "execution_count": 35,
   "id": "79e53844",
   "metadata": {
    "execution": {
     "iopub.execute_input": "2024-05-16T12:26:15.570538Z",
     "iopub.status.busy": "2024-05-16T12:26:15.569701Z",
     "iopub.status.idle": "2024-05-16T12:26:15.579075Z",
     "shell.execute_reply": "2024-05-16T12:26:15.577943Z"
    },
    "papermill": {
     "duration": 0.036357,
     "end_time": "2024-05-16T12:26:15.581391",
     "exception": false,
     "start_time": "2024-05-16T12:26:15.545034",
     "status": "completed"
    },
    "tags": []
   },
   "outputs": [
    {
     "name": "stdout",
     "output_type": "stream",
     "text": [
      "Training MSE: 0.0007921727742779289\n",
      "Testing MSE: 0.0014922491805218732\n",
      "Training R2 Score: 0.9163840777667605\n",
      "Testing R2 Score: 0.8141175300825103\n"
     ]
    }
   ],
   "source": [
    "train_mse = mean_squared_error(y_train, y_pred_train)\n",
    "test_mse = mean_squared_error(y_test, y_pred_test)\n",
    "train_r2 = r2_score(y_train, y_pred_train)\n",
    "test_r2 = r2_score(y_test, y_pred_test)\n",
    "\n",
    "print(f\"Training MSE: {train_mse}\")\n",
    "print(f\"Testing MSE: {test_mse}\")\n",
    "print(f\"Training R2 Score: {train_r2}\")\n",
    "print(f\"Testing R2 Score: {test_r2}\")"
   ]
  },
  {
   "cell_type": "markdown",
   "id": "840158ec",
   "metadata": {
    "papermill": {
     "duration": 0.023107,
     "end_time": "2024-05-16T12:26:15.628532",
     "exception": false,
     "start_time": "2024-05-16T12:26:15.605425",
     "status": "completed"
    },
    "tags": []
   },
   "source": [
    "<div style=\"background-color: #ff0000; padding: 20px; border-radius: 10px;\">\n",
    "    <h1 style=\"text-align: left; font-size: 25px;\"> DecisionTreeRegressor </h1>\n",
    "</div>"
   ]
  },
  {
   "cell_type": "code",
   "execution_count": 36,
   "id": "ef35a987",
   "metadata": {
    "execution": {
     "iopub.execute_input": "2024-05-16T12:26:15.679526Z",
     "iopub.status.busy": "2024-05-16T12:26:15.678866Z",
     "iopub.status.idle": "2024-05-16T12:26:18.988599Z",
     "shell.execute_reply": "2024-05-16T12:26:18.987365Z"
    },
    "papermill": {
     "duration": 3.337702,
     "end_time": "2024-05-16T12:26:18.990826",
     "exception": false,
     "start_time": "2024-05-16T12:26:15.653124",
     "status": "completed"
    },
    "tags": []
   },
   "outputs": [
    {
     "name": "stdout",
     "output_type": "stream",
     "text": [
      "Fitting 5 folds for each of 36 candidates, totalling 180 fits\n"
     ]
    },
    {
     "data": {
      "text/html": [
       "<style>#sk-container-id-3 {color: black;background-color: white;}#sk-container-id-3 pre{padding: 0;}#sk-container-id-3 div.sk-toggleable {background-color: white;}#sk-container-id-3 label.sk-toggleable__label {cursor: pointer;display: block;width: 100%;margin-bottom: 0;padding: 0.3em;box-sizing: border-box;text-align: center;}#sk-container-id-3 label.sk-toggleable__label-arrow:before {content: \"▸\";float: left;margin-right: 0.25em;color: #696969;}#sk-container-id-3 label.sk-toggleable__label-arrow:hover:before {color: black;}#sk-container-id-3 div.sk-estimator:hover label.sk-toggleable__label-arrow:before {color: black;}#sk-container-id-3 div.sk-toggleable__content {max-height: 0;max-width: 0;overflow: hidden;text-align: left;background-color: #f0f8ff;}#sk-container-id-3 div.sk-toggleable__content pre {margin: 0.2em;color: black;border-radius: 0.25em;background-color: #f0f8ff;}#sk-container-id-3 input.sk-toggleable__control:checked~div.sk-toggleable__content {max-height: 200px;max-width: 100%;overflow: auto;}#sk-container-id-3 input.sk-toggleable__control:checked~label.sk-toggleable__label-arrow:before {content: \"▾\";}#sk-container-id-3 div.sk-estimator input.sk-toggleable__control:checked~label.sk-toggleable__label {background-color: #d4ebff;}#sk-container-id-3 div.sk-label input.sk-toggleable__control:checked~label.sk-toggleable__label {background-color: #d4ebff;}#sk-container-id-3 input.sk-hidden--visually {border: 0;clip: rect(1px 1px 1px 1px);clip: rect(1px, 1px, 1px, 1px);height: 1px;margin: -1px;overflow: hidden;padding: 0;position: absolute;width: 1px;}#sk-container-id-3 div.sk-estimator {font-family: monospace;background-color: #f0f8ff;border: 1px dotted black;border-radius: 0.25em;box-sizing: border-box;margin-bottom: 0.5em;}#sk-container-id-3 div.sk-estimator:hover {background-color: #d4ebff;}#sk-container-id-3 div.sk-parallel-item::after {content: \"\";width: 100%;border-bottom: 1px solid gray;flex-grow: 1;}#sk-container-id-3 div.sk-label:hover label.sk-toggleable__label {background-color: #d4ebff;}#sk-container-id-3 div.sk-serial::before {content: \"\";position: absolute;border-left: 1px solid gray;box-sizing: border-box;top: 0;bottom: 0;left: 50%;z-index: 0;}#sk-container-id-3 div.sk-serial {display: flex;flex-direction: column;align-items: center;background-color: white;padding-right: 0.2em;padding-left: 0.2em;position: relative;}#sk-container-id-3 div.sk-item {position: relative;z-index: 1;}#sk-container-id-3 div.sk-parallel {display: flex;align-items: stretch;justify-content: center;background-color: white;position: relative;}#sk-container-id-3 div.sk-item::before, #sk-container-id-3 div.sk-parallel-item::before {content: \"\";position: absolute;border-left: 1px solid gray;box-sizing: border-box;top: 0;bottom: 0;left: 50%;z-index: -1;}#sk-container-id-3 div.sk-parallel-item {display: flex;flex-direction: column;z-index: 1;position: relative;background-color: white;}#sk-container-id-3 div.sk-parallel-item:first-child::after {align-self: flex-end;width: 50%;}#sk-container-id-3 div.sk-parallel-item:last-child::after {align-self: flex-start;width: 50%;}#sk-container-id-3 div.sk-parallel-item:only-child::after {width: 0;}#sk-container-id-3 div.sk-dashed-wrapped {border: 1px dashed gray;margin: 0 0.4em 0.5em 0.4em;box-sizing: border-box;padding-bottom: 0.4em;background-color: white;}#sk-container-id-3 div.sk-label label {font-family: monospace;font-weight: bold;display: inline-block;line-height: 1.2em;}#sk-container-id-3 div.sk-label-container {text-align: center;}#sk-container-id-3 div.sk-container {/* jupyter's `normalize.less` sets `[hidden] { display: none; }` but bootstrap.min.css set `[hidden] { display: none !important; }` so we also need the `!important` here to be able to override the default hidden behavior on the sphinx rendered scikit-learn.org. See: https://github.com/scikit-learn/scikit-learn/issues/21755 */display: inline-block !important;position: relative;}#sk-container-id-3 div.sk-text-repr-fallback {display: none;}</style><div id=\"sk-container-id-3\" class=\"sk-top-container\"><div class=\"sk-text-repr-fallback\"><pre>GridSearchCV(cv=5, estimator=DecisionTreeRegressor(random_state=42), n_jobs=-1,\n",
       "             param_grid={&#x27;max_depth&#x27;: [3, 5, 7, 9],\n",
       "                         &#x27;min_samples_leaf&#x27;: [1, 2, 4],\n",
       "                         &#x27;min_samples_split&#x27;: [2, 5, 10]},\n",
       "             scoring=&#x27;neg_mean_squared_error&#x27;, verbose=1)</pre><b>In a Jupyter environment, please rerun this cell to show the HTML representation or trust the notebook. <br />On GitHub, the HTML representation is unable to render, please try loading this page with nbviewer.org.</b></div><div class=\"sk-container\" hidden><div class=\"sk-item sk-dashed-wrapped\"><div class=\"sk-label-container\"><div class=\"sk-label sk-toggleable\"><input class=\"sk-toggleable__control sk-hidden--visually\" id=\"sk-estimator-id-3\" type=\"checkbox\" ><label for=\"sk-estimator-id-3\" class=\"sk-toggleable__label sk-toggleable__label-arrow\">GridSearchCV</label><div class=\"sk-toggleable__content\"><pre>GridSearchCV(cv=5, estimator=DecisionTreeRegressor(random_state=42), n_jobs=-1,\n",
       "             param_grid={&#x27;max_depth&#x27;: [3, 5, 7, 9],\n",
       "                         &#x27;min_samples_leaf&#x27;: [1, 2, 4],\n",
       "                         &#x27;min_samples_split&#x27;: [2, 5, 10]},\n",
       "             scoring=&#x27;neg_mean_squared_error&#x27;, verbose=1)</pre></div></div></div><div class=\"sk-parallel\"><div class=\"sk-parallel-item\"><div class=\"sk-item\"><div class=\"sk-label-container\"><div class=\"sk-label sk-toggleable\"><input class=\"sk-toggleable__control sk-hidden--visually\" id=\"sk-estimator-id-4\" type=\"checkbox\" ><label for=\"sk-estimator-id-4\" class=\"sk-toggleable__label sk-toggleable__label-arrow\">estimator: DecisionTreeRegressor</label><div class=\"sk-toggleable__content\"><pre>DecisionTreeRegressor(random_state=42)</pre></div></div></div><div class=\"sk-serial\"><div class=\"sk-item\"><div class=\"sk-estimator sk-toggleable\"><input class=\"sk-toggleable__control sk-hidden--visually\" id=\"sk-estimator-id-5\" type=\"checkbox\" ><label for=\"sk-estimator-id-5\" class=\"sk-toggleable__label sk-toggleable__label-arrow\">DecisionTreeRegressor</label><div class=\"sk-toggleable__content\"><pre>DecisionTreeRegressor(random_state=42)</pre></div></div></div></div></div></div></div></div></div></div>"
      ],
      "text/plain": [
       "GridSearchCV(cv=5, estimator=DecisionTreeRegressor(random_state=42), n_jobs=-1,\n",
       "             param_grid={'max_depth': [3, 5, 7, 9],\n",
       "                         'min_samples_leaf': [1, 2, 4],\n",
       "                         'min_samples_split': [2, 5, 10]},\n",
       "             scoring='neg_mean_squared_error', verbose=1)"
      ]
     },
     "execution_count": 36,
     "metadata": {},
     "output_type": "execute_result"
    }
   ],
   "source": [
    "from sklearn.model_selection import train_test_split, GridSearchCV\n",
    "from sklearn.tree import DecisionTreeRegressor, export_graphviz\n",
    "\n",
    "# Define the hyperparameters grid\n",
    "param_grid = {\n",
    "    'max_depth': [3, 5, 7, 9],\n",
    "    'min_samples_split': [2, 5, 10],\n",
    "    'min_samples_leaf': [1, 2, 4]\n",
    "}\n",
    "\n",
    "# Initialize the Decision Tree model\n",
    "dt_regressor = DecisionTreeRegressor(random_state=42)\n",
    "\n",
    "# Initialize GridSearchCV with cross-validation\n",
    "grid_search = GridSearchCV(estimator=dt_regressor, param_grid=param_grid, cv=5, scoring='neg_mean_squared_error', verbose=1, n_jobs=-1)\n",
    "\n",
    "# Fit the model with hyperparameter tuning\n",
    "grid_search.fit(X_train, y_train)\n",
    "\n"
   ]
  },
  {
   "cell_type": "code",
   "execution_count": 37,
   "id": "8db192c1",
   "metadata": {
    "execution": {
     "iopub.execute_input": "2024-05-16T12:26:19.039826Z",
     "iopub.status.busy": "2024-05-16T12:26:19.039427Z",
     "iopub.status.idle": "2024-05-16T12:26:19.060004Z",
     "shell.execute_reply": "2024-05-16T12:26:19.059060Z"
    },
    "papermill": {
     "duration": 0.047882,
     "end_time": "2024-05-16T12:26:19.062149",
     "exception": false,
     "start_time": "2024-05-16T12:26:19.014267",
     "status": "completed"
    },
    "tags": []
   },
   "outputs": [
    {
     "name": "stdout",
     "output_type": "stream",
     "text": [
      "Best Hyperparameters: {'max_depth': 9, 'min_samples_leaf': 1, 'min_samples_split': 2}\n"
     ]
    },
    {
     "data": {
      "text/html": [
       "<style>#sk-container-id-4 {color: black;background-color: white;}#sk-container-id-4 pre{padding: 0;}#sk-container-id-4 div.sk-toggleable {background-color: white;}#sk-container-id-4 label.sk-toggleable__label {cursor: pointer;display: block;width: 100%;margin-bottom: 0;padding: 0.3em;box-sizing: border-box;text-align: center;}#sk-container-id-4 label.sk-toggleable__label-arrow:before {content: \"▸\";float: left;margin-right: 0.25em;color: #696969;}#sk-container-id-4 label.sk-toggleable__label-arrow:hover:before {color: black;}#sk-container-id-4 div.sk-estimator:hover label.sk-toggleable__label-arrow:before {color: black;}#sk-container-id-4 div.sk-toggleable__content {max-height: 0;max-width: 0;overflow: hidden;text-align: left;background-color: #f0f8ff;}#sk-container-id-4 div.sk-toggleable__content pre {margin: 0.2em;color: black;border-radius: 0.25em;background-color: #f0f8ff;}#sk-container-id-4 input.sk-toggleable__control:checked~div.sk-toggleable__content {max-height: 200px;max-width: 100%;overflow: auto;}#sk-container-id-4 input.sk-toggleable__control:checked~label.sk-toggleable__label-arrow:before {content: \"▾\";}#sk-container-id-4 div.sk-estimator input.sk-toggleable__control:checked~label.sk-toggleable__label {background-color: #d4ebff;}#sk-container-id-4 div.sk-label input.sk-toggleable__control:checked~label.sk-toggleable__label {background-color: #d4ebff;}#sk-container-id-4 input.sk-hidden--visually {border: 0;clip: rect(1px 1px 1px 1px);clip: rect(1px, 1px, 1px, 1px);height: 1px;margin: -1px;overflow: hidden;padding: 0;position: absolute;width: 1px;}#sk-container-id-4 div.sk-estimator {font-family: monospace;background-color: #f0f8ff;border: 1px dotted black;border-radius: 0.25em;box-sizing: border-box;margin-bottom: 0.5em;}#sk-container-id-4 div.sk-estimator:hover {background-color: #d4ebff;}#sk-container-id-4 div.sk-parallel-item::after {content: \"\";width: 100%;border-bottom: 1px solid gray;flex-grow: 1;}#sk-container-id-4 div.sk-label:hover label.sk-toggleable__label {background-color: #d4ebff;}#sk-container-id-4 div.sk-serial::before {content: \"\";position: absolute;border-left: 1px solid gray;box-sizing: border-box;top: 0;bottom: 0;left: 50%;z-index: 0;}#sk-container-id-4 div.sk-serial {display: flex;flex-direction: column;align-items: center;background-color: white;padding-right: 0.2em;padding-left: 0.2em;position: relative;}#sk-container-id-4 div.sk-item {position: relative;z-index: 1;}#sk-container-id-4 div.sk-parallel {display: flex;align-items: stretch;justify-content: center;background-color: white;position: relative;}#sk-container-id-4 div.sk-item::before, #sk-container-id-4 div.sk-parallel-item::before {content: \"\";position: absolute;border-left: 1px solid gray;box-sizing: border-box;top: 0;bottom: 0;left: 50%;z-index: -1;}#sk-container-id-4 div.sk-parallel-item {display: flex;flex-direction: column;z-index: 1;position: relative;background-color: white;}#sk-container-id-4 div.sk-parallel-item:first-child::after {align-self: flex-end;width: 50%;}#sk-container-id-4 div.sk-parallel-item:last-child::after {align-self: flex-start;width: 50%;}#sk-container-id-4 div.sk-parallel-item:only-child::after {width: 0;}#sk-container-id-4 div.sk-dashed-wrapped {border: 1px dashed gray;margin: 0 0.4em 0.5em 0.4em;box-sizing: border-box;padding-bottom: 0.4em;background-color: white;}#sk-container-id-4 div.sk-label label {font-family: monospace;font-weight: bold;display: inline-block;line-height: 1.2em;}#sk-container-id-4 div.sk-label-container {text-align: center;}#sk-container-id-4 div.sk-container {/* jupyter's `normalize.less` sets `[hidden] { display: none; }` but bootstrap.min.css set `[hidden] { display: none !important; }` so we also need the `!important` here to be able to override the default hidden behavior on the sphinx rendered scikit-learn.org. See: https://github.com/scikit-learn/scikit-learn/issues/21755 */display: inline-block !important;position: relative;}#sk-container-id-4 div.sk-text-repr-fallback {display: none;}</style><div id=\"sk-container-id-4\" class=\"sk-top-container\"><div class=\"sk-text-repr-fallback\"><pre>DecisionTreeRegressor(max_depth=9)</pre><b>In a Jupyter environment, please rerun this cell to show the HTML representation or trust the notebook. <br />On GitHub, the HTML representation is unable to render, please try loading this page with nbviewer.org.</b></div><div class=\"sk-container\" hidden><div class=\"sk-item\"><div class=\"sk-estimator sk-toggleable\"><input class=\"sk-toggleable__control sk-hidden--visually\" id=\"sk-estimator-id-6\" type=\"checkbox\" checked><label for=\"sk-estimator-id-6\" class=\"sk-toggleable__label sk-toggleable__label-arrow\">DecisionTreeRegressor</label><div class=\"sk-toggleable__content\"><pre>DecisionTreeRegressor(max_depth=9)</pre></div></div></div></div></div>"
      ],
      "text/plain": [
       "DecisionTreeRegressor(max_depth=9)"
      ]
     },
     "execution_count": 37,
     "metadata": {},
     "output_type": "execute_result"
    }
   ],
   "source": [
    "# Get the best hyperparameters\n",
    "best_params = grid_search.best_params_\n",
    "print(\"Best Hyperparameters:\", best_params)\n",
    "\n",
    "# Train the Decision Tree model with the best hyperparameters\n",
    "best_dt_regressor = DecisionTreeRegressor(**best_params)\n",
    "best_dt_regressor.fit(X_train, y_train)\n",
    "\n",
    "\n"
   ]
  },
  {
   "cell_type": "code",
   "execution_count": 38,
   "id": "d058eef9",
   "metadata": {
    "execution": {
     "iopub.execute_input": "2024-05-16T12:26:19.110924Z",
     "iopub.status.busy": "2024-05-16T12:26:19.109872Z",
     "iopub.status.idle": "2024-05-16T12:26:19.119755Z",
     "shell.execute_reply": "2024-05-16T12:26:19.118969Z"
    },
    "papermill": {
     "duration": 0.036822,
     "end_time": "2024-05-16T12:26:19.121967",
     "exception": false,
     "start_time": "2024-05-16T12:26:19.085145",
     "status": "completed"
    },
    "tags": []
   },
   "outputs": [],
   "source": [
    "# Make predictions\n",
    "y_pred_train = best_dt_regressor.predict(X_train)\n",
    "y_pred_test = best_dt_regressor.predict(X_test)\n",
    "\n"
   ]
  },
  {
   "cell_type": "code",
   "execution_count": 39,
   "id": "1949d8fd",
   "metadata": {
    "execution": {
     "iopub.execute_input": "2024-05-16T12:26:19.170314Z",
     "iopub.status.busy": "2024-05-16T12:26:19.169664Z",
     "iopub.status.idle": "2024-05-16T12:26:19.178965Z",
     "shell.execute_reply": "2024-05-16T12:26:19.177536Z"
    },
    "papermill": {
     "duration": 0.036029,
     "end_time": "2024-05-16T12:26:19.181144",
     "exception": false,
     "start_time": "2024-05-16T12:26:19.145115",
     "status": "completed"
    },
    "tags": []
   },
   "outputs": [
    {
     "name": "stdout",
     "output_type": "stream",
     "text": [
      "Training MSE: 1.5646032797550282e-08\n",
      "Testing MSE: 1.327218589599659e-06\n",
      "Training R2 Score: 0.9999983485200399\n",
      "Testing R2 Score: 0.9998346746154896\n"
     ]
    }
   ],
   "source": [
    "# Evaluate the model\n",
    "train_mse = mean_squared_error(y_train, y_pred_train)\n",
    "test_mse = mean_squared_error(y_test, y_pred_test)\n",
    "train_r2 = r2_score(y_train, y_pred_train)\n",
    "test_r2 = r2_score(y_test, y_pred_test)\n",
    "\n",
    "print(f\"Training MSE: {train_mse}\")\n",
    "print(f\"Testing MSE: {test_mse}\")\n",
    "print(f\"Training R2 Score: {train_r2}\")\n",
    "print(f\"Testing R2 Score: {test_r2}\")\n",
    "\n"
   ]
  },
  {
   "cell_type": "markdown",
   "id": "d9a9fa63",
   "metadata": {
    "papermill": {
     "duration": 0.022948,
     "end_time": "2024-05-16T12:26:19.227258",
     "exception": false,
     "start_time": "2024-05-16T12:26:19.204310",
     "status": "completed"
    },
    "tags": []
   },
   "source": [
    "<div style=\"background-color: #ff0000; padding: 20px; border-radius: 10px;\">\n",
    "    <h1 style=\"text-align: left; font-size: 25px;\"> RandomForestRegressor </h1>\n",
    "</div>"
   ]
  },
  {
   "cell_type": "code",
   "execution_count": 40,
   "id": "cd937370",
   "metadata": {
    "execution": {
     "iopub.execute_input": "2024-05-16T12:26:19.275697Z",
     "iopub.status.busy": "2024-05-16T12:26:19.274534Z",
     "iopub.status.idle": "2024-05-16T12:28:42.397079Z",
     "shell.execute_reply": "2024-05-16T12:28:42.395821Z"
    },
    "papermill": {
     "duration": 143.173244,
     "end_time": "2024-05-16T12:28:42.423550",
     "exception": false,
     "start_time": "2024-05-16T12:26:19.250306",
     "status": "completed"
    },
    "tags": []
   },
   "outputs": [
    {
     "name": "stdout",
     "output_type": "stream",
     "text": [
      "Fitting 5 folds for each of 81 candidates, totalling 405 fits\n"
     ]
    },
    {
     "data": {
      "text/html": [
       "<style>#sk-container-id-5 {color: black;background-color: white;}#sk-container-id-5 pre{padding: 0;}#sk-container-id-5 div.sk-toggleable {background-color: white;}#sk-container-id-5 label.sk-toggleable__label {cursor: pointer;display: block;width: 100%;margin-bottom: 0;padding: 0.3em;box-sizing: border-box;text-align: center;}#sk-container-id-5 label.sk-toggleable__label-arrow:before {content: \"▸\";float: left;margin-right: 0.25em;color: #696969;}#sk-container-id-5 label.sk-toggleable__label-arrow:hover:before {color: black;}#sk-container-id-5 div.sk-estimator:hover label.sk-toggleable__label-arrow:before {color: black;}#sk-container-id-5 div.sk-toggleable__content {max-height: 0;max-width: 0;overflow: hidden;text-align: left;background-color: #f0f8ff;}#sk-container-id-5 div.sk-toggleable__content pre {margin: 0.2em;color: black;border-radius: 0.25em;background-color: #f0f8ff;}#sk-container-id-5 input.sk-toggleable__control:checked~div.sk-toggleable__content {max-height: 200px;max-width: 100%;overflow: auto;}#sk-container-id-5 input.sk-toggleable__control:checked~label.sk-toggleable__label-arrow:before {content: \"▾\";}#sk-container-id-5 div.sk-estimator input.sk-toggleable__control:checked~label.sk-toggleable__label {background-color: #d4ebff;}#sk-container-id-5 div.sk-label input.sk-toggleable__control:checked~label.sk-toggleable__label {background-color: #d4ebff;}#sk-container-id-5 input.sk-hidden--visually {border: 0;clip: rect(1px 1px 1px 1px);clip: rect(1px, 1px, 1px, 1px);height: 1px;margin: -1px;overflow: hidden;padding: 0;position: absolute;width: 1px;}#sk-container-id-5 div.sk-estimator {font-family: monospace;background-color: #f0f8ff;border: 1px dotted black;border-radius: 0.25em;box-sizing: border-box;margin-bottom: 0.5em;}#sk-container-id-5 div.sk-estimator:hover {background-color: #d4ebff;}#sk-container-id-5 div.sk-parallel-item::after {content: \"\";width: 100%;border-bottom: 1px solid gray;flex-grow: 1;}#sk-container-id-5 div.sk-label:hover label.sk-toggleable__label {background-color: #d4ebff;}#sk-container-id-5 div.sk-serial::before {content: \"\";position: absolute;border-left: 1px solid gray;box-sizing: border-box;top: 0;bottom: 0;left: 50%;z-index: 0;}#sk-container-id-5 div.sk-serial {display: flex;flex-direction: column;align-items: center;background-color: white;padding-right: 0.2em;padding-left: 0.2em;position: relative;}#sk-container-id-5 div.sk-item {position: relative;z-index: 1;}#sk-container-id-5 div.sk-parallel {display: flex;align-items: stretch;justify-content: center;background-color: white;position: relative;}#sk-container-id-5 div.sk-item::before, #sk-container-id-5 div.sk-parallel-item::before {content: \"\";position: absolute;border-left: 1px solid gray;box-sizing: border-box;top: 0;bottom: 0;left: 50%;z-index: -1;}#sk-container-id-5 div.sk-parallel-item {display: flex;flex-direction: column;z-index: 1;position: relative;background-color: white;}#sk-container-id-5 div.sk-parallel-item:first-child::after {align-self: flex-end;width: 50%;}#sk-container-id-5 div.sk-parallel-item:last-child::after {align-self: flex-start;width: 50%;}#sk-container-id-5 div.sk-parallel-item:only-child::after {width: 0;}#sk-container-id-5 div.sk-dashed-wrapped {border: 1px dashed gray;margin: 0 0.4em 0.5em 0.4em;box-sizing: border-box;padding-bottom: 0.4em;background-color: white;}#sk-container-id-5 div.sk-label label {font-family: monospace;font-weight: bold;display: inline-block;line-height: 1.2em;}#sk-container-id-5 div.sk-label-container {text-align: center;}#sk-container-id-5 div.sk-container {/* jupyter's `normalize.less` sets `[hidden] { display: none; }` but bootstrap.min.css set `[hidden] { display: none !important; }` so we also need the `!important` here to be able to override the default hidden behavior on the sphinx rendered scikit-learn.org. See: https://github.com/scikit-learn/scikit-learn/issues/21755 */display: inline-block !important;position: relative;}#sk-container-id-5 div.sk-text-repr-fallback {display: none;}</style><div id=\"sk-container-id-5\" class=\"sk-top-container\"><div class=\"sk-text-repr-fallback\"><pre>GridSearchCV(cv=5, estimator=RandomForestRegressor(random_state=42), n_jobs=-1,\n",
       "             param_grid={&#x27;max_depth&#x27;: [None, 5, 10],\n",
       "                         &#x27;min_samples_leaf&#x27;: [1, 2, 4],\n",
       "                         &#x27;min_samples_split&#x27;: [2, 5, 10],\n",
       "                         &#x27;n_estimators&#x27;: [100, 200, 300]},\n",
       "             scoring=&#x27;neg_mean_squared_error&#x27;, verbose=1)</pre><b>In a Jupyter environment, please rerun this cell to show the HTML representation or trust the notebook. <br />On GitHub, the HTML representation is unable to render, please try loading this page with nbviewer.org.</b></div><div class=\"sk-container\" hidden><div class=\"sk-item sk-dashed-wrapped\"><div class=\"sk-label-container\"><div class=\"sk-label sk-toggleable\"><input class=\"sk-toggleable__control sk-hidden--visually\" id=\"sk-estimator-id-7\" type=\"checkbox\" ><label for=\"sk-estimator-id-7\" class=\"sk-toggleable__label sk-toggleable__label-arrow\">GridSearchCV</label><div class=\"sk-toggleable__content\"><pre>GridSearchCV(cv=5, estimator=RandomForestRegressor(random_state=42), n_jobs=-1,\n",
       "             param_grid={&#x27;max_depth&#x27;: [None, 5, 10],\n",
       "                         &#x27;min_samples_leaf&#x27;: [1, 2, 4],\n",
       "                         &#x27;min_samples_split&#x27;: [2, 5, 10],\n",
       "                         &#x27;n_estimators&#x27;: [100, 200, 300]},\n",
       "             scoring=&#x27;neg_mean_squared_error&#x27;, verbose=1)</pre></div></div></div><div class=\"sk-parallel\"><div class=\"sk-parallel-item\"><div class=\"sk-item\"><div class=\"sk-label-container\"><div class=\"sk-label sk-toggleable\"><input class=\"sk-toggleable__control sk-hidden--visually\" id=\"sk-estimator-id-8\" type=\"checkbox\" ><label for=\"sk-estimator-id-8\" class=\"sk-toggleable__label sk-toggleable__label-arrow\">estimator: RandomForestRegressor</label><div class=\"sk-toggleable__content\"><pre>RandomForestRegressor(random_state=42)</pre></div></div></div><div class=\"sk-serial\"><div class=\"sk-item\"><div class=\"sk-estimator sk-toggleable\"><input class=\"sk-toggleable__control sk-hidden--visually\" id=\"sk-estimator-id-9\" type=\"checkbox\" ><label for=\"sk-estimator-id-9\" class=\"sk-toggleable__label sk-toggleable__label-arrow\">RandomForestRegressor</label><div class=\"sk-toggleable__content\"><pre>RandomForestRegressor(random_state=42)</pre></div></div></div></div></div></div></div></div></div></div>"
      ],
      "text/plain": [
       "GridSearchCV(cv=5, estimator=RandomForestRegressor(random_state=42), n_jobs=-1,\n",
       "             param_grid={'max_depth': [None, 5, 10],\n",
       "                         'min_samples_leaf': [1, 2, 4],\n",
       "                         'min_samples_split': [2, 5, 10],\n",
       "                         'n_estimators': [100, 200, 300]},\n",
       "             scoring='neg_mean_squared_error', verbose=1)"
      ]
     },
     "execution_count": 40,
     "metadata": {},
     "output_type": "execute_result"
    }
   ],
   "source": [
    "\n",
    "from sklearn.ensemble import RandomForestRegressor\n",
    "param_grid = {\n",
    "    'n_estimators': [100, 200, 300],\n",
    "    'max_depth': [None, 5, 10],\n",
    "    'min_samples_split': [2, 5, 10],\n",
    "    'min_samples_leaf': [1, 2, 4]\n",
    "}\n",
    "\n",
    "# Initialize the Random Forest model\n",
    "rf_regressor = RandomForestRegressor(random_state=42)\n",
    "\n",
    "# Initialize GridSearchCV with cross-validation\n",
    "grid_search = GridSearchCV(estimator=rf_regressor, param_grid=param_grid, cv=5, scoring='neg_mean_squared_error', verbose=1, n_jobs=-1)\n",
    "\n",
    "# Fit the model with hyperparameter tuning\n",
    "grid_search.fit(X_train, y_train)\n",
    "\n",
    "\n"
   ]
  },
  {
   "cell_type": "code",
   "execution_count": 41,
   "id": "f925d338",
   "metadata": {
    "execution": {
     "iopub.execute_input": "2024-05-16T12:28:42.474696Z",
     "iopub.status.busy": "2024-05-16T12:28:42.474318Z",
     "iopub.status.idle": "2024-05-16T12:28:44.489181Z",
     "shell.execute_reply": "2024-05-16T12:28:44.487773Z"
    },
    "papermill": {
     "duration": 2.044366,
     "end_time": "2024-05-16T12:28:44.491671",
     "exception": false,
     "start_time": "2024-05-16T12:28:42.447305",
     "status": "completed"
    },
    "tags": []
   },
   "outputs": [
    {
     "name": "stdout",
     "output_type": "stream",
     "text": [
      "Best Hyperparameters: {'max_depth': None, 'min_samples_leaf': 1, 'min_samples_split': 2, 'n_estimators': 300}\n"
     ]
    },
    {
     "data": {
      "text/html": [
       "<style>#sk-container-id-6 {color: black;background-color: white;}#sk-container-id-6 pre{padding: 0;}#sk-container-id-6 div.sk-toggleable {background-color: white;}#sk-container-id-6 label.sk-toggleable__label {cursor: pointer;display: block;width: 100%;margin-bottom: 0;padding: 0.3em;box-sizing: border-box;text-align: center;}#sk-container-id-6 label.sk-toggleable__label-arrow:before {content: \"▸\";float: left;margin-right: 0.25em;color: #696969;}#sk-container-id-6 label.sk-toggleable__label-arrow:hover:before {color: black;}#sk-container-id-6 div.sk-estimator:hover label.sk-toggleable__label-arrow:before {color: black;}#sk-container-id-6 div.sk-toggleable__content {max-height: 0;max-width: 0;overflow: hidden;text-align: left;background-color: #f0f8ff;}#sk-container-id-6 div.sk-toggleable__content pre {margin: 0.2em;color: black;border-radius: 0.25em;background-color: #f0f8ff;}#sk-container-id-6 input.sk-toggleable__control:checked~div.sk-toggleable__content {max-height: 200px;max-width: 100%;overflow: auto;}#sk-container-id-6 input.sk-toggleable__control:checked~label.sk-toggleable__label-arrow:before {content: \"▾\";}#sk-container-id-6 div.sk-estimator input.sk-toggleable__control:checked~label.sk-toggleable__label {background-color: #d4ebff;}#sk-container-id-6 div.sk-label input.sk-toggleable__control:checked~label.sk-toggleable__label {background-color: #d4ebff;}#sk-container-id-6 input.sk-hidden--visually {border: 0;clip: rect(1px 1px 1px 1px);clip: rect(1px, 1px, 1px, 1px);height: 1px;margin: -1px;overflow: hidden;padding: 0;position: absolute;width: 1px;}#sk-container-id-6 div.sk-estimator {font-family: monospace;background-color: #f0f8ff;border: 1px dotted black;border-radius: 0.25em;box-sizing: border-box;margin-bottom: 0.5em;}#sk-container-id-6 div.sk-estimator:hover {background-color: #d4ebff;}#sk-container-id-6 div.sk-parallel-item::after {content: \"\";width: 100%;border-bottom: 1px solid gray;flex-grow: 1;}#sk-container-id-6 div.sk-label:hover label.sk-toggleable__label {background-color: #d4ebff;}#sk-container-id-6 div.sk-serial::before {content: \"\";position: absolute;border-left: 1px solid gray;box-sizing: border-box;top: 0;bottom: 0;left: 50%;z-index: 0;}#sk-container-id-6 div.sk-serial {display: flex;flex-direction: column;align-items: center;background-color: white;padding-right: 0.2em;padding-left: 0.2em;position: relative;}#sk-container-id-6 div.sk-item {position: relative;z-index: 1;}#sk-container-id-6 div.sk-parallel {display: flex;align-items: stretch;justify-content: center;background-color: white;position: relative;}#sk-container-id-6 div.sk-item::before, #sk-container-id-6 div.sk-parallel-item::before {content: \"\";position: absolute;border-left: 1px solid gray;box-sizing: border-box;top: 0;bottom: 0;left: 50%;z-index: -1;}#sk-container-id-6 div.sk-parallel-item {display: flex;flex-direction: column;z-index: 1;position: relative;background-color: white;}#sk-container-id-6 div.sk-parallel-item:first-child::after {align-self: flex-end;width: 50%;}#sk-container-id-6 div.sk-parallel-item:last-child::after {align-self: flex-start;width: 50%;}#sk-container-id-6 div.sk-parallel-item:only-child::after {width: 0;}#sk-container-id-6 div.sk-dashed-wrapped {border: 1px dashed gray;margin: 0 0.4em 0.5em 0.4em;box-sizing: border-box;padding-bottom: 0.4em;background-color: white;}#sk-container-id-6 div.sk-label label {font-family: monospace;font-weight: bold;display: inline-block;line-height: 1.2em;}#sk-container-id-6 div.sk-label-container {text-align: center;}#sk-container-id-6 div.sk-container {/* jupyter's `normalize.less` sets `[hidden] { display: none; }` but bootstrap.min.css set `[hidden] { display: none !important; }` so we also need the `!important` here to be able to override the default hidden behavior on the sphinx rendered scikit-learn.org. See: https://github.com/scikit-learn/scikit-learn/issues/21755 */display: inline-block !important;position: relative;}#sk-container-id-6 div.sk-text-repr-fallback {display: none;}</style><div id=\"sk-container-id-6\" class=\"sk-top-container\"><div class=\"sk-text-repr-fallback\"><pre>RandomForestRegressor(n_estimators=300)</pre><b>In a Jupyter environment, please rerun this cell to show the HTML representation or trust the notebook. <br />On GitHub, the HTML representation is unable to render, please try loading this page with nbviewer.org.</b></div><div class=\"sk-container\" hidden><div class=\"sk-item\"><div class=\"sk-estimator sk-toggleable\"><input class=\"sk-toggleable__control sk-hidden--visually\" id=\"sk-estimator-id-10\" type=\"checkbox\" checked><label for=\"sk-estimator-id-10\" class=\"sk-toggleable__label sk-toggleable__label-arrow\">RandomForestRegressor</label><div class=\"sk-toggleable__content\"><pre>RandomForestRegressor(n_estimators=300)</pre></div></div></div></div></div>"
      ],
      "text/plain": [
       "RandomForestRegressor(n_estimators=300)"
      ]
     },
     "execution_count": 41,
     "metadata": {},
     "output_type": "execute_result"
    }
   ],
   "source": [
    "# Get the best hyperparameters\n",
    "best_params = grid_search.best_params_\n",
    "print(\"Best Hyperparameters:\", best_params)\n",
    "\n",
    "# Train the Random Forest model with the best hyperparameters\n",
    "best_rf_regressor = RandomForestRegressor(**best_params)\n",
    "best_rf_regressor.fit(X_train, y_train)\n",
    "\n"
   ]
  },
  {
   "cell_type": "code",
   "execution_count": 42,
   "id": "ec781179",
   "metadata": {
    "execution": {
     "iopub.execute_input": "2024-05-16T12:28:44.542941Z",
     "iopub.status.busy": "2024-05-16T12:28:44.542147Z",
     "iopub.status.idle": "2024-05-16T12:28:44.650744Z",
     "shell.execute_reply": "2024-05-16T12:28:44.649500Z"
    },
    "papermill": {
     "duration": 0.136791,
     "end_time": "2024-05-16T12:28:44.653317",
     "exception": false,
     "start_time": "2024-05-16T12:28:44.516526",
     "status": "completed"
    },
    "tags": []
   },
   "outputs": [
    {
     "name": "stdout",
     "output_type": "stream",
     "text": [
      "Training MSE: 3.78704861515181e-06\n",
      "Testing MSE: 4.6899791380479034e-06\n",
      "Training R2 Score: 0.999600267046811\n",
      "Testing R2 Score: 0.9994157913320234\n"
     ]
    }
   ],
   "source": [
    "# Make predictions\n",
    "y_pred_train = best_rf_regressor.predict(X_train)\n",
    "y_pred_test = best_rf_regressor.predict(X_test)\n",
    "\n",
    "# Evaluate the model\n",
    "train_mse = mean_squared_error(y_train, y_pred_train)\n",
    "test_mse = mean_squared_error(y_test, y_pred_test)\n",
    "train_r2 = r2_score(y_train, y_pred_train)\n",
    "test_r2 = r2_score(y_test, y_pred_test)\n",
    "\n",
    "print(f\"Training MSE: {train_mse}\")\n",
    "print(f\"Testing MSE: {test_mse}\")\n",
    "print(f\"Training R2 Score: {train_r2}\")\n",
    "print(f\"Testing R2 Score: {test_r2}\")"
   ]
  },
  {
   "cell_type": "markdown",
   "id": "668c8eeb",
   "metadata": {
    "papermill": {
     "duration": 0.025098,
     "end_time": "2024-05-16T12:28:44.704335",
     "exception": false,
     "start_time": "2024-05-16T12:28:44.679237",
     "status": "completed"
    },
    "tags": []
   },
   "source": [
    "<div style=\"background-color: #ff0000; padding: 20px; border-radius: 10px;\">\n",
    "    <h1 style=\"text-align: left; font-size: 25px;\"> XGBRegressor </h1>\n",
    "</div>"
   ]
  },
  {
   "cell_type": "code",
   "execution_count": 43,
   "id": "d1bc6921",
   "metadata": {
    "execution": {
     "iopub.execute_input": "2024-05-16T12:28:44.756371Z",
     "iopub.status.busy": "2024-05-16T12:28:44.755990Z",
     "iopub.status.idle": "2024-05-16T12:28:55.770977Z",
     "shell.execute_reply": "2024-05-16T12:28:55.769545Z"
    },
    "papermill": {
     "duration": 11.043987,
     "end_time": "2024-05-16T12:28:55.773689",
     "exception": false,
     "start_time": "2024-05-16T12:28:44.729702",
     "status": "completed"
    },
    "tags": []
   },
   "outputs": [
    {
     "name": "stdout",
     "output_type": "stream",
     "text": [
      "Fitting 5 folds for each of 27 candidates, totalling 135 fits\n"
     ]
    },
    {
     "data": {
      "text/html": [
       "<style>#sk-container-id-7 {color: black;background-color: white;}#sk-container-id-7 pre{padding: 0;}#sk-container-id-7 div.sk-toggleable {background-color: white;}#sk-container-id-7 label.sk-toggleable__label {cursor: pointer;display: block;width: 100%;margin-bottom: 0;padding: 0.3em;box-sizing: border-box;text-align: center;}#sk-container-id-7 label.sk-toggleable__label-arrow:before {content: \"▸\";float: left;margin-right: 0.25em;color: #696969;}#sk-container-id-7 label.sk-toggleable__label-arrow:hover:before {color: black;}#sk-container-id-7 div.sk-estimator:hover label.sk-toggleable__label-arrow:before {color: black;}#sk-container-id-7 div.sk-toggleable__content {max-height: 0;max-width: 0;overflow: hidden;text-align: left;background-color: #f0f8ff;}#sk-container-id-7 div.sk-toggleable__content pre {margin: 0.2em;color: black;border-radius: 0.25em;background-color: #f0f8ff;}#sk-container-id-7 input.sk-toggleable__control:checked~div.sk-toggleable__content {max-height: 200px;max-width: 100%;overflow: auto;}#sk-container-id-7 input.sk-toggleable__control:checked~label.sk-toggleable__label-arrow:before {content: \"▾\";}#sk-container-id-7 div.sk-estimator input.sk-toggleable__control:checked~label.sk-toggleable__label {background-color: #d4ebff;}#sk-container-id-7 div.sk-label input.sk-toggleable__control:checked~label.sk-toggleable__label {background-color: #d4ebff;}#sk-container-id-7 input.sk-hidden--visually {border: 0;clip: rect(1px 1px 1px 1px);clip: rect(1px, 1px, 1px, 1px);height: 1px;margin: -1px;overflow: hidden;padding: 0;position: absolute;width: 1px;}#sk-container-id-7 div.sk-estimator {font-family: monospace;background-color: #f0f8ff;border: 1px dotted black;border-radius: 0.25em;box-sizing: border-box;margin-bottom: 0.5em;}#sk-container-id-7 div.sk-estimator:hover {background-color: #d4ebff;}#sk-container-id-7 div.sk-parallel-item::after {content: \"\";width: 100%;border-bottom: 1px solid gray;flex-grow: 1;}#sk-container-id-7 div.sk-label:hover label.sk-toggleable__label {background-color: #d4ebff;}#sk-container-id-7 div.sk-serial::before {content: \"\";position: absolute;border-left: 1px solid gray;box-sizing: border-box;top: 0;bottom: 0;left: 50%;z-index: 0;}#sk-container-id-7 div.sk-serial {display: flex;flex-direction: column;align-items: center;background-color: white;padding-right: 0.2em;padding-left: 0.2em;position: relative;}#sk-container-id-7 div.sk-item {position: relative;z-index: 1;}#sk-container-id-7 div.sk-parallel {display: flex;align-items: stretch;justify-content: center;background-color: white;position: relative;}#sk-container-id-7 div.sk-item::before, #sk-container-id-7 div.sk-parallel-item::before {content: \"\";position: absolute;border-left: 1px solid gray;box-sizing: border-box;top: 0;bottom: 0;left: 50%;z-index: -1;}#sk-container-id-7 div.sk-parallel-item {display: flex;flex-direction: column;z-index: 1;position: relative;background-color: white;}#sk-container-id-7 div.sk-parallel-item:first-child::after {align-self: flex-end;width: 50%;}#sk-container-id-7 div.sk-parallel-item:last-child::after {align-self: flex-start;width: 50%;}#sk-container-id-7 div.sk-parallel-item:only-child::after {width: 0;}#sk-container-id-7 div.sk-dashed-wrapped {border: 1px dashed gray;margin: 0 0.4em 0.5em 0.4em;box-sizing: border-box;padding-bottom: 0.4em;background-color: white;}#sk-container-id-7 div.sk-label label {font-family: monospace;font-weight: bold;display: inline-block;line-height: 1.2em;}#sk-container-id-7 div.sk-label-container {text-align: center;}#sk-container-id-7 div.sk-container {/* jupyter's `normalize.less` sets `[hidden] { display: none; }` but bootstrap.min.css set `[hidden] { display: none !important; }` so we also need the `!important` here to be able to override the default hidden behavior on the sphinx rendered scikit-learn.org. See: https://github.com/scikit-learn/scikit-learn/issues/21755 */display: inline-block !important;position: relative;}#sk-container-id-7 div.sk-text-repr-fallback {display: none;}</style><div id=\"sk-container-id-7\" class=\"sk-top-container\"><div class=\"sk-text-repr-fallback\"><pre>GridSearchCV(cv=5,\n",
       "             estimator=XGBRegressor(base_score=None, booster=None,\n",
       "                                    callbacks=None, colsample_bylevel=None,\n",
       "                                    colsample_bynode=None,\n",
       "                                    colsample_bytree=None, device=None,\n",
       "                                    early_stopping_rounds=None,\n",
       "                                    enable_categorical=False, eval_metric=None,\n",
       "                                    feature_types=None, gamma=None,\n",
       "                                    grow_policy=None, importance_type=None,\n",
       "                                    interaction_constraints=None,\n",
       "                                    learning_rate=None, m...\n",
       "                                    max_cat_to_onehot=None, max_delta_step=None,\n",
       "                                    max_depth=None, max_leaves=None,\n",
       "                                    min_child_weight=None, missing=nan,\n",
       "                                    monotone_constraints=None,\n",
       "                                    multi_strategy=None, n_estimators=None,\n",
       "                                    n_jobs=None, num_parallel_tree=None,\n",
       "                                    random_state=42, ...),\n",
       "             n_jobs=-1,\n",
       "             param_grid={&#x27;learning_rate&#x27;: [0.1, 0.01, 0.001],\n",
       "                         &#x27;max_depth&#x27;: [3, 5, 7],\n",
       "                         &#x27;n_estimators&#x27;: [100, 200, 300]},\n",
       "             scoring=&#x27;neg_mean_squared_error&#x27;, verbose=1)</pre><b>In a Jupyter environment, please rerun this cell to show the HTML representation or trust the notebook. <br />On GitHub, the HTML representation is unable to render, please try loading this page with nbviewer.org.</b></div><div class=\"sk-container\" hidden><div class=\"sk-item sk-dashed-wrapped\"><div class=\"sk-label-container\"><div class=\"sk-label sk-toggleable\"><input class=\"sk-toggleable__control sk-hidden--visually\" id=\"sk-estimator-id-11\" type=\"checkbox\" ><label for=\"sk-estimator-id-11\" class=\"sk-toggleable__label sk-toggleable__label-arrow\">GridSearchCV</label><div class=\"sk-toggleable__content\"><pre>GridSearchCV(cv=5,\n",
       "             estimator=XGBRegressor(base_score=None, booster=None,\n",
       "                                    callbacks=None, colsample_bylevel=None,\n",
       "                                    colsample_bynode=None,\n",
       "                                    colsample_bytree=None, device=None,\n",
       "                                    early_stopping_rounds=None,\n",
       "                                    enable_categorical=False, eval_metric=None,\n",
       "                                    feature_types=None, gamma=None,\n",
       "                                    grow_policy=None, importance_type=None,\n",
       "                                    interaction_constraints=None,\n",
       "                                    learning_rate=None, m...\n",
       "                                    max_cat_to_onehot=None, max_delta_step=None,\n",
       "                                    max_depth=None, max_leaves=None,\n",
       "                                    min_child_weight=None, missing=nan,\n",
       "                                    monotone_constraints=None,\n",
       "                                    multi_strategy=None, n_estimators=None,\n",
       "                                    n_jobs=None, num_parallel_tree=None,\n",
       "                                    random_state=42, ...),\n",
       "             n_jobs=-1,\n",
       "             param_grid={&#x27;learning_rate&#x27;: [0.1, 0.01, 0.001],\n",
       "                         &#x27;max_depth&#x27;: [3, 5, 7],\n",
       "                         &#x27;n_estimators&#x27;: [100, 200, 300]},\n",
       "             scoring=&#x27;neg_mean_squared_error&#x27;, verbose=1)</pre></div></div></div><div class=\"sk-parallel\"><div class=\"sk-parallel-item\"><div class=\"sk-item\"><div class=\"sk-label-container\"><div class=\"sk-label sk-toggleable\"><input class=\"sk-toggleable__control sk-hidden--visually\" id=\"sk-estimator-id-12\" type=\"checkbox\" ><label for=\"sk-estimator-id-12\" class=\"sk-toggleable__label sk-toggleable__label-arrow\">estimator: XGBRegressor</label><div class=\"sk-toggleable__content\"><pre>XGBRegressor(base_score=None, booster=None, callbacks=None,\n",
       "             colsample_bylevel=None, colsample_bynode=None,\n",
       "             colsample_bytree=None, device=None, early_stopping_rounds=None,\n",
       "             enable_categorical=False, eval_metric=None, feature_types=None,\n",
       "             gamma=None, grow_policy=None, importance_type=None,\n",
       "             interaction_constraints=None, learning_rate=None, max_bin=None,\n",
       "             max_cat_threshold=None, max_cat_to_onehot=None,\n",
       "             max_delta_step=None, max_depth=None, max_leaves=None,\n",
       "             min_child_weight=None, missing=nan, monotone_constraints=None,\n",
       "             multi_strategy=None, n_estimators=None, n_jobs=None,\n",
       "             num_parallel_tree=None, random_state=42, ...)</pre></div></div></div><div class=\"sk-serial\"><div class=\"sk-item\"><div class=\"sk-estimator sk-toggleable\"><input class=\"sk-toggleable__control sk-hidden--visually\" id=\"sk-estimator-id-13\" type=\"checkbox\" ><label for=\"sk-estimator-id-13\" class=\"sk-toggleable__label sk-toggleable__label-arrow\">XGBRegressor</label><div class=\"sk-toggleable__content\"><pre>XGBRegressor(base_score=None, booster=None, callbacks=None,\n",
       "             colsample_bylevel=None, colsample_bynode=None,\n",
       "             colsample_bytree=None, device=None, early_stopping_rounds=None,\n",
       "             enable_categorical=False, eval_metric=None, feature_types=None,\n",
       "             gamma=None, grow_policy=None, importance_type=None,\n",
       "             interaction_constraints=None, learning_rate=None, max_bin=None,\n",
       "             max_cat_threshold=None, max_cat_to_onehot=None,\n",
       "             max_delta_step=None, max_depth=None, max_leaves=None,\n",
       "             min_child_weight=None, missing=nan, monotone_constraints=None,\n",
       "             multi_strategy=None, n_estimators=None, n_jobs=None,\n",
       "             num_parallel_tree=None, random_state=42, ...)</pre></div></div></div></div></div></div></div></div></div></div>"
      ],
      "text/plain": [
       "GridSearchCV(cv=5,\n",
       "             estimator=XGBRegressor(base_score=None, booster=None,\n",
       "                                    callbacks=None, colsample_bylevel=None,\n",
       "                                    colsample_bynode=None,\n",
       "                                    colsample_bytree=None, device=None,\n",
       "                                    early_stopping_rounds=None,\n",
       "                                    enable_categorical=False, eval_metric=None,\n",
       "                                    feature_types=None, gamma=None,\n",
       "                                    grow_policy=None, importance_type=None,\n",
       "                                    interaction_constraints=None,\n",
       "                                    learning_rate=None, m...\n",
       "                                    max_cat_to_onehot=None, max_delta_step=None,\n",
       "                                    max_depth=None, max_leaves=None,\n",
       "                                    min_child_weight=None, missing=nan,\n",
       "                                    monotone_constraints=None,\n",
       "                                    multi_strategy=None, n_estimators=None,\n",
       "                                    n_jobs=None, num_parallel_tree=None,\n",
       "                                    random_state=42, ...),\n",
       "             n_jobs=-1,\n",
       "             param_grid={'learning_rate': [0.1, 0.01, 0.001],\n",
       "                         'max_depth': [3, 5, 7],\n",
       "                         'n_estimators': [100, 200, 300]},\n",
       "             scoring='neg_mean_squared_error', verbose=1)"
      ]
     },
     "execution_count": 43,
     "metadata": {},
     "output_type": "execute_result"
    }
   ],
   "source": [
    "\n",
    "from xgboost import XGBRegressor\n",
    "\n",
    "# Define the hyperparameters grid\n",
    "param_grid = {\n",
    "    'n_estimators': [100, 200, 300],\n",
    "    'max_depth': [3, 5, 7],\n",
    "    'learning_rate': [0.1, 0.01, 0.001]\n",
    "}\n",
    "\n",
    "# Initialize the XGBoost model\n",
    "xgb_regressor = XGBRegressor(random_state=42)\n",
    "\n",
    "# Initialize GridSearchCV with cross-validation\n",
    "grid_search = GridSearchCV(estimator=xgb_regressor, param_grid=param_grid, cv=5, scoring='neg_mean_squared_error', verbose=1, n_jobs=-1)\n",
    "\n",
    "# Fit the model with hyperparameter tuning\n",
    "grid_search.fit(X_train, y_train)\n",
    "\n"
   ]
  },
  {
   "cell_type": "code",
   "execution_count": 44,
   "id": "74b50f80",
   "metadata": {
    "execution": {
     "iopub.execute_input": "2024-05-16T12:28:55.827098Z",
     "iopub.status.busy": "2024-05-16T12:28:55.826414Z",
     "iopub.status.idle": "2024-05-16T12:28:56.025685Z",
     "shell.execute_reply": "2024-05-16T12:28:56.024436Z"
    },
    "papermill": {
     "duration": 0.229901,
     "end_time": "2024-05-16T12:28:56.028497",
     "exception": false,
     "start_time": "2024-05-16T12:28:55.798596",
     "status": "completed"
    },
    "tags": []
   },
   "outputs": [
    {
     "name": "stdout",
     "output_type": "stream",
     "text": [
      "Best Hyperparameters: {'learning_rate': 0.1, 'max_depth': 3, 'n_estimators': 300}\n"
     ]
    },
    {
     "data": {
      "text/html": [
       "<style>#sk-container-id-8 {color: black;background-color: white;}#sk-container-id-8 pre{padding: 0;}#sk-container-id-8 div.sk-toggleable {background-color: white;}#sk-container-id-8 label.sk-toggleable__label {cursor: pointer;display: block;width: 100%;margin-bottom: 0;padding: 0.3em;box-sizing: border-box;text-align: center;}#sk-container-id-8 label.sk-toggleable__label-arrow:before {content: \"▸\";float: left;margin-right: 0.25em;color: #696969;}#sk-container-id-8 label.sk-toggleable__label-arrow:hover:before {color: black;}#sk-container-id-8 div.sk-estimator:hover label.sk-toggleable__label-arrow:before {color: black;}#sk-container-id-8 div.sk-toggleable__content {max-height: 0;max-width: 0;overflow: hidden;text-align: left;background-color: #f0f8ff;}#sk-container-id-8 div.sk-toggleable__content pre {margin: 0.2em;color: black;border-radius: 0.25em;background-color: #f0f8ff;}#sk-container-id-8 input.sk-toggleable__control:checked~div.sk-toggleable__content {max-height: 200px;max-width: 100%;overflow: auto;}#sk-container-id-8 input.sk-toggleable__control:checked~label.sk-toggleable__label-arrow:before {content: \"▾\";}#sk-container-id-8 div.sk-estimator input.sk-toggleable__control:checked~label.sk-toggleable__label {background-color: #d4ebff;}#sk-container-id-8 div.sk-label input.sk-toggleable__control:checked~label.sk-toggleable__label {background-color: #d4ebff;}#sk-container-id-8 input.sk-hidden--visually {border: 0;clip: rect(1px 1px 1px 1px);clip: rect(1px, 1px, 1px, 1px);height: 1px;margin: -1px;overflow: hidden;padding: 0;position: absolute;width: 1px;}#sk-container-id-8 div.sk-estimator {font-family: monospace;background-color: #f0f8ff;border: 1px dotted black;border-radius: 0.25em;box-sizing: border-box;margin-bottom: 0.5em;}#sk-container-id-8 div.sk-estimator:hover {background-color: #d4ebff;}#sk-container-id-8 div.sk-parallel-item::after {content: \"\";width: 100%;border-bottom: 1px solid gray;flex-grow: 1;}#sk-container-id-8 div.sk-label:hover label.sk-toggleable__label {background-color: #d4ebff;}#sk-container-id-8 div.sk-serial::before {content: \"\";position: absolute;border-left: 1px solid gray;box-sizing: border-box;top: 0;bottom: 0;left: 50%;z-index: 0;}#sk-container-id-8 div.sk-serial {display: flex;flex-direction: column;align-items: center;background-color: white;padding-right: 0.2em;padding-left: 0.2em;position: relative;}#sk-container-id-8 div.sk-item {position: relative;z-index: 1;}#sk-container-id-8 div.sk-parallel {display: flex;align-items: stretch;justify-content: center;background-color: white;position: relative;}#sk-container-id-8 div.sk-item::before, #sk-container-id-8 div.sk-parallel-item::before {content: \"\";position: absolute;border-left: 1px solid gray;box-sizing: border-box;top: 0;bottom: 0;left: 50%;z-index: -1;}#sk-container-id-8 div.sk-parallel-item {display: flex;flex-direction: column;z-index: 1;position: relative;background-color: white;}#sk-container-id-8 div.sk-parallel-item:first-child::after {align-self: flex-end;width: 50%;}#sk-container-id-8 div.sk-parallel-item:last-child::after {align-self: flex-start;width: 50%;}#sk-container-id-8 div.sk-parallel-item:only-child::after {width: 0;}#sk-container-id-8 div.sk-dashed-wrapped {border: 1px dashed gray;margin: 0 0.4em 0.5em 0.4em;box-sizing: border-box;padding-bottom: 0.4em;background-color: white;}#sk-container-id-8 div.sk-label label {font-family: monospace;font-weight: bold;display: inline-block;line-height: 1.2em;}#sk-container-id-8 div.sk-label-container {text-align: center;}#sk-container-id-8 div.sk-container {/* jupyter's `normalize.less` sets `[hidden] { display: none; }` but bootstrap.min.css set `[hidden] { display: none !important; }` so we also need the `!important` here to be able to override the default hidden behavior on the sphinx rendered scikit-learn.org. See: https://github.com/scikit-learn/scikit-learn/issues/21755 */display: inline-block !important;position: relative;}#sk-container-id-8 div.sk-text-repr-fallback {display: none;}</style><div id=\"sk-container-id-8\" class=\"sk-top-container\"><div class=\"sk-text-repr-fallback\"><pre>XGBRegressor(base_score=None, booster=None, callbacks=None,\n",
       "             colsample_bylevel=None, colsample_bynode=None,\n",
       "             colsample_bytree=None, device=None, early_stopping_rounds=None,\n",
       "             enable_categorical=False, eval_metric=None, feature_types=None,\n",
       "             gamma=None, grow_policy=None, importance_type=None,\n",
       "             interaction_constraints=None, learning_rate=0.1, max_bin=None,\n",
       "             max_cat_threshold=None, max_cat_to_onehot=None,\n",
       "             max_delta_step=None, max_depth=3, max_leaves=None,\n",
       "             min_child_weight=None, missing=nan, monotone_constraints=None,\n",
       "             multi_strategy=None, n_estimators=300, n_jobs=None,\n",
       "             num_parallel_tree=None, random_state=42, ...)</pre><b>In a Jupyter environment, please rerun this cell to show the HTML representation or trust the notebook. <br />On GitHub, the HTML representation is unable to render, please try loading this page with nbviewer.org.</b></div><div class=\"sk-container\" hidden><div class=\"sk-item\"><div class=\"sk-estimator sk-toggleable\"><input class=\"sk-toggleable__control sk-hidden--visually\" id=\"sk-estimator-id-14\" type=\"checkbox\" checked><label for=\"sk-estimator-id-14\" class=\"sk-toggleable__label sk-toggleable__label-arrow\">XGBRegressor</label><div class=\"sk-toggleable__content\"><pre>XGBRegressor(base_score=None, booster=None, callbacks=None,\n",
       "             colsample_bylevel=None, colsample_bynode=None,\n",
       "             colsample_bytree=None, device=None, early_stopping_rounds=None,\n",
       "             enable_categorical=False, eval_metric=None, feature_types=None,\n",
       "             gamma=None, grow_policy=None, importance_type=None,\n",
       "             interaction_constraints=None, learning_rate=0.1, max_bin=None,\n",
       "             max_cat_threshold=None, max_cat_to_onehot=None,\n",
       "             max_delta_step=None, max_depth=3, max_leaves=None,\n",
       "             min_child_weight=None, missing=nan, monotone_constraints=None,\n",
       "             multi_strategy=None, n_estimators=300, n_jobs=None,\n",
       "             num_parallel_tree=None, random_state=42, ...)</pre></div></div></div></div></div>"
      ],
      "text/plain": [
       "XGBRegressor(base_score=None, booster=None, callbacks=None,\n",
       "             colsample_bylevel=None, colsample_bynode=None,\n",
       "             colsample_bytree=None, device=None, early_stopping_rounds=None,\n",
       "             enable_categorical=False, eval_metric=None, feature_types=None,\n",
       "             gamma=None, grow_policy=None, importance_type=None,\n",
       "             interaction_constraints=None, learning_rate=0.1, max_bin=None,\n",
       "             max_cat_threshold=None, max_cat_to_onehot=None,\n",
       "             max_delta_step=None, max_depth=3, max_leaves=None,\n",
       "             min_child_weight=None, missing=nan, monotone_constraints=None,\n",
       "             multi_strategy=None, n_estimators=300, n_jobs=None,\n",
       "             num_parallel_tree=None, random_state=42, ...)"
      ]
     },
     "execution_count": 44,
     "metadata": {},
     "output_type": "execute_result"
    }
   ],
   "source": [
    "# Get the best hyperparameters\n",
    "best_params = grid_search.best_params_\n",
    "print(\"Best Hyperparameters:\", best_params)\n",
    "\n",
    "# Train the XGBoost model with the best hyperparameters\n",
    "best_xgb_regressor = XGBRegressor(**best_params, random_state=42)\n",
    "best_xgb_regressor.fit(X_train, y_train)\n",
    "\n"
   ]
  },
  {
   "cell_type": "code",
   "execution_count": 45,
   "id": "c1cb9f57",
   "metadata": {
    "execution": {
     "iopub.execute_input": "2024-05-16T12:28:56.082683Z",
     "iopub.status.busy": "2024-05-16T12:28:56.081952Z",
     "iopub.status.idle": "2024-05-16T12:28:56.117664Z",
     "shell.execute_reply": "2024-05-16T12:28:56.115954Z"
    },
    "papermill": {
     "duration": 0.065915,
     "end_time": "2024-05-16T12:28:56.120654",
     "exception": false,
     "start_time": "2024-05-16T12:28:56.054739",
     "status": "completed"
    },
    "tags": []
   },
   "outputs": [
    {
     "name": "stdout",
     "output_type": "stream",
     "text": [
      "Training MSE: 2.0575309578596992e-06\n",
      "Testing MSE: 1.810108864192554e-05\n",
      "Training R2 Score: 0.9997828221896142\n",
      "Testing R2 Score: 0.9977452324257402\n"
     ]
    }
   ],
   "source": [
    "# Make predictions\n",
    "y_pred_train = best_xgb_regressor.predict(X_train)\n",
    "y_pred_test = best_xgb_regressor.predict(X_test)\n",
    "\n",
    "# Evaluate the model\n",
    "train_mse = mean_squared_error(y_train, y_pred_train)\n",
    "test_mse = mean_squared_error(y_test, y_pred_test)\n",
    "train_r2 = r2_score(y_train, y_pred_train)\n",
    "test_r2 = r2_score(y_test, y_pred_test)\n",
    "\n",
    "print(f\"Training MSE: {train_mse}\")\n",
    "print(f\"Testing MSE: {test_mse}\")\n",
    "print(f\"Training R2 Score: {train_r2}\")\n",
    "print(f\"Testing R2 Score: {test_r2}\")\n"
   ]
  },
  {
   "cell_type": "markdown",
   "id": "1d3a257d",
   "metadata": {
    "papermill": {
     "duration": 0.027429,
     "end_time": "2024-05-16T12:28:56.175175",
     "exception": false,
     "start_time": "2024-05-16T12:28:56.147746",
     "status": "completed"
    },
    "tags": []
   },
   "source": [
    "<a id=\"1\"></a>\n",
    "<div style=\"font-family: Cambria; font-weight: bold; letter-spacing: 0px; color: #ffffff; font-size: 120%; text-align: left; padding: 3px; background-color: #0000ff; border-bottom: 10px solid #80ffff;\">\n",
    "    Model comparison\n",
    "</div>"
   ]
  },
  {
   "cell_type": "code",
   "execution_count": 46,
   "id": "bfbca9dd",
   "metadata": {
    "execution": {
     "iopub.execute_input": "2024-05-16T12:28:56.230300Z",
     "iopub.status.busy": "2024-05-16T12:28:56.229592Z",
     "iopub.status.idle": "2024-05-16T12:28:57.205765Z",
     "shell.execute_reply": "2024-05-16T12:28:57.204419Z"
    },
    "papermill": {
     "duration": 1.006001,
     "end_time": "2024-05-16T12:28:57.208266",
     "exception": false,
     "start_time": "2024-05-16T12:28:56.202265",
     "status": "completed"
    },
    "tags": []
   },
   "outputs": [
    {
     "data": {
      "text/html": [
       "<div>\n",
       "<style scoped>\n",
       "    .dataframe tbody tr th:only-of-type {\n",
       "        vertical-align: middle;\n",
       "    }\n",
       "\n",
       "    .dataframe tbody tr th {\n",
       "        vertical-align: top;\n",
       "    }\n",
       "\n",
       "    .dataframe thead th {\n",
       "        text-align: right;\n",
       "    }\n",
       "</style>\n",
       "<table border=\"1\" class=\"dataframe\">\n",
       "  <thead>\n",
       "    <tr style=\"text-align: right;\">\n",
       "      <th></th>\n",
       "      <th>Model</th>\n",
       "      <th>Training MSE</th>\n",
       "      <th>Testing MSE</th>\n",
       "      <th>Training R2 Score</th>\n",
       "      <th>Testing R2 Score</th>\n",
       "    </tr>\n",
       "  </thead>\n",
       "  <tbody>\n",
       "    <tr>\n",
       "      <th>0</th>\n",
       "      <td>Linear Regression</td>\n",
       "      <td>3.911375e-03</td>\n",
       "      <td>0.002657</td>\n",
       "      <td>0.587144</td>\n",
       "      <td>0.669061</td>\n",
       "    </tr>\n",
       "    <tr>\n",
       "      <th>1</th>\n",
       "      <td>Decision Tree</td>\n",
       "      <td>1.229571e-33</td>\n",
       "      <td>0.000001</td>\n",
       "      <td>1.000000</td>\n",
       "      <td>0.999835</td>\n",
       "    </tr>\n",
       "    <tr>\n",
       "      <th>2</th>\n",
       "      <td>Random Forest</td>\n",
       "      <td>3.000291e-06</td>\n",
       "      <td>0.000006</td>\n",
       "      <td>0.999683</td>\n",
       "      <td>0.999242</td>\n",
       "    </tr>\n",
       "    <tr>\n",
       "      <th>3</th>\n",
       "      <td>XGBoost</td>\n",
       "      <td>5.474425e-07</td>\n",
       "      <td>0.000058</td>\n",
       "      <td>0.999942</td>\n",
       "      <td>0.992760</td>\n",
       "    </tr>\n",
       "  </tbody>\n",
       "</table>\n",
       "</div>"
      ],
      "text/plain": [
       "               Model  Training MSE  Testing MSE  Training R2 Score  \\\n",
       "0  Linear Regression  3.911375e-03     0.002657           0.587144   \n",
       "1      Decision Tree  1.229571e-33     0.000001           1.000000   \n",
       "2      Random Forest  3.000291e-06     0.000006           0.999683   \n",
       "3            XGBoost  5.474425e-07     0.000058           0.999942   \n",
       "\n",
       "   Testing R2 Score  \n",
       "0          0.669061  \n",
       "1          0.999835  \n",
       "2          0.999242  \n",
       "3          0.992760  "
      ]
     },
     "execution_count": 46,
     "metadata": {},
     "output_type": "execute_result"
    }
   ],
   "source": [
    "\n",
    "models = {\n",
    "    'Linear Regression': LinearRegression(),\n",
    "    'Decision Tree': DecisionTreeRegressor(random_state=42),\n",
    "    'Random Forest': RandomForestRegressor(random_state=42),\n",
    "    'XGBoost': XGBRegressor(random_state=42)\n",
    "}\n",
    "\n",
    "# Initialize an empty list to store results\n",
    "results = []\n",
    "\n",
    "# Train and evaluate each model\n",
    "for name, model in models.items():\n",
    "    model.fit(X_train, y_train)\n",
    "    y_pred_train = model.predict(X_train)\n",
    "    y_pred_test = model.predict(X_test)\n",
    "    train_mse = mean_squared_error(y_train, y_pred_train)\n",
    "    test_mse = mean_squared_error(y_test, y_pred_test)\n",
    "    train_r2 = r2_score(y_train, y_pred_train)\n",
    "    test_r2 = r2_score(y_test, y_pred_test)\n",
    "    results.append({'Model': name,\n",
    "                    'Training MSE': train_mse,\n",
    "                    'Testing MSE': test_mse,\n",
    "                    'Training R2 Score': train_r2,\n",
    "                    'Testing R2 Score': test_r2})\n",
    "\n",
    "# Create DataFrame from results list\n",
    "results_df = pd.DataFrame(results)\n",
    "\n",
    "# Display the results DataFrame\n",
    "results_df\n"
   ]
  },
  {
   "cell_type": "markdown",
   "id": "0964a1e8",
   "metadata": {
    "papermill": {
     "duration": 0.026397,
     "end_time": "2024-05-16T12:28:57.262070",
     "exception": false,
     "start_time": "2024-05-16T12:28:57.235673",
     "status": "completed"
    },
    "tags": []
   },
   "source": [
    "<a id=\"1\"></a>\n",
    "<div style=\"font-family: Cambria; font-weight: bold; letter-spacing: 0px; color: #ffffff; font-size: 120%; text-align: left; padding: 3px; background-color: #0000ff; border-bottom: 10px solid #80ffff;\">\n",
    "    Conclusion\n",
    "</div>"
   ]
  },
  {
   "cell_type": "markdown",
   "id": "4dfec7b1",
   "metadata": {
    "papermill": {
     "duration": 0.025651,
     "end_time": "2024-05-16T12:28:57.313989",
     "exception": false,
     "start_time": "2024-05-16T12:28:57.288338",
     "status": "completed"
    },
    "tags": []
   },
   "source": [
    "<div style=\"background-color: #66bbf1; padding: 20px; border-radius: 10px;\">\n",
    "    <h1 style=\"text-align: left; font-size: 22px;\">Decision Tree and Random Forest models stand out for their excellent performance on both training and testing data, with Random Forest having slightly better generalization. XGBoost also performs exceptionally well but shows a slight drop in performance on the testing data compared to Random Forest. Linear Regression, while good, is slightly less robust compared to the tree-based models.</h1>\n",
    "</div>"
   ]
  },
  {
   "cell_type": "markdown",
   "id": "312a7b51",
   "metadata": {
    "papermill": {
     "duration": 0.026575,
     "end_time": "2024-05-16T12:28:57.366847",
     "exception": false,
     "start_time": "2024-05-16T12:28:57.340272",
     "status": "completed"
    },
    "tags": []
   },
   "source": [
    "<div style=\"background-color: #66bbf1; padding: 20px; border-radius: 10px;\">\n",
    "    <h1 style=\"text-align: left; font-size: 22px;\">if you like my notebook give upvote , it will encourage me thanks for exploring my notebook.</h1>\n",
    "</div>"
   ]
  }
 ],
 "metadata": {
  "kaggle": {
   "accelerator": "none",
   "dataSources": [
    {
     "datasetId": 5015084,
     "sourceId": 8423353,
     "sourceType": "datasetVersion"
    }
   ],
   "dockerImageVersionId": 30698,
   "isGpuEnabled": false,
   "isInternetEnabled": true,
   "language": "python",
   "sourceType": "notebook"
  },
  "kernelspec": {
   "display_name": "Python 3",
   "language": "python",
   "name": "python3"
  },
  "language_info": {
   "codemirror_mode": {
    "name": "ipython",
    "version": 3
   },
   "file_extension": ".py",
   "mimetype": "text/x-python",
   "name": "python",
   "nbconvert_exporter": "python",
   "pygments_lexer": "ipython3",
   "version": "3.10.13"
  },
  "papermill": {
   "default_parameters": {},
   "duration": 177.763361,
   "end_time": "2024-05-16T12:29:00.016070",
   "environment_variables": {},
   "exception": null,
   "input_path": "__notebook__.ipynb",
   "output_path": "__notebook__.ipynb",
   "parameters": {},
   "start_time": "2024-05-16T12:26:02.252709",
   "version": "2.5.0"
  }
 },
 "nbformat": 4,
 "nbformat_minor": 5
}
